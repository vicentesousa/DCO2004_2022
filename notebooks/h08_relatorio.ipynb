{
 "cells": [
  {
   "cell_type": "markdown",
   "metadata": {},
   "source": [
    "# Descrição dos entregáveis do Hands-on 08\n",
    "\n",
    "\n",
    "### D01:  Criar e incluir no seu repositório um arquivo chamado **Entrega_h08.ipynb** com código e texto com o seguinte conteúdo:\n",
    "\n",
    "1. Passo 4 da [Prática 01: Ruído em comunicações analógicas](http://nbviewer.jupyter.org/github/vicentesousa/DCO2004/blob/master/h08.ipynb). Commite o arquivo **Entrega_h08.ipynb** com os códigos rodados (Matlab e Python), gráficos (sendo exibidos) e comentários realizados. Se precisar repita trechos inteiros de código para que o documento fique autocontido. As figuras devem ser resultado da execução do código e não figuras inseridas em formato png ou jpg. **Esse item tem três subitens. Cuidado com isso!!!**\n",
    "\n",
    "2. Passo 2 [Prática 02: Ruídos em comunicações digitais](http://nbviewer.jupyter.org/github/vicentesousa/DCO2004/blob/master/h08.ipynb). Commite o arquivo **Entrega_h08.ipynb** com os códigos rodados, gráficos e resultados numéricos sendo exibidos. Inclua as discussões no próprio documento e não no trecho de código. Se precisar repita trechos inteiros de código para que o documento fique autocontido. As figuras devem ser resultado da execução do código e não figuras inseridas em formato png ou jpg. \n",
    "\n",
    "## Data da entrega: 23/10/2017\n"
   ]
  }
 ],
 "metadata": {
  "kernelspec": {
   "display_name": "Python 3",
   "language": "python",
   "name": "python3"
  },
  "language_info": {
   "codemirror_mode": {
    "name": "ipython",
    "version": 3
   },
   "file_extension": ".py",
   "mimetype": "text/x-python",
   "name": "python",
   "nbconvert_exporter": "python",
   "pygments_lexer": "ipython3",
   "version": "3.4.5"
  },
  "latex_envs": {
   "LaTeX_envs_menu_present": true,
   "bibliofile": "biblio.bib",
   "cite_by": "apalike",
   "current_citInitial": 1,
   "eqLabelWithNumbers": true,
   "eqNumInitial": 1,
   "hotkeys": {
    "equation": "Ctrl-E",
    "itemize": "Ctrl-I"
   },
   "labels_anchors": false,
   "latex_user_defs": false,
   "report_style_numbering": false,
   "user_envs_cfg": false
  }
 },
 "nbformat": 4,
 "nbformat_minor": 2
}
