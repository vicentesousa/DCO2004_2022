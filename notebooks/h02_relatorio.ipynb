{
 "cells": [
  {
   "cell_type": "markdown",
   "metadata": {},
   "source": [
    "# Descrição dos entregáveis do Hands-on 02\n",
    "\n",
    "\n",
    "\n",
    "### D01: Interface gráfica utilizando recursos do GUI (Graphical User Interface) do Matlab para criar um instrumento musical (um piano digital) com oito notas (veja Passo 5 da _Prática 1: Geração, reprodução e plotagem de um tom de áudio_ de [Hands-on 02: Visualização de sinais no tempo (vendo e ouvindo um sinal)](http://nbviewer.jupyter.org/github/vicentesousa/DCO2004/blob/master/h02_matlab.ipynb)); \n",
    "\n",
    "### D02:  Passo 2 da _Prática 03: Abrindo e reproduzindo arquivos de música_ ([Hands-on 02: Visualização de sinais no tempo (vendo e ouvindo um sinal)](http://nbviewer.jupyter.org/github/vicentesousa/DCO2004/blob/master/h02_matlab.ipynb)). Criar e incluir no seu repositório um arquivo chamado **Entrega_h02.ipynb** com o texto e código, se necessário.\n",
    "\n",
    "### D03:  Passo 5  _Prática 1: Geração, reprodução e plotagem de um tom de áudio_ ([Hands-on 02: Visualização de sinais no tempo (vendo e ouvindo um sinal)](http://nbviewer.jupyter.org/github/vicentesousa/DCO2004/blob/master/h02_python.ipynb)). Criar e incluir no seu repositório um arquivo chamado **Entrega_h02.ipynb** com o texto e código, se necessário.\n",
    "\n",
    "### D04:  Passo 5  _Prática 2: Abrindo e reproduzindo arquivos de música_ ([Hands-on 02: Visualização de sinais no tempo (vendo e ouvindo um sinal)](http://nbviewer.jupyter.org/github/vicentesousa/DCO2004/blob/master/h02_python.ipynb)). Criar e incluir no seu repositório um arquivo chamado **Entrega_h02.ipynb** com o texto e código, se necessário.\n",
    "\n",
    "\n",
    "## Data da entrega: 04/09/2019\n"
   ]
  }
 ],
 "metadata": {
  "kernelspec": {
   "display_name": "Python 3",
   "language": "python",
   "name": "python3"
  },
  "language_info": {
   "codemirror_mode": {
    "name": "ipython",
    "version": 3
   },
   "file_extension": ".py",
   "mimetype": "text/x-python",
   "name": "python",
   "nbconvert_exporter": "python",
   "pygments_lexer": "ipython3",
   "version": "3.4.5"
  },
  "latex_envs": {
   "LaTeX_envs_menu_present": true,
   "bibliofile": "biblio.bib",
   "cite_by": "apalike",
   "current_citInitial": 1,
   "eqLabelWithNumbers": true,
   "eqNumInitial": 1,
   "hotkeys": {
    "equation": "Ctrl-E",
    "itemize": "Ctrl-I"
   },
   "labels_anchors": false,
   "latex_user_defs": false,
   "report_style_numbering": false,
   "user_envs_cfg": false
  }
 },
 "nbformat": 4,
 "nbformat_minor": 2
}
