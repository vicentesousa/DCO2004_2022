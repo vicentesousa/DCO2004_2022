{
 "cells": [
  {
   "cell_type": "markdown",
   "metadata": {
    "run_control": {
     "frozen": false,
     "read_only": false
    }
   },
   "source": [
    "# Hands-on 01: Tutorial de apresentação e uso básico do Python"
   ]
  },
  {
   "cell_type": "markdown",
   "metadata": {
    "run_control": {
     "frozen": false,
     "read_only": false
    }
   },
   "source": [
    "# Objetivos \n",
    "- Apresentar vantagens de usar o Python3;\n",
    "- Apresentar onde encontrar informações sobre o Python 3;\n",
    "- Apresentar operações básicas com o Python 3."
   ]
  },
  {
   "cell_type": "markdown",
   "metadata": {
    "run_control": {
     "frozen": false,
     "read_only": false
    }
   },
   "source": [
    "# Python: o que é, vantagens e desvantagens\n",
    "Python é uma linguagem de programação de alto nível, interpretada (C++, por sua vez, é compilada), lançada em 1991 por [Guido Van Rossum](https://pt.wikipedia.org/wiki/Guido_van_Rossum). É conhecida por ser _open source_, de fácil implementação e fácil aprendizado, além de ser multiparadigma: abrange a programação orientada a objetos, programação funcional e imperativa (para saber mais sobre paradigmas de programação, clique [aqui](https://fit.faccat.br/~guto/artigos/Artigo_Paradigmas_de_Programacao.pdf)).\n",
    "\n",
    "## Vantagens\n",
    "- Suporta mútliplos sistemas e plataformas;\n",
    "- Códigos fáceis de implementar e entender;\n",
    "- Suporta orientação a objetos;\n",
    "- Tipagem dinâmica: pode ser visto como desvantagem para alguns, já que não se determina o tipo de cada variável, porém economiza tempo e esforço por evitar erros de atribuição que dificultam a execução do código;\n",
    "- Ampla biblioteca padrão;\n",
    "- Possui _frameworks_ (conceito semelhante ao de \"biblioteca\"), que serão expostos adiante.\n",
    "\n",
    "## Desvantagens\n",
    "- Não é uma linguagem muito boa para desenvolvimento _mobile_;\n",
    "- O gerenciamento de memória não é tão eficiente como o de C++, por exemplo;\n",
    "- Por vezes é considerada lenta;\n",
    "- Não é aconselhável para projetos que requisitem muita memória."
   ]
  },
  {
   "cell_type": "markdown",
   "metadata": {
    "run_control": {
     "frozen": false,
     "read_only": false
    }
   },
   "source": [
    "## Frameworks interessantes\n",
    "\n",
    "Frameworks podem ser vistos como um conjunto de ferramentas que lidam com detalhes de baixo nível e permite que o desenvolvedor poupe seu tempo utilizando apenas os recursos de alto nível. Embora essa pareça com a definição de bibliotecas, uma maneira fácil de diferenciar os dois conceitos é: você coloca bibliotecas em seus códigos e seus códigos em frameworks. Como alguns exemplos em Python, temos:\n",
    "\n",
    "- **Django (The Web Framework for perfectionists with deadlines):** é amplamente utilizado para desenvolver aplicações Web robustas com facilidade e rapidez. Sites famosos que utilizaram Django para seu desenvolvimento são: YouTube, Dropbox, Quora, Google [[Fonte]](https://www.shuup.com/blog/25-of-the-most-popular-python-and-django-websites/).\n",
    "\n",
    "![fig_django](../FIGS/HD_01_PYTHON/django.jpg)\n",
    "\n",
    "- **PyQt:** desenvolvimento de aplicações com interfaces gráficas (GUI).\n",
    "\n",
    "![fig_pyqt](../FIGS/HD_01_PYTHON/pyqt.jpg)\n",
    "\n",
    "- **Kivy:** desenvolvimento de interfaces gráficas, abrangendo mais plataformas que o PyQt\n",
    "\n",
    "![fig_kivy](../FIGS/HD_01_PYTHON/kivy.png)\n"
   ]
  },
  {
   "cell_type": "markdown",
   "metadata": {
    "run_control": {
     "frozen": false,
     "read_only": false
    }
   },
   "source": [
    "## Bibliotecas mais utilizadas\n",
    "\n",
    "- **Matplotlib:** plotagem de gráficos 2D com interatividade e diversos formatos.\n",
    "\n",
    "![fig_matplotlib](../FIGS/HD_01_PYTHON/matplotlib.png)\n",
    "\n",
    "- **Numpy:** criação de arrays N-dimensionais, ferramentas algébricas, números aleatórios e Transformada de Fourier.\n",
    "\n",
    "![fig_numpy](../FIGS/HD_01_PYTHON/numpy.jpg)\n",
    "\n",
    "- **SciPy:** biblioteca maior que engloba ferramentas importantes para cientistas, matemáticos e engenheiros. Numpy e Matplotlib estão inclusas na SciPy. Veja mais no site oficial da SciPy: https://www.scipy.org/ .\n",
    "\n",
    "![fig_scipy](../FIGS/HD_01_PYTHON/scipylogo.png)\n"
   ]
  },
  {
   "cell_type": "markdown",
   "metadata": {},
   "source": [
    "## Onde achar material sobre as bibliotecas \n",
    "\n",
    "\n",
    "**PyScience-Brasil** (http://pyscience-brasil.wikidot.com/): portal colaborativo cujo objetivo é gerar documentação para as bibliotecas desenvolvidas na linguagem Python que podem ser utilizadas em estudos e projetos científicos.\n",
    "\n",
    "**Documentação do Numpy and Scipy:** https://docs.scipy.org/doc/\n",
    "\n",
    "**Documentação do Matplotlib:** https://matplotlib.org/\n",
    "\n",
    "**Obs.:** Geralmente, uma pesquisa no Google sobre o comando ou _o que_ você quer fazer com o Python te leva a documentação acima ou a algum fórum que explica comandos e bibliotecas necessárias a realizar oq ue você necessita! \n",
    "\n"
   ]
  },
  {
   "cell_type": "markdown",
   "metadata": {
    "run_control": {
     "frozen": false,
     "read_only": false
    }
   },
   "source": [
    "# Prática 1: Tempo de execução com uso de laço e com operação matricial\n",
    "\n",
    "Nessa prática, vamos escrever um código para criação de um mapa de cobertura de dois roteadores sem fio. A ideia é calcular a potência recebida em dBm para pontos equidistantes de 5 em 5 metros em uma área de cobertura de 200 por 200 m. A seguintes especificações devem ser obedecidas:\n",
    "\n",
    "1. Os roteadores devem ser posicionados no meio do grid em relação a abscissa. Em relação ao eixo das ordenadas, o primeiro e segundo roteador deve ficar a 20% e a 80% da dimensão vertical da área de cobertura, respectivamente\n",
    "2. A potência de transmissão do roteador deve ser $P_T$ = 1 W\n",
    "3. Considere somente perda de percurso como manifestação de canal. Assim, a potência recebida ($P_R$) pode ser calculada como $P_R = P_T/x^4$, sendo $x$ a distância entre o roteador e o ponto de recepção.\n",
    "\n",
    "A figura a seguir ilustra o sistema.\n",
    "\n",
    "![fig_slide30](../FIGS/HD_01_PYTHON/slide30.png)\n",
    "\n",
    "Vamos escrever o código com e sem laço FOR, almejando comparar o desempenho do Python perante laços FOR e o uso eficiente de matrizes.\n",
    "\n",
    "**Passo 01:** abre este arquivo (**h01_python.ipynb**) com o Jupyter Notebook. Para isso, abre um terminal e digite:\n",
    "\n",
    "cd ~/DCO2004_2022/\n",
    "\n",
    "jupyter notebook notebooks/h01_python.ipynb \n",
    "\n",
    "Continue do **Passo 02** em diante no browser que o comando acima abriu.\n",
    "\n",
    "**Passo 02:** Inspecione e execute in line (via Jupyter Notebook, apertando **Shift+Enter**):"
   ]
  },
  {
   "cell_type": "code",
   "execution_count": 2,
   "metadata": {
    "run_control": {
     "frozen": false,
     "read_only": false
    },
    "scrolled": false
   },
   "outputs": [],
   "source": [
    "import warnings                        # Método para suprimir os avisos de exceções \n",
    "warnings.filterwarnings('ignore')      # Método para suprimir os avisos de exceções \n",
    "# Ex.: divisões por zero, que neste exemplo, não é um problema.\n",
    "\n",
    "import time                            # Importa a biblioteca para as funções relacionadas a contagem de tempo\n",
    "# Warning for Python version before 3.8: See https://stackoverflow.com/questions/58569361/attributeerror-module-time-has-no-attribute-clock-in-python-3-8\n",
    "# start_time = time.clock()            # Primeira medição de tempo: inicia a contagem before Python 3.8 version\n",
    "start_time = time.process_time()       # Primeira medição de tempo: inicia a contagem for Python 3.8 version\n",
    "dPasso = 5                             # Resolução do grid: distância entre um passo e outro\n",
    "dDim = 200                             # Dimensão do grid\n",
    "nl = (dDim-2*dPasso)/dPasso + 1        # Número de pontos na medição\n",
    "import numpy as np                     # Importa biblioteca para cálculos numéricos \n",
    "# nl não é do tipo inteiro, e precisa ser na definição de px e py a seguir.\n",
    "# Sugestão: comente a linha abaixo e observe a exceção que o interpretador/Python irá levantar\n",
    "NL = int(nl)                       \n",
    "px = np.ndarray([NL,NL],dtype=complex) # Criação de matriz de complexos (não inicializada)\n",
    "py = np.ndarray([NL,NL],dtype=complex) # Criação de matriz de complexos (não inicializada)\n",
    "# Montagem da Matriz com posição de cada ponto do grid (posição relativa ao canto inferior direito)\n",
    "for i in range(NL):                    # Laço de 0 até NL-1\n",
    "    for j in range(NL):                # Laço de 0 até NL-1\n",
    "        px[i,j] = dPasso + j*dPasso    # j é a variável do iterador, sem relação com o complexo\n",
    "        py[j,i] = px[i,j]\n",
    "\n",
    "# Criação de matrizes de posição e potência recebida (não inicializadas)\n",
    "pbs0 = np.ndarray([NL,NL], dtype=complex)\n",
    "pbs1 = np.ndarray([NL,NL], dtype=complex)\n",
    "pl0  = np.ndarray([NL,NL])\n",
    "pl1  = np.ndarray([NL,NL])\n",
    "plf  = np.ndarray([NL,NL])\n",
    "\n",
    "for i in range(NL):\n",
    "    for j in range(NL):\n",
    "# Matrizes com posição de cada ponto do grid relativa a cada roteador\n",
    "        pbs0[i,j] = px[i,j]+ 1j*py[i,j] - ( dDim/2 + 0.8*dDim*1j)\n",
    "        pbs1[i,j] = px[i,j]+ 1j*py[i,j] - ( dDim/2 + 0.2*dDim*1j)\n",
    "# Cálculo da potência recebida em cada ponto do grid recebida de cada roteador\n",
    "        pl0[i,j]=  10*np.log10(1/(np.absolute(pbs0[i,j])**4)/0.001)\n",
    "        pl1[i,j]=  10*np.log10(1/(np.absolute(pbs1[i,j])**4)/0.001)\n",
    "# Cálculo da melhor potência em cada ponto do grid\n",
    "        plf[i,j] = max(pl0[i,j],pl1[i,j])               \n",
    "# Fim dos laços\n",
    "# Medição de tempo de execução\n",
    "# stop_time = time.clock()            # Medição de tempo de execução: contagem before Python 3.8 version\n",
    "stop_time = time.process_time()       # Medição de tempo de execução contagem for Python 3.8 version\n",
    "# A criação das matrizes e dos laços são a parte de interesse do algoritmo\n",
    "# por isso a medição se encerra antes de fazermos a plotagem, que é meramente para visualização\n",
    "tempo_de_execucao = stop_time - start_time\n",
    "# Mostra tempo de execução na tela\n",
    "print(\"Tempo de execução com laço FOR: \"+str(tempo_de_execucao))\n",
    "\n",
    "from matplotlib import pyplot as plt   # Importa pyplot, que possui as funções essenciais para plotagem\n",
    "plt.scatter(pbs0.real,pbs0.imag)       # Monta o plot do mapa de pontos do reteador 0\n",
    "plt.title(\"Roteador 0\")                # Configura o título do plot\n",
    "plt.show()                             # Mostra o plot do mapa de pontos\n",
    "plt.scatter(pbs1.real,pbs1.imag)       # Monta o plot do mapa de pontos do reteador 1\n",
    "plt.title(\"Roteador 1\")                # Configura o título do plot\n",
    "plt.matshow(pl0)                       # Monta mapa de cores (colormap) para potência recebida do roteador 0\n",
    "plt.grid()                             # Adiciona as linhas horizontais e verticais\n",
    "plt.colorbar()                         # Adiciona a barra vertical com escala numérica das cores\n",
    "# Título do mapa de cores (colormap) para potência recebida do roteador 0, incluindo tempo de execução\n",
    "plt.title(\"Sistema com laço: \"+ str(tempo_de_execucao)+ \" segundos\",y=1.1)\n",
    "plt.matshow(pl1)                       # Monta mapa de cores (colormap) para potência recebida do roteador 0\n",
    "plt.grid()                             # Adiciona as linhas horizontais e verticais\n",
    "plt.colorbar()                         # Adiciona a barra vertical com escala numérica das cores\n",
    "# Título do mapa de cores (colormap) para potência recebida do roteador 0, incluindo tempo de execução\n",
    "plt.title(\"Sistema com laço: \"+ str(tempo_de_execucao)+ \" segundos\",y=1.1)\n",
    "# Monta mapa de cores de melhor potência recebida em cada ponto do grid (melhor entre os dois roteadores)\n",
    "plt.matshow(plf)                 \n",
    "plt.grid()                             # Adiciona as linhas horizontais e verticais\n",
    "plt.colorbar()                         # Adiciona a barra vertical com escala numérica das cores\n",
    "# Título do mapa de melhor potência recebida em cada ponto do grid (melhor entre os dois roteadores)\n",
    "plt.title(\"Sistema com laço: \"+ str(tempo_de_execucao)+ \" segundos\",y=1.1)\n",
    "plt.show()                             # Mostra todos os plots montados"
   ]
  },
  {
   "cell_type": "markdown",
   "metadata": {},
   "source": [
    "**A execução do código resulta em:**\n",
    "\n",
    "1. Mostrar o tempo necessário para executar o código (excluindo o processamento gráfico);\n",
    "2. Gráficos com posição dos pontos do grid para os dois roteadores (roteador 0 e roteador 1). Note que o ponto (0,0) de cada roteador (de cada gráfico), i.e., seu posicionamento, é diferente. No roteador 0, o ponto (0,0) está a 80% do máximo valor vertical e, no roteador 1, o ponto (0,0) está a 20% do máximo, como espeficado na prática.\n",
    "3. Gráficos com o mapa de cobertura (potência recebida em cada ponto do grid) para cada roteador separadamente; e\n",
    "4. Gráfico com o mapa de cobertura para melhor situação possível, i.e., a melhor potência recebida em cada ponto do grid (melhor entre os dois roteadores).\n",
    "\n",
    "\n",
    "**Analise o código com cuidado. Tente compreender a modelagem e a sintaxe usada. Discuta com os colegas ou com o professor. Faça um debug usando o Spyder.**"
   ]
  },
  {
   "cell_type": "markdown",
   "metadata": {
    "collapsed": true,
    "run_control": {
     "frozen": false,
     "read_only": false
    }
   },
   "source": [
    "**Passo 03:** Agora vamos fazer o mesmo código anterior sem usar laço FOR. Execute in line (via Jupyter Notebook):"
   ]
  },
  {
   "cell_type": "code",
   "execution_count": 1,
   "metadata": {
    "run_control": {
     "frozen": false,
     "read_only": false
    },
    "scrolled": false
   },
   "outputs": [
    {
     "name": "stdout",
     "output_type": "stream",
     "text": [
      "Tempo de execução sem laço FOR: 0.421875\n"
     ]
    },
    {
     "data": {
      "image/png": "[encoded data removed]",
      "text/plain": [
       "<Figure size 432x288 with 1 Axes>"
      ]
     },
     "metadata": {
      "needs_background": "light"
     },
     "output_type": "display_data"
    },
    {
     "data": {
      "image/png": "[encoded data removed]",
      "text/plain": [
       "<Figure size 432x288 with 1 Axes>"
      ]
     },
     "metadata": {
      "needs_background": "light"
     },
     "output_type": "display_data"
    },
    {
     "data": {
      "image/png": "[encoded data removed]",
      "text/plain": [
       "<Figure size 288x288 with 2 Axes>"
      ]
     },
     "metadata": {
      "needs_background": "light"
     },
     "output_type": "display_data"
    },
    {
     "data": {
      "image/png": "[encoded data removed]",
      "text/plain": [
       "<Figure size 288x288 with 2 Axes>"
      ]
     },
     "metadata": {
      "needs_background": "light"
     },
     "output_type": "display_data"
    },
    {
     "data": {
      "image/png": "[encoded data removed]",
      "text/plain": [
       "<Figure size 288x288 with 2 Axes>"
      ]
     },
     "metadata": {
      "needs_background": "light"
     },
     "output_type": "display_data"
    }
   ],
   "source": [
    "import warnings                        # Método para suprimir os avisos de exceções \n",
    "warnings.filterwarnings('ignore')      # Método para suprimir os avisos de exceções \n",
    "# Ex.: divisões por zero, que neste exemplo, não é um problema.\n",
    "\n",
    "import time                            # Importa a biblioteca para as funções relacionadas a contagem de tempo\n",
    "# Warning for Python version before 3.8: \n",
    "# start_time = time.clock()            # Primeira medição de tempo: inicia a contagem before Python 3.8 version\n",
    "start_time = time.process_time()       # Primeira medição de tempo: inicia a contagem for Python 3.8 version\n",
    "dPasso = 5                             # Resolução do grid: distância entre um passo e outro\n",
    "dDim = 200                             # Dimensão do grid\n",
    "nl = (dDim-2*dPasso)/dPasso + 1        # Número de pontos na medição\n",
    "import numpy as np                     # Importa biblioteca para cálculos numéricos \n",
    "\n",
    "x= np.arange(dPasso,dDim-dPasso,dPasso)\n",
    "y=np.arange(dPasso,dDim-dPasso,dPasso)\n",
    "X,Y = np.meshgrid(x,y)\n",
    "\n",
    "# Matrizes com posição de cada ponto do grid relativa a cada roteador\n",
    "pbs0 = X + 1j*Y - (dDim/2 + 0.8*dDim*1j)\n",
    "pbs1 = X + 1j*Y - (dDim/2 + 0.2*dDim*1j)\n",
    "# Cálculo da potência recebida em cada ponto do grid recebida de cada roteador\n",
    "pl0 = 10*np.log10(1/(np.absolute(pbs0)**4)/0.001)\n",
    "pl1 = 10*np.log10(1/(np.absolute(pbs1)**4)/0.001)\n",
    "plf = np.maximum(pl0,pl1)\n",
    "\n",
    "# Medição de tempo de execução\n",
    "# stop_time = time.clock()            # Medição de tempo de execução: contagem before Python 3.8 version\n",
    "stop_time = time.process_time()       # Medição de tempo de execução contagem for Python 3.8 version\n",
    "# A criação das matrizes e dos laços são a parte de interesse do algoritmo\n",
    "# por isso a medição se encerra antes de fazermos a plotagem, que é meramente para visualização\n",
    "tempo_de_execucao = stop_time - start_time\n",
    "# Mostra tempo de execução na tela\n",
    "print(\"Tempo de execução sem laço FOR: \"+str(tempo_de_execucao))\n",
    "\n",
    "from matplotlib import pyplot as plt   # Importa pyplot, que possui as funções essenciais para plotagem\n",
    "plt.scatter(pbs0.real,pbs0.imag)       # Monta o plot do mapa de pontos do reteador 0\n",
    "plt.title(\"Roteador 0\")                # Configura o título do plot\n",
    "plt.show()                             # Mostra o plot do mapa de pontos\n",
    "plt.scatter(pbs1.real,pbs1.imag)       # Monta o plot do mapa de pontos do reteador 1\n",
    "plt.title(\"Roteador 1\")                # Configura o título do plot\n",
    "plt.matshow(pl0)                       # Monta mapa de cores (colormap) para potência recebida do roteador 0\n",
    "plt.grid()                             # Adiciona as linhas horizontais e verticais\n",
    "plt.colorbar()                         # Adiciona a barra vertical com escala numérica das cores\n",
    "# Título do mapa de cores (colormap) para potência recebida do roteador 0, incluindo tempo de execução\n",
    "plt.title(\"Sistema com laço: \"+ str(tempo_de_execucao)+ \" segundos\",y=1.1)\n",
    "plt.matshow(pl1)                       # Monta mapa de cores (colormap) para potência recebida do roteador 0\n",
    "plt.grid()                             # Adiciona as linhas horizontais e verticais\n",
    "plt.colorbar()                         # Adiciona a barra vertical com escala numérica das cores\n",
    "# Título do mapa de cores (colormap) para potência recebida do roteador 0, incluindo tempo de execução\n",
    "plt.title(\"Sistema com laço: \"+ str(tempo_de_execucao)+ \" segundos\",y=1.1)\n",
    "# Monta mapa de cores de melhor potência recebida em cada ponto do grid (melhor entre os dois roteadores)\n",
    "plt.matshow(plf)                 \n",
    "plt.grid()                             # Adiciona as linhas horizontais e verticais\n",
    "plt.colorbar()                         # Adiciona a barra vertical com escala numérica das cores\n",
    "# Título do mapa de melhor potência recebida em cada ponto do grid (melhor entre os dois roteadores)\n",
    "plt.title(\"Sistema sem laço\",y=1.1)\n",
    "plt.show()   "
   ]
  },
  {
   "cell_type": "markdown",
   "metadata": {
    "run_control": {
     "frozen": false,
     "read_only": false
    }
   },
   "source": [
    "Além do código ser bem menor (em termos de número de linhas), se percebe uma difereça significativa de tempo de execução sem o uso do laço FOR.\n",
    "\n",
    "Essa diferença de desempenho é muito mais acentuada quanto maior é o tamanho do laço FOR. \n",
    "\n",
    "**Passo 04:** Para exemplificar, vamos executar os códigos para um grid de tamanho 5000. Execute in line (via Jupyter Notebook):"
   ]
  },
  {
   "cell_type": "code",
   "execution_count": 5,
   "metadata": {},
   "outputs": [
    {
     "name": "stdout",
     "output_type": "stream",
     "text": [
      "Tempo de execução sem laço FOR: 0.125\n",
      "Tempo de execução com laço FOR: 7.875\n",
      "Diferença percentual de tempo: -6200.0%\n"
     ]
    }
   ],
   "source": [
    "import warnings                        # Método para suprimir os avisos de exceções \n",
    "warnings.filterwarnings('ignore')      # Método para suprimir os avisos de exceções \n",
    "# Ex.: divisões por zero, que neste exemplo, não é um problema.\n",
    "\n",
    "import time                            # Importa a biblioteca para as funções relacionadas a contagem de tempo\n",
    "# Warning for Python version before 3.8: \n",
    "# start_time_mat = time.clock()            # Primeira medição de tempo: inicia a contagem before Python 3.8 version\n",
    "start_time_mat = time.process_time()       # Primeira medição de tempo: inicia a contagem for Python 3.8 version\n",
    "dPasso = 5                             # Resolução do grid: distância entre um passo e outro\n",
    "dDim = 5000                             # Dimensão do grid\n",
    "nl = (dDim-2*dPasso)/dPasso + 1        # Número de pontos na medição\n",
    "import numpy as np                     # Importa biblioteca para cálculos numéricos \n",
    "\n",
    "x= np.arange(dPasso,dDim-dPasso,dPasso)\n",
    "y=np.arange(dPasso,dDim-dPasso,dPasso)\n",
    "X,Y = np.meshgrid(x,y)\n",
    "\n",
    "# Matrizes com posição de cada ponto do grid relativa a cada roteador\n",
    "pbs0 = X + 1j*Y - (dDim/2 + 0.8*dDim*1j)\n",
    "pbs1 = X + 1j*Y - (dDim/2 + 0.2*dDim*1j)\n",
    "# Cálculo da potência recebida em cada ponto do grid recebida de cada roteador\n",
    "pl0 = 10*np.log10(1/(np.absolute(pbs0)**4)/0.001)\n",
    "pl1 = 10*np.log10(1/(np.absolute(pbs1)**4)/0.001)\n",
    "plf = np.maximum(pl0,pl1)\n",
    "# Medição de tempo de execução sem laço FOR\n",
    "# Medição de tempo de execução\n",
    "# stop_time_mat = time.clock()            # Medição de tempo de execução: contagem before Python 3.8 version\n",
    "stop_time_mat = time.process_time()       # Medição de tempo de execução contagem for Python 3.8 version\n",
    "tempo_de_execucao_mat = stop_time_mat - start_time_mat\n",
    "\n",
    "# Abertura de timer para o laço FOR\n",
    "# Warning for Python version before 3.8: \n",
    "# start_time_for = time.clock()            # Primeira medição de tempo: inicia a contagem before Python 3.8 version\n",
    "start_time_for = time.process_time()       # Primeira medição de tempo: inicia a contagem for Python 3.8 version\n",
    "\n",
    "nl = (dDim-2*dPasso)/dPasso + 1        # Número de pontos na medição\n",
    "import numpy as np                     # Importa biblioteca para cálculos numéricos \n",
    "# nl não é do tipo inteiro, e precisa ser na definição de px e py a seguir.\n",
    "# Sugestão: comente a linha abaixo e observe a exceção que o interpretador/Python irá levantar\n",
    "NL = int(nl)                       \n",
    "px = np.ndarray([NL,NL],dtype=complex) # Criação de matriz de complexos (não inicializada)\n",
    "py = np.ndarray([NL,NL],dtype=complex) # Criação de matriz de complexos (não inicializada)\n",
    "# Montagem da Matriz com posição de cada ponto do grid (posição relativa ao canto inferior direito)\n",
    "for i in range(NL):                    # Laço de 0 até NL-1\n",
    "    for j in range(NL):                # Laço de 0 até NL-1\n",
    "        px[i,j] = dPasso + j*dPasso    # j é a variável do iterador, sem relação com o complexo\n",
    "        py[j,i] = px[i,j]\n",
    "\n",
    "# Criação de matrizes de posição e potência recebida (não inicializadas)\n",
    "pbs0 = np.ndarray([NL,NL], dtype=complex)\n",
    "pbs1 = np.ndarray([NL,NL], dtype=complex)\n",
    "pl0  = np.ndarray([NL,NL])\n",
    "pl1  = np.ndarray([NL,NL])\n",
    "plf  = np.ndarray([NL,NL])\n",
    "\n",
    "for i in range(NL):\n",
    "    for j in range(NL):\n",
    "# Matrizes com posição de cada ponto do grid relativa a cada roteador\n",
    "        pbs0[i,j] = px[i,j]+ 1j*py[i,j] - ( dDim/2 + 0.8*dDim*1j)\n",
    "        pbs1[i,j] = px[i,j]+ 1j*py[i,j] - ( dDim/2 + 0.2*dDim*1j)\n",
    "# Cálculo da potência recebida em cada ponto do grid recebida de cada roteador\n",
    "        pl0[i,j]=  10*np.log10(1/(np.absolute(pbs0[i,j])**4)/0.001)\n",
    "        pl1[i,j]=  10*np.log10(1/(np.absolute(pbs1[i,j])**4)/0.001)\n",
    "# Cálculo da melhor potência em cada ponto do grid\n",
    "        plf[i,j] = max(pl0[i,j],pl1[i,j])               \n",
    "# Fim dos laços\n",
    "\n",
    "# Medição de tempo de execução com laço FOR\n",
    "# stop_time_for = time.clock()            # Medição de tempo de execução: contagem before Python 3.8 version\n",
    "stop_time_for = time.process_time()       # Medição de tempo de execução contagem for Python 3.8 version\n",
    "tempo_de_execucao_for = stop_time_for - start_time_for\n",
    "# Imprimir mensagens na tela\n",
    "print(\"Tempo de execução sem laço FOR: \"+str(tempo_de_execucao_mat))\n",
    "print(\"Tempo de execução com laço FOR: \"+str(tempo_de_execucao_for))\n",
    "dif = 100*(tempo_de_execucao_mat-tempo_de_execucao_for)/tempo_de_execucao_mat\n",
    "print(\"Diferença percentual de tempo: \"+str(dif)+\"%\")"
   ]
  },
  {
   "cell_type": "markdown",
   "metadata": {},
   "source": [
    "**A diferença percentual é gigantesca e pode fazer toda diferença em projeto grandes que usem Python!!!**"
   ]
  }
 ],
 "metadata": {
  "interpreter": {
   "hash": "9bce5607e4f86b81f8ed6adcfcee7df4b4ad565e003c28d2c6647765b9cc86e9"
  },
  "kernelspec": {
   "display_name": "Python 3.8.5 64-bit ('base': conda)",
   "name": "python3"
  },
  "language_info": {
   "codemirror_mode": {
    "name": "ipython",
    "version": 3
   },
   "file_extension": ".py",
   "mimetype": "text/x-python",
   "name": "python",
   "nbconvert_exporter": "python",
   "pygments_lexer": "ipython3",
   "version": "3.9.7"
  }
 },
 "nbformat": 4,
 "nbformat_minor": 2
}
