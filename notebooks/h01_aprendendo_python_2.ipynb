{
  "nbformat": 4,
  "nbformat_minor": 0,
  "metadata": {
    "colab": {
      "name": "h01_aprendendo_python_2.ipynb",
      "provenance": [],
      "collapsed_sections": []
    },
    "kernelspec": {
      "name": "python3",
      "display_name": "Python 3"
    },
    "language_info": {
      "name": "python"
    }
  },
  "cells": [
    {
      "cell_type": "markdown",
      "metadata": {
        "id": "sjmR3rubyZao"
      },
      "source": [
        "# APRENDENDO PYTHON - GppCom - Parte 02 de 04\n",
        "## SEGUNDA PARTE - Do essencial ao básico em python.\n",
        "\n",
        "\n",
        "Python é uma linguagem de programação de propósito geral, que está cada vez mais popular no âmbito da Estatística e Aprendizado de Máquina, sendo muito utilizado na Ciência de Dados, principalmente pela facilidade na sintaxe e na manipulação de grandes conjuntos de dados.\n",
        "## O que veremos nessa parte:\n",
        "* Laços `for` e `while`\n",
        "* Desenvolvimento de propriedades de String\n",
        "* Desenvolvimento de propriedades de Arrays\n",
        "* Desenvolvimento de propriedades de Sets\n",
        "* Desenvolvimento de propriedades de Dicts\n",
        "* Introdução de funções\n",
        "\n",
        "---\n",
        "\n",
        "**Laço `for` e `while`.**\n",
        "\n",
        "Provavelmente a estrutura de repetição mais utilizada pelos programadores, ela permite você percorrer uma sequência qualquer ou um intervalo numérico, que pode ser definido com o valor final e inicial (Ex.: (10, 20)) ou com o intervalo entre dois valores (Ex.: (10)), bem como podemos definir o passo dessa contagem.\n",
        "\n",
        "É importante ter em mente que um estrutura de repetição pode ser usada dentro de uma estrutura condicional, e vice-versa. Assim como podemos utilizar um laço for dentro de outro for.\n",
        "\n",
        "*Exemplo 1.*"
      ]
    },
    {
      "cell_type": "code",
      "metadata": {
        "colab": {
          "base_uri": "https://localhost:8080/"
        },
        "id": "5xfzHZ9-yUOP",
        "outputId": "096a666f-d421-4c5a-a89b-a702be0452ec"
      },
      "source": [
        "# Exemplo 01\n",
        "\n",
        "# Vanos definir uma lista de 0 até 5\n",
        "lista = [0, 1, 2, 3, 4, 5]\n",
        "\n",
        "# utilizaremos o for sobre a lista - ele irá passar por todos os elementos da lista por padrão.\n",
        "for numero in lista:\n",
        "    print(numero)\n",
        "\n",
        "print(\"\\nApenas para separar os exemplos\\n\")\n",
        "\n",
        "# podemos utlizar a estrutura \"range\" para um propósito semelhante.\n",
        "valor_incial = 0\n",
        "valor_final = 5 + 1  # Adicionando 1 pois o range utiliza esse valor menos 1 por padrão.\n",
        "for numero in range(valor_incial, valor_final):\n",
        "    print(numero)\n",
        "\n",
        "print(\"\\nApenas para separar os exemplos\\n\")\n",
        "\n",
        "# Podemos definir um passo também com o range\n",
        "valor_incial = 0\n",
        "valor_final = 5 + 1  # Adicionando 1 pois o range utiliza esse valor menos 1 por padrão.\n",
        "passo = 2\n",
        "for numero in range(valor_incial, valor_final, passo):\n",
        "    print(numero)\n",
        "\n",
        "print(\"\\nApenas para separar os exemplos\\n\")\n",
        "\n",
        "# Podemos operar sobre String também.\n",
        "\n",
        "for letra in 'letras':\n",
        "    print(letra)\n",
        "\n",
        "print(\"\\nApenas para separar os exemplos\\n\")"
      ],
      "execution_count": null,
      "outputs": [
        {
          "output_type": "stream",
          "name": "stdout",
          "text": [
            "0\n",
            "1\n",
            "2\n",
            "3\n",
            "4\n",
            "5\n",
            "\n",
            "Apenas para separar os exemplos\n",
            "\n",
            "0\n",
            "1\n",
            "2\n",
            "3\n",
            "4\n",
            "5\n",
            "\n",
            "Apenas para separar os exemplos\n",
            "\n",
            "0\n",
            "2\n",
            "4\n",
            "\n",
            "Apenas para separar os exemplos\n",
            "\n",
            "l\n",
            "e\n",
            "t\n",
            "r\n",
            "a\n",
            "s\n"
          ]
        }
      ]
    },
    {
      "cell_type": "markdown",
      "metadata": {
        "id": "iJplfj4H6Cg9"
      },
      "source": [
        "*Exemplo 2.*"
      ]
    },
    {
      "cell_type": "code",
      "metadata": {
        "colab": {
          "base_uri": "https://localhost:8080/"
        },
        "id": "Y1lGM4cx6fY7",
        "outputId": "54c976c6-c59e-4571-de60-c8c3b1d66e59"
      },
      "source": [
        "# construindo a árvore\n",
        "for i in range(1, 20, 2):\n",
        "    print(('*' * i).center(20))\n",
        "# tronco da árvore\n",
        "for r in range(2):\n",
        "    print(('||').center(19))\n",
        "# base da árvore\n",
        "print('\\====/'.center(19))\n"
      ],
      "execution_count": null,
      "outputs": [
        {
          "output_type": "stream",
          "name": "stdout",
          "text": [
            "         *          \n",
            "        ***         \n",
            "       *****        \n",
            "      *******       \n",
            "     *********      \n",
            "    ***********     \n",
            "   *************    \n",
            "  ***************   \n",
            " *****************  \n",
            "******************* \n",
            "         ||        \n",
            "         ||        \n",
            "       \\====/      \n"
          ]
        }
      ]
    },
    {
      "cell_type": "markdown",
      "metadata": {
        "id": "DhQNOK1c8AMD"
      },
      "source": [
        "**Exercício 1**\n",
        "\n",
        "Construa uma tabuada utilizando o laço for\n",
        "(Dica: utilize um `for` que vai de 0 à e dentro desse `for` um outro `for` que vai de 0 à 10.)\n",
        "\n",
        "**Exercício 2**\n",
        "\n",
        "Contrua um programada que, dado o array `[79, 70, 44, 54, 28, 8,\t99, 73,\t3, 67, 66, 90, 89,\t7, 77, 92,\t43, 21, 27, 35, 81,\t30, 54, 13, 35, 89, 49, 53, 69,  2, -1, 48, 74, 44, 1, 1, 53, 0, 76, 58, 68,\t41, 48,\t 57, 50, 24, 49, 94,\t46,\t77]`, ele irá pegar o menor elemento desta lista\n",
        "\n",
        "**Exercício 3**\n",
        "\n",
        "Contrua um programa que receba um numero inteiro e calcule o seu fatorial.\n",
        "\n",
        "---\n"
      ]
    },
    {
      "cell_type": "markdown",
      "metadata": {
        "id": "nwNoAFvX9cWj"
      },
      "source": [
        "O aço `while` é bastante utilizado quando não sabemos ao certo onde nossa variável começa. Por exemplo, digamos que nós queremos imprimir uma sequência de números que vão de um certo valor até o 0, mas nós não sabemos qual é o primeiro número dessa sequência, uma vez que é o usuário que irá definir, tal que seria impossível utilizarmos o laço for para criar esse looping.\n",
        "\n",
        "Em suma, o laço while é utilizado para executar um bloco de comandos enquanto uma condição for verdadeira.\n",
        "\n",
        "*Exemplo 3*"
      ]
    },
    {
      "cell_type": "code",
      "metadata": {
        "id": "R0f_mtQN98BK",
        "colab": {
          "base_uri": "https://localhost:8080/"
        },
        "outputId": "45816655-ce2f-4da8-be69-7963aeea54fc"
      },
      "source": [
        "# Armazenando o número inteiro do usuário\n",
        "numero = int(input(\"DIGITE UM NUMERO INTEIRO: \"))\n",
        "\n",
        "# Criando laço while para imprimir a P.A.\n",
        "while(numero >= 0):\n",
        "    print(numero)\n",
        "    numero -= 1\n",
        "\n",
        "print('Isso é uma P.A.')"
      ],
      "execution_count": null,
      "outputs": [
        {
          "output_type": "stream",
          "name": "stdout",
          "text": [
            "dIGITE UM NUMERO INTEIRO: 10\n",
            "10\n",
            "9\n",
            "8\n",
            "7\n",
            "6\n",
            "5\n",
            "4\n",
            "3\n",
            "2\n",
            "1\n",
            "0\n",
            "Isso é uma P.A.\n"
          ]
        }
      ]
    },
    {
      "cell_type": "markdown",
      "metadata": {
        "id": "jAxkeocqO4oF"
      },
      "source": [
        "*Exemplo 4*"
      ]
    },
    {
      "cell_type": "code",
      "metadata": {
        "colab": {
          "base_uri": "https://localhost:8080/"
        },
        "id": "gYCbfkwNO-Ht",
        "outputId": "abc0b1d8-f127-4987-c873-16b05904ddf7"
      },
      "source": [
        "# Iremos verificar se um número é primo\n",
        "numero = int(input(\"Número inteuro para verificação: \"))\n",
        "\n",
        "divisores = 0  # Os divisores desse número devem ser iguais a 0, pois o range vai de (2, 3, 4, ..., numero -1)\n",
        "for i in range(2, numero):\n",
        "    if numero % i == 0:\n",
        "        print(\"O número não é primo.\")\n",
        "        divisores = 1\n",
        "        break  # Quebra o laço for.\n",
        "if divisores == 0:\n",
        "    print(\"É Primo\")"
      ],
      "execution_count": null,
      "outputs": [
        {
          "output_type": "stream",
          "name": "stdout",
          "text": [
            "Número inteuro para verificação: 1991\n",
            "O número não é primo.\n"
          ]
        }
      ]
    },
    {
      "cell_type": "markdown",
      "metadata": {
        "id": "8XmRSeKMXxUn"
      },
      "source": [
        "**Exercício 4**\n",
        "\n",
        "Faça um programa que receba um número inteiro e printe uma lista contendo todos os números primos até esse número. Exemplo:\n",
        "\n",
        "numero = 10\n",
        "\n",
        "lista = [2, 3, 5, 7]\n",
        "\n",
        "Dica: Caso necessário, crie uma lista chamada \"lista\" e utilize o comando ``append()``. Exemplo: \n",
        "```\n",
        "lista = []  # Cria uma lista\n",
        "lista.append(4)  # Adiciona o número 4 na lista\n",
        "```\n",
        "\n",
        "**Exercício 5**\n",
        "Faça um programa que ordene do menor valor para o maior valor o seguinte array:\n",
        "`[37, 27, 32, 98, 38, 32, 91, 58, 95, 99, 80, 37, 23, 53, 80, 94, 99, 74, 54, 1, 7, 39, 55, 18, 98, 33, 43, 82, 76, 98, 31, 21, 99, 13, 53, 63, 38, 50, 77, 63, 18, 71, 40, 22, 43, 92, 10, 38, 92, 55, 25, 41, 13, 13, 11, 9, 55, 36, 69, 52, 68, 99, 94, 16, 63, 67, 62, 12, 100, 49, 79, 75, 66, 15, 67, 9, 73, 92, 100, 45, 60, 49, 40, 100, 13, 77, 2, 37, 68, 66, 67, 39, 76, 58, 26, 86, 5, 72, 63, 63]`\n",
        "\n",
        "OBS: Utilize o comando `.append(alemento)` para adicionar um elemento em uma lista. Exemplo:\n",
        "\n",
        "```\n",
        "lista = []  # uma lista vazia\n",
        "lista.append(2)  # Adiciona o número 2 na lista.\n",
        "\n",
        "# A lista fica sendo igual a: [2]\n",
        "```\n",
        "\n",
        "---\n",
        "\n"
      ]
    },
    {
      "cell_type": "markdown",
      "metadata": {
        "id": "aLxOnvTQbjf9"
      },
      "source": [
        "**Desenvolvimento de propriedades de String**\n",
        "\n",
        "Nesta parte, iremos ver as principais operações com string.\n",
        "\n",
        "**Funções Integradas:**\n",
        "* lower()\n",
        "* upper()\n",
        "* capitalize()\n",
        "* title()\n",
        "* count()\n",
        "* find()\n",
        "* join()\n",
        "* encode()"
      ]
    },
    {
      "cell_type": "code",
      "metadata": {
        "colab": {
          "base_uri": "https://localhost:8080/",
          "height": 192
        },
        "id": "E1_g60ehj5bw",
        "outputId": "edd7360a-19a0-494f-db96-fb72f8c6f1de"
      },
      "source": [
        "# Principais operações com String\n",
        "exemplo = \"EsSa É uMa StRiNg de EXEMplo\"\n",
        "\n",
        "print(exemplo.lower())  # Deixa a string minúscula.\n",
        "print(exemplo.upper())  # Deixa a string maiúscula.\n",
        "print(exemplo.capitalize())  # Apenas a primeira letra fica maiúscula.\n",
        "print(exemplo.title())  # Deixa apenas a primeira letra das plavras maiúscula.\n",
        "print(exemplo.count('a'))  # Contar o número de vezes que aparece a letra 'a' na string.\n",
        "print(exemplo.find('É'))  # Acha uma determinada string.\n",
        "\n",
        "text = ['Python', 'is', 'a', 'fun', 'programming', 'language']\n",
        "# join elements of text with space\n",
        "print(' '.join(text))\n",
        "\n",
        "# O método codifica a sequência, usando a codificação especificada. Se nenhuma codificação for especificada, o UTF-8 será usado.\n",
        "print(exemplo.encode(encoding=\"utf-8\"))\n",
        "\n",
        "\"\"\"\n",
        "O UTF-8 usa as seguintes regras:\n",
        "\n",
        "* Se o ponto de código for < 128, ele será representado pelo valor de byte correspondente.\n",
        "* Se o ponto de código for >= 128, ele se transformará em uma sequência de dois, três ou quatro bytes, onde cada byte da sequência é entre 128 e 255.\n",
        "\"\"\""
      ],
      "execution_count": null,
      "outputs": [
        {
          "output_type": "stream",
          "name": "stdout",
          "text": [
            "essa é uma string de exemplo\n",
            "ESSA É UMA STRING DE EXEMPLO\n",
            "Essa é uma string de exemplo\n",
            "Essa É Uma String De Exemplo\n",
            "2\n",
            "5\n",
            "Python is a fun programming language\n",
            "b'EsSa \\xc3\\x89 uMa StRiNg de EXEMplo'\n"
          ]
        },
        {
          "output_type": "execute_result",
          "data": {
            "application/vnd.google.colaboratory.intrinsic+json": {
              "type": "string"
            },
            "text/plain": [
              "'\\nO UTF-8 usa as seguintes regras:\\n\\n* Se o ponto de código for < 128, ele será representado pelo valor de byte correspondente.\\n* Se o ponto de código for >= 128, ele se transformará em uma sequência de dois, três ou quatro bytes, onde cada byte da sequência é entre 128 e 255.\\n'"
            ]
          },
          "metadata": {},
          "execution_count": 37
        }
      ]
    },
    {
      "cell_type": "markdown",
      "metadata": {
        "id": "Xm5SAgwEva2F"
      },
      "source": [
        "**Desenvolvimento de propriedades de Arrays & Sets**\n",
        "\n",
        "Nessa parte, iremos ver as principais operações com arrays.\n",
        "\n",
        "* **list comprehension (poderoso método de python)**\n",
        "* len()\n",
        "* append()\n",
        "* count()\n",
        "* index()\n",
        "* inset()\n",
        "* pop()\n",
        "* reverse()\n",
        "* sort()"
      ]
    },
    {
      "cell_type": "code",
      "metadata": {
        "colab": {
          "base_uri": "https://localhost:8080/"
        },
        "id": "ilXQsQJF-aED",
        "outputId": "95ac67c7-f7ad-46c4-868c-7ef0eec7fa07"
      },
      "source": [
        "# List Comprehensions - Serve para criar listas específicas diretamente de uma formatação com listas.\n",
        "# Método extremamente poderoso em python\n",
        "\n",
        "teste0 = [i for i in range(10)]  # Cria uma lista de 0 à10 de f(i) = i\n",
        "teste1 = [x**2 for x in range(10)]  # Cria uma lista de 0 à 9 de x^2\n",
        "teste2 = [letra * 2 for letra in \"Nome\"]  # Duplica as letras \n",
        "print(teste0)\n",
        "print(teste1)\n",
        "print(teste2)\n",
        "\n",
        "# também é possível usar condicionais.\n",
        "teste3 = [x+1 if x >= 4 else x+5 for x in range(10)]\n",
        "teste4 = [1 if x < 0 else 0 for x in range(-5, 5)]\n",
        "print(teste3)\n",
        "print(teste4)\n",
        "\n",
        "# Também é possível utilizar com sets\n",
        "# Exemplo: (i**3 for i in range(3))\n",
        "# Esse uso com sets se destina ao desempenho de memória."
      ],
      "execution_count": null,
      "outputs": [
        {
          "output_type": "stream",
          "name": "stdout",
          "text": [
            "[0, 1, 2, 3, 4, 5, 6, 7, 8, 9]\n",
            "[0, 1, 4, 9, 16, 25, 36, 49, 64, 81]\n",
            "['NN', 'oo', 'mm', 'ee']\n",
            "[5, 6, 7, 8, 5, 6, 7, 8, 9, 10]\n",
            "[1, 1, 1, 1, 1, 0, 0, 0, 0, 0]\n"
          ]
        }
      ]
    },
    {
      "cell_type": "code",
      "metadata": {
        "colab": {
          "base_uri": "https://localhost:8080/"
        },
        "id": "tAr-dgn7PuJD",
        "outputId": "044644b6-0e96-48de-a5c8-78a71fb559db"
      },
      "source": [
        "exemplo = [0, 1, 2, 3, 'uma string', 4, 9, ['outra', 'lista'], 10, 11]  # Exemplo de array\n",
        "\n",
        "print(len(exemplo))  # Pega o tamanho do array\n",
        "exemplo.append(2)  # Coloca o termo 2 na lsita\n",
        "print(exemplo)\n",
        "print(exemplo.count(2))  # conta quantas vezes aparece esse elemento\n",
        "print(exemplo.index(10))  # Acha a posição desse elemento\n",
        "exemplo.insert(3, 19)  # Coloca o item 19 na posição 3\n",
        "print(exemplo)\n",
        "exemplo.pop(3)  # deleta o elemento na posição 3\n",
        "print(exemplo)\n",
        "exemplo.reverse()  # Inverte a lista\n",
        "print(exemplo)\n",
        "\n",
        "lista = [3, 1, 2, 8, 5, 9, 19, 12, 13, 11]\n",
        "lista.sort()  # Ordena os elementos da lista quando possível.\n",
        "print(lista)\n",
        "lista.clear()  # Limpa o array\n",
        "print(lista)"
      ],
      "execution_count": null,
      "outputs": [
        {
          "output_type": "stream",
          "name": "stdout",
          "text": [
            "10\n",
            "[0, 1, 2, 3, 'uma string', 4, 9, ['outra', 'lista'], 10, 11, 2]\n",
            "2\n",
            "8\n",
            "[0, 1, 2, 19, 3, 'uma string', 4, 9, ['outra', 'lista'], 10, 11, 2]\n",
            "[0, 1, 2, 3, 'uma string', 4, 9, ['outra', 'lista'], 10, 11, 2]\n",
            "[2, 11, 10, ['outra', 'lista'], 9, 4, 'uma string', 3, 2, 1, 0]\n",
            "[1, 2, 3, 5, 8, 9, 11, 12, 13, 19]\n",
            "[]\n"
          ]
        }
      ]
    },
    {
      "cell_type": "markdown",
      "metadata": {
        "id": "HgpnsAR3Vh5m"
      },
      "source": [
        "**Desenvolvimento de propriedades de Dicts**\n",
        "\n",
        "Nessa parte, iremos ver as principais operações com dicionários.\n",
        "\n",
        "* len()\n",
        "* fromkeys\n",
        "* get()\n",
        "* items\n",
        "* keys()\n",
        "* values()\n"
      ]
    },
    {
      "cell_type": "code",
      "metadata": {
        "colab": {
          "base_uri": "https://localhost:8080/"
        },
        "id": "BhKhiT8VWby9",
        "outputId": "58f43ff9-f8b2-4b0c-8258-9731c6fd3920"
      },
      "source": [
        "exemplo = {'primeira_chave': 'primeiro_item', \n",
        "           'segunda_chave': 'segundo_item',\n",
        "           'terceira_chave': 1231231231231,\n",
        "           'quarta_chave': ['uma', 'lista']\n",
        "           }\n",
        "\n",
        "print(len(exemplo))\n",
        "\n",
        "# Crindo dicionário com fromkeys()\n",
        "chaves = ['pessoa um', 'pessoa dois', 'pessoa três']\n",
        "items = ['senha do banco', 'senha da casa', 'senha geral']\n",
        "\n",
        "novo_dicionario = dict.fromkeys(chaves, items)\n",
        "print(novo_dicionario)\n",
        "\n",
        "print(exemplo.get('terceira_chave'))  # retorna o item daquela chave\n",
        "print(exemplo.items())  # retorna todos os itens daquele dicionário\n",
        "print(exemplo.keys())  # retorna as chaves\n",
        "print(exemplo.values())  # retorna os valores dos items associados a cada chave.\n",
        "\n",
        "# Adicionando elemento\n",
        "exemplo['nova chave'] = 'novo item'\n",
        "print(exemplo)\n",
        "\n",
        "# Removendo elemento\n",
        "exemplo.pop('nova chave')\n",
        "print(exemplo)\n",
        "\n",
        "# Também é possível fazer Dicionary Comprehentions:\n",
        "odd_squares = {x: x*x for x in range(11) if x % 2 == 1}\n",
        "print(odd_squares)"
      ],
      "execution_count": null,
      "outputs": [
        {
          "output_type": "stream",
          "name": "stdout",
          "text": [
            "4\n",
            "{'pessoa um': ['senha do banco', 'senha da casa', 'senha geral'], 'pessoa dois': ['senha do banco', 'senha da casa', 'senha geral'], 'pessoa três': ['senha do banco', 'senha da casa', 'senha geral']}\n",
            "1231231231231\n",
            "dict_items([('primeira_chave', 'primeiro_item'), ('segunda_chave', 'segundo_item'), ('terceira_chave', 1231231231231), ('quarta_chave', ['uma', 'lista'])])\n",
            "dict_keys(['primeira_chave', 'segunda_chave', 'terceira_chave', 'quarta_chave'])\n",
            "dict_values(['primeiro_item', 'segundo_item', 1231231231231, ['uma', 'lista']])\n",
            "{'primeira_chave': 'primeiro_item', 'segunda_chave': 'segundo_item', 'terceira_chave': 1231231231231, 'quarta_chave': ['uma', 'lista'], 'nova chave': 'novo item'}\n",
            "{'primeira_chave': 'primeiro_item', 'segunda_chave': 'segundo_item', 'terceira_chave': 1231231231231, 'quarta_chave': ['uma', 'lista']}\n",
            "{1: 1, 3: 9, 5: 25, 7: 49, 9: 81}\n"
          ]
        }
      ]
    },
    {
      "cell_type": "markdown",
      "metadata": {
        "id": "BR-yc4fGaSgd"
      },
      "source": [
        "**Introdução de funções**\n",
        "\n",
        "funções são blocos de código que realizam determinadas tarefas que normalmente precisam ser executadas diversas vezes dentro de uma aplicação. ELas são de extrema importância pois servem de alicerce para o desenvolvimento e da linguagem. Elas seguem um padrão em python que será exibido abaixo:"
      ]
    },
    {
      "cell_type": "code",
      "metadata": {
        "colab": {
          "base_uri": "https://localhost:8080/"
        },
        "id": "wdvIq4SMa7fz",
        "outputId": "4fc1c248-b16e-4de1-a16d-51d9aff8a7b9"
      },
      "source": [
        "\"\"\"\n",
        "As funções são definidas da seguinte forma:\n",
        "\n",
        "def noma_da_funcao(primeiro_parametro, segundo_parametro, terceiro_parametro,...):\n",
        "    programação da função\n",
        "    return algo para retornar\n",
        "\n",
        "\n",
        "Exemplos:\n",
        "\"\"\"\n",
        "\n",
        "def printagem_numero(numero):\n",
        "    print(numero)\n",
        "    return 0\n",
        "\n",
        "def retorna_3(qualquer_coisa):\n",
        "    return 3\n",
        "\n",
        "def fibonacci(n: int):  # Note que podemos colocar o tipo de valor incial\n",
        "    if n==1:\n",
        "        return 0\n",
        "    elif n==2:\n",
        "        return 1\n",
        "    else:\n",
        "        return fibonacci(n-1) + fibonacci(n-2)\n",
        "\n",
        "\n",
        "# Chamando as funções\n",
        "\n",
        "printagem_numero(3)\n",
        "print(retorna_3(213123))\n",
        "print(fibonacci(10))"
      ],
      "execution_count": null,
      "outputs": [
        {
          "output_type": "stream",
          "name": "stdout",
          "text": [
            "3\n",
            "3\n",
            "34\n"
          ]
        }
      ]
    },
    {
      "cell_type": "markdown",
      "metadata": {
        "id": "CL4y6kDiIO3Y"
      },
      "source": [
        "# Resolução de exercícios\n",
        "\n",
        "**Exerícios 1, 2 & 3**\n"
      ]
    },
    {
      "cell_type": "code",
      "metadata": {
        "colab": {
          "base_uri": "https://localhost:8080/"
        },
        "id": "oNtNLRBlIdMI",
        "outputId": "e5fca726-9dea-4924-ade8-855287bb8d28"
      },
      "source": [
        "# Exercício 1:\n",
        "\n",
        "for i in range(1, 11):\n",
        "    print(\"Tabuada do\", i)\n",
        "    for j in range(1, 11):\n",
        "        print(i, \" x \", j, \" = \", i*j)\n",
        "    print('\\n')\n",
        "\n",
        "# Exercícios 2\n",
        "array = [79, 70, 44, 54, 28, 8,\t99, 73,\t3, 67, 66, 90, 89,\t7, 77, 92,\t43, 21, 27, 35, 81,\t30, 54, 13, 35, 89, 49, 53, 69,  2, -1, 48, 74, 44, 1, 1, 53, 0, 76, 58, 68,\t41, 48,\t 57, 50, 24, 49, 94,\t46,\t77]\n",
        "menor = array[0]  # pegando o menor número como se fosse o primeiro do array\n",
        "for numero in array:\n",
        "    if numero < menor:\n",
        "        menor = numero\n",
        "print(\"O menor número do array é:\", menor)\n",
        "\n",
        "\n",
        "# Exercício 3\n",
        "dado_int = int(input(\"Digite um número inteiro: \"))\n",
        "fatorial = 1\n",
        "for i in range(1, dado_int + 1):\n",
        "    fatorial = fatorial * i\n",
        "\n",
        "print(\"O fatorial do número é: \", fatorial)\n",
        "\n"
      ],
      "execution_count": null,
      "outputs": [
        {
          "output_type": "stream",
          "name": "stdout",
          "text": [
            "Tabuada do 1\n",
            "1  x  1  =  1\n",
            "1  x  2  =  2\n",
            "1  x  3  =  3\n",
            "1  x  4  =  4\n",
            "1  x  5  =  5\n",
            "1  x  6  =  6\n",
            "1  x  7  =  7\n",
            "1  x  8  =  8\n",
            "1  x  9  =  9\n",
            "1  x  10  =  10\n",
            "\n",
            "\n",
            "Tabuada do 2\n",
            "2  x  1  =  2\n",
            "2  x  2  =  4\n",
            "2  x  3  =  6\n",
            "2  x  4  =  8\n",
            "2  x  5  =  10\n",
            "2  x  6  =  12\n",
            "2  x  7  =  14\n",
            "2  x  8  =  16\n",
            "2  x  9  =  18\n",
            "2  x  10  =  20\n",
            "\n",
            "\n",
            "Tabuada do 3\n",
            "3  x  1  =  3\n",
            "3  x  2  =  6\n",
            "3  x  3  =  9\n",
            "3  x  4  =  12\n",
            "3  x  5  =  15\n",
            "3  x  6  =  18\n",
            "3  x  7  =  21\n",
            "3  x  8  =  24\n",
            "3  x  9  =  27\n",
            "3  x  10  =  30\n",
            "\n",
            "\n",
            "Tabuada do 4\n",
            "4  x  1  =  4\n",
            "4  x  2  =  8\n",
            "4  x  3  =  12\n",
            "4  x  4  =  16\n",
            "4  x  5  =  20\n",
            "4  x  6  =  24\n",
            "4  x  7  =  28\n",
            "4  x  8  =  32\n",
            "4  x  9  =  36\n",
            "4  x  10  =  40\n",
            "\n",
            "\n",
            "Tabuada do 5\n",
            "5  x  1  =  5\n",
            "5  x  2  =  10\n",
            "5  x  3  =  15\n",
            "5  x  4  =  20\n",
            "5  x  5  =  25\n",
            "5  x  6  =  30\n",
            "5  x  7  =  35\n",
            "5  x  8  =  40\n",
            "5  x  9  =  45\n",
            "5  x  10  =  50\n",
            "\n",
            "\n",
            "Tabuada do 6\n",
            "6  x  1  =  6\n",
            "6  x  2  =  12\n",
            "6  x  3  =  18\n",
            "6  x  4  =  24\n",
            "6  x  5  =  30\n",
            "6  x  6  =  36\n",
            "6  x  7  =  42\n",
            "6  x  8  =  48\n",
            "6  x  9  =  54\n",
            "6  x  10  =  60\n",
            "\n",
            "\n",
            "Tabuada do 7\n",
            "7  x  1  =  7\n",
            "7  x  2  =  14\n",
            "7  x  3  =  21\n",
            "7  x  4  =  28\n",
            "7  x  5  =  35\n",
            "7  x  6  =  42\n",
            "7  x  7  =  49\n",
            "7  x  8  =  56\n",
            "7  x  9  =  63\n",
            "7  x  10  =  70\n",
            "\n",
            "\n",
            "Tabuada do 8\n",
            "8  x  1  =  8\n",
            "8  x  2  =  16\n",
            "8  x  3  =  24\n",
            "8  x  4  =  32\n",
            "8  x  5  =  40\n",
            "8  x  6  =  48\n",
            "8  x  7  =  56\n",
            "8  x  8  =  64\n",
            "8  x  9  =  72\n",
            "8  x  10  =  80\n",
            "\n",
            "\n",
            "Tabuada do 9\n",
            "9  x  1  =  9\n",
            "9  x  2  =  18\n",
            "9  x  3  =  27\n",
            "9  x  4  =  36\n",
            "9  x  5  =  45\n",
            "9  x  6  =  54\n",
            "9  x  7  =  63\n",
            "9  x  8  =  72\n",
            "9  x  9  =  81\n",
            "9  x  10  =  90\n",
            "\n",
            "\n",
            "Tabuada do 10\n",
            "10  x  1  =  10\n",
            "10  x  2  =  20\n",
            "10  x  3  =  30\n",
            "10  x  4  =  40\n",
            "10  x  5  =  50\n",
            "10  x  6  =  60\n",
            "10  x  7  =  70\n",
            "10  x  8  =  80\n",
            "10  x  9  =  90\n",
            "10  x  10  =  100\n",
            "\n",
            "\n",
            "O menor número do array é: -1\n",
            "Digite um número inteiro: 12\n",
            "O fatorial do número é:  479001600\n"
          ]
        }
      ]
    },
    {
      "cell_type": "markdown",
      "metadata": {
        "id": "ic-GS65XZ79b"
      },
      "source": [
        "**Resolução dos Exercícios 4 & 5**\n"
      ]
    },
    {
      "cell_type": "code",
      "metadata": {
        "id": "KFiDjKfwaB-5",
        "colab": {
          "base_uri": "https://localhost:8080/"
        },
        "outputId": "256f1e93-8bac-42b1-eae5-67d8d13627aa"
      },
      "source": [
        "# Exercício 4\n",
        "numero = int(input(\"Determine até onde você deseja saber os números primos: \"))\n",
        "lista = []\n",
        "for j in range(2, numero):\n",
        "    divisores = 0\n",
        "    for i in range(2, j):\n",
        "        if j % i == 0:\n",
        "            divisores = 1\n",
        "    if divisores == 0:\n",
        "        lista.append(j)\n",
        "\n",
        "print(lista)\n",
        "\n",
        "# Exercício 5\n",
        "\n",
        "lista = [37, 27, 32, 98, 38, 32, 91, 58, 95, 99, 80, 37, 23, 53, 80, 94, 99, 74, 54, 1, 7, 39, 55, 18, 98, 33, 43, 82, 76, 98, 31, 21, 99, 13, 53, 63, 38, 50, 77, 63, 18, 71, 40, 22, 43, 92, 10, 38, 92, 55, 25, 41, 13, 13, 11, 9, 55, 36, 69, 52, 68, 99, 94, 16, 63, 67, 62, 12, 100, 49, 79, 75, 66, 15, 67, 9, 73, 92, 100, 45, 60, 49, 40, 100, 13, 77, 2, 37, 68, 66, 67, 39, 76, 58, 26, 86, 5, 72, 63, 63]\n",
        "\n",
        "# Método rápido:\n",
        "# lista.sort() "
      ],
      "execution_count": 13,
      "outputs": [
        {
          "output_type": "stream",
          "name": "stdout",
          "text": [
            "Determine até onde você deseja saber os números primos: 20\n",
            "[2, 3, 5, 7, 11, 13, 17, 19]\n"
          ]
        }
      ]
    },
    {
      "cell_type": "markdown",
      "metadata": {
        "id": "LXzJtrpLhRKI"
      },
      "source": [
        "# Referências Bibliográficas:\n",
        "\n",
        "**História do Python**. Disponível em: <https://pt.wikipedia.org/wiki/Python>. Acesso em 25 de setembro de 2021.\n",
        "\n",
        "**Aula 1 - Noções Básicas de Programação**. Disponível em: <https://colab.research.google.com/drive/1O5gpeDuEJBwX7Sr52e7Ytl4dO8cvXdnF#scrollTo=TBzjKc1tajAd>. Acesso em 25 de setembro de 2021."
      ]
    }
  ]
}