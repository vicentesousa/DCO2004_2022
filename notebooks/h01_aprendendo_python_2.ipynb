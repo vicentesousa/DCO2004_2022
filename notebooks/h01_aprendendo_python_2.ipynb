{
  "cells": [
    {
      "cell_type": "markdown",
      "metadata": {
        "id": "sjmR3rubyZao"
      },
      "source": [
        "# APRENDENDO PYTHON - Parte 02 de 04: SEGUNDA PARTE - O essencial em python.\n",
        "\n",
        "## O que veremos nessa parte:\n",
        "1. Laços *for* e *while*;\n",
        "2. Trabalhando com String;\n",
        "3. Trabalhando com List;\n",
        "4. Trabalhando com Dicts;\n",
        "5. Introdução a funções.\n",
        "\n",
        "\n",
        "## 1. Laço *for* e *while*\n",
        "\n",
        "Provavelmente, a estrutura de repetição mais utilizada pelos programadores é o laço *for*. Ela permite você percorrer uma sequência qualquer ou um intervalo numérico, que pode ser definido com o valor inicial e final (ex.: (10, 20)) ou definir o passo dessa contagem.\n",
        "\n",
        "É importante ter em mente que uma estrutura de repetição pode ser usada dentro de uma estrutura condicional, e vice-versa. Assim como podemos utilizar um laço *for* dentro de outro *for*.\n",
        "\n",
        "Vejamos alguns exemplos.\n",
        "\n",
        "*Exemplo 1.1:*"
      ]
    },
    {
      "cell_type": "code",
      "execution_count": 1,
      "metadata": {
        "colab": {
          "base_uri": "https://localhost:8080/"
        },
        "id": "5xfzHZ9-yUOP",
        "outputId": "096a666f-d421-4c5a-a89b-a702be0452ec"
      },
      "outputs": [
        {
          "name": "stdout",
          "output_type": "stream",
          "text": [
            "0\n",
            "1\n",
            "2\n",
            "3\n",
            "4\n",
            "5\n",
            "\n",
            "Apenas para separar os exemplos\n",
            "\n",
            "0\n",
            "1\n",
            "2\n",
            "3\n",
            "4\n",
            "5\n",
            "\n",
            "Apenas para separar os exemplos\n",
            "\n",
            "0\n",
            "2\n",
            "4\n",
            "\n",
            "Apenas para separar os exemplos\n",
            "\n",
            "l\n",
            "e\n",
            "t\n",
            "r\n",
            "a\n",
            "s\n",
            "\n",
            "Apenas para separar os exemplos\n",
            "\n"
          ]
        }
      ],
      "source": [
        "# Vamos definir uma lista de 0 até 5\n",
        "lista = [0, 1, 2, 3, 4, 5]\n",
        "\n",
        "# utilizaremos o for sobre a lista - ele irá passar por todos os elementos da lista por padrão.\n",
        "for numero in lista:\n",
        "    print(numero)\n",
        "\n",
        "print(\"\\nApenas para separar os exemplos\\n\")\n",
        "\n",
        "# podemos utlizar a classe \"range\" para um propósito semelhante.\n",
        "valor_incial = 0\n",
        "valor_final = 5 + 1  # Adicionando 1 pois o range utiliza esse valor menos 1 por padrão.\n",
        "for numero in range(valor_incial, valor_final):\n",
        "    print(numero)\n",
        "\n",
        "print(\"\\nApenas para separar os exemplos\\n\")\n",
        "\n",
        "# Podemos definir um passo também com o range\n",
        "valor_incial = 0\n",
        "valor_final = 5 + 1  # Adicionando 1 pois o range utiliza esse valor menos 1 por padrão.\n",
        "passo = 2\n",
        "for numero in range(valor_incial, valor_final, passo):\n",
        "    print(numero)\n",
        "\n",
        "print(\"\\nApenas para separar os exemplos\\n\")\n",
        "\n",
        "# Podemos operar sobre String também.\n",
        "\n",
        "for letra in 'letras':\n",
        "    print(letra)\n",
        "\n",
        "print(\"\\nApenas para separar os exemplos\\n\")"
      ]
    },
    {
      "cell_type": "markdown",
      "metadata": {
        "id": "iJplfj4H6Cg9"
      },
      "source": [
        "Alterar a maneira de mostrar o conteúdo do *for* e usar o contador do *for* para fazer operações dentro do laço, podem criar efeitos interessnates. Vejamos o exemplo a segir.\n",
        "\n",
        "*Exemplo 1.2:*"
      ]
    },
    {
      "cell_type": "code",
      "execution_count": 2,
      "metadata": {
        "colab": {
          "base_uri": "https://localhost:8080/"
        },
        "id": "Y1lGM4cx6fY7",
        "outputId": "54c976c6-c59e-4571-de60-c8c3b1d66e59"
      },
      "outputs": [
        {
          "name": "stdout",
          "output_type": "stream",
          "text": [
            "         *          \n",
            "        ***         \n",
            "       *****        \n",
            "      *******       \n",
            "     *********      \n",
            "    ***********     \n",
            "   *************    \n",
            "  ***************   \n",
            " *****************  \n",
            "******************* \n",
            "         ||        \n",
            "         ||        \n",
            "       \\====/      \n"
          ]
        }
      ],
      "source": [
        "# construindo o desenho de uma árvore com laços for\n",
        "for i in range(1, 20, 2):\n",
        "    print(('*' * i).center(20))\n",
        "# tronco da árvore\n",
        "for r in range(2):\n",
        "    print(('||').center(19))\n",
        "# base da árvore\n",
        "print('\\====/'.center(19))\n"
      ]
    },
    {
      "cell_type": "markdown",
      "metadata": {
        "id": "DhQNOK1c8AMD"
      },
      "source": [
        "**Exercício 01 (para o relatório):**\n",
        "\n",
        "Construa uma tabuada utilizando laços *for*\n",
        "\n",
        "(Dica: utilize um `for` que vai de 0 à 10, e dentro desse `for` um outro `for` que vai de 0 à 10.)\n",
        "\n",
        "**Exercício 02 (para o relatório):**\n",
        "\n",
        "Contrua um programa que ache o valor mínimo do vetor `[79, 70, 44, 54, 28, 8, 99, 73, 3, 67, 66, 90, 89,\t7, 77, 92,\t43, 21, 27, 35, 81,\t30, 54, 13, 35, 89, 49, 53, 69,  2, -1, 48, 74, 44, 1, 1, 53, 0, 76, 58, 68, 41, 48, 57, 50, 24, 49, 94, 46, 77]`.\n",
        "\n",
        "**Exercício 03 (para o relatório):**\n",
        "\n",
        "Contrua um programa que receba um número inteiro e calcule o seu fatorial.\n",
        "\n"
      ]
    },
    {
      "cell_type": "markdown",
      "metadata": {
        "id": "nwNoAFvX9cWj"
      },
      "source": [
        "### Laços *while*\n",
        "\n",
        "O *while* é bastante utilizado quando não sabemos ao certo os limites do laço de repetição. Esta instrução é usada quando não sabemos quantas vezes um determinado bloco de instruções precisa ser repetido. Com ele, a execução das instruções vai continuar até que uma condição seja verdadeira. A condição a ser analisada para a execução do laço de repetição deverá retornar um valor booleano.\n",
        "\n",
        "Em suma, o laço *while* é utilizado para executar um bloco de comandos enquanto uma condição for verdadeira. Vejamos alguns exemplos.\n",
        "\n",
        "Exemplo 1.3:"
      ]
    },
    {
      "cell_type": "code",
      "execution_count": 4,
      "metadata": {
        "colab": {
          "base_uri": "https://localhost:8080/"
        },
        "id": "R0f_mtQN98BK",
        "outputId": "45816655-ce2f-4da8-be69-7963aeea54fc"
      },
      "outputs": [
        {
          "name": "stdout",
          "output_type": "stream",
          "text": [
            "5\n",
            "4\n",
            "3\n",
            "2\n",
            "1\n",
            "0\n",
            "Isso é uma P.A.\n"
          ]
        }
      ],
      "source": [
        "# Armazenando o número inteiro do usuário\n",
        "numero = int(input(\"DIGITE UM NÚMERO INTEIRO: \"))\n",
        "\n",
        "# Criando laço while para imprimir a P.A.\n",
        "while(numero >= 0):\n",
        "    print(numero)\n",
        "    numero -= 1 # decrementando o valor\n",
        "\n",
        "print('Isso é uma P.A.')"
      ]
    },
    {
      "cell_type": "markdown",
      "metadata": {
        "id": "jAxkeocqO4oF"
      },
      "source": [
        "Podemos utilizar as ferramentas que aprendemos até agora em um único programa. Vejamos um exemplo com laço e condicionadores.\n",
        "\n",
        "*Exemplo 1.4:*"
      ]
    },
    {
      "cell_type": "code",
      "execution_count": 8,
      "metadata": {
        "colab": {
          "base_uri": "https://localhost:8080/"
        },
        "id": "gYCbfkwNO-Ht",
        "outputId": "abc0b1d8-f127-4987-c873-16b05904ddf7"
      },
      "outputs": [
        {
          "name": "stdout",
          "output_type": "stream",
          "text": [
            "O número 7 é primo.\n"
          ]
        }
      ],
      "source": [
        "# Iremos verificar se um número é primo\n",
        "numero = int(input(\"Número inteiro para verificação: \"))\n",
        "\n",
        "divisores = 0  # Os divisores desse número devem ser iguais a 0, pois o range vai de (2, 3, 4, ..., numero -1)\n",
        "for i in range(2, numero):\n",
        "    if numero % i == 0:\n",
        "        print(\"O número {} não é primo.\".format(numero))\n",
        "        divisores = 1\n",
        "        break  # Quebra o laço for.\n",
        "if divisores == 0:\n",
        "    print(\"O número {} é primo.\".format(numero))\n",
        "        "
      ]
    },
    {
      "cell_type": "markdown",
      "metadata": {
        "id": "8XmRSeKMXxUn"
      },
      "source": [
        "**Exercício 04 (para o relatório):**\n",
        "\n",
        "Faça um programa que receba um número inteiro e imprima uma lista contendo todos os números primos até esse número. Exemplo:\n",
        "\n",
        "numero = 10\n",
        "\n",
        "lista = [2, 3, 5, 7]\n",
        "\n",
        "Dica: Caso necessário, crie uma lista chamada \"lista\" e utilize o comando ``append()``. Exemplo: \n",
        "```\n",
        "lista = []  # Cria uma lista\n",
        "lista.append(4)  # Adiciona o número 4 na lista\n",
        "```\n",
        "\n",
        "**Exercício 5 (para o relatório):**\n",
        "Faça um programa que ordene do menor valor para o maior valor o seguinte array:\n",
        "`[37, 27, 32, 98, 38, 32, 91, 58, 95, 99, 80, 37, 23, 53, 80, 94, 99, 74, 54, 1, 7, 39, 55, 18, 98, 33, 43, 82, 76, 98, 31, 21, 99, 13, 53, 63, 38, 50, 77, 63, 18, 71, 40, 22, 43, 92, 10, 38, 92, 55, 25, 41, 13, 13, 11, 9, 55, 36, 69, 52, 68, 99, 94, 16, 63, 67, 62, 12, 100, 49, 79, 75, 66, 15, 67, 9, 73, 92, 100, 45, 60, 49, 40, 100, 13, 77, 2, 37, 68, 66, 67, 39, 76, 58, 26, 86, 5, 72, 63, 63]`\n",
        "\n",
        "OBS: Utilize o comando `.append(alemento)` para adicionar um elemento em uma lista. Exemplo:\n",
        "\n",
        "```\n",
        "lista = []  # uma lista vazia\n",
        "lista.append(2)  # Adiciona o número 2 na lista.\n",
        "\n",
        "# A lista fica sendo igual a: [2]\n",
        "```\n",
        "\n"
      ]
    },
    {
      "cell_type": "markdown",
      "metadata": {
        "id": "aLxOnvTQbjf9"
      },
      "source": [
        "## 2. Trabalhando com String\n",
        "\n",
        "Nesta parte, iremos ver as operações básicas com o tipo string. Existem as seguintes **funções integradas:**\n",
        "\n",
        "* lower()\n",
        "* upper()\n",
        "* capitalize()\n",
        "* title()\n",
        "* count()\n",
        "* find()\n",
        "* join()\n",
        "\n",
        "Vejamos suas características e como acessá-las no exemplo a seguir.\n",
        "\n",
        "*Exemplo 2.1:* "
      ]
    },
    {
      "cell_type": "code",
      "execution_count": 16,
      "metadata": {
        "colab": {
          "base_uri": "https://localhost:8080/",
          "height": 192
        },
        "id": "E1_g60ehj5bw",
        "outputId": "edd7360a-19a0-494f-db96-fb72f8c6f1de"
      },
      "outputs": [
        {
          "name": "stdout",
          "output_type": "stream",
          "text": [
            "essa é uma string de exemplo\n",
            "ESSA É UMA STRING DE EXEMPLO\n",
            "Essa é uma string de exemplo\n",
            "Essa É Uma String De Exemplo\n",
            "2\n",
            "5\n",
            "Python is a fun programming language\n"
          ]
        }
      ],
      "source": [
        "# Principais operações com String\n",
        "exemplo = \"EsSa É uMa StRiNg de EXEMplo\"\n",
        "\n",
        "print(exemplo.lower())  # Deixa a string minúscula.\n",
        "print(exemplo.upper())  # Deixa a string maiúscula.\n",
        "print(exemplo.capitalize())  # Apenas a primeira letra fica maiúscula.\n",
        "print(exemplo.title())  # Deixa apenas a primeira letra das palavras maiúscula.\n",
        "print(exemplo.count('a'))  # Contar o número de vezes que aparece a letra 'a' na string.\n",
        "print(exemplo.find('É'))  # Acha uma determinada string.\n",
        "\n",
        "text = ['Python', 'is', 'a', 'fun', 'programming', 'language']\n",
        "# join elements of text with space\n",
        "print(' '.join(text))\n"
      ]
    },
    {
      "cell_type": "markdown",
      "metadata": {
        "id": "Xm5SAgwEva2F"
      },
      "source": [
        "## 3. Trabalhando com listas\n",
        "\n",
        "Nesta parte, iremos ver as operações básicas com o tipo *list*. Existem as seguintes **funções integradas:**\n",
        "\n",
        "* len()\n",
        "* append()\n",
        "* count()\n",
        "* index()\n",
        "* inset()\n",
        "* pop()\n",
        "* reverse()\n",
        "* sort()\n",
        "\n",
        "Vejamos algumas formas de gerar listas, as características da funções intergadas e como acessá-las nos exemplos a seguir.\n",
        "\n",
        "\n",
        "*Exemplo 3.1:*"
      ]
    },
    {
      "cell_type": "code",
      "execution_count": 22,
      "metadata": {
        "colab": {
          "base_uri": "https://localhost:8080/"
        },
        "id": "ilXQsQJF-aED",
        "outputId": "95ac67c7-f7ad-46c4-868c-7ef0eec7fa07"
      },
      "outputs": [
        {
          "name": "stdout",
          "output_type": "stream",
          "text": [
            "Tipo da variável do teste0 é <class 'list'>\n",
            "Tipo da variável do teste1 é <class 'list'>\n",
            "Tipo da variável do teste2 é <class 'list'>\n",
            "[0, 1, 2, 3, 4, 5, 6, 7, 8, 9]\n",
            "[0, 1, 4, 9, 16, 25, 36, 49, 64, 81]\n",
            "['NN', 'oo', 'mm', 'ee']\n",
            "[5, 6, 7, 8, 5, 6, 7, 8, 9, 10]\n",
            "[1, 1, 1, 1, 1, 0, 0, 0, 0, 0]\n"
          ]
        }
      ],
      "source": [
        "# List Comprehensions - Serve para criar listas específicas diretamente de uma formatação com listas.\n",
        "# Método extremamente poderoso em python\n",
        "\n",
        "# Cria uma lista de 0 à 10 de f(i) = i\n",
        "teste0 = [i for i in range(10)]  \n",
        "\n",
        "# Cria uma lista de 0 à 9 de x^2\n",
        "teste1 = [x**2 for x in range(10)]  \n",
        "\n",
        "# Duplica as letras\n",
        "teste2 = [letra * 2 for letra in \"Nome\"]   \n",
        "\n",
        "# imprime o tipo das variáveis teste0, teste1 e teste2\n",
        "print(\"Tipo da variável do teste0 é {}\".format(type(teste0)))\n",
        "print(\"Tipo da variável do teste1 é {}\".format(type(teste1)))\n",
        "print(\"Tipo da variável do teste2 é {}\".format(type(teste2)))\n",
        "\n",
        "# imprime o valor das variáveis teste0, teste1 e teste2\n",
        "print(teste0)\n",
        "print(teste1)\n",
        "print(teste2)\n",
        "\n",
        "# também é possível usar condicionais.\n",
        "teste3 = [x+1 if x >= 4 else x+5 for x in range(10)]\n",
        "teste4 = [1 if x < 0 else 0 for x in range(-5, 5)]\n",
        "print(teste3)\n",
        "print(teste4)"
      ]
    },
    {
      "cell_type": "markdown",
      "metadata": {},
      "source": [
        "*Exemplo 3.2:*"
      ]
    },
    {
      "cell_type": "code",
      "execution_count": 23,
      "metadata": {
        "colab": {
          "base_uri": "https://localhost:8080/"
        },
        "id": "tAr-dgn7PuJD",
        "outputId": "044644b6-0e96-48de-a5c8-78a71fb559db"
      },
      "outputs": [
        {
          "name": "stdout",
          "output_type": "stream",
          "text": [
            "10\n",
            "[0, 1, 2, 3, 'uma string', 4, 9, ['outra', 'lista'], 10, 11, 2]\n",
            "2\n",
            "8\n",
            "[0, 1, 2, 19, 3, 'uma string', 4, 9, ['outra', 'lista'], 10, 11, 2]\n",
            "[0, 1, 2, 3, 'uma string', 4, 9, ['outra', 'lista'], 10, 11, 2]\n",
            "[2, 11, 10, ['outra', 'lista'], 9, 4, 'uma string', 3, 2, 1, 0]\n",
            "[1, 2, 3, 5, 8, 9, 11, 12, 13, 19]\n",
            "[]\n"
          ]
        }
      ],
      "source": [
        "exemplo = [0, 1, 2, 3, 'uma string', 4, 9, ['outra', 'lista'], 10, 11]  # Exemplo de array\n",
        "\n",
        "print(len(exemplo))  # Pega o tamanho do array\n",
        "exemplo.append(2)  # Coloca o termo 2 na lsita\n",
        "print(exemplo)\n",
        "print(exemplo.count(2))  # Conta quantas vezes aparece esse elemento\n",
        "print(exemplo.index(10))  # Acha a posição desse elemento\n",
        "exemplo.insert(3, 19)  # Coloca o item 19 na posição 3\n",
        "print(exemplo)\n",
        "exemplo.pop(3)  # Deleta o elemento na posição 3\n",
        "print(exemplo)\n",
        "exemplo.reverse()  # Inverte a lista\n",
        "print(exemplo)\n",
        "\n",
        "lista = [3, 1, 2, 8, 5, 9, 19, 12, 13, 11]\n",
        "lista.sort()  # Ordena os elementos da lista quando possível.\n",
        "print(lista)\n",
        "lista.clear()  # Limpa o array\n",
        "print(lista)"
      ]
    },
    {
      "cell_type": "markdown",
      "metadata": {
        "id": "HgpnsAR3Vh5m"
      },
      "source": [
        "## 4. Desenvolvimento de propriedades de Dicts\n",
        "\n",
        "Nesta parte, iremos ver as operações básicas com o tipo *dict* (dicionáio). Existem as seguintes **funções integradas:**\n",
        "\n",
        "* len()\n",
        "* fromkeys\n",
        "* get()\n",
        "* items\n",
        "* keys()\n",
        "* values()\n",
        "\n",
        "\n",
        "Vejamos algumas formas de gerar dicionários, as características da funções intergadas e como acessá-las nos exemplos a seguir.\n",
        "\n",
        "\n",
        "*Exemplo 4.1:*"
      ]
    },
    {
      "cell_type": "code",
      "execution_count": 32,
      "metadata": {
        "colab": {
          "base_uri": "https://localhost:8080/"
        },
        "id": "BhKhiT8VWby9",
        "outputId": "58f43ff9-f8b2-4b0c-8258-9731c6fd3920"
      },
      "outputs": [
        {
          "name": "stdout",
          "output_type": "stream",
          "text": [
            "O tamanho da lista é 4\n",
            "{'primeira_chave': 'primeiro_item', 'segunda_chave': 'segundo_item', 'terceira_chave': 1231231231231, 'quarta_chave': ['uma', 'lista']}\n"
          ]
        }
      ],
      "source": [
        "exemplo = {'primeira_chave': 'primeiro_item',\n",
        "           'segunda_chave': 'segundo_item',\n",
        "           'terceira_chave': 1231231231231,\n",
        "           'quarta_chave': ['uma', 'lista']\n",
        "           }\n",
        "\n",
        "print(\"O tamanho da lista é {}\".format(len(exemplo)))\n",
        "print(exemplo)"
      ]
    },
    {
      "cell_type": "markdown",
      "metadata": {},
      "source": [
        "*Exemplo 4.2: criando dicionário usando fromkeys*"
      ]
    },
    {
      "cell_type": "code",
      "execution_count": 33,
      "metadata": {},
      "outputs": [
        {
          "name": "stdout",
          "output_type": "stream",
          "text": [
            "{'pessoa um': ['senha do banco', 'senha da casa', 'senha geral'], 'pessoa dois': ['senha do banco', 'senha da casa', 'senha geral'], 'pessoa três': ['senha do banco', 'senha da casa', 'senha geral']}\n"
          ]
        }
      ],
      "source": [
        "# Criando dicionário com fromkeys()\n",
        "chaves = ['pessoa um', 'pessoa dois', 'pessoa três']\n",
        "items = ['senha do banco', 'senha da casa', 'senha geral']\n",
        "\n",
        "novo_dicionario = dict.fromkeys(chaves, items)\n",
        "print(novo_dicionario)\n"
      ]
    },
    {
      "cell_type": "markdown",
      "metadata": {},
      "source": [
        "*Exemplo 4.3: usando funções integradas*"
      ]
    },
    {
      "cell_type": "code",
      "execution_count": 34,
      "metadata": {},
      "outputs": [
        {
          "name": "stdout",
          "output_type": "stream",
          "text": [
            "1231231231231\n",
            "dict_items([('primeira_chave', 'primeiro_item'), ('segunda_chave', 'segundo_item'), ('terceira_chave', 1231231231231), ('quarta_chave', ['uma', 'lista'])])\n",
            "dict_keys(['primeira_chave', 'segunda_chave', 'terceira_chave', 'quarta_chave'])\n",
            "dict_values(['primeiro_item', 'segundo_item', 1231231231231, ['uma', 'lista']])\n"
          ]
        }
      ],
      "source": [
        "print(exemplo.get('terceira_chave'))  # retorna o item daquela chave\n",
        "print(exemplo.items())  # retorna todos os itens daquele dicionário\n",
        "print(exemplo.keys())  # retorna as chaves\n",
        "print(exemplo.values())  # retorna os valores dos items associados a cada chave."
      ]
    },
    {
      "cell_type": "markdown",
      "metadata": {},
      "source": [
        "*Exemplo 4.4: adicionando e removendo elementos*"
      ]
    },
    {
      "cell_type": "code",
      "execution_count": null,
      "metadata": {},
      "outputs": [],
      "source": [
        "# Adicionando elemento\n",
        "exemplo['nova chave'] = 'novo item'\n",
        "print(exemplo)\n",
        "\n",
        "# Removendo elemento\n",
        "exemplo.pop('nova chave')\n",
        "print(exemplo)"
      ]
    },
    {
      "cell_type": "markdown",
      "metadata": {},
      "source": [
        "*Exemplo 4.5: criando dicionário com Dicionary Comprehentions*"
      ]
    },
    {
      "cell_type": "code",
      "execution_count": 36,
      "metadata": {},
      "outputs": [
        {
          "name": "stdout",
          "output_type": "stream",
          "text": [
            "{1: 1, 3: 9, 5: 25, 7: 49, 9: 81}\n"
          ]
        }
      ],
      "source": [
        "# Também é possível fazer Dicionary Comprehentions:\n",
        "odd_squares = {x: x*x for x in range(11) if x % 2 == 1}\n",
        "print(odd_squares)"
      ]
    },
    {
      "cell_type": "markdown",
      "metadata": {
        "id": "BR-yc4fGaSgd"
      },
      "source": [
        "## 5. Introdução a funções\n",
        "\n",
        "Funções são blocos de código que realizam determinadas tarefas que normalmente precisam ser executadas diversas vezes dentro de uma aplicação. Elas são de extrema importância, pois servem de alicerce para o desenvolvimento de um programa mais complexo. Elas seguem um padrão em python que será exibido a seguir.\n",
        "\n",
        "Assim, uma **boa prática** é: \"se for preciso repetir um conjunto de instruções (linhas de código) e diversar partes do seu programa, criei uma função para esse conjunto de instruções. Isso facilita a manutenção e depuração do código, pois você só precisará mudar o código da função.\" \n",
        "\n",
        "Um função pode ter os seguintes elementos:\n",
        "- nome\n",
        "- parâmetros de entrada\n",
        "- parâmetros de saída\n",
        "- código\n",
        "\n",
        "Vejamos alguns exemplos.\n",
        "\n",
        "*Exemplo 5.1:* "
      ]
    },
    {
      "cell_type": "code",
      "execution_count": 39,
      "metadata": {
        "colab": {
          "base_uri": "https://localhost:8080/"
        },
        "id": "wdvIq4SMa7fz",
        "outputId": "4fc1c248-b16e-4de1-a16d-51d9aff8a7b9"
      },
      "outputs": [
        {
          "name": "stdout",
          "output_type": "stream",
          "text": [
            "3\n",
            "3\n",
            "34\n"
          ]
        }
      ],
      "source": [
        "\"\"\"\n",
        "As funções são definidas da seguinte forma:\n",
        "\n",
        "def noma_da_funcao(primeiro_parametro, segundo_parametro, terceiro_parametro,...):\n",
        "    programação da função\n",
        "    return algo para retornar\n",
        "\"\"\"\n",
        "\n",
        "def printagem_numero(numero):\n",
        "    print(numero)\n",
        "    return 0\n",
        "\n",
        "def retorna_3(qualquer_coisa):\n",
        "    return 3\n",
        "\n",
        "def fibonacci(n: int):  # Note que podemos colocar o tipo da variável n - Inteiro\n",
        "    if n==1:\n",
        "        return 0\n",
        "    elif n==2:\n",
        "        return 1\n",
        "    else:\n",
        "        return fibonacci(n-1) + fibonacci(n-2)\n",
        "\n",
        "\n",
        "# Chamando as funções\n",
        "printagem_numero(3)\n",
        "print(retorna_3(213123))\n",
        "print(fibonacci(10))"
      ]
    },
    {
      "cell_type": "markdown",
      "metadata": {},
      "source": [
        "*Exemplo 5.2:* "
      ]
    },
    {
      "cell_type": "code",
      "execution_count": 1,
      "metadata": {
        "colab": {
          "base_uri": "https://localhost:8080/"
        },
        "id": "9tg8sgZ7gLLQ",
        "outputId": "54b760cf-3888-4d1c-be7d-3eb768ab174d"
      },
      "outputs": [
        {
          "name": "stdout",
          "output_type": "stream",
          "text": [
            "A distância para um objeto cair com a gravidade no exoplaneta é 30.012500000000006\n",
            "A distância para um objeto cair com a gravidade no planeta terra é 480.2000000000001\n"
          ]
        }
      ],
      "source": [
        "# Como vimos anteriormente, as funções possuem uma chamada simples\n",
        "def funcao_simples(alguma_coisa):\n",
        "    # Realiza alguma coisa\n",
        "    return alguma_coisa\n",
        "\n",
        "# Podemos escolher o tipo de parâmetro que será passado para uma função:\n",
        "\n",
        "def exemplo0(ineiro: int, flutuante:float, stri: str, arrays: list):\n",
        "    # Faz alguma coisa com os dados\n",
        "    # Nem sempre uma função precisa retornar algo.\n",
        "    return None\n",
        "\n",
        "# Também podemos colocar uma função como um parêmetro pré-definido, sendo possível mudar\n",
        "def gravidade(posicao: float, g=9.8):\n",
        "    return g**2 * posicao / 2\n",
        "\n",
        "# Como quero a gravidade em outro exoplaneta, irei alterar aquele valor na chamada da função.\n",
        "# Exemplo:\n",
        "\n",
        "print(\"A distância para um objeto cair com a gravidade no exoplaneta é\", gravidade(10, 2.45))\n",
        "\n",
        "# Caso você utilize a terra como referência, como a aceleração da gravidade é aproximadamente 9.8 m/s^2,\n",
        "# podemos realizar a chamada da função passando apenas a posicao. Exemplo:\n",
        "\n",
        "print(\"A distância para um objeto cair com a gravidade no planeta terra é\", gravidade(10))\n"
      ]
    },
    {
      "cell_type": "markdown",
      "metadata": {},
      "source": [
        "*Exemplo 5.3:* "
      ]
    },
    {
      "cell_type": "code",
      "execution_count": 2,
      "metadata": {},
      "outputs": [
        {
          "name": "stdout",
          "output_type": "stream",
          "text": [
            "Você mora na cidade de Salvador ?\n",
            "Natal-RN é uma excelente cidade turística.\n",
            "Você prefere morar em Salvador ou em natal-RN?\n"
          ]
        }
      ],
      "source": [
        "# Podemos utilizar funções dentro de outras funções:\n",
        "\n",
        "def retorna_natal():\n",
        "    return \"Natal-RN é uma excelente cidade turística.\"\n",
        "\n",
        "def pergunta_cidade(cidade:str):\n",
        "    print(\"Você mora na cidade de\", cidade, \"?\")\n",
        "    print(retorna_natal())  # Utilizando outra função nesta função.\n",
        "    print(\"Você prefere morar em\", cidade, \"ou em natal-RN?\")\n",
        "\n",
        "pergunta_cidade(\"Salvador\")"
      ]
    },
    {
      "cell_type": "markdown",
      "metadata": {
        "id": "IybQcdOH5pR-"
      },
      "source": [
        "**Exercício 05 (para o relatório):**\n",
        "\n",
        "Faça um código que receba 3 notas de um aluno e determine se ele passou, ficou de recuperação ou reprovou. Caso consiga somar 21 pontos ou mais com as três notas, ele passa. Caso fique com a soma entre 12 e 21, está de recuperação e caso não consiga somar 12 pontos, está reprovado.\n",
        "\n",
        "**Exercício 06 (para o relatório):**\n",
        "\n",
        "Construa uma função que receba dois pontos flutuantes $[a, b]$, um valor de pertição $h$ e uma função qualquer $f$. Essa função deve calcular as derivadas entre os pontos $[a, b]$. Exemplo:\n",
        "\n",
        "f = 2*x + 2\n",
        "\n",
        "a = 0\n",
        "\n",
        "b = 2\n",
        "\n",
        "h = 0.5\n",
        "\n",
        "resultado = $\\left[\\frac{f(0.5) - f(0)}{0.5}, \\frac{f(1) - f(0.5)}{0.5}, \\frac{f(1.5) - f(1)}{0.5}, \\frac{f(2) - f(1.5)}{0.5} \\right]$\n"
      ]
    },
    {
      "cell_type": "markdown",
      "metadata": {},
      "source": [
        "**Exercício 7 (para o relatório):**\n",
        "\n",
        "Crie um sistema bancário capaz de gerenciar contas bancárias de seus clientes.\n",
        "\n",
        "O programa bancário deve ser capaz de mostrar o saldo, extrato, realizar saques e depósitos.\n",
        "\n",
        "Construa uma função chamada deposito para realizar depósitos na conta.\n",
        "\n",
        "Construa uma função chamada saque para realizar retiradas na conta. \n",
        "\n",
        "Construa uma função chamada extrato para realizar retiradas na conta. \n",
        "\n",
        "Construa uma função chamada saldo para realizar retiradas na conta. \n",
        "\n",
        "**Observação:** saques só devem ser realizados se a conta tiver saldo positivo.\n"
      ]
    },
    {
      "cell_type": "markdown",
      "metadata": {
        "id": "LXzJtrpLhRKI"
      },
      "source": [
        "# Referências Bibliográficas:\n",
        "\n",
        "**História do Python**. Disponível em: <https://pt.wikipedia.org/wiki/Python>. Acesso em 25 de setembro de 2021.\n",
        "\n",
        "**Aula 1 - Noções Básicas de Programação**. Disponível em: <https://colab.research.google.com/drive/1O5gpeDuEJBwX7Sr52e7Ytl4dO8cvXdnF#scrollTo=TBzjKc1tajAd>. Acesso em 25 de setembro de 2021."
      ]
    }
  ],
  "metadata": {
    "colab": {
      "collapsed_sections": [],
      "name": "h01_aprendendo_python_2.ipynb",
      "provenance": []
    },
    "kernelspec": {
      "display_name": "Python 3",
      "name": "python3"
    },
    "language_info": {
      "codemirror_mode": {
        "name": "ipython",
        "version": 3
      },
      "file_extension": ".py",
      "mimetype": "text/x-python",
      "name": "python",
      "nbconvert_exporter": "python",
      "pygments_lexer": "ipython3",
      "version": "3.9.7"
    }
  },
  "nbformat": 4,
  "nbformat_minor": 0
}
