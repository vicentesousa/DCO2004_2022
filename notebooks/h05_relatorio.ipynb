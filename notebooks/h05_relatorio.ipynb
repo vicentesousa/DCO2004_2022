{
 "cells": [
  {
   "cell_type": "markdown",
   "metadata": {},
   "source": [
    "# Descrição dos entregáveis do Hands-on 05\n",
    "\n",
    "\n",
    "### D01:  Criar e incluir no seu repositório um arquivo chamado **Entrega_h05.ipynb** com código exclusivamente em Python com o seguinte conteúdo:\n",
    "\n",
    "1. Exercício 01 e 02 da [Prática 1: Modulação AM-DSB](http://nbviewer.jupyter.org/github/vicentesousa/DCO2004_2022/blob/main/notebooks/h05.ipynb). Comite o arquivo **Entrega_h05.ipynb** com os códigos rodados e com os gráficos aparecendo e os comentários realizados. Se precisar, repita trechos inteiros de código para que o documento fique autocontido.\n",
    "\n",
    "2. Exercício 03 da [Prática 2: recepção AM-DSB (detecção de envoltória)](http://nbviewer.jupyter.org/github/vicentesousa/DCO2004_2022/blob/main/notebooks/h05.ipynb). Comite o arquivo **Entrega_h05.ipynb** com os códigos rodados e com os gráficos e os resultados numéricos aparecendo. Inclua as discussões no próprio documento e não no trecho de código. Se precisar, repita trechos inteiros de código para que o documento fique autocontido.\n",
    "\n",
    "3. Exercício 4 da [Prática 8: Sinal analítico, Transformada de Hilbert e seu uso em demodulação](http://nbviewer.jupyter.org/github/vicentesousa/DCO2004_2022/blob/main/notebooks/h05.ipynb). Comite o arquivo **Entrega_h05.ipynb** com os códigos rodados e com os gráficos e os resultados numéricos aparecendo. Inclua as discussões no próprio documento e não no trecho de código. Se precisar, repita trechos inteiros de código para que o documento fique autocontido.\n",
    "\n",
    "\n",
    "## Data da entrega: TBD\n",
    "\n"
   ]
  }
 ],
 "metadata": {
  "kernelspec": {
   "display_name": "Python 3",
   "language": "python",
   "name": "python3"
  },
  "language_info": {
   "codemirror_mode": {
    "name": "ipython",
    "version": 3
   },
   "file_extension": ".py",
   "mimetype": "text/x-python",
   "name": "python",
   "nbconvert_exporter": "python",
   "pygments_lexer": "ipython3",
   "version": "3.8.5"
  },
  "latex_envs": {
   "LaTeX_envs_menu_present": true,
   "bibliofile": "biblio.bib",
   "cite_by": "apalike",
   "current_citInitial": 1,
   "eqLabelWithNumbers": true,
   "eqNumInitial": 1,
   "hotkeys": {
    "equation": "Ctrl-E",
    "itemize": "Ctrl-I"
   },
   "labels_anchors": false,
   "latex_user_defs": false,
   "report_style_numbering": false,
   "user_envs_cfg": false
  }
 },
 "nbformat": 4,
 "nbformat_minor": 2
}
