{
 "cells": [
  {
   "cell_type": "markdown",
   "metadata": {},
   "source": [
    "# Tutorial de Instalação e configuração da máquina virtual UBUNTU 14.04\n",
    "\n",
    "# Objetivos\n",
    "As metas desse tutorial são ajudar o usuário a:\n",
    "- Instalar VMWare no Windows\n",
    "- Baixar e criar máquina virtual Ubuntu 14.04 no Windows"
   ]
  },
  {
   "cell_type": "markdown",
   "metadata": {},
   "source": [
    "## Criação de máquina virtual Ubuntu 14.04 no Windows"
   ]
  },
  {
   "cell_type": "markdown",
   "metadata": {},
   "source": [
    "**Passo 1**: Baixe e instale o VMware em seu computador (para acessar a página de Download [acesse aqui](http://www.vmware.com/products/player/playerpro-evaluation.html)).\n",
    "![VMD](./FIGS/HD_00_VM/print_vmware15_download.png)\n",
    "\n",
    "**Passo 2**: Baixe o Ubuntu 14.04-6\n",
    "- Versão 64 Bits http://releases.ubuntu.com/trusty/ubuntu-14.04.6-desktop-amd64.iso\n",
    "- Versão 32 Bits http://releases.ubuntu.com/trusty/ubuntu-14.04.6-desktop-i386.iso\n",
    "\n",
    "**Obs**: Note que as imagens do tutorial apresentam versões antigas dos softwares utilizados, mas o procedimento de instalação e configuração não sofreu alterações ao longo das atualizações.\n",
    "\n",
    "**Passo 3**: Após instalar o VMWare e baixar o Ubuntu, abra o VMware e clique em **Create a New Virtual Machine**:\n",
    "![fig_VM1](./FIGS/HD_00_VM/VMware_01.png)\n",
    "\n",
    "**Passo 4**: Na tela seguinte clique no browser e indique o caminho do Ubuntu 14.04-6:\n",
    "![fig_VM2](./FIGS/HD_00_VM/VMware_02.png)\n",
    "\n",
    "**Passo 5**: Inclua as credenciais da máquina Linux:\n",
    "![fig_VM3](./FIGS/HD_00_VM/VMware_03.png)\n",
    "\n",
    "**Passo 6**: Inclua um nome e a pasta que será armazenada :\n",
    "![fig_VM4](./FIGS/HD_00_VM/VMware_04.png)\n",
    "\n",
    "**Passo 7**: Especifique **60 GB** de espaço em HD (se tiver pouco espaço em HD, pode criar uma máquina de 40 GB):\n",
    "![fig_VM5](./FIGS/HD_00_VM/VMware_05.png)\n",
    "\n",
    "**Passo 8**: Clique no botão de customizar a máquina:\n",
    "![fig_VM6](./FIGS/HD_00_VM/VMware_06.png)\n",
    "\n",
    "**Passo 9**: Customize sua máquina virtual para 2 GB de memória RAM:\n",
    "![fig_VM7](./FIGS/HD_00_VM/VMware_07.png)\n",
    "\n",
    "**Passo 10**: Clique em processadores e coloque 2 núcleos:\n",
    "![fig_VM8](./FIGS/HD_00_VM/VMware_08.png)\n",
    "\n",
    "**Passo 11**: Finalize sua máquina e prossiga com a instalação:\n",
    "![fig_VM8](./FIGS/HD_00_VM/VMware_09.png)\n",
    "![fig_VM8](./FIGS/HD_00_VM/VMware_10.png)\n",
    "![fig_VM8](./FIGS/HD_00_VM/VMware_11.png)"
   ]
  },
  {
   "cell_type": "markdown",
   "metadata": {},
   "source": [
    "## Iniciando a máquina virtual"
   ]
  },
  {
   "cell_type": "markdown",
   "metadata": {},
   "source": [
    "**Passo 12**: Abra o VMware no iniciar:\n",
    "![fig_VMI](./FIGS/HD_00_VM/MIniciar_VMware.png)\n",
    "\n",
    "**Passo 13**: Abra a máquina virtual que você criou, clique em Open a Virtual Machine:\n",
    "![fig_VM32](./FIGS/HD_00_VM/VMware_32.png)\n",
    "\n",
    "**Passo 14**: Abra a máquina virtual que você criou:\n",
    "![fig_VM14](./FIGS/HD_00_VM/VMware_14.png)\n",
    "\n",
    "Podem aparecer algumas janelas de alerta, como indicando a falta de memória reservada para swap ou acerca de dispositívos removíveis conectados ao computador. \n",
    "\n",
    "**Passo 15**: Entre com sua senha como uma máquina normal.\n",
    "![fig_VM16](./FIGS/HD_00_VM/VMware_16.png)"
   ]
  }
 ],
 "metadata": {
  "kernelspec": {
   "display_name": "Python 3",
   "language": "python",
   "name": "python3"
  },
  "language_info": {
   "codemirror_mode": {
    "name": "ipython",
    "version": 3
   },
   "file_extension": ".py",
   "mimetype": "text/x-python",
   "name": "python",
   "nbconvert_exporter": "python",
   "pygments_lexer": "ipython3",
   "version": "3.4.5"
  },
  "latex_envs": {
   "LaTeX_envs_menu_present": true,
   "bibliofile": "biblio.bib",
   "cite_by": "apalike",
   "current_citInitial": 1,
   "eqLabelWithNumbers": true,
   "eqNumInitial": 1,
   "hotkeys": {
    "equation": "Ctrl-E",
    "itemize": "Ctrl-I"
   },
   "labels_anchors": false,
   "latex_user_defs": false,
   "report_style_numbering": false,
   "user_envs_cfg": false
  }
 },
 "nbformat": 4,
 "nbformat_minor": 2
}
