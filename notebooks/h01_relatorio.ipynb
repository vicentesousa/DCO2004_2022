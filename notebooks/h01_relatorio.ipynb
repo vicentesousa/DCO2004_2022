{
 "cells": [
  {
   "cell_type": "markdown",
   "metadata": {},
   "source": [
    "# Descrição dos entregáveis do Hands-on 01\n",
    "\n",
    "## Criar e incluir no seu repositório um arquivo chamado **Entrega_h01.ipynb** com o seguintes entregáveis:\n",
    "\n",
    "### D01 - Exercícios 1, 2, 3, 4 e 5 da parte 1 do [APRENDENDO PYTHON - Parte 01 de 04: PRIMEIRA PARTE - O essencial em python](https://github.com/vicentesousa/DCO2004_2022/blob/main/notebooks/h01_aprendendo_python_1.ipynb); \n",
    "\n",
    "### D02 - Exercícios 1, 2, 3, 4, 5, 6 e 7 da parte 2 do [APRENDENDO PYTHON - Parte 02 de 04: SEGUNDA PARTE - O essencial em python](https://github.com/vicentesousa/DCO2004_2022/blob/main/notebooks/h01_aprendendo_python_2.ipynb); \n",
    "\n",
    "### D03 - Exercícios 1 e 2 da parte 3 do [APRENDENDO PYTHON - Parte 03 de 04: SEGUNDA PARTE - O essencial em python](https://github.com/vicentesousa/DCO2004_2022/blob/main/notebooks/h01_aprendendo_python_3.ipynb); \n",
    "\n",
    "### D05 - Realizar o Passo 3 da Prática 01: Tempo de execução com uso de laço e com operação matricial, incluindo um terceiro roteador a 50% da dimensão vertical e a 80% da dimensão horizontal ([Hands-on 01: Tutorial de apresentação e uso básico do Python](https://github.com/vicentesousa/DCO2004_2022/blob/main/notebooks/h01_python.ipynb). Fazer código somente com a versão matricial e no arquivo Entrega_h01.ipynb.\n",
    "\n",
    "\n",
    "## Data da entrega: 21/08/2019\n",
    "\n"
   ]
  }
 ],
 "metadata": {
  "kernelspec": {
   "display_name": "Python 3",
   "language": "python",
   "name": "python3"
  },
  "language_info": {
   "codemirror_mode": {
    "name": "ipython",
    "version": 3
   },
   "file_extension": ".py",
   "mimetype": "text/x-python",
   "name": "python",
   "nbconvert_exporter": "python",
   "pygments_lexer": "ipython3",
   "version": "3.4.5"
  },
  "latex_envs": {
   "LaTeX_envs_menu_present": true,
   "bibliofile": "biblio.bib",
   "cite_by": "apalike",
   "current_citInitial": 1,
   "eqLabelWithNumbers": true,
   "eqNumInitial": 1,
   "hotkeys": {
    "equation": "Ctrl-E",
    "itemize": "Ctrl-I"
   },
   "labels_anchors": false,
   "latex_user_defs": false,
   "report_style_numbering": false,
   "user_envs_cfg": false
  }
 },
 "nbformat": 4,
 "nbformat_minor": 2
}
