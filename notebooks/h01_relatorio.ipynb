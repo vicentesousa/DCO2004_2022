{
 "cells": [
  {
   "cell_type": "markdown",
   "metadata": {},
   "source": [
    "# Descrição dos entregáveis do Hands-on 01\n",
    "\n",
    "## Criar e incluir no seu repositório um arquivo chamado **Entrega_h01.ipynb** com o seguintes entregáveis:\n",
    "\n",
    "### D01 - Discussão do Passo 08 da _Prática 01: Ambiente de edição_ ([Hands-on 01: Tutorial de apresentação e uso básico do Matlab](http://nbviewer.jupyter.org/github/vicentesousa/DCO2004/blob/master/h01_matlab.ipynb)); \n",
    "\n",
    "### D02 - Passo 03 da _Prática 02: Ambiente de depuração (debug)_ ([Hands-on 01: Tutorial de apresentação e uso básico do Matlab](http://nbviewer.jupyter.org/github/vicentesousa/DCO2004/blob/master/h01_matlab.ipynb));\n",
    "\n",
    "### D03 - Realizar a _Prática 03: Tempo de execução com uso de laço e com operação matricial_ no Matlab, incluindo um terceiro roteador a 50% da dimensão vertical e a 80% da dimensão horizontal ([Hands-on 01: Tutorial de apresentação e uso básico do Matlab](http://nbviewer.jupyter.org/github/vicentesousa/DCO2004/blob/master/h01_matlab.ipynb)). Fazer código somente com a versão matricial e no arquivo _.ipynb_;\n",
    "\n",
    "### D04 - Realizar a Prática 03: Tempo de execução com uso de laço e com operação matricial no Python, incluindo um terceiro roteador a 50% da dimensão vertical e a 80% da dimensão horizontal ([Hands-on 01: Tutorial de apresentação e uso básico do Matlab](http://nbviewer.jupyter.org/github/vicentesousa/DCO2004/blob/master/h01_python.ipynb)). Fazer código somente com a versão matricial e no arquivo _.ipynb_.\n",
    "\n",
    "\n",
    "## Data da entrega: 21/08/2019\n",
    "\n"
   ]
  }
 ],
 "metadata": {
  "kernelspec": {
   "display_name": "Python 3",
   "language": "python",
   "name": "python3"
  },
  "language_info": {
   "codemirror_mode": {
    "name": "ipython",
    "version": 3
   },
   "file_extension": ".py",
   "mimetype": "text/x-python",
   "name": "python",
   "nbconvert_exporter": "python",
   "pygments_lexer": "ipython3",
   "version": "3.4.5"
  },
  "latex_envs": {
   "LaTeX_envs_menu_present": true,
   "bibliofile": "biblio.bib",
   "cite_by": "apalike",
   "current_citInitial": 1,
   "eqLabelWithNumbers": true,
   "eqNumInitial": 1,
   "hotkeys": {
    "equation": "Ctrl-E",
    "itemize": "Ctrl-I"
   },
   "labels_anchors": false,
   "latex_user_defs": false,
   "report_style_numbering": false,
   "user_envs_cfg": false
  }
 },
 "nbformat": 4,
 "nbformat_minor": 2
}
