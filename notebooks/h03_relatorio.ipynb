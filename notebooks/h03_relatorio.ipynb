{
 "cells": [
  {
   "cell_type": "markdown",
   "metadata": {},
   "source": [
    "# Descrição dos entregáveis do Hands-on 03\n",
    "\n",
    "\n",
    "### D01:  Criar e incluir no seu repositório um arquivo chamado **Entrega_h03.ipynb** com código (em Matlab e Python) com o seguinte conteúdo:\n",
    "\n",
    "1. Plote do espectro dos arquivos Violino.wav e Flauta.wav que estão na pasta ./MATERIAL/HD_03_MATLAB/; \n",
    "2. Explicaque dos gráficos e disserte sobre a comparação dos dois espectros;\n",
    "3. Mostre que você consegue obter resultados similares no Matlab e no Python. Use o mesmo arquivo .ipynb para abrigar códigos do Matlab e Python. (PS.: Para executar os códigos de linguagens diferentes é só intercalar os kernels).\n",
    "\n",
    "## Data da entrega: 04/09/2019\n"
   ]
  }
 ],
 "metadata": {
  "kernelspec": {
   "display_name": "Python 3",
   "language": "python",
   "name": "python3"
  },
  "language_info": {
   "codemirror_mode": {
    "name": "ipython",
    "version": 3
   },
   "file_extension": ".py",
   "mimetype": "text/x-python",
   "name": "python",
   "nbconvert_exporter": "python",
   "pygments_lexer": "ipython3",
   "version": "3.4.5"
  },
  "latex_envs": {
   "LaTeX_envs_menu_present": true,
   "bibliofile": "biblio.bib",
   "cite_by": "apalike",
   "current_citInitial": 1,
   "eqLabelWithNumbers": true,
   "eqNumInitial": 1,
   "hotkeys": {
    "equation": "Ctrl-E",
    "itemize": "Ctrl-I"
   },
   "labels_anchors": false,
   "latex_user_defs": false,
   "report_style_numbering": false,
   "user_envs_cfg": false
  }
 },
 "nbformat": 4,
 "nbformat_minor": 2
}
