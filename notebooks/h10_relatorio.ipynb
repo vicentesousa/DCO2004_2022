{
 "cells": [
  {
   "cell_type": "markdown",
   "metadata": {},
   "source": [
    "# Descrição dos entregáveis do Hands-on 10\n",
    "\n",
    "\n",
    "### D01:  Criar e incluir no seu repositório um arquivo chamado **Entrega_h10.ipynb** com código e texto com o seguinte conteúdo:\n",
    "\n",
    "1. Entregar os códigos da [Hands-on 10: Modulação Digital em canais limitados em banda e Modulação Digital em banda-passante (modulação, demodulação e desempenho em ruído AWGN)](http://nbviewer.jupyter.org/github/vicentesousa/DCO2004/blob/master/h10.ipynb) em Python. Comite o arquivo **Entrega_h10.ipynb** com os códigos rodados e com os gráficos aparecendo. Se necessário, insira comentários sobre o código. As figuras devem ser resultado da execução do código e não figuras inseridas em formato png ou jpg. \n",
    "\n",
    "## Data da entrega: 13/11/2017\n"
   ]
  }
 ],
 "metadata": {
  "kernelspec": {
   "display_name": "Python 3",
   "language": "python",
   "name": "python3"
  },
  "language_info": {
   "codemirror_mode": {
    "name": "ipython",
    "version": 3
   },
   "file_extension": ".py",
   "mimetype": "text/x-python",
   "name": "python",
   "nbconvert_exporter": "python",
   "pygments_lexer": "ipython3",
   "version": "3.4.5"
  },
  "latex_envs": {
   "LaTeX_envs_menu_present": true,
   "bibliofile": "biblio.bib",
   "cite_by": "apalike",
   "current_citInitial": 1,
   "eqLabelWithNumbers": true,
   "eqNumInitial": 1,
   "hotkeys": {
    "equation": "Ctrl-E",
    "itemize": "Ctrl-I"
   },
   "labels_anchors": false,
   "latex_user_defs": false,
   "report_style_numbering": false,
   "user_envs_cfg": false
  }
 },
 "nbformat": 4,
 "nbformat_minor": 2
}
