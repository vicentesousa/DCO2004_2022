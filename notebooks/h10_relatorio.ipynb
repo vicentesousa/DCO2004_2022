{
 "cells": [
  {
   "cell_type": "markdown",
   "metadata": {},
   "source": [
    "# Descrição dos entregáveis do Hands-on 11\n",
    "\n",
    "### Outro fenômeno a ser modelado em um canal sem fio é o efeito do Doppler devido a mobilidade. Um canal com desvanecimento Rayleigh pode ser gerado pelo método de Clarke. Leia sobre esse método e implemente o que se pede.\n",
    "\n",
    "### Criar e incluir no seu repositório um arquivo chamado **Entrega_h10.ipynb** com código para gerar a magnitude em dB de um canal Rayleigh para velocidades 20 kmph e 120 kmph. Disserte sobre os resultados.\n",
    "\n"
   ]
  }
 ],
 "metadata": {
  "kernelspec": {
   "display_name": "Python 3",
   "language": "python",
   "name": "python3"
  },
  "language_info": {
   "codemirror_mode": {
    "name": "ipython",
    "version": 3
   },
   "file_extension": ".py",
   "mimetype": "text/x-python",
   "name": "python",
   "nbconvert_exporter": "python",
   "pygments_lexer": "ipython3",
   "version": "3.4.5"
  },
  "latex_envs": {
   "LaTeX_envs_menu_present": true,
   "bibliofile": "biblio.bib",
   "cite_by": "apalike",
   "current_citInitial": 1,
   "eqLabelWithNumbers": true,
   "eqNumInitial": 1,
   "hotkeys": {
    "equation": "Ctrl-E",
    "itemize": "Ctrl-I"
   },
   "labels_anchors": false,
   "latex_user_defs": false,
   "report_style_numbering": false,
   "user_envs_cfg": false
  }
 },
 "nbformat": 4,
 "nbformat_minor": 2
}
