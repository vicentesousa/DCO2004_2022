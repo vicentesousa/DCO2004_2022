{
  "nbformat": 4,
  "nbformat_minor": 0,
  "metadata": {
    "colab": {
      "name": "h01_aprendendo_python_1.ipynb",
      "provenance": [],
      "collapsed_sections": []
    },
    "kernelspec": {
      "name": "python3",
      "display_name": "Python 3"
    },
    "language_info": {
      "name": "python"
    }
  },
  "cells": [
    {
      "cell_type": "markdown",
      "metadata": {
        "id": "Fm2_kHgZYOFL"
      },
      "source": [
        "# APRENDENDO PYTHON - GppCom - Parte 01 de 04\n",
        "\n",
        "## PRIMEIRA PARTE - O essencial em python.\n",
        "\n",
        "### **Fator Histórico:**\n",
        "A Linguagem de programação python surgiu em 1989 por Guido van Rossum no Instituto de Pesquisa Nacional para Matemática e Ciência da Computação (CWI). Nessa linguagem, apesar do custo do desempenho em tempo de execução ser maior em relação a linguagem C, ela era mais produtiva e intuitiva. Isso se comprova pois o foco principal da linguagem era aumentar a produtividade do programador.\n",
        "\n",
        "Segundo dados históricos, a versão 1.0 do python foi lançada em janeiro de 1994. A última versão enquanto Guido estava na CWI foi o Python 1.2. Em 1995, ele continuou o trabalho no CNRI em Reston, Estados Unidos, de onde lançou diversas versões. Na versão 1.4 a linguagem ganhou parâmetros nomeados (a capacidade de passar parâmetro pelo nome e não pela posição na lista de parâmetros) e suporte nativo a números complexos, assim como uma forma de encapsulamento.\n",
        "\n",
        "Atualmente, Python é um dos componentes padrão de vários sistemas operacionais, entre eles estão a maioria das distribuições do Linux, AmigaOS 4, FreeBSD, NetBSD, OpenBSD e OS X. A linguagem se tornou a padrão no curso de ciências da computação do MIT em 2009\n",
        "\n",
        "### **O que veremos nessa parte:**\n",
        "Python é uma linguagem de programação de propósito geral, que está cada vez mais popular no âmbito da Estatística e Aprendizado de Máquina, sendo muito utilizado na Ciência de Dados, principalmente pela facilidade na sintaxe e na manipulação de grandes conjuntos de dados.\n",
        "\n",
        "* Introdução à programação em Python\n",
        "* Comentando os códigos \n",
        "* Entrada e saída de dados\n",
        "* Tipos básicos de variaveis\n",
        "* Operadores matemáticos e lógicos\n",
        "* Conversão de dados\n",
        "* Boas práticas"
      ]
    },
    {
      "cell_type": "markdown",
      "metadata": {
        "id": "_pAfDYTldmxZ"
      },
      "source": [
        "### **Comentando códigos**\n",
        "Uma prática indispensável para qualquer programador é comentar o código que está sendo trabalhado. Essa prática alem de esclarecer o que está sendo feito, pode propiciar uma melhor memorização. Não é raro que programadores revisitem seus códigos para aprimeirorarem uma parte ou utilizar uma parte de um código em outro projeto. Nesse sentido, comentar é extremamente importante.\n",
        "\n",
        "*Exemplo 1.*\n"
      ]
    },
    {
      "cell_type": "code",
      "metadata": {
        "colab": {
          "base_uri": "https://localhost:8080/",
          "height": 52
        },
        "id": "3biipNE8kWYp",
        "outputId": "9e8c365a-2034-49aa-a2ee-adb3ec122760"
      },
      "source": [
        "# Este é um comentário de uma linha.\n",
        "\n",
        "\"\"\"\n",
        "Este é um comentário de várias linhas.\n",
        "O comentário de uma linha serve para especificar um determinado programa/lógica/função\n",
        "Enquanto o comentário longo serve para descrever uma característica ou como funciona. \n",
        "\"\"\""
      ],
      "execution_count": null,
      "outputs": [
        {
          "output_type": "execute_result",
          "data": {
            "application/vnd.google.colaboratory.intrinsic+json": {
              "type": "string"
            },
            "text/plain": [
              "'\\nEste é um comentário de várias linhas.\\nO comentário de uma linha serve para especificar um determinado programa/lógica/função\\nEnquanto o comentário longo serve para descrever uma característica ou como funciona. \\n'"
            ]
          },
          "metadata": {},
          "execution_count": 6
        }
      ]
    },
    {
      "cell_type": "markdown",
      "metadata": {
        "id": "717QNmIalAZA"
      },
      "source": [
        "*Exemplo 2.*"
      ]
    },
    {
      "cell_type": "code",
      "metadata": {
        "colab": {
          "base_uri": "https://localhost:8080/",
          "height": 52
        },
        "id": "6rBp2YUblIgH",
        "outputId": "ccfeedf1-2b3e-4096-8704-f65673cb303c"
      },
      "source": [
        "# FUNÇÃO PARA PARTICIONAR DADOS DE UM BANCO DE DADOS\n",
        "\n",
        "\"\"\"\n",
        "Essa função irá pegar 10 dados do conjunto de dados e verificar os seguintes requisitos:\n",
        "\n",
        "* Nome\n",
        "* Idade\n",
        "* Sexo\n",
        "* Residência\n",
        "* Renda\n",
        "\n",
        "Depois será feita uma rede neural para determinar se os 10 dados serão aptos para o\n",
        "empréstimo bancário.\n",
        "\n",
        "Motivação: testar uma pequena base de dados de um conjunto maior.\n",
        "\"\"\""
      ],
      "execution_count": null,
      "outputs": [
        {
          "output_type": "execute_result",
          "data": {
            "application/vnd.google.colaboratory.intrinsic+json": {
              "type": "string"
            },
            "text/plain": [
              "'\\nEssa função irá pegar 10 dados do conjunto de dados e verificar os seguintes requisitos:\\n\\n* Nome\\n* Idade\\n* Sexo\\n* Residência\\n* Renda\\n\\nDepois será feita uma rede neural para determinar se os 10 dados serão aptos para o\\nempréstimo bancário.\\n\\nMotivação: testar uma pequena base de dados de um conjunto maior.\\n'"
            ]
          },
          "metadata": {},
          "execution_count": 7
        }
      ]
    },
    {
      "cell_type": "markdown",
      "metadata": {
        "id": "LNgXjQ0mmSy4"
      },
      "source": [
        "**Exercício 01:**\n",
        "\n",
        "Crie um comentário de como está sendo aprender python.\n",
        "\n",
        "**Exercício 02:**\n",
        "\n",
        "Existe um *Easter Egg* em python chamado \"The Zen of Python\", procure na internet e transcreva em comentário o texto.\n",
        "\n",
        "---\n"
      ]
    },
    {
      "cell_type": "markdown",
      "metadata": {
        "id": "nmW_tC1_oUBf"
      },
      "source": [
        "### **Entrada, saida e printagem de dados**\n",
        "\n",
        "Dentre as partes fundamentais em python está a entrada - input - e a saída de dados.\n",
        "\n",
        "*Exemplo 3.*"
      ]
    },
    {
      "cell_type": "code",
      "metadata": {
        "colab": {
          "base_uri": "https://localhost:8080/"
        },
        "id": "c2xLxzqmo5m5",
        "outputId": "cc30af95-3720-48aa-95a6-04c51479dfa3"
      },
      "source": [
        "# Essa linha irá imprimir \"Olá Mundo!\".\n",
        "print(\"Olá Mundo!\")\n",
        "\n",
        "# Essa linha irá imprimir \"Uma outra linha\".\n",
        "print('Uma outra linha')\n",
        "\n",
        "# Essa linha irá receber o seu nome.\n",
        "nome = input(\"Coloque aqui o seu nome: \")\n",
        "\n",
        "# Essa linha irá imprimir o seu nome.\n",
        "print(nome)"
      ],
      "execution_count": null,
      "outputs": [
        {
          "output_type": "stream",
          "name": "stdout",
          "text": [
            "Olá Mundo!\n",
            "Uma outra linha\n",
            "Coloque aqui o seu nome: leo\n",
            "leo\n"
          ]
        }
      ]
    },
    {
      "cell_type": "markdown",
      "metadata": {
        "id": "064yc_iwq_kq"
      },
      "source": [
        "*Exemplo 4.*"
      ]
    },
    {
      "cell_type": "code",
      "metadata": {
        "colab": {
          "base_uri": "https://localhost:8080/"
        },
        "id": "-6lhJ0djrCoA",
        "outputId": "0aabc41b-448e-4429-cb93-fb34a49e07a6"
      },
      "source": [
        "# Dados da empresa:\n",
        "nome_empresa = 'GppCompany'\n",
        "funcionarios_empresa = '4'\n",
        "descricao_empresa = \"Uma empresa do ramo de telecomunicações e Inovação\"\n",
        "foco_cliente = input(\"Qual o seu foco como cliente de uma empresa de telecom? \\n\")\n",
        "\n",
        "# Printando Dados da empresa\n",
        "print('O nome da empresa é: ', nome_empresa)\n",
        "print('O número de funcionários da empresa é: ', funcionarios_empresa)\n",
        "print(\"A descrição da empresa é: \", descricao_empresa)\n",
        "print('O foco de um dos clientes é:', foco_cliente)"
      ],
      "execution_count": null,
      "outputs": [
        {
          "output_type": "stream",
          "name": "stdout",
          "text": [
            "Qual o seu foco como cliente de uma empresa de telecom? \n",
            "internet\n",
            "O nome da empresa é:  GppCompany\n",
            "O número de funcionários da empresa é:  4\n",
            "A descrição da empresa é:  Uma empresa do ramo de telecomunicações e Inovação\n",
            "O foco de um dos clientes é: internet\n"
          ]
        }
      ]
    },
    {
      "cell_type": "markdown",
      "metadata": {
        "id": "lWWyHpuwvlFZ"
      },
      "source": [
        "**Exercício 03:**\n",
        "\n",
        "Faça um código que receba o modelo de um carro e o seu ano de fabricação e printe essas duas informações.\n",
        "\n",
        "**Exercício 04:**\n",
        "\n",
        "Faça um código que imprima o seu endereço.\n",
        "\n",
        "---"
      ]
    },
    {
      "cell_type": "markdown",
      "metadata": {
        "id": "Jewj3xStxgiB"
      },
      "source": [
        "### **Tipos básicos de variáveis**\n",
        "Os tipos de dados identificam as caracterísitcas que um determinado dado possui e como ele se comporta. Os principais tipos são:\n",
        "\n",
        "\n",
        "*   Inteiros (`int`)\n",
        "*   Decimais/Pontos flutuantes (`float`)\n",
        "*   Booleanos (`boolean`)\n",
        "*   Sequências de Caracteres (`string`)\n",
        "*   Vetores (`list`)\n",
        "*   Dicionários(`dict`)\n",
        "\n",
        "OBS: Em python, as declações de variáveis se dá com o símbolo `=`\n",
        "\n",
        "*Exemplo 5.*"
      ]
    },
    {
      "cell_type": "code",
      "metadata": {
        "colab": {
          "base_uri": "https://localhost:8080/"
        },
        "id": "a5Tw6pEhykCQ",
        "outputId": "160ed421-7053-415e-c5a1-0c8a41dea5d1"
      },
      "source": [
        "# Declarando uma variável do tipo inteiro\n",
        "numero_inteiro = 7\n",
        "\n",
        "# Declarando uma varável do tipo decimal\n",
        "numero_float = 9.87\n",
        "\n",
        "# Declarando variáveis booleanas\n",
        "boolean_yes = True\n",
        "boolean_no = False\n",
        "\n",
        "# Declarando variáveis strings\n",
        "texto = \"Parabéns, você está aprendendo Python!\"\n",
        "\n",
        "# Declarando Vetor (Arrays)\n",
        "vetor = [1, 2, 3, 4, 5]\n",
        "\n",
        "# OBS: Arrays podem conter numeros inteiros, floats, string, outros arrays e\n",
        "# até mesmo dicionários. Exemplo:\n",
        "\n",
        "vetor_exemplo = [1, 0.346, 'olá Mundo', {'nome': 'Roberto'}, ['outro array', 'com outros dados']]\n",
        "\n",
        "# Declarando Conjunto (sets)\n",
        "conjunto = (1, 2, 3, 4, 5)\n",
        "\n",
        "# Declarando Dicionário (Dict)\n",
        "dados_usuario = {'Nome': \"Leandro\",\n",
        "              'Sexo': \"Masculino\",\n",
        "              'Idade': 32,\n",
        "              'Emprego': \"Diretor\",\n",
        "              'Estado Civil': \"Casado\"}\n",
        "\n",
        "# Dicionários e Vetores serão vistos com mais atenção posteriormente.\n",
        "\n",
        "# Imprimindo as variáveis\n",
        "print(\"inteiro\", numero_inteiro)\n",
        "print(\"número flutuante\", numero_float)\n",
        "print(\"booleano\", boolean_yes)\n",
        "print(\"booleano\",boolean_no)\n",
        "print(\"string\",texto)\n",
        "print(\"array\", vetor)\n",
        "print(\"Conjunto\", conjunto)\n",
        "print(\"dicionário\", dados_usuario)"
      ],
      "execution_count": null,
      "outputs": [
        {
          "output_type": "stream",
          "name": "stdout",
          "text": [
            "inteiro 7\n",
            "número flutuante 9.87\n",
            "booleano True\n",
            "booleano False\n",
            "string Parabéns, você está aprendendo Python!\n",
            "array [1, 2, 3, 4, 5]\n",
            "Conjunto (1, 2, 3, 4, 5)\n",
            "dicionário {'Nome': 'Leandro', 'Sexo': 'Masculino', 'Idade': 32, 'Emprego': 'Diretor', 'Estado Civil': 'Casado'}\n"
          ]
        }
      ]
    },
    {
      "cell_type": "markdown",
      "metadata": {
        "id": "47blwwa110Rh"
      },
      "source": [
        "*Exemplo 6.*"
      ]
    },
    {
      "cell_type": "code",
      "metadata": {
        "colab": {
          "base_uri": "https://localhost:8080/"
        },
        "id": "DGfk75By1zeX",
        "outputId": "7bc51323-7430-4831-a016-a2a6c5332afd"
      },
      "source": [
        "# Recebdndo um determinado tipo de dado:\n",
        "receber_numero_dias = int(input(\"Determine o número de dias: \"))\n",
        "# Caso não seja um numero inteiro, haverá erros.\n",
        "\n",
        "receber_fracao = float(input(\"Coloque uma fração: \"))\n",
        "# Caso não seja ineiro ou float, haverá erro.\n",
        "\n",
        "promocao = bool(input(\"Você foi promovido: True ou False?\\n\"))\n",
        "# Caso não seja booleano, haverá erros.\n",
        "# OBS: Em python, os números inteiros possuem carater booleano."
      ],
      "execution_count": null,
      "outputs": [
        {
          "name": "stdout",
          "output_type": "stream",
          "text": [
            "Determine o número de dias: 7\n",
            "Coloque uma fração: 0.5\n",
            "Você foi promovido: True ou False?\n",
            "True\n"
          ]
        }
      ]
    },
    {
      "cell_type": "markdown",
      "metadata": {
        "id": "_V7VrrAn3jCX"
      },
      "source": [
        "*Exemplo 7.*"
      ]
    },
    {
      "cell_type": "code",
      "metadata": {
        "colab": {
          "base_uri": "https://localhost:8080/"
        },
        "id": "UZd4vHnA3m_y",
        "outputId": "83ae1bc9-c24c-4f22-a527-a847589bfeac"
      },
      "source": [
        "# Vamos utilizar o comando type() nas variáveis utilizadas anteriormente e\n",
        "# imprimir o seu tipo\n",
        "\n",
        "print(type(boolean_yes))\n",
        "print(type(boolean_no))\n",
        "print(type(texto))"
      ],
      "execution_count": null,
      "outputs": [
        {
          "output_type": "stream",
          "name": "stdout",
          "text": [
            "<class 'bool'>\n",
            "<class 'bool'>\n",
            "<class 'str'>\n"
          ]
        }
      ]
    },
    {
      "cell_type": "markdown",
      "metadata": {
        "id": "fbGH0kUO3u3u"
      },
      "source": [
        "**Exercício 5:**\n",
        "\n",
        "Faça um código que receba o nome de um livro, sua data de lançamento e se ele possui mais de 100 páginas, determine os tipos de variavéis e printe as informações.\n",
        "\n",
        "---"
      ]
    },
    {
      "cell_type": "markdown",
      "metadata": {
        "id": "iOge-WKf6WER"
      },
      "source": [
        "## **Operações Básicas**\n",
        "As operações básicas em Python são similares à forma escrita. Os operadores `+ - * /` representam respectivamente uma soma, subtração, multiplicação e divisão.\n",
        "\n",
        "*Exemplo 8.*"
      ]
    },
    {
      "cell_type": "code",
      "metadata": {
        "colab": {
          "base_uri": "https://localhost:8080/"
        },
        "id": "u2b6kJsdA2nN",
        "outputId": "c582e752-fd44-4a26-ed56-693e8b75b6ff"
      },
      "source": [
        "# Printando uma soma\n",
        "x = 6\n",
        "y = 4\n",
        "\n",
        "print(x + y)\n",
        "print(x - y)\n",
        "print(x * y)\n",
        "print(x / y)"
      ],
      "execution_count": null,
      "outputs": [
        {
          "output_type": "stream",
          "name": "stdout",
          "text": [
            "10\n",
            "2\n",
            "24\n",
            "1.5\n"
          ]
        }
      ]
    },
    {
      "cell_type": "markdown",
      "metadata": {
        "id": "MPzGF5DgB1Qg"
      },
      "source": [
        "Além dessas operações, existem a operação de módulo, que calcula o resto de uma divisão entre dois números, e a de potenciação, dadas pelos símbolos % e ** respectivamente.\n",
        "\n",
        "*Exemplo 9.*"
      ]
    },
    {
      "cell_type": "code",
      "metadata": {
        "colab": {
          "base_uri": "https://localhost:8080/"
        },
        "id": "JYHwsNNzFtA5",
        "outputId": "f513d614-746d-43ab-99fb-5d0f7f67141f"
      },
      "source": [
        "# Realizando a potência entre dois números\n",
        "print(3 ** 2)\n",
        "print(y ** x)\n",
        "\n",
        "# Realizando a operação de módulo\n",
        "print(x % 3)\n",
        "print(y % x)"
      ],
      "execution_count": null,
      "outputs": [
        {
          "output_type": "stream",
          "name": "stdout",
          "text": [
            "9\n",
            "4096\n",
            "0\n",
            "4\n"
          ]
        }
      ]
    },
    {
      "cell_type": "markdown",
      "metadata": {
        "id": "TR3B5QqbPK72"
      },
      "source": [
        "**Exercício 6:**\n",
        "\n",
        "Faça um código que receba dois números inteiros, x e y respectivamente, e printe x elevado a y, y elevado a x e y dividido por x.\n",
        "\n",
        "---"
      ]
    },
    {
      "cell_type": "markdown",
      "metadata": {
        "id": "KrS8ynZZPaJj"
      },
      "source": [
        "Duas ou mais variáveis podem ser comparadas através dos seguintes operadores lógicos:\n",
        "\n",
        "\n",
        "*   Igualdade:    `==`\n",
        "*   Diferente:    `!=`\n",
        "*   Maior que:    `>`\n",
        "*   Menor que:    `<`\n",
        "*   Menor ou igual a: `<=`\n",
        "*   Maior ou igual a: `>=`\n",
        "\n",
        "\n",
        "Após serem comparadas, o resultado sempre será um valor booleano\n",
        "\n",
        "*Exemplo 10.*"
      ]
    },
    {
      "cell_type": "code",
      "metadata": {
        "colab": {
          "base_uri": "https://localhost:8080/"
        },
        "id": "0BUM8qQfQ3h_",
        "outputId": "3f13b5a8-0153-483b-b0bf-49184f64932b"
      },
      "source": [
        "# Comparando dois números\n",
        "print(5 == 2)\n",
        "print(5 != 2)\n",
        "print(8 > 7)\n",
        "print(9 < 0)\n",
        "print(9 >= 7)\n",
        "print(6 <= 6)\n",
        "\n",
        "# Comparando duas variáveis\n",
        "x = 3\n",
        "y = 8\n",
        "\n",
        "print(x > y)\n",
        "print(y == x)\n",
        "print(y >= x)\n",
        "\n",
        "# Podemos atribuir o resultado de uma comparação a uma variável\n",
        "# e logo em seguida imprimi-la\n",
        "c = x >= y\n",
        "print(c)"
      ],
      "execution_count": null,
      "outputs": [
        {
          "output_type": "stream",
          "name": "stdout",
          "text": [
            "False\n",
            "True\n",
            "True\n",
            "False\n",
            "True\n",
            "True\n",
            "False\n",
            "False\n",
            "True\n",
            "False\n"
          ]
        }
      ]
    },
    {
      "cell_type": "markdown",
      "metadata": {
        "id": "HBKiS9kSRAbP"
      },
      "source": [
        "Além desses operadores lógicos, o Python dispõe de outros operadores específicos para comparações entre duas variáveis booleanas, sendo eles:\n",
        "\n",
        "\n",
        "*   `and`\n",
        "*   `or`\n",
        "*   `not`\n",
        "\n",
        "![Como funciona o operador and](https://drive.google.com/uc?id=16URW7laCn722cdLDUVbrxmZLyXkBK97c)\n",
        "\n",
        "![Como funciona o operador or](https://drive.google.com/uc?id=1mVGBANKFFHaiYuzn_qPL0mpjqGLNfal0)\n",
        "\n",
        "*Exemplo 11.*"
      ]
    },
    {
      "cell_type": "code",
      "metadata": {
        "colab": {
          "base_uri": "https://localhost:8080/"
        },
        "id": "AsHbs1bQo6Gh",
        "outputId": "b02e7ce3-1458-46b5-9f2b-fa8ee4b3f66c"
      },
      "source": [
        "# Declando duas variáveis\n",
        "x = 10\n",
        "y = 10\n",
        "\n",
        "# Se y >= x & y<=x, então x = y. Vamos testar essa afirmação\n",
        "print(y >=x and y<=x)\n",
        "print(x == y)"
      ],
      "execution_count": null,
      "outputs": [
        {
          "output_type": "stream",
          "name": "stdout",
          "text": [
            "True\n",
            "True\n"
          ]
        }
      ]
    },
    {
      "cell_type": "markdown",
      "metadata": {
        "id": "lUyip79QQq4m"
      },
      "source": [
        "**Exercício 7:**\n",
        "\n",
        "Monte um programa de um carro. Ele recebe três valores. O primeiro é se está em movimento, o segundo é se a luz está acessa e o treceiro é se estáligado. printe se está ligado e em movimento, ligado e luz acessa, desligado e em movimento. "
      ]
    },
    {
      "cell_type": "markdown",
      "metadata": {
        "id": "atyQ-1UyQuYw"
      },
      "source": [
        "**Exercício 8:**\n",
        "\n",
        "Printe uma tabela da verdade (utiliza booleano) para \"and\" e \"or\". Como na tabela acima\n",
        "\n",
        "---"
      ]
    },
    {
      "cell_type": "markdown",
      "metadata": {
        "id": "AU53ERpPzXqZ"
      },
      "source": [
        "### **Boas Práticas**\n",
        "\n",
        "* **Sempre comentar no seu código o que está sendo feito.**\n",
        "* **Tentar minimizar o uso de memória**\n",
        "\n",
        "Na Minimização do uso de memória, são utilizado sets e generators (conteúdo futuro). Um exemplo é quando fazemos uma lista indo de 0 até 100000: **um array utliza 824456 bytes enquanto o set utiliza apenas 112 bytes.**\n",
        "\n",
        "* **Deixar o código limpo**\n",
        "\n",
        "Um exemplo dessa prática foi visto no exemplo 11 -  onde podemos testar somente se `x == y` ao invés de fazer `y >= x and y <= x`\n",
        "\n",
        "---"
      ]
    },
    {
      "cell_type": "markdown",
      "metadata": {
        "id": "m7ZF-YTV1NVS"
      },
      "source": [
        "# Estruturas de Decisão\n",
        "Para fazermos com que o computador escolha o que fazer, usamos as estruturas de decisão que consistem na chamada de uma função e um parâmetro/argumento que se satisfeito outros comando serão executados, senão, esses comandos não são executados e o computador segue lendo as outras linhas de código.\n",
        "\n",
        "# Estrutura `if`\n",
        "\n",
        "O `if` define uma condição, caso essa condição seja satisteita, o bloco de código dentro do `if` é executado, caso não, o trecho é ignorado.\n",
        "\n",
        "*Exemplo 12.*"
      ]
    },
    {
      "cell_type": "code",
      "metadata": {
        "colab": {
          "base_uri": "https://localhost:8080/"
        },
        "id": "4p7fLzwj3G7e",
        "outputId": "71cedee5-a33f-47d3-8ca0-64d4849449d2"
      },
      "source": [
        "# Atribuindo um valor qualquer para a variável x\n",
        "x = int(input('Digite um número inteiro: '))\n",
        "\n",
        "# Utilizando o comando if para verificar se o número é positivo\n",
        "if (x > 0):\n",
        "    print('\\nO número é positivo!\\n')\n",
        "    print('Podemos utilizar mais de um comando dentro de um único if')\n",
        "\n",
        "# Se não estiver indentado não está dentro do if\n",
        "print('\\nEste print está fora do if e será executado independente da condição')"
      ],
      "execution_count": null,
      "outputs": [
        {
          "output_type": "stream",
          "name": "stdout",
          "text": [
            "Digite um número inteiro: 3\n",
            "\n",
            "O número é positivo!\n",
            "\n",
            "Podemos utilizar mais de um comando dentro de um único if\n",
            "\n",
            "Este print está fora do if e será executado independente da condição\n"
          ]
        }
      ]
    },
    {
      "cell_type": "markdown",
      "metadata": {
        "id": "4hiprdic3pHm"
      },
      "source": [
        "# Estrutura `if-else`\n",
        "Muitas vezes nos deparamos com situações mutuamente exclusivas, isto é, quando não é uma coisa, automaticamente é outra, inocente ou culpado, verdadeiro ou falso, ímpar ou par, são exemplos desse tipo de situação. Para esse tipo de situação, utilizamos a estrutura `if-else`, como no caso a seguir:\n",
        "\n",
        "*Exemplo 13.*\n",
        "\n"
      ]
    },
    {
      "cell_type": "code",
      "metadata": {
        "id": "00JXQXEP54NK"
      },
      "source": [
        "# Atribuindo um valor a x\n",
        "x = int(input(\"Digite um número inteiro: \"))\n",
        "\n",
        "# Verificando se o número é par\n",
        "if (x % 2 == 0):\n",
        "    print('\\n{} é um número par!'.format(x))\n",
        "\n",
        "# Como o número não é par, ele vai ser ímpar\n",
        "else:\n",
        "    print('\\n{} não é um número par, é ímpar!'.format(x))\n",
        "    \n",
        "print('Esse bloco será impresso independentemente das condições!')"
      ],
      "execution_count": null,
      "outputs": []
    },
    {
      "cell_type": "markdown",
      "metadata": {
        "id": "B0Q2dlPw6deT"
      },
      "source": [
        "# Estrutura `if-elif-else`\n",
        "Apesar de muitas situações serem resolvidas com apenas duas opções, em vários casos, teremos que usar 3 ou mais, por exemplo um numero pode ser maior, menor ou igual o outro. Nesses casos usaremos a estrutura `if-elif-else`.\n",
        "\n",
        "*Exemplo 14.*"
      ]
    },
    {
      "cell_type": "code",
      "metadata": {
        "colab": {
          "base_uri": "https://localhost:8080/"
        },
        "id": "UK73EVtu8Cz2",
        "outputId": "fcdfc686-8065-400d-e06e-a0b885c8228b"
      },
      "source": [
        "# Atribuindo um valor a um número \n",
        "num1 = int(input(\"Digite um número inteiro: \"))\n",
        "# Atribuindo um valor a um segundo número \n",
        "num2 = int(input(\"Digite outro número inteiro: \"))\n",
        "# Verificar se o primeiro numero é maior que o segundo\n",
        "if (num1 > num2):\n",
        "    print('\\n{} é maior que {}!'.format(num1,num2))\n",
        "# Verificar se o primeiro numero é menor que o segundo\n",
        "elif (num1 < num2):\n",
        "    print('\\n{} é menor que {}!'.format(num1,num2))\n",
        "# Caso nenhum dos casos anteriores sejam satisfeitos, os numeros devem ser iguais\n",
        "else:\n",
        "    print('\\n{} é igual a {}!'.format(num1,num2))\n",
        "    \n",
        "print('Lembre da indentação!')"
      ],
      "execution_count": null,
      "outputs": [
        {
          "output_type": "stream",
          "name": "stdout",
          "text": [
            "Digite um número inteiro: 2\n",
            "Digite outro número inteiro: 3\n",
            "\n",
            "2 é menor que 3!\n",
            "Esse bloco será impresso independentemente das condições!\n"
          ]
        }
      ]
    },
    {
      "cell_type": "markdown",
      "metadata": {
        "id": "T1nGrB-9l40w"
      },
      "source": [
        "# Respostas dos Exercícios\n",
        "\n",
        "## Primeira Parte - O essencial em python.\n",
        "\n",
        "**Exercício 01 & 02:**"
      ]
    },
    {
      "cell_type": "code",
      "metadata": {
        "id": "O8jRgcQun504",
        "colab": {
          "base_uri": "https://localhost:8080/",
          "height": 102
        },
        "outputId": "a73b24a5-6766-4381-f565-7c4fd23549a1"
      },
      "source": [
        "# Exercício 01:\n",
        "\"\"\"\n",
        "Está sendo muito legal aprender python.\n",
        "Uma nova experiência abre novas portas.\n",
        "\"\"\"\n",
        "\n",
        "# Exercício 02:\n",
        "\"\"\"\n",
        "Beautiful is better than ugly.\n",
        "Explicit is better than implicit.\n",
        "Simple is better than complex.\n",
        "Complex is better than complicated.\n",
        "Flat is better than nested.\n",
        "Sparse is better than dense.\n",
        "Readability counts.\n",
        "Special cases aren't special enough to break the rules.\n",
        "Although practicality beats purity.\n",
        "Errors should never pass silently.\n",
        "Unless explicitly silenced.\n",
        "In the face of ambiguity, refuse the temptation to guess.\n",
        "There should be one-- and preferably only one --obvious way to do it.\n",
        "Although that way may not be obvious at first unless you're Dutch.\n",
        "Now is better than never.\n",
        "Although never is often better than *right* now.\n",
        "If the implementation is hard to explain, it's a bad idea.\n",
        "If the implementation is easy to explain, it may be a good idea.\n",
        "Namespaces are one honking great idea -- let's do more of those!\n",
        "\"\"\""
      ],
      "execution_count": null,
      "outputs": [
        {
          "output_type": "execute_result",
          "data": {
            "application/vnd.google.colaboratory.intrinsic+json": {
              "type": "string"
            },
            "text/plain": [
              "\"\\nBeautiful is better than ugly.\\nExplicit is better than implicit.\\nSimple is better than complex.\\nComplex is better than complicated.\\nFlat is better than nested.\\nSparse is better than dense.\\nReadability counts.\\nSpecial cases aren't special enough to break the rules.\\nAlthough practicality beats purity.\\nErrors should never pass silently.\\nUnless explicitly silenced.\\nIn the face of ambiguity, refuse the temptation to guess.\\nThere should be one-- and preferably only one --obvious way to do it.\\nAlthough that way may not be obvious at first unless you're Dutch.\\nNow is better than never.\\nAlthough never is often better than *right* now.\\nIf the implementation is hard to explain, it's a bad idea.\\nIf the implementation is easy to explain, it may be a good idea.\\nNamespaces are one honking great idea -- let's do more of those!\\n\""
            ]
          },
          "metadata": {},
          "execution_count": 17
        }
      ]
    },
    {
      "cell_type": "markdown",
      "metadata": {
        "id": "MHXH-lfJwb8A"
      },
      "source": [
        "**Exercícos 03 & 04:**"
      ]
    },
    {
      "cell_type": "code",
      "metadata": {
        "colab": {
          "base_uri": "https://localhost:8080/"
        },
        "id": "loy_cJATwjlv",
        "outputId": "63c4196f-3eea-43b6-8dad-0b84f9c89d50"
      },
      "source": [
        "# Exercícios 03\n",
        "carro = input(\"Determine o modelo de um carro: \")\n",
        "data = input(\"Determine a data de fabricação do carro: \")\n",
        "print(\"O modelo do carro é: \", carro, \" e a sua data de fabricação é: \", data)\n",
        "\n",
        "# Exercício 04\n",
        "endereco = input(\"Coloque o seu endereço: \")\n",
        "print(\"O Seu endereço é: \", endereco)"
      ],
      "execution_count": null,
      "outputs": [
        {
          "output_type": "stream",
          "name": "stdout",
          "text": [
            "Determine o modelo de um carro: HB20\n",
            "Determine a data de fabricação do carro: 10/08/2016\n",
            "O modelo do carro é:  HB20  e a sua data de fabricação é:  10/08/2016\n",
            "Coloque o seu endereço: rua Francinco - Número não existe\n",
            "O Seu endereço é:  rua Francinco - Número não existe\n"
          ]
        }
      ]
    },
    {
      "cell_type": "markdown",
      "metadata": {
        "id": "JQzHJ8Dk4z_p"
      },
      "source": [
        "**Exercício 05:**\n"
      ]
    },
    {
      "cell_type": "code",
      "metadata": {
        "colab": {
          "base_uri": "https://localhost:8080/"
        },
        "id": "4qo2yQpT45zY",
        "outputId": "16b97bea-a484-4c36-e724-3027ff39c1f4"
      },
      "source": [
        "# Exercício 5:\n",
        "nome = str(input(\"Nome do livro: \"))\n",
        "data = str(input(\"data de lançamento: \"))\n",
        "paginas = bool(input(\"Possui mais de 100 páginas: \"))\n",
        "\n",
        "print(type(nome))\n",
        "print(type(data))\n",
        "print(type(paginas))\n",
        "\n",
        "print(\"O nome do livro é: \", nome)\n",
        "print(\"Sua data de lançamento é: \", data)\n",
        "print(\"Ele possui mais de 100 páginas: \", paginas)"
      ],
      "execution_count": null,
      "outputs": [
        {
          "output_type": "stream",
          "name": "stdout",
          "text": [
            "Nome do livro: O senhor dos aneis\n",
            "data de lançamento: 10/1980\n",
            "Possui mais de 100 páginas: True\n",
            "<class 'str'>\n",
            "<class 'str'>\n",
            "<class 'bool'>\n",
            "O nome do livro é:  O senhor dos aneis\n",
            "Sua data de lançamento é:  10/1980\n",
            "Ele possui mais de 100 páginas:  True\n"
          ]
        }
      ]
    },
    {
      "cell_type": "markdown",
      "metadata": {
        "id": "PSaF2hw9P0cM"
      },
      "source": [
        "**Exercício 6:**"
      ]
    },
    {
      "cell_type": "code",
      "metadata": {
        "colab": {
          "base_uri": "https://localhost:8080/"
        },
        "id": "1gi9fma1P49B",
        "outputId": "ce38ba7b-943c-48c1-c1d0-103322b517ef"
      },
      "source": [
        "# Exercício 6\n",
        "x = int(input(\"Determine um número inteiro: \"))\n",
        "y = int(input(\"Determine outro número inteiro: \"))\n",
        "\n",
        "print(x**y)\n",
        "print(y**x)\n",
        "print(y/x)"
      ],
      "execution_count": null,
      "outputs": [
        {
          "output_type": "stream",
          "name": "stdout",
          "text": [
            "Determine um número inteiro: 8\n",
            "Determine outro número inteiro: 9\n",
            "134217728\n",
            "43046721\n",
            "1.125\n"
          ]
        }
      ]
    },
    {
      "cell_type": "markdown",
      "metadata": {
        "id": "Blp2TiLPslhx"
      },
      "source": [
        "**Exercício 7 & 8:**"
      ]
    },
    {
      "cell_type": "code",
      "metadata": {
        "colab": {
          "base_uri": "https://localhost:8080/",
          "height": 185
        },
        "id": "mO34sRbasn54",
        "outputId": "5b29e82a-63aa-40e9-dfea-ca6154271e7a"
      },
      "source": [
        "# Exercício 7\n",
        "movimento = bool(input(\"O Carro está em movimento?\\n\"))\n",
        "# Movimentando = True, Parado = False\n",
        "luz = bool(input(\"O Carro está com a luz ligada?\\n\"))\n",
        "# Luz acesa = True, luz apagada = False\n",
        "ligado = bool(input(\"O Carro está ligado?\\n\"))\n",
        "# Ligado = True, Desligado = False\n",
        "\n",
        "print(\"Ligado e em movimento?: \", ligado and movimento)\n",
        "print(\"Ligado e com a luz acessa?: \",ligado and luz)\n",
        "print(\"Desligado e em movimento?: \", not ligado and movimento)\n",
        "\n",
        "\n",
        "# Exercício 8\n",
        "\n",
        "\"\"\"\n",
        "Consultar a tabela\n",
        "\"\"\""
      ],
      "execution_count": null,
      "outputs": [
        {
          "output_type": "stream",
          "name": "stdout",
          "text": [
            "O Carro está em movimento?\n",
            "True\n",
            "O Carro está com a luz ligada?\n",
            "False\n",
            "O Carro está ligado?\n",
            "True\n",
            "Ligado e em movimento?:  True\n",
            "Ligado e com a luz acessa?:  True\n",
            "Desligado e em movimento?:  False\n"
          ]
        },
        {
          "output_type": "execute_result",
          "data": {
            "application/vnd.google.colaboratory.intrinsic+json": {
              "type": "string"
            },
            "text/plain": [
              "'\\nConsultar a tabela\\n'"
            ]
          },
          "metadata": {},
          "execution_count": 21
        }
      ]
    },
    {
      "cell_type": "markdown",
      "metadata": {
        "id": "QkLVDc-RZOTi"
      },
      "source": [
        "# Referências Bibliográficas:\n",
        "\n",
        "**História do Python**. Disponível em: <https://pt.wikipedia.org/wiki/Python>. Acesso em 25 de setembro de 2021.\n",
        "\n",
        "**Aula 1 - Noções Básicas de Programação**. Disponível em: <https://drive.google.com/drive/folders/18QRr5jc0HvRJrhKcI_UOU9mMZMCoxVdy?usp=sharing>. Acesso em 25 de setembro de 2021."
      ]
    }
  ]
}