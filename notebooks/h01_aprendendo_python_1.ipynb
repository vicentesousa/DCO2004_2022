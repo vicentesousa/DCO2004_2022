{
  "cells": [
    {
      "cell_type": "markdown",
      "metadata": {
        "id": "Fm2_kHgZYOFL"
      },
      "source": [
        "# APRENDENDO PYTHON - Parte 01 de 04: PRIMEIRA PARTE - O essencial em python.\n",
        "\n",
        "## **O que veremos nessa parte**\n",
        "\n",
        "1. Introdução\n",
        "2. Comentando códigos \n",
        "3. Entrada, saída e exibição de dados\n",
        "4. Tipos básicos de variaveis\n",
        "5. Operadores matemáticos e lógicos\n",
        "6. Estruturas de Decisão\n",
        "7. Boas práticas"
      ]
    },
    {
      "cell_type": "markdown",
      "metadata": {},
      "source": [
        "## 1. Introdução\n",
        "\n",
        "Python é uma linguagem de programação de propósito geral, que está cada vez mais popular no âmbito da Estatística e Aprendizado de Máquina, sendo muito utilizada na Ciência de Dados, principalmente pela facilidade na sintaxe e na manipulação de grandes conjuntos de dados.\n",
        "\n",
        "### Histórico\n",
        "A linguagem de programação Python surgiu em 1989 por Guido Van Rossum no Instituto de Pesquisa Nacional para Matemática e Ciência da Computação (CWI). Apesar do desempenho em termos de tempo de execução ser menor em relação a linguagem C, o python disponibiliza uma linguagem mais produtiva e intuitiva. Assim, o foco principal da linguagem é aumentar a produtividade do programador, com o custo de perda de desempenho por ser uma liguagem interpretada, diferente do C que é compilada.\n",
        "\n",
        "Segundo dados históricos, a versão 1.0 do python foi lançada em janeiro de 1994. A última versão enquanto Guido estava na CWI foi o Python 1.2. Em 1995, ele continuou o trabalho na Corporation for National Research Initiatives (CNRI) em Reston, Estados Unidos, de onde lançou diversas versões. Na versão 1.4, a linguagem ganhou parâmetros nomeados (a capacidade de passar parâmetro pelo nome e não pela posição na lista de parâmetros) e suporte nativo a números complexos, assim como uma forma de encapsulamento.\n",
        "\n",
        "Atualmente, Python é um dos componentes padrão de vários sistemas operacionais, entre eles estão a maioria das distribuições do Linux, AmigaOS 4, FreeBSD, NetBSD, OpenBSD e OS X. A linguagem se tornou a padrão no curso de ciências da computação do MIT em 2009.\n"
      ]
    },
    {
      "cell_type": "markdown",
      "metadata": {
        "id": "_pAfDYTldmxZ"
      },
      "source": [
        "## 2. Comentando códigos\n",
        "\n",
        "Uma prática indispensável para qualquer programador é comentar o código que está sendo implementado. Essa prática, além de esclarecer o que está sendo feito, pode propiciar uma melhor memorização. Não é raro que programadores revisitem seus códigos para aprimorarem uma parte ou utilizar uma parte de um código em outro projeto. Nesse sentido, comentar é extremamente importante.\n",
        "\n",
        "Existem duas maneiras de inserir um comentário em python:\n",
        "\n",
        "- Para comentário em uma linha usamos o símbolo **#**;\n",
        "- Para comentário de várias linhas usamos o símbolo aspas triplas, abrindo e fechando o bloco comentado.\n",
        "\n",
        "Vejamos alguns exemplos."
      ]
    },
    {
      "cell_type": "markdown",
      "metadata": {},
      "source": [
        "*Exemplo 2.1:*"
      ]
    },
    {
      "cell_type": "code",
      "execution_count": 3,
      "metadata": {
        "colab": {
          "base_uri": "https://localhost:8080/",
          "height": 52
        },
        "id": "3biipNE8kWYp",
        "outputId": "9e8c365a-2034-49aa-a2ee-adb3ec122760"
      },
      "outputs": [
        {
          "name": "stdout",
          "output_type": "stream",
          "text": [
            "Essa linha não é comentário\n"
          ]
        }
      ],
      "source": [
        "\n",
        "# Este é um comentário de uma linha.\n",
        "\n",
        "\"\"\"\n",
        "Este é um comentário de várias linhas.\n",
        "O comentário de uma linha serve para especificar um determinado programa/lógica/função\n",
        "Enquanto o comentário longo serve para descrever uma característica ou como funciona. \n",
        "\"\"\"\n",
        "print(\"Essa linha não é comentário\")"
      ]
    },
    {
      "cell_type": "markdown",
      "metadata": {},
      "source": [
        "Veja que ao executar o código, somente a última linha mostra o texto, pois não é um comentário."
      ]
    },
    {
      "cell_type": "markdown",
      "metadata": {
        "id": "717QNmIalAZA"
      },
      "source": [
        "*Exemplo 2.2:*"
      ]
    },
    {
      "cell_type": "code",
      "execution_count": 5,
      "metadata": {
        "colab": {
          "base_uri": "https://localhost:8080/",
          "height": 52
        },
        "id": "6rBp2YUblIgH",
        "outputId": "ccfeedf1-2b3e-4096-8704-f65673cb303c"
      },
      "outputs": [
        {
          "name": "stdout",
          "output_type": "stream",
          "text": [
            "Essa linha não é comentário\n"
          ]
        }
      ],
      "source": [
        "# FUNÇÃO PARA PARTICIONAR DADOS DE UM BANCO DE DADOS\n",
        "\n",
        "\"\"\"\n",
        "Essa função irá pegar 10 dados do conjunto de dados e verificar os seguintes requisitos:\n",
        "\n",
        "* Nome\n",
        "* Idade\n",
        "* Sexo\n",
        "* Residência\n",
        "* Renda\n",
        "\n",
        "Depois será feita uma rede neural para determinar se os 10 dados serão aptos para o\n",
        "empréstimo bancário.\n",
        "\n",
        "Motivação: testar uma pequena base de dados de um conjunto maior.\n",
        "\"\"\"\n",
        "print(\"Essa linha não é comentário\")"
      ]
    },
    {
      "cell_type": "markdown",
      "metadata": {
        "id": "LNgXjQ0mmSy4"
      },
      "source": [
        "**Exercício 01 (para o relatório):**\n",
        "\n",
        "Existe um *Easter Egg* em python chamado \"The Zen of Python\", procure na internet e transcreva em comentário o texto."
      ]
    },
    {
      "cell_type": "markdown",
      "metadata": {
        "id": "nmW_tC1_oUBf"
      },
      "source": [
        "## 3. Entrada, saída e exibição de dados\n",
        "\n",
        "Dentre as partes fundamentais em python está a entrada (input) e a saída (output) de dados. Existem várias formas de fazer isso, mas um comando essencial é o **print** e o comando **input**. Veja alguns exemplos:\n",
        "\n",
        "*Exemplo 3.1:*"
      ]
    },
    {
      "cell_type": "code",
      "execution_count": 7,
      "metadata": {
        "colab": {
          "base_uri": "https://localhost:8080/"
        },
        "id": "c2xLxzqmo5m5",
        "outputId": "cc30af95-3720-48aa-95a6-04c51479dfa3"
      },
      "outputs": [
        {
          "name": "stdout",
          "output_type": "stream",
          "text": [
            "Olá Mundo!\n",
            "Quem é um aluno muito legal?\n",
            "Leonardo\n"
          ]
        }
      ],
      "source": [
        "# Essa linha irá imprimir \"Olá Mundo!\".\n",
        "print(\"Olá Mundo!\")\n",
        "\n",
        "# Essa linha irá imprimir \"Uma outra linha\".\n",
        "print('Quem é um aluno muito legal?')\n",
        "\n",
        "# Essa linha irá receber o seu nome.\n",
        "nome = input(\"Coloque aqui o seu nome: \")\n",
        "\n",
        "# Essa linha irá imprimir o seu nome.\n",
        "print(nome)"
      ]
    },
    {
      "cell_type": "markdown",
      "metadata": {},
      "source": [
        "Enquanto o comando **print** mostra o texto na tela, o comando **input** espera uma entrada de dados e a armazena em uma variável."
      ]
    },
    {
      "cell_type": "markdown",
      "metadata": {
        "id": "064yc_iwq_kq"
      },
      "source": [
        "*Exemplo 3.2:*"
      ]
    },
    {
      "cell_type": "code",
      "execution_count": null,
      "metadata": {
        "colab": {
          "base_uri": "https://localhost:8080/"
        },
        "id": "-6lhJ0djrCoA",
        "outputId": "0aabc41b-448e-4429-cb93-fb34a49e07a6"
      },
      "outputs": [
        {
          "name": "stdout",
          "output_type": "stream",
          "text": [
            "Qual o seu foco como cliente de uma empresa de telecom? \n",
            "internet\n",
            "O nome da empresa é:  GppCompany\n",
            "O número de funcionários da empresa é:  4\n",
            "A descrição da empresa é:  Uma empresa do ramo de telecomunicações e Inovação\n",
            "O foco de um dos clientes é: internet\n"
          ]
        }
      ],
      "source": [
        "# Dados da empresa:\n",
        "nome_empresa = 'GppCompany'\n",
        "funcionarios_empresa = '4'\n",
        "descricao_empresa = \"Uma empresa do ramo de telecomunicações e Inovação\"\n",
        "foco_cliente = input(\"Qual o seu foco como cliente de uma empresa de telecom? \\n\")\n",
        "\n",
        "# Printando Dados da empresa\n",
        "print('O nome da empresa é: ', nome_empresa)\n",
        "print('O número de funcionários da empresa é: ', funcionarios_empresa)\n",
        "print(\"A descrição da empresa é: \", descricao_empresa)\n",
        "print('O foco de um dos clientes é:', foco_cliente)"
      ]
    },
    {
      "cell_type": "markdown",
      "metadata": {
        "id": "lWWyHpuwvlFZ"
      },
      "source": [
        "**Exercício 02 (para o relatório) :**\n",
        "\n",
        "Faça um código que receba o modelo de um carro e o seu ano de fabricação e exiba o modelo e a idade do carro."
      ]
    },
    {
      "cell_type": "markdown",
      "metadata": {
        "id": "Jewj3xStxgiB"
      },
      "source": [
        "## 4. Tipos básicos de variáveis\n",
        "\n",
        "Os tipos de variáveis identificam as características que um determinado dado possui e como ele se comporta. Tipos básicos de dados em Python são:\n",
        "\n",
        "*  Inteiros (`int`)\n",
        "*   Decimais/Pontos flutuantes (`float`)\n",
        "*   Booleanos (`boolean`)\n",
        "*   Sequências de Caracteres (`string`)\n",
        "*   Vetores (`list`)\n",
        "*   Dicionários (`dict`)\n",
        "\n",
        "Em Python, as declações de variáveis se dá com o símbolo `=`, i.e., não precisamos nos preocupar com uma declaração exeplícita (como em C, por exemplo).\n",
        "\n",
        "Vejamos alguns exemplos de uso dessas variáveis básicas:\n",
        "\n",
        "*Exemplo 4.1:*"
      ]
    },
    {
      "cell_type": "code",
      "execution_count": null,
      "metadata": {
        "colab": {
          "base_uri": "https://localhost:8080/"
        },
        "id": "a5Tw6pEhykCQ",
        "outputId": "160ed421-7053-415e-c5a1-0c8a41dea5d1"
      },
      "outputs": [
        {
          "name": "stdout",
          "output_type": "stream",
          "text": [
            "inteiro 7\n",
            "número flutuante 9.87\n",
            "booleano True\n",
            "booleano False\n",
            "string Parabéns, você está aprendendo Python!\n",
            "array [1, 2, 3, 4, 5]\n",
            "Conjunto (1, 2, 3, 4, 5)\n",
            "dicionário {'Nome': 'Leandro', 'Sexo': 'Masculino', 'Idade': 32, 'Emprego': 'Diretor', 'Estado Civil': 'Casado'}\n"
          ]
        }
      ],
      "source": [
        "# Declarando uma variável do tipo inteiro\n",
        "numero_inteiro = 7\n",
        "\n",
        "# Declarando uma varável do tipo decimal\n",
        "numero_float = 9.87\n",
        "\n",
        "# Declarando variáveis booleanas\n",
        "boolean_yes = True\n",
        "boolean_no = False\n",
        "\n",
        "# Declarando variáveis strings\n",
        "texto = \"Parabéns, você está aprendendo Python!\"\n",
        "\n",
        "# Declarando Vetor (lista)\n",
        "vetor = [1, 2, 3, 4, 5]\n",
        "\n",
        "# OBS: listas podem conter numeros inteiros, floats, string, outros arrays e\n",
        "# até mesmo dicionários. Exemplo:\n",
        "\n",
        "vetor_exemplo = [1, 0.346, 'olá Mundo', {'nome': 'Roberto'}, ['outro array', 'com outros dados']]\n",
        "\n",
        "# Declarando Conjunto (sets)\n",
        "conjunto = (1, 2, 3, 4, 5)\n",
        "\n",
        "# Declarando Dicionário (Dict)\n",
        "dados_usuario = {'Nome': \"Leandro\",\n",
        "              'Sexo': \"Masculino\",\n",
        "              'Idade': 32,\n",
        "              'Emprego': \"Diretor\",\n",
        "              'Estado Civil': \"Casado\"}\n",
        "\n",
        "# Dicionários e Vetores serão vistos com mais atenção posteriormente.\n",
        "\n",
        "# Imprimindo as variáveis\n",
        "print(\"inteiro\", numero_inteiro)\n",
        "print(\"número flutuante\", numero_float)\n",
        "print(\"booleano\", boolean_yes)\n",
        "print(\"booleano\",boolean_no)\n",
        "print(\"string\",texto)\n",
        "print(\"array\", vetor)\n",
        "print(\"Conjunto\", conjunto)\n",
        "print(\"dicionário\", dados_usuario)"
      ]
    },
    {
      "cell_type": "markdown",
      "metadata": {
        "id": "47blwwa110Rh"
      },
      "source": [
        "*Exemplo 4.2:*"
      ]
    },
    {
      "cell_type": "code",
      "execution_count": null,
      "metadata": {
        "colab": {
          "base_uri": "https://localhost:8080/"
        },
        "id": "DGfk75By1zeX",
        "outputId": "7bc51323-7430-4831-a016-a2a6c5332afd"
      },
      "outputs": [
        {
          "name": "stdout",
          "output_type": "stream",
          "text": [
            "Determine o número de dias: 7\n",
            "Coloque uma fração: 0.5\n",
            "Você foi promovido: True ou False?\n",
            "True\n"
          ]
        }
      ],
      "source": [
        "# Recebendo um determinado tipo de dado e fazendo o casting para um determinado tipo de dado\n",
        "receber_numero_dias = int(input(\"Determine o número de dias: \"))\n",
        "# Caso não seja um número inteiro, haverá erros.\n",
        "\n",
        "receber_fracao = float(input(\"Coloque uma fração: \"))\n",
        "# Caso não seja inteiro ou float, haverá erro.\n",
        "\n",
        "promocao = bool(input(\"Você foi promovido: True ou False?\\n\"))\n",
        "# Caso não seja booleano, haverá erros.\n",
        "# OBS: Em python, os números inteiros possuem carater booleano."
      ]
    },
    {
      "cell_type": "markdown",
      "metadata": {
        "id": "_V7VrrAn3jCX"
      },
      "source": [
        "*Exemplo 4.3:*"
      ]
    },
    {
      "cell_type": "code",
      "execution_count": null,
      "metadata": {
        "colab": {
          "base_uri": "https://localhost:8080/"
        },
        "id": "UZd4vHnA3m_y",
        "outputId": "83ae1bc9-c24c-4f22-a527-a847589bfeac"
      },
      "outputs": [
        {
          "name": "stdout",
          "output_type": "stream",
          "text": [
            "<class 'bool'>\n",
            "<class 'bool'>\n",
            "<class 'str'>\n"
          ]
        }
      ],
      "source": [
        "# Vamos utilizar o comando type() nas variáveis utilizadas anteriormente e\n",
        "# imprimir o seu tipo\n",
        "\n",
        "print(type(boolean_yes))\n",
        "print(type(boolean_no))\n",
        "print(type(texto))"
      ]
    },
    {
      "cell_type": "markdown",
      "metadata": {
        "id": "fbGH0kUO3u3u"
      },
      "source": [
        "**Exercício 3 (para o relatório):**\n",
        "\n",
        "Faça um código que receba o nome de um livro, sua data de lançamento e se ele possui mais de 100 páginas, determine os tipos de variavéis e printe as informações."
      ]
    },
    {
      "cell_type": "markdown",
      "metadata": {
        "id": "iOge-WKf6WER"
      },
      "source": [
        "## 5. Operadores matemáticos e lógicos\n",
        "\n",
        "As operações básicas em python são similares à forma escrita. Os operadores `+ - * /` representam respectivamente soma, subtração, multiplicação e divisão.\n",
        "\n",
        "Vejamos alguns exemplos.\n",
        "\n",
        "*Exemplo 5.1:*"
      ]
    },
    {
      "cell_type": "code",
      "execution_count": null,
      "metadata": {
        "colab": {
          "base_uri": "https://localhost:8080/"
        },
        "id": "u2b6kJsdA2nN",
        "outputId": "c582e752-fd44-4a26-ed56-693e8b75b6ff"
      },
      "outputs": [
        {
          "name": "stdout",
          "output_type": "stream",
          "text": [
            "10\n",
            "2\n",
            "24\n",
            "1.5\n"
          ]
        }
      ],
      "source": [
        "# Realizando operações matemáticas básicas\n",
        "x = 6\n",
        "y = 4\n",
        "\n",
        "print(x + y)\n",
        "print(x - y)\n",
        "print(x * y)\n",
        "print(x / y)"
      ]
    },
    {
      "cell_type": "markdown",
      "metadata": {
        "id": "MPzGF5DgB1Qg"
      },
      "source": [
        "Além dessas operações, existem a operação de módulo, que calcula o resto de uma divisão entre dois números, e a de potenciação, dadas pelos símbolos % e ** respectivamente. Vejamos um exemplo:\n",
        "\n",
        "*Exemplo 5.2:*"
      ]
    },
    {
      "cell_type": "code",
      "execution_count": null,
      "metadata": {
        "colab": {
          "base_uri": "https://localhost:8080/"
        },
        "id": "JYHwsNNzFtA5",
        "outputId": "f513d614-746d-43ab-99fb-5d0f7f67141f"
      },
      "outputs": [
        {
          "name": "stdout",
          "output_type": "stream",
          "text": [
            "9\n",
            "4096\n",
            "0\n",
            "4\n"
          ]
        }
      ],
      "source": [
        "# Realizando a potência entre dois números\n",
        "print(3 ** 2)\n",
        "print(y ** x)\n",
        "\n",
        "# Realizando a operação de módulo\n",
        "print(x % 3)\n",
        "print(y % x)"
      ]
    },
    {
      "cell_type": "markdown",
      "metadata": {
        "id": "KrS8ynZZPaJj"
      },
      "source": [
        "### Operadores lógicos\n",
        "\n",
        "Duas ou mais variáveis podem ser comparadas por meio dos seguintes operadores lógicos:\n",
        "\n",
        "*   Igualdade:    `==`\n",
        "*   Diferente:    `!=`\n",
        "*   Maior que:    `>`\n",
        "*   Menor que:    `<`\n",
        "*   Menor ou igual a: `<=`\n",
        "*   Maior ou igual a: `>=`\n",
        "\n",
        "\n",
        "**Atenção:** após serem comparadas, o resultado sempre será um valor booleano. Vejamos alguns exemplos.\n",
        "\n",
        "*Exemplo 5.3:*"
      ]
    },
    {
      "cell_type": "code",
      "execution_count": null,
      "metadata": {
        "colab": {
          "base_uri": "https://localhost:8080/"
        },
        "id": "0BUM8qQfQ3h_",
        "outputId": "3f13b5a8-0153-483b-b0bf-49184f64932b"
      },
      "outputs": [
        {
          "name": "stdout",
          "output_type": "stream",
          "text": [
            "False\n",
            "True\n",
            "True\n",
            "False\n",
            "True\n",
            "True\n",
            "False\n",
            "False\n",
            "True\n",
            "False\n"
          ]
        }
      ],
      "source": [
        "# Comparando dois números\n",
        "print(5 == 2)\n",
        "print(5 != 2)\n",
        "print(8 > 7)\n",
        "print(9 < 0)\n",
        "print(9 >= 7)\n",
        "print(6 <= 6)\n",
        "\n",
        "# Comparando duas variáveis\n",
        "x = 3\n",
        "y = 8\n",
        "\n",
        "print(x > y)\n",
        "print(y == x)\n",
        "print(y >= x)\n",
        "\n",
        "# Podemos atribuir o resultado de uma comparação a uma variável\n",
        "# e logo em seguida imprimi-la\n",
        "c = x >= y\n",
        "print(c)"
      ]
    },
    {
      "cell_type": "markdown",
      "metadata": {
        "id": "HBKiS9kSRAbP"
      },
      "source": [
        "Além desses operadores lógicos, o python dispõe de outros operadores específicos para comparações entre duas variáveis booleanas, sendo eles:\n",
        "\n",
        "\n",
        "*   `and`\n",
        "*   `or`\n",
        "*   `not`\n",
        "\n",
        "Tais operadores tem as seguintes lógicas (sendo 0 falso e 1 verdadeiro):\n",
        "\n",
        "![fig_ope](../FIGS/HD_01_PYTHON/operators.png)\n",
        "\n",
        "Vejamos um exemplo.\n",
        "\n",
        "*Exemplo 5.4:*"
      ]
    },
    {
      "cell_type": "code",
      "execution_count": null,
      "metadata": {
        "colab": {
          "base_uri": "https://localhost:8080/"
        },
        "id": "AsHbs1bQo6Gh",
        "outputId": "b02e7ce3-1458-46b5-9f2b-fa8ee4b3f66c"
      },
      "outputs": [
        {
          "name": "stdout",
          "output_type": "stream",
          "text": [
            "True\n",
            "True\n"
          ]
        }
      ],
      "source": [
        "# Declando duas variáveis\n",
        "x = 10\n",
        "y = 10\n",
        "\n",
        "# Se y >= x & y<=x, então x = y. Vamos testar essa afirmação\n",
        "print(y >=x and y<=x)\n",
        "print(x == y)"
      ]
    },
    {
      "cell_type": "markdown",
      "metadata": {
        "id": "lUyip79QQq4m"
      },
      "source": [
        "**Exercício 4 (para o relatório):**\n",
        "\n",
        "Monte um programa que recebe três valores em relação a um carro:\n",
        "- o primeiro se o carro está em movimento;\n",
        "- o segundo se  o carro está com a luz está acessa; e \n",
        "- o terceiro se o carro está ligado. \n",
        "\n",
        "Depois que o usuário entrar com os três dados acima, exiba um texto com as seguintes informações:\n",
        "\n",
        "- o carro está ligado e em movimento?\n",
        "- o carro está ligado e com a luz acessa?\n",
        "- o carro está desligado e em movimento?"
      ]
    },
    {
      "cell_type": "markdown",
      "metadata": {
        "id": "m7ZF-YTV1NVS"
      },
      "source": [
        "## 6. Estruturas de Decisão\n",
        "\n",
        "Para fazermos com que o computador escolha o que fazer, podemos usar estruturas de decisão. Elas consistem de uma ou mais condições, que se satisfeitas, alguns comandos são executados. Caso contrário, o computador executa comandos alternativos ou segue com a execução do código. \n",
        "\n",
        "Vamos ver as estrututras de decisão (condicionadores) básicos de python.\n",
        "\n",
        "### 6.1 Estrutura *if*\n",
        "\n",
        "O *if* define uma condição. Caso essa condição seja satisteita, o bloco de código dentro do *if* é executado. Caso contrário, o trecho é ignorado.\n",
        "\n",
        "Vamos ver um exemplo.\n",
        "\n",
        "*Exemplo 6.1:*"
      ]
    },
    {
      "cell_type": "code",
      "execution_count": null,
      "metadata": {
        "colab": {
          "base_uri": "https://localhost:8080/"
        },
        "id": "4p7fLzwj3G7e",
        "outputId": "71cedee5-a33f-47d3-8ca0-64d4849449d2"
      },
      "outputs": [
        {
          "name": "stdout",
          "output_type": "stream",
          "text": [
            "Digite um número inteiro: 3\n",
            "\n",
            "O número é positivo!\n",
            "\n",
            "Podemos utilizar mais de um comando dentro de um único if\n",
            "\n",
            "Este print está fora do if e será executado independente da condição\n"
          ]
        }
      ],
      "source": [
        "# Atribuindo um valor qualquer para a variável x\n",
        "x = int(input('Digite um número inteiro: '))\n",
        "\n",
        "# Utilizando o condicionador if para verificar se o número é positivo\n",
        "if (x > 0):\n",
        "    print('\\nO número é positivo!\\n')\n",
        "    print('Podemos utilizar mais de um comando dentro de um único if')\n",
        "\n",
        "# Se não estiver indentado não está dentro do if\n",
        "print('\\nEste print está fora do if e será executado independente da condição')"
      ]
    },
    {
      "cell_type": "markdown",
      "metadata": {
        "id": "4hiprdic3pHm"
      },
      "source": [
        "### 6.2 Estrutura *if-else*\n",
        "Muitas vezes nos deparamos com situações mutuamente exclusivas, isto é, quando não é uma coisa, automaticamente é outra, por exemplo: inocente ou culpado, verdadeiro ou falso, ímpar ou par. Para esse tipo de situação, podemos utilizar a estrutura *if-else*, como no exemplo a seguir:\n",
        "\n",
        "\n",
        "*Exemplo 6.2:*\n"
      ]
    },
    {
      "cell_type": "code",
      "execution_count": 8,
      "metadata": {
        "id": "00JXQXEP54NK"
      },
      "outputs": [
        {
          "name": "stdout",
          "output_type": "stream",
          "text": [
            "\n",
            "3 não é um número par, é ímpar!\n",
            "Esse bloco será impresso independentemente das condições!\n"
          ]
        }
      ],
      "source": [
        "# Atribuindo um valor a x\n",
        "x = int(input(\"Digite um número inteiro: \"))\n",
        "\n",
        "# Verificando se o número é par\n",
        "if (x % 2 == 0):\n",
        "    print('\\n{} é um número par!'.format(x))\n",
        "# Como o número não é par, ele vai ser ímpar\n",
        "else:\n",
        "    print('\\n{} não é um número par, é ímpar!'.format(x))\n",
        "    \n",
        "print('Esse bloco será impresso independentemente das condições!')"
      ]
    },
    {
      "cell_type": "markdown",
      "metadata": {
        "id": "B0Q2dlPw6deT"
      },
      "source": [
        "### 6.3 Estrutura *if-elif-else*\n",
        "\n",
        "Apesar de muitas situações serem resolvidas com apenas duas opções, em vários casos, teremos que usar 3 ou mais. Por exemplo, um número pode ser maior, menor ou igual a outro. Nesses casos, usaremos a estrutura *if-elif-else*, como no exemplo a seguir.\n",
        "\n",
        "*Exemplo 6.3:*"
      ]
    },
    {
      "cell_type": "code",
      "execution_count": 9,
      "metadata": {
        "colab": {
          "base_uri": "https://localhost:8080/"
        },
        "id": "UK73EVtu8Cz2",
        "outputId": "fcdfc686-8065-400d-e06e-a0b885c8228b"
      },
      "outputs": [
        {
          "name": "stdout",
          "output_type": "stream",
          "text": [
            "\n",
            "2 é menor que 3!\n",
            "Lembre da indentação!\n"
          ]
        }
      ],
      "source": [
        "# Atribuindo um valor a um número \n",
        "num1 = int(input(\"Digite um número inteiro: \"))\n",
        "# Atribuindo um valor a um segundo número \n",
        "num2 = int(input(\"Digite outro número inteiro: \"))\n",
        "# Verificar se o primeiro numero é maior que o segundo\n",
        "if (num1 > num2):\n",
        "    print('\\n{} é maior que {}!'.format(num1,num2))\n",
        "# Verificar se o primeiro numero é menor que o segundo\n",
        "elif (num1 < num2):\n",
        "    print('\\n{} é menor que {}!'.format(num1,num2))\n",
        "# Caso nenhum dos casos anteriores sejam satisfeitos, os numeros devem ser iguais\n",
        "else:\n",
        "    print('\\n{} é igual a {}!'.format(num1,num2))\n",
        "    \n",
        "print('Lembre da indentação!')"
      ]
    },
    {
      "cell_type": "markdown",
      "metadata": {},
      "source": [
        "## 7. Boas Práticas\n",
        "\n",
        "Sem exibir uma lista interminável de boas práticas de programação, enumeramos duas boas práticas para programadores em pyhton:\n",
        "\n",
        "- Sempre comentar no seu código o que está sendo feito;\n",
        "\n",
        "- Deixar o código o mais limpo possível. Um exemplo dessa prática: podemos testar somente se `x == y` ao invés de fazer `y >= x and y <= x`;\n",
        "\n",
        "- Tentar minimizar o uso de memória. Precisamos escolher o tipo certo de variável para armazenar os dados que queremos. Um exemplo é quando fazemos uma lista de 0 até 100000 utilizando o tipo **list** ou o tipo **array** (do pacote numpy). Veja a diferença de tamanho dos dados na memória."
      ]
    },
    {
      "cell_type": "code",
      "execution_count": 30,
      "metadata": {},
      "outputs": [
        {
          "name": "stdout",
          "output_type": "stream",
          "text": [
            "Tamanho da <class 'list'>: 800048 bytes\n",
            "Tamanho do <class 'numpy.ndarray'>: 400100 bytes\n"
          ]
        }
      ],
      "source": [
        "import sys\n",
        "import numpy as np\n",
        "lst = list(range(1,100000))\n",
        "print('Tamanho da {}: {} bytes'.format(type(lst), sys.getsizeof(lst)))\n",
        "arr = np.array(range(1,100000))\n",
        "print('Tamanho do {}: {} bytes'.format(type(arr), sys.getsizeof(arr)))\n"
      ]
    },
    {
      "cell_type": "markdown",
      "metadata": {},
      "source": [
        "**Exercício 5 (para o relatório):**\n",
        "\n",
        "Uma máquina de café automática normalmente é capaz de preparar café, capuccino e chocolate quente. Faça um programa emm python que pergunte ao cliente qual o seu pedido, misture os ingredientes (café, açúcar, água, chocolate ou leite), informe quais ingredientes misturou e quando a operação terminou e volte ao seu estado inicial. Caso o pedido não exista, informe o cliente."
      ]
    },
    {
      "cell_type": "markdown",
      "metadata": {
        "id": "QkLVDc-RZOTi"
      },
      "source": [
        "# Referências Bibliográficas:\n",
        "\n",
        "**História do Python**. Disponível em: <https://pt.wikipedia.org/wiki/Python>. Acesso em 25 de setembro de 2021.\n",
        "\n",
        "**Aula 1 - Noções Básicas de Programação**. Disponível em: <https://drive.google.com/drive/folders/18QRr5jc0HvRJrhKcI_UOU9mMZMCoxVdy?usp=sharing>. Acesso em 25 de setembro de 2021."
      ]
    }
  ],
  "metadata": {
    "colab": {
      "collapsed_sections": [],
      "name": "h01_aprendendo_python_1.ipynb",
      "provenance": []
    },
    "kernelspec": {
      "display_name": "Python 3",
      "name": "python3"
    },
    "language_info": {
      "codemirror_mode": {
        "name": "ipython",
        "version": 3
      },
      "file_extension": ".py",
      "mimetype": "text/x-python",
      "name": "python",
      "nbconvert_exporter": "python",
      "pygments_lexer": "ipython3",
      "version": "3.9.7"
    }
  },
  "nbformat": 4,
  "nbformat_minor": 0
}
