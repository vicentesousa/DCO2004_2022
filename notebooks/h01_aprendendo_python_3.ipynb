{
  "cells": [
    {
      "cell_type": "markdown",
      "metadata": {
        "id": "VWVzM9QHr1hP"
      },
      "source": [
        "# APRENDENDO PYTHON - Parte 03 de 04: TERCEIRA PARTE - O essencial em python.\n",
        "\n",
        "## O que veremos nessa parte:\n",
        "\n",
        "1. Funções *lambda*\n",
        "2. Classes em Python\n",
        "3. Construtores\n",
        "4. Bibliotecas"
      ]
    },
    {
      "cell_type": "markdown",
      "metadata": {
        "id": "6y-OoA_U4xj0"
      },
      "source": [
        "## 1. Funções *lambda*\n",
        "\n",
        "Como visto anteriormente, funções são um tema central em programação. As funções partes fundamentais do sistema, semelhante a uma parte do cérebro. Nessa parte, iremos aprofundar nosso conhecimento em funções e seus atributos.\n",
        "\n",
        "As vezes desejamos criar funções de um modo rápido e que seja de fácil utilização. Para suprir essa demanada, o python tem as funções *lambda*. São de fácil formatação e utilização.\n",
        "\n",
        "Vejamos um exemplo;\n",
        "\n",
        "*Exemplo 1.1:*"
      ]
    },
    {
      "cell_type": "code",
      "execution_count": null,
      "metadata": {
        "colab": {
          "base_uri": "https://localhost:8080/"
        },
        "id": "iRoB9oZ94pTU",
        "outputId": "d668b55b-f30e-4407-df68-22942f86c4ac"
      },
      "outputs": [],
      "source": [
        "funcao = lambda x: x**2 + 4* x + 3  # Criando uma função lambda\n",
        "print(funcao(3))\n",
        "print(funcao(0))\n",
        "\n",
        "funcao2 = lambda numero, string: numero * string  # Outra função em lambda\n",
        "print(funcao2(2, \"repetir \"))\n",
        "print(funcao2(4, \"outra coisa \"))\n",
        "\n",
        "# Utilização em List Comprehentions\n",
        "funcao = lambda x: x**2 - 4\n",
        "print([i for i in range(-5, 5) if funcao(i) > 2])\n",
        "\n",
        "# Você também pode utilizar outra formatação para as funções lambdas\n",
        "(lambda x: x + 1)(2)  # Já aplica diretamente no objeto desejado"
      ]
    },
    {
      "cell_type": "markdown",
      "metadata": {
        "id": "Jw9Yc58Z-pOs"
      },
      "source": [
        "## 2. Classes em Python\n",
        "\n",
        "Python é uma linguagem voltada para programação orientada a objeto. Nesse sentido, classes proporcionam uma forma de organizar dados e funcionalidades. Criar uma nova classe cria um novo *tipo* de objeto, permitindo que novas *instâncias* desse tipo sejam produzidas. Cada instância da classe pode ter atributos anexados a ela, os quais são independentes para cada instância. Instâncias da classe também podem ter métodos (definidos pela classe) para modificar seu estado.\n",
        "\n",
        "Vamos ver alguns exemplos.\n",
        "\n",
        "*Exemplo 2.1:*"
      ]
    },
    {
      "cell_type": "code",
      "execution_count": null,
      "metadata": {
        "colab": {
          "base_uri": "https://localhost:8080/",
          "height": 235
        },
        "id": "qraugde2_mjC",
        "outputId": "eb3edc45-b2ae-4d30-fd49-1811340225bc"
      },
      "outputs": [],
      "source": [
        "class PrimeiraClasse:\n",
        "    # Aqui está a sua classe, na qual ficam as suas variáveis locais (só desta classe)\n",
        "    variavel_local = \"Uma variável só desta classe\"\n",
        "\n",
        "    # E Funções locais (só desta classe)\n",
        "    def funcao_local():\n",
        "        print(\"Essa é uma função local\")\n",
        "\n",
        "# Para acessar os dados contido na classe, é necessário antes acessar a instância da classe.\n",
        "\n",
        "print(PrimeiraClasse.variavel_local) # Aparece corretamente, pois está associada a uma instância da classe \n",
        "PrimeiraClasse.funcao_local() # Aqui, chamamos o método da classe \n",
        "\n",
        "print(variavel_local)  # Aparece erro, pois não está definida Fora da classe."
      ]
    },
    {
      "cell_type": "markdown",
      "metadata": {
        "id": "wJztkLipO8gR"
      },
      "source": [
        "Como o nome já diz, usamos classes para classificar funções, métodos, variáveis e outras classes. Daremos exemplo de três maneiras de definir o escopo de uma variável:\n",
        "\n",
        "- Uma variável **global** existe fora e dentro de uma função, e pode ser acessada tanto de dentro como fora da mesma. Uma desvantagem é que devido ao fato de uma variável global poder ser modificada por qualquer trecho de código, geralmente é uma fonte de problemas, pois é difícil saber quem foi que modificou a variável. Mas, existem situações nas quais uma variável global facilita muito a implementação do código;\n",
        "- Uma variável **local** existe somente dentro de uma função, e só pode ser acessada de dentro da mesma. Ou seja, só é “reconhecida” por este trecho de código. Para esses tipos de variáveis, geralmente, se implementa funções *set* e *get* para modificar e acessar, respectivamente. \n",
        "- Uma variável **nonlocal** tem funcionamento bem semelhante a variável **global**, o que muda é o escopo para cada qual faz referência. A declaração **global** sempre faz referência ao escopo global, isto é, o escopo do programa, em si, enquanto a **nonlocal** referencia o escopo local acima do escopo atual. \n",
        "\n",
        "Vejamos algun exemplos.\n",
        "\n",
        "*Exemplo 2.2:* exemplo com erro proposital devido a questão de escopo das variáveis"
      ]
    },
    {
      "cell_type": "code",
      "execution_count": 1,
      "metadata": {},
      "outputs": [
        {
          "ename": "UnboundLocalError",
          "evalue": "local variable 'contador' referenced before assignment",
          "output_type": "error",
          "traceback": [
            "\u001b[1;31m---------------------------------------------------------------------------\u001b[0m",
            "\u001b[1;31mUnboundLocalError\u001b[0m                         Traceback (most recent call last)",
            "\u001b[1;32m~\\AppData\\Local\\Temp/ipykernel_21420/2294594163.py\u001b[0m in \u001b[0;36m<module>\u001b[1;34m\u001b[0m\n\u001b[0;32m      8\u001b[0m         \u001b[0mdo_global\u001b[0m\u001b[1;33m(\u001b[0m\u001b[1;33m)\u001b[0m\u001b[1;33m\u001b[0m\u001b[1;33m\u001b[0m\u001b[0m\n\u001b[0;32m      9\u001b[0m \u001b[1;33m\u001b[0m\u001b[0m\n\u001b[1;32m---> 10\u001b[1;33m \u001b[0mscope\u001b[0m\u001b[1;33m.\u001b[0m\u001b[0mscope_test\u001b[0m\u001b[1;33m(\u001b[0m\u001b[1;33m)\u001b[0m\u001b[1;33m\u001b[0m\u001b[1;33m\u001b[0m\u001b[0m\n\u001b[0m",
            "\u001b[1;32m~\\AppData\\Local\\Temp/ipykernel_21420/2294594163.py\u001b[0m in \u001b[0;36mscope_test\u001b[1;34m()\u001b[0m\n\u001b[0;32m      6\u001b[0m             \u001b[0mprint\u001b[0m\u001b[1;33m(\u001b[0m\u001b[1;34m\"contador = {}\"\u001b[0m\u001b[1;33m.\u001b[0m\u001b[0mformat\u001b[0m\u001b[1;33m(\u001b[0m\u001b[0mcontador\u001b[0m\u001b[1;33m)\u001b[0m\u001b[1;33m)\u001b[0m\u001b[1;33m\u001b[0m\u001b[1;33m\u001b[0m\u001b[0m\n\u001b[0;32m      7\u001b[0m \u001b[1;33m\u001b[0m\u001b[0m\n\u001b[1;32m----> 8\u001b[1;33m         \u001b[0mdo_global\u001b[0m\u001b[1;33m(\u001b[0m\u001b[1;33m)\u001b[0m\u001b[1;33m\u001b[0m\u001b[1;33m\u001b[0m\u001b[0m\n\u001b[0m\u001b[0;32m      9\u001b[0m \u001b[1;33m\u001b[0m\u001b[0m\n\u001b[0;32m     10\u001b[0m \u001b[0mscope\u001b[0m\u001b[1;33m.\u001b[0m\u001b[0mscope_test\u001b[0m\u001b[1;33m(\u001b[0m\u001b[1;33m)\u001b[0m\u001b[1;33m\u001b[0m\u001b[1;33m\u001b[0m\u001b[0m\n",
            "\u001b[1;32m~\\AppData\\Local\\Temp/ipykernel_21420/2294594163.py\u001b[0m in \u001b[0;36mdo_global\u001b[1;34m()\u001b[0m\n\u001b[0;32m      3\u001b[0m     \u001b[1;32mdef\u001b[0m \u001b[0mscope_test\u001b[0m\u001b[1;33m(\u001b[0m\u001b[1;33m)\u001b[0m\u001b[1;33m:\u001b[0m\u001b[1;33m\u001b[0m\u001b[1;33m\u001b[0m\u001b[0m\n\u001b[0;32m      4\u001b[0m         \u001b[1;32mdef\u001b[0m \u001b[0mdo_global\u001b[0m\u001b[1;33m(\u001b[0m\u001b[1;33m)\u001b[0m\u001b[1;33m:\u001b[0m\u001b[1;33m\u001b[0m\u001b[1;33m\u001b[0m\u001b[0m\n\u001b[1;32m----> 5\u001b[1;33m             \u001b[0mcontador\u001b[0m \u001b[1;33m+=\u001b[0m \u001b[1;36m1\u001b[0m\u001b[1;33m\u001b[0m\u001b[1;33m\u001b[0m\u001b[0m\n\u001b[0m\u001b[0;32m      6\u001b[0m             \u001b[0mprint\u001b[0m\u001b[1;33m(\u001b[0m\u001b[1;34m\"contador = {}\"\u001b[0m\u001b[1;33m.\u001b[0m\u001b[0mformat\u001b[0m\u001b[1;33m(\u001b[0m\u001b[0mcontador\u001b[0m\u001b[1;33m)\u001b[0m\u001b[1;33m)\u001b[0m\u001b[1;33m\u001b[0m\u001b[1;33m\u001b[0m\u001b[0m\n\u001b[0;32m      7\u001b[0m \u001b[1;33m\u001b[0m\u001b[0m\n",
            "\u001b[1;31mUnboundLocalError\u001b[0m: local variable 'contador' referenced before assignment"
          ]
        }
      ],
      "source": [
        "contador = 0\n",
        "class scope:\n",
        "    def scope_test():\n",
        "        def do_global():\n",
        "            contador += 1 \n",
        "            print(\"contador = {}\".format(contador))\n",
        "        \n",
        "        do_global()\n",
        "     \n",
        "scope.scope_test()"
      ]
    },
    {
      "cell_type": "markdown",
      "metadata": {},
      "source": [
        "Esse exemplo traz um erro devido a variável global **contador** ser acessada dentro do escopo da função **do_global()**. Temos que indicar que essa variável é global na função **do_global()**.\n",
        "\n",
        "Veja o exemplo corrigido:"
      ]
    },
    {
      "cell_type": "code",
      "execution_count": 2,
      "metadata": {},
      "outputs": [
        {
          "name": "stdout",
          "output_type": "stream",
          "text": [
            "contador = 1\n"
          ]
        }
      ],
      "source": [
        "contador = 0\n",
        "class scope:\n",
        "    def scope_test():\n",
        "        def do_global():\n",
        "            global contador\n",
        "            contador += 1 \n",
        "            print(\"contador = {}\".format(contador))\n",
        "        \n",
        "        do_global()\n",
        "     \n",
        "scope.scope_test()"
      ]
    },
    {
      "cell_type": "markdown",
      "metadata": {},
      "source": [
        "*Exemplo 2.3:* exemplo com erro proposital devido a questão de escopo das variáveis"
      ]
    },
    {
      "cell_type": "code",
      "execution_count": 89,
      "metadata": {},
      "outputs": [
        {
          "name": "stdout",
          "output_type": "stream",
          "text": [
            "contador = 1\n"
          ]
        },
        {
          "ename": "UnboundLocalError",
          "evalue": "local variable 'contador1' referenced before assignment",
          "output_type": "error",
          "traceback": [
            "\u001b[1;31m---------------------------------------------------------------------------\u001b[0m",
            "\u001b[1;31mUnboundLocalError\u001b[0m                         Traceback (most recent call last)",
            "\u001b[1;32m~\\AppData\\Local\\Temp/ipykernel_1668/2614542837.py\u001b[0m in \u001b[0;36m<module>\u001b[1;34m\u001b[0m\n\u001b[0;32m     14\u001b[0m         \u001b[0mdo_nonlocal\u001b[0m\u001b[1;33m(\u001b[0m\u001b[1;33m)\u001b[0m\u001b[1;33m\u001b[0m\u001b[1;33m\u001b[0m\u001b[0m\n\u001b[0;32m     15\u001b[0m \u001b[1;33m\u001b[0m\u001b[0m\n\u001b[1;32m---> 16\u001b[1;33m \u001b[0mscope\u001b[0m\u001b[1;33m.\u001b[0m\u001b[0mscope_test\u001b[0m\u001b[1;33m(\u001b[0m\u001b[1;33m)\u001b[0m\u001b[1;33m\u001b[0m\u001b[1;33m\u001b[0m\u001b[0m\n\u001b[0m",
            "\u001b[1;32m~\\AppData\\Local\\Temp/ipykernel_1668/2614542837.py\u001b[0m in \u001b[0;36mscope_test\u001b[1;34m()\u001b[0m\n\u001b[0;32m     12\u001b[0m \u001b[1;33m\u001b[0m\u001b[0m\n\u001b[0;32m     13\u001b[0m         \u001b[0mdo_global\u001b[0m\u001b[1;33m(\u001b[0m\u001b[1;33m)\u001b[0m\u001b[1;33m\u001b[0m\u001b[1;33m\u001b[0m\u001b[0m\n\u001b[1;32m---> 14\u001b[1;33m         \u001b[0mdo_nonlocal\u001b[0m\u001b[1;33m(\u001b[0m\u001b[1;33m)\u001b[0m\u001b[1;33m\u001b[0m\u001b[1;33m\u001b[0m\u001b[0m\n\u001b[0m\u001b[0;32m     15\u001b[0m \u001b[1;33m\u001b[0m\u001b[0m\n\u001b[0;32m     16\u001b[0m \u001b[0mscope\u001b[0m\u001b[1;33m.\u001b[0m\u001b[0mscope_test\u001b[0m\u001b[1;33m(\u001b[0m\u001b[1;33m)\u001b[0m\u001b[1;33m\u001b[0m\u001b[1;33m\u001b[0m\u001b[0m\n",
            "\u001b[1;32m~\\AppData\\Local\\Temp/ipykernel_1668/2614542837.py\u001b[0m in \u001b[0;36mdo_nonlocal\u001b[1;34m()\u001b[0m\n\u001b[0;32m      8\u001b[0m             \u001b[0mprint\u001b[0m\u001b[1;33m(\u001b[0m\u001b[1;34m\"contador = {}\"\u001b[0m\u001b[1;33m.\u001b[0m\u001b[0mformat\u001b[0m\u001b[1;33m(\u001b[0m\u001b[0mcontador\u001b[0m\u001b[1;33m)\u001b[0m\u001b[1;33m)\u001b[0m\u001b[1;33m\u001b[0m\u001b[1;33m\u001b[0m\u001b[0m\n\u001b[0;32m      9\u001b[0m         \u001b[1;32mdef\u001b[0m \u001b[0mdo_nonlocal\u001b[0m\u001b[1;33m(\u001b[0m\u001b[1;33m)\u001b[0m\u001b[1;33m:\u001b[0m\u001b[1;33m\u001b[0m\u001b[1;33m\u001b[0m\u001b[0m\n\u001b[1;32m---> 10\u001b[1;33m             \u001b[0mcontador1\u001b[0m \u001b[1;33m+=\u001b[0m \u001b[1;36m1\u001b[0m\u001b[1;33m\u001b[0m\u001b[1;33m\u001b[0m\u001b[0m\n\u001b[0m\u001b[0;32m     11\u001b[0m             \u001b[0mprint\u001b[0m\u001b[1;33m(\u001b[0m\u001b[1;34m\"contador1 = {}\"\u001b[0m\u001b[1;33m.\u001b[0m\u001b[0mformat\u001b[0m\u001b[1;33m(\u001b[0m\u001b[0mcontador1\u001b[0m\u001b[1;33m)\u001b[0m\u001b[1;33m)\u001b[0m\u001b[1;33m\u001b[0m\u001b[1;33m\u001b[0m\u001b[0m\n\u001b[0;32m     12\u001b[0m \u001b[1;33m\u001b[0m\u001b[0m\n",
            "\u001b[1;31mUnboundLocalError\u001b[0m: local variable 'contador1' referenced before assignment"
          ]
        }
      ],
      "source": [
        "contador = 0\n",
        "class scope:\n",
        "    def scope_test():\n",
        "        contador1 = 2 \n",
        "        def do_global():\n",
        "            global contador\n",
        "            contador += 1 \n",
        "            print(\"contador = {}\".format(contador))\n",
        "        def do_nonlocal():\n",
        "            contador1 += 1 \n",
        "            print(\"contador1 = {}\".format(contador1))\n",
        "        \n",
        "        do_global()\n",
        "        do_nonlocal()\n",
        "\n",
        "scope.scope_test()\n"
      ]
    },
    {
      "cell_type": "markdown",
      "metadata": {},
      "source": [
        "Exemplo corrigido: como a variável *contador1* não é global (mas também não é local para o escopo da função **do_nonlocal**), precisamos indicar que a variável é **nonlocal**"
      ]
    },
    {
      "cell_type": "code",
      "execution_count": 3,
      "metadata": {},
      "outputs": [
        {
          "name": "stdout",
          "output_type": "stream",
          "text": [
            "contador = 1\n",
            "contador1 = 3\n"
          ]
        }
      ],
      "source": [
        "contador = 0\n",
        "class scope:\n",
        "    def scope_test():\n",
        "        contador1 = 2 \n",
        "        def do_global():\n",
        "            global contador\n",
        "            contador += 1 \n",
        "            print(\"contador = {}\".format(contador))\n",
        "        def do_nonlocal():\n",
        "            nonlocal contador1 \n",
        "            contador1 += 1 \n",
        "            print(\"contador1 = {}\".format(contador1))\n",
        "        \n",
        "        do_global()\n",
        "        do_nonlocal()\n",
        "\n",
        "scope.scope_test()"
      ]
    },
    {
      "cell_type": "markdown",
      "metadata": {},
      "source": [
        "*Exemplo 2.3:* escopo local para a classe"
      ]
    },
    {
      "cell_type": "code",
      "execution_count": 95,
      "metadata": {
        "colab": {
          "base_uri": "https://localhost:8080/"
        },
        "id": "li-LRCq9PZPt",
        "outputId": "b8e9dbba-4b2f-43d5-f48c-79561f8483b1"
      },
      "outputs": [
        {
          "name": "stdout",
          "output_type": "stream",
          "text": [
            "contador = 1\n",
            "contador1 = 3\n",
            "contador3 = 20\n"
          ]
        }
      ],
      "source": [
        "contador = 0\n",
        "class scope:\n",
        "    contador3 = 4 # variável local dessa classe\n",
        "    def scope_test():\n",
        "        contador1 = 2 \n",
        "        def do_global():\n",
        "            global contador\n",
        "            contador += 1 \n",
        "            print(\"contador = {}\".format(contador))\n",
        "        def do_nonlocal():\n",
        "            nonlocal contador1 \n",
        "            contador1 += 1 \n",
        "            print(\"contador1 = {}\".format(contador1))\n",
        "        \n",
        "        do_global()\n",
        "        do_nonlocal()\n",
        "\n",
        "scope.scope_test()\n",
        "# A variável é local para a classe e deve ser acessada com a instância da classe\n",
        "scope.contador3 = 20\n",
        "print(\"contador3 = {}\".format(scope.contador3))\n"
      ]
    },
    {
      "cell_type": "markdown",
      "metadata": {
        "id": "E8ssKHvpWSs1"
      },
      "source": [
        "## 3. Construtores em Python \n",
        "\n",
        "A operação de instanciação (construindo um objeto de classe) cria um objeto vazio. É usual criar objetos com instâncias personalizadas para um estado inicial específico. Esse é o papel do construtor, um método especial chamado __init__().\n",
        "\n",
        "Quando uma classe define um método __init__(), a instantaneização de classe invoca automaticamente __init__() para a instância de classe recém criada. \n",
        "\n",
        "Vejamo um exemplo.\n",
        "\n",
        "*Exemplo 3.1:*"
      ]
    },
    {
      "cell_type": "code",
      "execution_count": 4,
      "metadata": {
        "id": "37hDeL2NW3uF"
      },
      "outputs": [],
      "source": [
        "class Trabalhador:\n",
        "    # Aqui ficam os dados desse Trabalhador.\n",
        "\n",
        "    # Criando o construtor com esses dados\n",
        "    def __init__(self, nome, idade, cpf, salario):\n",
        "        self.nome = nome\n",
        "        self.idade = idade\n",
        "        self.cpf = cpf\n",
        "        self.salario = salario\n",
        "    \n",
        "    # Quando você chamar essa classe, terá que passar o nome do trabalhador, idade, cpf e salário.\n",
        "    # O parâmetro self serve para \"salvar\" os dados em cada instância dessa classe.\n",
        "\n",
        "class UnidadeEmpresaNatal:\n",
        "    # Nessas unidades da empresa em Natal, será passada a localidade, os ganhos e as perdas.\n",
        "    # Deste modo, quem cuida das empresas em Natal pode saber se estão dando prejuízo, ganhos, estatísticas e etc.\n",
        "\n",
        "    # Criando o construtor.\n",
        "    def __init__(self, local, ganhos, perdas):\n",
        "        self.local = local\n",
        "        self.ganhos = ganhos\n",
        "        self.perdas = perdas\n",
        "\n",
        "    # Diretores das lojas em Natal\n",
        "    Jose = Trabalhador('José', 32, 8345943, 9200)\n",
        "    Carlos = Trabalhador('Carlos', 33, 1256723, 4300)\n",
        "    Tobias = Trabalhador('Tobias', 38, 1567523, 6300)\n",
        "    Jaqueline = Trabalhador('Jaqueline', 22, 3453123, 9300)\n",
        "    Juliete = Trabalhador('Juliete', 42, 34563123, 12300)\n",
        "    \n",
        "    # Essa unidade pode desempenhar alguma função com esses funcionários \n",
        "    # acrescentar novas funções e etc.\n",
        "\n",
        "class EmpresasNordeste():\n",
        "    # Aqui dentro da classes de Empresas no Nordeste, algumas unidades da empresa em Natal podem ser adicionadas para\n",
        "    # gerenciamento, ver funções para análise de dados e etc.\n",
        "    unidade_natal_01 = UnidadeEmpresaNatal(\"Tirol\", 94302, 54900)\n",
        "    unidade_natal_02 = UnidadeEmpresaNatal(\"Lagoa-Azul\", 69302, 64900)\n",
        "    unidade_natal_03 = UnidadeEmpresaNatal(\"Santos Reis\", 102302, 78900)"
      ]
    },
    {
      "cell_type": "markdown",
      "metadata": {
        "id": "0agxtfgRbiqa"
      },
      "source": [
        "*Exemplo 3.2:* uma classe para números complexos"
      ]
    },
    {
      "cell_type": "code",
      "execution_count": 6,
      "metadata": {
        "colab": {
          "base_uri": "https://localhost:8080/"
        },
        "id": "3hQI1clibp9X",
        "outputId": "dc83f6e8-9642-4503-e619-9ed147926cce"
      },
      "outputs": [
        {
          "name": "stdout",
          "output_type": "stream",
          "text": [
            "2.23606797749979\n",
            "2.8284271247461903\n"
          ]
        }
      ],
      "source": [
        "class NumerosComplexos:\n",
        "\n",
        "  # Um número complexo possui uma parte real e uma parte imaginária.\n",
        "  # Criando o construtor.\n",
        "    def __init__(self, parte_real, parte_imaginaria):\n",
        "        self.real = parte_real\n",
        "        self.imagem = parte_imaginaria\n",
        "  # Uma operação clássica de número complexos é o módulo   \n",
        "    def modulo(self):\n",
        "        return (self.real **2 + self.imagem **2) ** (1/2)\n",
        "\n",
        "numero_complexo_1 = NumerosComplexos(1, 2)  #  1 + 2j\n",
        "print(numero_complexo_1.modulo())  # modulo desse número.\n",
        "\n",
        "numero_complexo_2 = NumerosComplexos(2, 2)  #  2 + 2j\n",
        "print(numero_complexo_2.modulo())  # modulo desse número."
      ]
    },
    {
      "cell_type": "markdown",
      "metadata": {
        "id": "99a0RFv3cyTh"
      },
      "source": [
        "*Exemplo 3.3:* uma gerência simples de estacionamento."
      ]
    },
    {
      "cell_type": "code",
      "execution_count": 17,
      "metadata": {
        "colab": {
          "base_uri": "https://localhost:8080/"
        },
        "id": "SLutMj5GcxwT",
        "outputId": "8a6965bc-1e26-4c87-b724-7db3a57160ac"
      },
      "outputs": [
        {
          "name": "stdout",
          "output_type": "stream",
          "text": [
            "Estacionamento Natal\n",
            "Estacionamento criado com 8 carros e 10 vagas\n",
            "Tentando adicionar 10 carros\n",
            "Não há vagas\n",
            "Tentando adicionar 1 carros\n",
            "Há vagas disponíveis\n",
            "Vagas restantes = 1\n",
            "\n",
            "\n",
            "Estacionamento Parnamirim\n",
            "Estacionamento criado com 10 carros e 100 vagas\n",
            "Tentando adicionar 10 carros\n",
            "Há vagas disponíveis\n",
            "Tentando adicionar 10 carros\n",
            "Há vagas disponíveis\n",
            "Vagas restantes = 70\n"
          ]
        }
      ],
      "source": [
        "class Estacionamento:\n",
        "    # Iremos criar um classe para gerência simples de estacionamentos\n",
        "\n",
        "    # Criando o construtor.\n",
        "    def __init__(self, numero_carros, vagas_no_estacionamento):\n",
        "        self.carros = numero_carros\n",
        "        self.vagas = vagas_no_estacionamento\n",
        "        print(\"Estacionamento criado com {} carros e {} vagas\".format(numero_carros, vagas_no_estacionamento))\n",
        "    \n",
        "    # Get para o número de vagas\n",
        "    def vagas_disponiveis(self):\n",
        "        return (self.vagas - self.carros)\n",
        "    # Set para adicionar carros\n",
        "    def mais_carros(self, nCarros):\n",
        "        print(\"Tentando adicionar {} carros\".format(nCarros))\n",
        "        if ( self.vagas_disponiveis() > nCarros ):\n",
        "            self.carros += nCarros\n",
        "            print(\"Há vagas disponíveis\")\n",
        "        else:\n",
        "            print(\"Não há vagas\")\n",
        "\n",
        "print(\"Estacionamento Natal\")\n",
        "estacionamento_natal = Estacionamento(8, 10)\n",
        "estacionamento_natal.mais_carros(10)\n",
        "estacionamento_natal.mais_carros(1)\n",
        "print(\"Vagas restantes = {}\".format(estacionamento_natal.vagas_disponiveis()))\n",
        "\n",
        "print(\"\\n\\nEstacionamento Parnamirim\")\n",
        "estacionamento_parna = Estacionamento(10, 100)\n",
        "estacionamento_parna.mais_carros(10)\n",
        "estacionamento_parna.mais_carros(10)\n",
        "print(\"Vagas restantes = {}\".format(estacionamento_parna.vagas_disponiveis()))\n"
      ]
    },
    {
      "cell_type": "markdown",
      "metadata": {
        "id": "N7wD6-cwgXrB"
      },
      "source": [
        "**Exercício 1 (para o relatório):**\n",
        "\n",
        "A partir da classe NumeroComplexo, faça uma função que retorna o ângulo de um número complexo. \n",
        "\n",
        "**Obs.**: Caso seja necessário, veja a próxima parte \"Bibliotecas em Python\" para importar a biblioteca `numpy` e utilizar a função `numpy.arctang()`.\n",
        "\n",
        "**Exercício 2 (para o relatório):**\n",
        "\n",
        "Use classes para criar um sistema bancário capaz de gerenciar contas bancárias de seus clientes. A classe pricipal deverá ter o nome banco. Use construtor para a classe. No seu código, mostre exemplo de duas instâncias da classe banco, mostrando exemplos de todas as operações implementadas.\n",
        "\n",
        "O programa bancário deve ser capaz de mostrar o saldo, extrato, realizar saques e depósitos.\n",
        "\n",
        "Construa uma função chamada deposito para realizar depósitos na conta.\n",
        "\n",
        "Construa uma função chamada saque para realizar retiradas na conta. \n",
        "\n",
        "Construa uma função chamada extrato para realizar retiradas na conta. \n",
        "\n",
        "Construa uma função chamada saldo para realizar retiradas na conta. \n",
        "\n",
        "**Observação:** saques só devem ser realizados se a conta tiver saldo positivo.\n",
        " "
      ]
    },
    {
      "cell_type": "markdown",
      "metadata": {
        "id": "Fo3p2xf1flgE"
      },
      "source": [
        "## 4.Bibliotecas em Python\n",
        "\n",
        "As bibliotecas e pacotes Python são um conjunto de módulos e funções úteis que facilitam a vida cotidiana do programador. São Classes que disponibilizam um conjunto de funcionalidades úteis para tarefas de programação.\n",
        "\n",
        "Nesta disciplina, usaremos várias bibliotecas, mas uma muito importante é a NumPy. \n",
        "\n",
        "\n",
        "Segundo [esse post](https://medium.com/ensina-ai/entendendo-a-biblioteca-numpy-4858fde63355), NumPy, que significa Numerical Python, é uma poderosa biblioteca da linguagem de programação Python, que consiste em objetos chamados de arrays (matrizes), que são multidimensionais. Além disso, essa biblioteca vem com uma coleção de rotinas para processar esses arrays.\n",
        "\n",
        "O NumPy fornece um grande conjunto de funções e operações de biblioteca que ajudam os programadores a executar facilmente cálculos numéricos. Esses tipos de cálculos numéricos são amplamente utilizados em tarefas como:\n",
        "\n",
        "- **Modelos de Machine Learning:** Ao escrever algoritmos de Machine Learning, supõe-se que se realize vários cálculos numéricos. Por exemplo, multiplicação, transposição, adição, etc. O NumPy fornece uma excelente biblioteca para cálculos fáceis (em termos de escrita de código) e rápidos (em termos de velocidade). Os Arrays do NumPy são usados para armazenar os dados de treinamento, bem como os parâmetros dos modelos de Machine Learning;\n",
        "\n",
        "- **Processamento de Imagem e Computação Gráfica:** O NumPy fornece algumas excelentes funções de biblioteca para rápida manipulação de imagens. Alguns exemplos são o espelhamento de uma imagem, a rotação de uma imagem por um determinado ângulo etc.\n",
        "\n",
        "- **Tarefas matemáticas:** NumPy é bastante útil para executar várias tarefas matemáticas como integração numérica, diferenciação, interpolação, extrapolação e muitas outras. O NumPy possui também funções incorporadas para álgebra linear e geração de números aleatórios. É uma biblioteca que pode ser usada em conjuto do SciPy e Matplotlib. Substituindo o MATLAB quando se trata de tarefas matemáticas, como ilustra a figuras a seguir.\n",
        "\n",
        "![](https://miro.medium.com/max/1400/1*itm7jgcg83noLZPzol6LHQ.png)\n",
        "\n",
        "*Exemplo 4.1:*"
      ]
    },
    {
      "cell_type": "code",
      "execution_count": 18,
      "metadata": {
        "colab": {
          "base_uri": "https://localhost:8080/"
        },
        "id": "6305rIahjQmc",
        "outputId": "e377ef06-1f3d-4029-8143-fe9ff7aabf0b"
      },
      "outputs": [
        {
          "name": "stdout",
          "output_type": "stream",
          "text": [
            "2.0\n",
            "0.7853981633974483\n",
            "4.0\n"
          ]
        }
      ],
      "source": [
        "# Para importarmos uma biblioteca, utilizamos o comando import\n",
        "# Exemplo:\n",
        "import numpy \n",
        "\n",
        "# Podemos importar uma biblioteca e utilizarmos com outro nome:\n",
        "import numpy as np\n",
        "\n",
        "# Nesse caso, a chamada da função será por np.\n",
        "# Exemplo\n",
        "print(np.sqrt(4))\n",
        "\n",
        "# Podemos importar uma função específica da biblioteca\n",
        "from numpy import arctan\n",
        "\n",
        "# Nesse caso, não precisamos chamar a biblioteca antes, basta chamarmos a função diretamente.\n",
        "# Exemplo\n",
        "\n",
        "print(arctan(1))\n",
        "\n",
        "# Podemos importar todas as funções de uma biblioteca com o seguinte comando:\n",
        "from numpy import *\n",
        "\n",
        "print(sqrt(16))\n",
        "\n"
      ]
    },
    {
      "cell_type": "markdown",
      "metadata": {
        "id": "AeN0ffGxmq83"
      },
      "source": [
        "# Referências Bibliográficas:\n",
        "\n",
        "**Aula 4, 5 - Noções Básicas de Programação**. Disponível em: <https://drive.google.com/drive/folders/18QRr5jc0HvRJrhKcI_UOU9mMZMCoxVdy?usp=sharing>. Acesso em 25 de setembro de 2021."
      ]
    }
  ],
  "metadata": {
    "colab": {
      "collapsed_sections": [],
      "name": "h01_aprendendo_python_3.ipynb",
      "provenance": []
    },
    "kernelspec": {
      "display_name": "Python 3",
      "name": "python3"
    },
    "language_info": {
      "codemirror_mode": {
        "name": "ipython",
        "version": 3
      },
      "file_extension": ".py",
      "mimetype": "text/x-python",
      "name": "python",
      "nbconvert_exporter": "python",
      "pygments_lexer": "ipython3",
      "version": "3.9.7"
    }
  },
  "nbformat": 4,
  "nbformat_minor": 0
}
