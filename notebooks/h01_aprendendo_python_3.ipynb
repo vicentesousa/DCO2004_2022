{
  "cells": [
    {
      "cell_type": "markdown",
      "metadata": {
        "id": "VWVzM9QHr1hP"
      },
      "source": [
        "# APRENDENDO PYTHON - GppCom - Parte 03 de 04\n",
        "## TERCEIRA PARTE - Do básico ao aprofundamento e aplicações.\n",
        "\n",
        "\n",
        "Python é uma linguagem de programação de propósito geral, que está cada vez mais popular no âmbito da Estatística e Aprendizado de Máquina, sendo muito utilizado na Ciência de Dados, principalmente pela facilidade na sintaxe e na manipulação de grandes conjuntos de dados.\n",
        "\n",
        "## O que veremos nessa parte:\n",
        "\n",
        "* Funções em Python\n",
        "* Funções `lambda`\n",
        "* Classes\n",
        "* Construtores\n",
        "* Bibliotecas\n",
        "\n",
        "---\n",
        "\n",
        "**Funções em Python**\n",
        "\n",
        "Como visto anteriormente, funções são um tema central em programação. As funções partes fundamentais do sistema - semelhante a uma parte do cérebro. Nessa parte, iremos aprofundar nosso conhecimento em funções e seus atributos.\n",
        "\n",
        "*Exemplo 1.*"
      ]
    },
    {
      "cell_type": "code",
      "execution_count": null,
      "metadata": {
        "colab": {
          "base_uri": "https://localhost:8080/"
        },
        "id": "9tg8sgZ7gLLQ",
        "outputId": "54b760cf-3888-4d1c-be7d-3eb768ab174d"
      },
      "outputs": [
        {
          "name": "stdout",
          "output_type": "stream",
          "text": [
            "A distância para um objeto cair com a gravidade no exoplaneta é 30.012500000000006\n",
            "A distância para um objeto cair com a gravidade no planeta terra é 480.2000000000001\n",
            "Você mora na cidade de Salvador ?\n",
            "Natal-RN é uma excelente cidade turística.\n",
            "Você prefere morar em Salvador ou em natal-RN?\n"
          ]
        }
      ],
      "source": [
        "# Como vimos anteriormente, as funções possuem uma chamada simples\n",
        "def funcao_simples(alguma_coisa):\n",
        "    # Realiza alguma coisa\n",
        "    return alguma_coisa\n",
        "\n",
        "# Podemos escolher o tipo de parâmetro que será passado para uma função:\n",
        "\n",
        "def exemplo0(ineiro: int, flutuante:float, stri: str, arrays: list):\n",
        "    # Faz alguma coisa com os dados\n",
        "    # Nem sempre uma função precisa retornar algo.\n",
        "    return None\n",
        "\n",
        "# Também podemos colocar uma função como um parãmetro pre-definido, sendo possível mudar\n",
        "def gravidade(posicao: float, g=9.8):\n",
        "    return g**2 * posicao / 2\n",
        "\n",
        "# Como quero a gravidade em outro exoplaneta, irei alterar aquele valor na chamada da função.\n",
        "# Exemplo:\n",
        "\n",
        "print(\"A distância para um objeto cair com a gravidade no exoplaneta é\", gravidade(10, 2.45))\n",
        "\n",
        "# Caso você utilize a terra como refer~encia, onde a aceleração da gravidade é aproximadamente 9.8 m/s^2\n",
        "# Podemos realizar a chamada da função passando apenas a posicao. Exemplo:\n",
        "\n",
        "print(\"A distância para um objeto cair com a gravidade no planeta terra é\", gravidade(10))\n",
        "\n",
        "# Podemos utilizar funções dentro de outras funções:\n",
        "\n",
        "def retorna_natal():\n",
        "    return \"Natal-RN é uma excelente cidade turística.\"\n",
        "\n",
        "def pergunta_cidade(cidade:str):\n",
        "    print(\"Você mora na cidade de\", cidade, \"?\")\n",
        "    print(retorna_natal())  # Utilizando outra função nesta função.\n",
        "    print(\"Você prefere morar em\", cidade, \"ou em natal-RN?\")\n",
        "\n",
        "pergunta_cidade(\"Salvador\")"
      ]
    },
    {
      "cell_type": "markdown",
      "metadata": {
        "id": "IybQcdOH5pR-"
      },
      "source": [
        "**Exercício 01**\n",
        "\n",
        "Faça um código que receba 3 notas de um aluno e determine se ele passou, ficou de recuperação ou reprovou. Caso consiga somar 21 pontos ou mais com as três notas, ele passa. Caso fique com a soma entre 12 e 21, está de recuperação e caso não consiga somar 12 pontos, está reprovado.\n",
        "\n",
        "**Exercício 02:**\n",
        "\n",
        "Construa uma função que:\n",
        "\n",
        "$$ f: \\mathbb{Z} \\to \\mathbb{Z} \\text{ tal que: } \\left\\{\\begin{align*} f(x) &= 0, \\text{ para x < 0} \\\\ f(x) &= \\frac{1}{2}, \\text{ para x = 0} \\\\ f(x) &= 1, \\text{ para x > 1}\\end{align*} \\right.$$\n",
        "\n",
        "**Exercício 03**\n",
        "\n",
        "Construa uma função que receba dois pontos flutuantes $[a, b]$, um valor de pertição $h$ e uma função qualquer $f$. Essa função deve calcular as derivadas entre os pontos $[a, b]$. Exemplo:\n",
        "\n",
        "f = 2*x + 2\n",
        "\n",
        "a = 0\n",
        "\n",
        "b = 2\n",
        "\n",
        "h = 0.5\n",
        "\n",
        "resultado = $\\left[\\frac{f(0.5) - f(0)}{0.5}, \\frac{f(1) - f(0.5)}{0.5}, \\frac{f(1.5) - f(1)}{0.5}, \\frac{f(2) - f(1.5)}{0.5} \\right]$\n",
        "\n",
        "**Exercício 4**\n",
        "\n",
        "Aplique a função do exercício 2 no exercício 1, com os parâmetros $a=-1$, $b = 1$ e $h = 0.1$. Qual o maior valor desse vetor? Por que esse fenômeno ocorre? \n",
        "\n",
        "---"
      ]
    },
    {
      "cell_type": "markdown",
      "metadata": {
        "id": "6y-OoA_U4xj0"
      },
      "source": [
        "**Funções `lambda`**\n",
        "\n",
        "As vezes desejamos criar funções de um modo rápido e que seja de fácil utilização. Para suprir essa demanada, o python tem as funções `lambda`. São de fácil formatação e utilização.\n",
        "\n",
        "*Exemplo 2.*"
      ]
    },
    {
      "cell_type": "code",
      "execution_count": null,
      "metadata": {
        "colab": {
          "base_uri": "https://localhost:8080/"
        },
        "id": "iRoB9oZ94pTU",
        "outputId": "d668b55b-f30e-4407-df68-22942f86c4ac"
      },
      "outputs": [
        {
          "name": "stdout",
          "output_type": "stream",
          "text": [
            "24\n",
            "3\n",
            " repetir  repetir \n",
            "outra coisa outra coisa outra coisa outra coisa \n",
            "[2, 2, 2, 2, 2]\n"
          ]
        },
        {
          "data": {
            "text/plain": [
              "3"
            ]
          },
          "execution_count": 35,
          "metadata": {},
          "output_type": "execute_result"
        }
      ],
      "source": [
        "funcao = lambda x: x**2 + 4* x + 3  # Criando uma função lambda\n",
        "print(funcao(3))\n",
        "print(funcao(0))\n",
        "\n",
        "funcao2 = lambda numero, string: numero * string  # Outra função em lambda\n",
        "print(funcao2(2, ' repetir '))\n",
        "print(funcao2(4, 'outra coisa '))\n",
        "\n",
        "# Utilização em List Comprehentions\n",
        "funcao = lambda x: x**2 - 4\n",
        "print([2 for i in range(-5, 5) if funcao(i) > 2])\n",
        "\n",
        "# Você também pode utilizar outra formatação para as funções lambdas\n",
        "(lambda x: x + 1)(2)  # Já aplica diretamente no objeto desejado"
      ]
    },
    {
      "cell_type": "markdown",
      "metadata": {
        "id": "Jw9Yc58Z-pOs"
      },
      "source": [
        "**Classes em Python**\n",
        "\n",
        "Como sabemos, python é uma linguagem voltada para programação aos objetos. Nesse sentido, classes proporcionam uma forma de organizar dados e funcionalidades juntas. Criar uma nova classe cria um novo “tipo” de objeto, permitindo que novas “instâncias” desse tipo sejam produzidas. Cada instância da classe pode ter atributos anexados a ela, para manter seu estado. Instâncias da classe também podem ter métodos (definidos pela classe) para modificar seu estado.\n",
        "\n",
        "*Exemplo 3.*"
      ]
    },
    {
      "cell_type": "code",
      "execution_count": null,
      "metadata": {
        "colab": {
          "base_uri": "https://localhost:8080/",
          "height": 235
        },
        "id": "qraugde2_mjC",
        "outputId": "eb3edc45-b2ae-4d30-fd49-1811340225bc"
      },
      "outputs": [
        {
          "name": "stdout",
          "output_type": "stream",
          "text": [
            "Uma variável só desta classe\n",
            "Essa é uma função local\n"
          ]
        },
        {
          "ename": "NameError",
          "evalue": "ignored",
          "output_type": "error",
          "traceback": [
            "\u001b[0;31m---------------------------------------------------------------------------\u001b[0m",
            "\u001b[0;31mNameError\u001b[0m                                 Traceback (most recent call last)",
            "\u001b[0;32m<ipython-input-40-ca480b5431e8>\u001b[0m in \u001b[0;36m<module>\u001b[0;34m()\u001b[0m\n\u001b[1;32m     15\u001b[0m \u001b[0;34m\u001b[0m\u001b[0m\n\u001b[1;32m     16\u001b[0m \u001b[0;34m\u001b[0m\u001b[0m\n\u001b[0;32m---> 17\u001b[0;31m \u001b[0mprint\u001b[0m\u001b[0;34m(\u001b[0m\u001b[0mvariavel_local\u001b[0m\u001b[0;34m)\u001b[0m  \u001b[0;31m# Aparece erro, pois não está definida Fora da classe.\u001b[0m\u001b[0;34m\u001b[0m\u001b[0;34m\u001b[0m\u001b[0m\n\u001b[0m",
            "\u001b[0;31mNameError\u001b[0m: name 'variavel_local' is not defined"
          ]
        }
      ],
      "source": [
        "class PrimeiraCLasse:\n",
        "    # Aqui está a sua classe, ondem ficam as suas variaveis locais (só desta classe)\n",
        "    variavel_local = \"Uma variável só desta classe\"\n",
        "\n",
        "    # E Funções locais (só desta classe)\n",
        "    def funcao_local():\n",
        "        print(\"Essa é uma função local\")\n",
        "\n",
        "\n",
        "# Para acessar os dados contido na classe, é necessário antes acessar a Classe.\n",
        "# Exemplo\n",
        "\n",
        "print(PrimeiraCLasse.variavel_local)\n",
        "PrimeiraCLasse.funcao_local()\n",
        "\n",
        "\n",
        "print(variavel_local)  # Aparece erro, pois não está definida Fora da classe."
      ]
    },
    {
      "cell_type": "markdown",
      "metadata": {
        "id": "wJztkLipO8gR"
      },
      "source": [
        "Como o nome já diz, usamos classes para classificar funções, métodos, variáveis e outras classes.\n",
        "\n",
        "*Exemplo 4.*"
      ]
    },
    {
      "cell_type": "code",
      "execution_count": null,
      "metadata": {
        "colab": {
          "base_uri": "https://localhost:8080/"
        },
        "id": "li-LRCq9PZPt",
        "outputId": "b8e9dbba-4b2f-43d5-f48c-79561f8483b1"
      },
      "outputs": [
        {
          "name": "stdout",
          "output_type": "stream",
          "text": [
            "After local assignment: test spam\n",
            "After nonlocal assignment: nonlocal spam\n",
            "After global assignment: nonlocal spam\n",
            "In global scope: global spam\n"
          ]
        }
      ],
      "source": [
        "def scope_test():\n",
        "    def do_local():\n",
        "        spam = \"local spam\"\n",
        "\n",
        "    def do_nonlocal():\n",
        "        nonlocal spam\n",
        "        spam = \"nonlocal spam\"\n",
        "\n",
        "    def do_global():\n",
        "        global spam\n",
        "        spam = \"global spam\"\n",
        "\n",
        "    spam = \"test spam\"\n",
        "    do_local()\n",
        "    print(\"After local assignment:\", spam)\n",
        "    do_nonlocal()\n",
        "    print(\"After nonlocal assignment:\", spam)\n",
        "    do_global()\n",
        "    print(\"After global assignment:\", spam)\n",
        "\n",
        "scope_test()\n",
        "print(\"In global scope:\", spam)"
      ]
    },
    {
      "cell_type": "markdown",
      "metadata": {
        "id": "E8ssKHvpWSs1"
      },
      "source": [
        "**Construtores em Python**\n",
        "\n",
        "A operação de instanciação (\"chamando\" um objeto de classe) cria um objeto vazio. Muitas classes gostam de criar objetos com instâncias personalizadas para um estado inicial específico. Portanto, uma classe pode definir um método especial chamado __init__().\n",
        "\n",
        "Quando uma classe define um método __init__(), a instantaneização de classe invoca automaticamente __init__() para a instância de classe recém-criada. Assim, neste exemplo, uma nova instância inicializada pode ser obtida por:\n",
        "\n",
        "*Exemplo 5*"
      ]
    },
    {
      "cell_type": "code",
      "execution_count": null,
      "metadata": {
        "id": "37hDeL2NW3uF"
      },
      "outputs": [],
      "source": [
        "class Trabalhador:\n",
        "    # Aqui dentro ficam os dados desse Trabalhador.\n",
        "\n",
        "    # Criando o construtor.\n",
        "    def __init__(self, nome, idade, cpf, salario):\n",
        "        self.nome = nome\n",
        "        self.idade = idade\n",
        "        self.cpf = cpf\n",
        "        self.salario = salario\n",
        "    \n",
        "    # Quando você chamar essa classe, terá que passar o nome do trabalhador, idade, cpf e salário.\n",
        "    # O parâmetro self serve para \"salvar\" os dados dessa classe e poder utilizar eles dentro dela.\n",
        "\n",
        "\n",
        "class UnidadeEmpresaNatal:\n",
        "    # Nessas unidades da empresa em natal, será passada a localidade, os ganhos e as perdas.\n",
        "    # Deste modo, a ´parte que cuida das empresas em natal podem saber se estão dando prejuízo, ganhos, estatísticas e etc.\n",
        "\n",
        "    # Criando o construtor.\n",
        "    def __init__(self, local, ganhos, perdas):\n",
        "        self.local = local\n",
        "        self.ganhos = ganhos\n",
        "        self.perdas = perdas\n",
        "\n",
        "    # Diretores das lojas em Natal\n",
        "    Jose = Trabalhador('José', 32, 8345943, 9200)\n",
        "    Carlos = Trabalhador('Carlos', 33, 1256723, 4300)\n",
        "    Tobias = Trabalhador('Tobias', 38, 1567523, 6300)\n",
        "    Jaqueline = Trabalhador('Jaqueline', 22, 3453123, 9300)\n",
        "    Juliete = Trabalhador('Juliete', 42, 34563123, 12300)\n",
        "    \n",
        "    # Essa unidade pode desempenhas alguma função com esses funcionários \n",
        "    # acrescentar novas funções e etc.\n",
        "\n",
        "class EmpresasNordeste():\n",
        "    # Aqui dentro da classes de Empresas no Nordeste, algumas unidades da Empresa em Natal podem ser adicionadas para\n",
        "    # gerenciamento, ver funções para análise de dados e Etc.\n",
        "    unidade_natal_01 = UnidadeEmpresaNatal(\"Tirol\", 94302, 54900)\n",
        "    unidade_natal_02 = UnidadeEmpresaNatal(\"Lagoa-Azul\", 69302, 64900)\n",
        "    unidade_natal_03 = UnidadeEmpresaNatal(\"Santos Reis\", 102302, 78900)"
      ]
    },
    {
      "cell_type": "markdown",
      "metadata": {
        "id": "0agxtfgRbiqa"
      },
      "source": [
        "*Exemplo 6.*"
      ]
    },
    {
      "cell_type": "code",
      "execution_count": null,
      "metadata": {
        "colab": {
          "base_uri": "https://localhost:8080/"
        },
        "id": "3hQI1clibp9X",
        "outputId": "dc83f6e8-9642-4503-e619-9ed147926cce"
      },
      "outputs": [
        {
          "name": "stdout",
          "output_type": "stream",
          "text": [
            "2.23606797749979\n"
          ]
        }
      ],
      "source": [
        "class NumerosComplexos:\n",
        "\n",
        "  # Um número complexo possui uma parte real e uma parte imaginário.\n",
        "  # Criando o construtor.\n",
        "    def __init__(self, parte_real, parte_imaginaria):\n",
        "        self.real = parte_real\n",
        "        self.imagem = parte_imaginaria\n",
        "    \n",
        "    def modulo(self):\n",
        "        return (self.real **2 + self.imagem **2) ** (1/2)\n",
        "\n",
        "numero_complexo_1 = NumerosComplexos(1, 2)  # Como se fosse 1 + 2j\n",
        "print(numero_complexo_1.modulo())  # modulo desse número."
      ]
    },
    {
      "cell_type": "markdown",
      "metadata": {
        "id": "99a0RFv3cyTh"
      },
      "source": [
        "*Exemplo 7.*"
      ]
    },
    {
      "cell_type": "code",
      "execution_count": null,
      "metadata": {
        "colab": {
          "base_uri": "https://localhost:8080/"
        },
        "id": "SLutMj5GcxwT",
        "outputId": "8a6965bc-1e26-4c87-b724-7db3a57160ac"
      },
      "outputs": [
        {
          "data": {
            "text/plain": [
              "2"
            ]
          },
          "execution_count": 55,
          "metadata": {},
          "output_type": "execute_result"
        }
      ],
      "source": [
        "class Estacionamento:\n",
        "    # Iremos criar um estacionamento\n",
        "\n",
        "    # Criando o construtor.\n",
        "    def __init__(self, numero_carros, vagas_no_estacionamento):\n",
        "        self.carros = numero_carros\n",
        "        self.vagas = vagas_no_estacionamento\n",
        "    \n",
        "    # Get para o numero de vagas\n",
        "    def vagas_disponiveis(self):\n",
        "        return (self.vagas - self.carros)\n",
        "\n",
        "\n",
        "estacionamento_teste = Estacionamento(8, 10)\n",
        "estacionamento_teste.vagas_disponiveis()"
      ]
    },
    {
      "cell_type": "markdown",
      "metadata": {
        "id": "N7wD6-cwgXrB"
      },
      "source": [
        "**Exercício 5**\n",
        "\n",
        "A partir da classe NumeroComplexo, faça uma função que retorn o ângulo de um número complexo. \n",
        "\n",
        "Obs: Caso seja necessário, veja a próxima parte \"Bibliotecas em Python\" para importar a biblioteca `numpy` e utilizar a função `numpy.arctang()`.\n",
        "\n",
        "**Exercício 6**\n",
        "\n",
        "Crie uma classe chamada Bikes, que receba o nome de uma bike, o preço e o ano de fabricação. Em seguida, crie a classe LojaDeBikes, que receba o nome do proprietário e a localização da loja. Nesta loja, deve haver pelo menos um modelo de bike.\n",
        "\n",
        "---"
      ]
    },
    {
      "cell_type": "markdown",
      "metadata": {
        "id": "Fo3p2xf1flgE"
      },
      "source": [
        "**Bibliotecas em Python**\n",
        "\n",
        "As bibliotecas e pacotes Python são um conjunto de módulos e funções úteis que minimizam o uso de código em nossa vida cotidiana. São Classes que importarmos para acessibilizar ou dinamizar uma tarefa.\n",
        "\n",
        "*Exemplo 8.*"
      ]
    },
    {
      "cell_type": "code",
      "execution_count": null,
      "metadata": {
        "colab": {
          "base_uri": "https://localhost:8080/"
        },
        "id": "6305rIahjQmc",
        "outputId": "e377ef06-1f3d-4029-8143-fe9ff7aabf0b"
      },
      "outputs": [
        {
          "name": "stdout",
          "output_type": "stream",
          "text": [
            "2.0\n",
            "0.7853981633974483\n"
          ]
        }
      ],
      "source": [
        "# Para importarmos uma biblioteca, utilizamos o comando import\n",
        "# Exemplo:\n",
        "import numpy\n",
        "\n",
        "# Podemos importar uma biblioteca e utilizarmos com outro nome:\n",
        "import numpy as np\n",
        "\n",
        "# Nesse caso, a chamada da função será por np.\n",
        "# Exemplo\n",
        "print(np.sqrt(4))\n",
        "\n",
        "# Podemos importar uma função específica da biblioteca\n",
        "from numpy import arctan\n",
        "\n",
        "# Nesse caso, não precisamos chamar a biblioteca antes, basta chamarmos a função diretamente.\n",
        "# Exemplo\n",
        "\n",
        "print(arctan(1))\n",
        "\n",
        "# Podemos importar todas as funções de uma biblioteca com o seguinte comando:\n",
        "from scipy import *"
      ]
    },
    {
      "cell_type": "markdown",
      "metadata": {
        "id": "a8KBE8kz-CJf"
      },
      "source": [
        "# Resolução dos exercícios\n",
        "\n",
        "**Exercícios 1, 2, 3 & 4**"
      ]
    },
    {
      "cell_type": "code",
      "execution_count": null,
      "metadata": {
        "colab": {
          "base_uri": "https://localhost:8080/"
        },
        "id": "4uGZStAx-ITt",
        "outputId": "c710e611-a72c-4524-f784-a07afc10bd88"
      },
      "outputs": [
        {
          "name": "stdout",
          "output_type": "stream",
          "text": [
            "[0.0, 0.0, 0.0, 0.0, 0.0, 0.0, 0.0, 0.0, 0.0, 10.0, 5.0, 0.0, 0.0, 0.0, 0.0, 0.0, 0.0, 0.0, 0.0, 0.0]\n"
          ]
        }
      ],
      "source": [
        "# Exercício 1\n",
        "def passar_na_escola(nota1, nota2, nota3):\n",
        "    soma = nota1 + nota2 + nota3\n",
        "    if soma >= 21:\n",
        "        print(\" O aluno passou.\")\n",
        "    elif soma >=12 and soma < 21:\n",
        "        print(\"O aluno está de recuperação.\")\n",
        "    else:\n",
        "        print(\"O aluno está reprovado :_(\")\n",
        "\n",
        "# Exercício 2\n",
        "def f(x):\n",
        "    if x < 0:\n",
        "        return 0\n",
        "    elif x == 0:\n",
        "        return 1/2\n",
        "    else:\n",
        "        return 1\n",
        "\n",
        "# Exerício 3\n",
        "def derivada(a:float, b:float, h:float, f):\n",
        "    # Determinado o número de partições:\n",
        "    # OBS: Estamos adotando que b > a para todos os casos.\n",
        "    numero_de_particoes = int((b-a)/h)\n",
        "    # Construindo a partição entre os pontos a e b usando list Comprehetions:\n",
        "    particao = [a + h*i for i in range(numero_de_particoes)]\n",
        "    # Criando o vetor derivada\n",
        "    vetor_derivada = []\n",
        "    # Realiza a derivada para cada parte infinitesimal do vetor.\n",
        "    for valor in particao:\n",
        "        vetor_derivada.append((f(valor+h) - f(valor))/h)\n",
        "    return vetor_derivada\n",
        "\n",
        "\n",
        "# Exercício 4\n",
        "print(derivada(-1, 1, 0.1, f))\n",
        "# Isso ocorre pois uma hora iremos fazer a diferença entre (1 - 0)/0.1 = 1/0.1 = 10\n",
        "# Rigorosamente falando, a função \"f\" que definimos é igual a função (sign(x)/2 + 1/2)\n",
        "# E quando diferenciamos ela, achamos a \"função\"(na verdade é uma distribuição temperada) delta. \n",
        "# Por causa disso que quando fazemos a sua diferenciação, achamos um valor mais alto para valores próximos de 0."
      ]
    },
    {
      "cell_type": "markdown",
      "metadata": {
        "id": "HO2hhmMuhbuo"
      },
      "source": [
        "**Exercícios 5 & 6**"
      ]
    },
    {
      "cell_type": "code",
      "execution_count": null,
      "metadata": {
        "colab": {
          "base_uri": "https://localhost:8080/"
        },
        "id": "Pw2oGSnQhbXv",
        "outputId": "489a99a9-c51c-470b-e447-1df22e04e23a"
      },
      "outputs": [
        {
          "name": "stdout",
          "output_type": "stream",
          "text": [
            "2.23606797749979\n",
            "1.1071487177940904\n"
          ]
        }
      ],
      "source": [
        "# Exercício 5\n",
        "import numpy as np\n",
        "\n",
        "class NumerosComplexos:\n",
        "\n",
        "  # Um número complexo possui uma parte real e uma parte imaginário.\n",
        "  # Criando o construtor.\n",
        "    def __init__(self, parte_real, parte_imaginaria):\n",
        "        self.real = parte_real\n",
        "        self.imagem = parte_imaginaria\n",
        "    \n",
        "    def modulo(self):\n",
        "        return (self.real **2 + self.imagem **2) ** (1/2)\n",
        "    \n",
        "    def angulo(self):\n",
        "        # Ângulo em Radianos.\n",
        "        return np.arctan(self.imagem / self.real)\n",
        "        \n",
        "\n",
        "numero_complexo_1 = NumerosComplexos(1, 2)  # Como se fosse 1 + 2j\n",
        "print(numero_complexo_1.modulo())  # modulo desse número.\n",
        "print(numero_complexo_1.angulo())  # ângulo desse número.\n",
        "\n",
        "# Exerício 6\n",
        "class Bikes:\n",
        "    def __init__(self, nome, preco, ano):\n",
        "        self.nome = nome\n",
        "        self.preco = preco\n",
        "        self.ano = ano\n",
        "\n",
        "class LojaDeBikes:\n",
        "    def __init__(self, nome_proprietario, localizacao):\n",
        "        self.proprietario = nome_proprietario\n",
        "        self.localizacao = localizacao\n",
        "    \n",
        "    bike_da_loja = Bikes(\"Hockhopper Expert\", 9800, 2018)"
      ]
    },
    {
      "cell_type": "markdown",
      "metadata": {
        "id": "AeN0ffGxmq83"
      },
      "source": [
        "# Referências Bibliográficas:\n",
        "\n",
        "**Aula 4, 5 - Noções Básicas de Programação**. Disponível em: <https://drive.google.com/drive/folders/18QRr5jc0HvRJrhKcI_UOU9mMZMCoxVdy?usp=sharing>. Acesso em 25 de setembro de 2021."
      ]
    }
  ],
  "metadata": {
    "colab": {
      "collapsed_sections": [],
      "name": "h01_aprendendo_python_3.ipynb",
      "provenance": []
    },
    "kernelspec": {
      "display_name": "Python 3",
      "name": "python3"
    },
    "language_info": {
      "name": "python"
    }
  },
  "nbformat": 4,
  "nbformat_minor": 0
}
