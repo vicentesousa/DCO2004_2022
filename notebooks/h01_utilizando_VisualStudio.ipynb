{
  "cells": [
    {
      "cell_type": "markdown",
      "metadata": {
        "id": "FEfzhcG6YsF5"
      },
      "source": [
        "# VISUAL STUDIO - AMBIENTES EM PYTHON - GppCom\n",
        "\n",
        "## **O QUE É O VISUAL STUDIO?**\n",
        "\n",
        "O Visual Studio Code é um editor de código-fonte desenvolvido pela Microsoft para Windows, Linux e macOS. Ele inclui suporte para depuração, controle de versionamento Git incorporado, realce de sintaxe, complementação inteligente de código, snippets e refatoração de código. [1]\n",
        "\n",
        "## **COMO FAZER O DOWNLOAD?**\n",
        "Em primeiro lugar, acesse o link de download clicando [aqui](https://code.visualstudio.com/download) ou acessando a página de downloads da microsoft. Na página, será possível escolher entre as versões para:\n",
        "* **Linux**\n",
        "* **Windows**\n",
        "* **Mac**\n",
        "\n",
        "Onde para cada sistema operacional haverão três possíbilidades.\n",
        "\n",
        "1 - **64 bits**: Para sistemas configurados em 64 bits\n",
        "\n",
        "2 - **32 bits**: Para sistemas configurados em 32 bits\n",
        "\n",
        "3 - **ARM**: Para sistemas com configurações diferentes (clustering)\n",
        "\n",
        "![](https://raw.githubusercontent.com/vicentesousa/DCO2004_2022/main/FIGS/HD_01_VisualStudioCode/foto%20-%2001.png)\n",
        "\n",
        "## **COMO FAZER A INSTALAÇÃO? - WINDOWS**\n",
        "\n",
        "Depois de entrar no link disponível acima e realizar o download, iniciaremos a instalação.\n",
        "\n",
        "![](https://raw.githubusercontent.com/vicentesousa/DCO2004_2022/main/FIGS/HD_01_VisualStudioCode/foto%20-%2002.png)\n",
        "\n",
        "Primeiro, clique no ícone de instalar e concorde com a Política de Privacidade e os Termos de Licença.\n",
        "\n",
        "![](https://raw.githubusercontent.com/vicentesousa/DCO2004_2022/main/FIGS/HD_01_VisualStudioCode/foto%20-%2003.png)\n",
        "\n",
        "Depois, utilize as configurações de instalação acima\n",
        "\n",
        "![](https://raw.githubusercontent.com/vicentesousa/DCO2004_2022/main/FIGS/HD_01_VisualStudioCode/foto%20-%2004.png)\n",
        "\n",
        "Conclua a instalação.\n",
        "\n",
        "Após todos os procedimentos serem realizados com exito, você estará apto para utilizador o Visual Studio Code.\n",
        "\n",
        "## **COMO FAZER A INSTALAÇÃO? - LINUX**\n",
        "\n",
        "![](https://raw.githubusercontent.com/vicentesousa/DCO2004_2022/main/FIGS/HD_01_VisualStudioCode/foto%20-%2001%20-%20linux.png)\n",
        "\n",
        "Depois de entrar no link disponível acima e realizar o download COM A CONFIGURAÇÃO CORRETA (.deb), iniciaremos a instalação.\n",
        "\n",
        "![](https://raw.githubusercontent.com/vicentesousa/DCO2004_2022/main/FIGS/HD_01_VisualStudioCode/foto%20-%2002%20-%20linux.png)\n",
        "\n",
        "Salve o arquivo\n",
        "\n",
        "![](https://github.com/vicentesousa/DCO2004_2022/blob/main/FIGS/HD_01_VisualStudioCode/foto%20-%2003%20-%20linux.png?raw=true)\n",
        "\n",
        "espere a instalação ficar pronta.\n",
        "\n",
        "![](https://github.com/vicentesousa/DCO2004_2022/blob/main/FIGS/HD_01_VisualStudioCode/foto%20-%2004%20-%20linux.png?raw=true)\n",
        "\n",
        "Depois, vá ao diretório Donwload, clique com o botão direito no arquivo e depois clique em \"Abrir como outra Aplicação\".\n",
        "\n",
        "![](https://github.com/vicentesousa/DCO2004_2022/blob/main/FIGS/HD_01_VisualStudioCode/foto%20-%2005%20-%20linux.png?raw=true)\n",
        "\n",
        "Clique em \"Instalação de Software\" e depois em \"SELECIONAR\".\n",
        "\n",
        "\n",
        "Após todos os procedimentos serem realizados com exito, você estará apto para utilizador o Visual Studio Code."
      ]
    },
    {
      "cell_type": "markdown",
      "metadata": {
        "id": "-1PwN2UzkbJc"
      },
      "source": [
        "# CONFIGURAÇÕES INICIAIS PARA O VISUAL STUDIO CODE\n",
        "\n",
        "Pirmeiramente, abra o Visual Studio Code e clique em \"Open Folder\".\n",
        "\n",
        "![](https://github.com/vicentesousa/DCO2004_2022/blob/main/FIGS/HD_01_VisualStudioCode/conf%20inicial%20-%2001.png?raw=true)\n",
        "\n",
        "Crie uma pasta no Desktop ou em outro local desejado.\n",
        "\n",
        "![](https://github.com/vicentesousa/DCO2004_2022/blob/main/FIGS/HD_01_VisualStudioCode/conf%20inicial%20-%2002.png?raw=true)\n",
        "\n",
        "![](https://github.com/vicentesousa/DCO2004_2022/blob/main/FIGS/HD_01_VisualStudioCode/conf%20inicial%20-%2003.png?raw=true)\n",
        "\n",
        "Depois, criei um arquivo nessa pasta.\n",
        "\n",
        "![](https://github.com/vicentesousa/DCO2004_2022/blob/main/FIGS/HD_01_VisualStudioCode/conf%20inicial%20-%2004.png?raw=true)\n",
        "\n",
        "![](https://github.com/vicentesousa/DCO2004_2022/blob/main/FIGS/HD_01_VisualStudioCode/conf%20inicial%20-%2005.png?raw=true)\n",
        "\n",
        "Realize a instalação do plugin do interpretador Python.\n",
        "\n",
        "![](https://github.com/vicentesousa/DCO2004_2022/blob/main/FIGS/HD_01_VisualStudioCode/conf%20inicial%20-%2006.png?raw=true)\n",
        "\n",
        "Ou pode ser por essa forma: \n",
        "\n",
        "![](https://github.com/vicentesousa/DCO2004_2022/blob/main/FIGS/HD_01_VisualStudioCode/conf%20inicial%20-%2007.png?raw=true)\n",
        "\n",
        "Depois, faça uma pequeno programa em python para teste.\n",
        "\n",
        "![](https://github.com/vicentesousa/DCO2004_2022/blob/main/FIGS/HD_01_VisualStudioCode/conf%20inicial%20-%2008.png?raw=true)\n",
        "\n",
        "Para executar o programa, faça o seguinte procedimento:\n",
        "\n",
        "* Adicione um terminal de execução\n",
        "\n",
        "![](https://github.com/vicentesousa/DCO2004_2022/blob/main/FIGS/HD_01_VisualStudioCode/conf%20inicial%20-%2009.png?raw=true)\n",
        "\n",
        "* Execute o programa.\n",
        "\n",
        "![](https://github.com/vicentesousa/DCO2004_2022/blob/main/FIGS/HD_01_VisualStudioCode/conf%20inicial%20-%2010.png?raw=true)"
      ]
    },
    {
      "cell_type": "markdown",
      "metadata": {},
      "source": [
        "# Depuração - debuggin\n",
        "\n",
        "Uma das principais características do Visual Studio Code é o seu grande suporte de depuração. O depurador embutido do VS Code ajuda a acelerar seu loop de edição, compilação e depuração."
      ]
    },
    {
      "cell_type": "markdown",
      "metadata": {},
      "source": [
        "![](https://code.visualstudio.com/assets/docs/editor/debugging/debugging_hero.png)\n",
        "\n",
        "Para trazer à tona a exibição Executar, selecione o ícone Executar na barra de atividades na lateral do Código VS. Você também pode usar o atalho de teclado `Ctrl+Shift+D`.\n",
        "\n",
        "![](https://code.visualstudio.com/assets/docs/editor/debugging/run.png)\n",
        "\n",
        "Se a execução e a depuração ainda não estiver configuradas (nenhum foi criado), o VS Code mostrará a exibição de início de Execução.\n",
        "\n",
        "![](https://code.visualstudio.com/assets/docs/editor/debugging/debug-start.png)\n",
        "\n",
        "O menu `Executar` na barra superior tem os comandos de execução e depuração mais comuns:\n",
        "\n",
        "![](https://code.visualstudio.com/assets/docs/editor/debugging/debug-menu.png)\n",
        "\n",
        "Para mais informações sobre a depuração, clique [aqui](https://code.visualstudio.com/docs/editor/debugging) e consulte o site oficial."
      ]
    },
    {
      "cell_type": "markdown",
      "metadata": {
        "id": "slOGFVJ_1M-R"
      },
      "source": [
        "# VIDEOS ADICIONAIS PARA A CONFIGURAÇÃO E INSTALAÇÃO.\n"
      ]
    },
    {
      "cell_type": "markdown",
      "metadata": {},
      "source": [
        "## Tópicos Abordados: \n",
        "\n",
        "* **Visual Studio Code no Windows e rodar código Python (1)**\n",
        "* **Jupyter Notebook no Visual Studio Code (2)**\n",
        "* **Como usar o Visual Studio Code com o GitHub (3)**\n",
        "* **Como Ser Mais Produtivo no Visual Studio Code (4)**\n",
        "* **How to Download and Install Visual Studio Code on Ubuntu 20.04 (5)**\n",
        "\n",
        "\n",
        "1 - https://www.youtube.com/watch?v=Z12w7PZWc2E\n",
        "\n",
        "\n",
        "2 - https://www.youtube.com/watch?v=FrVT_kmmc68\n",
        "\n",
        "\n",
        "3 - https://www.youtube.com/watch?v=-wiWHswK-Go\n",
        "\n",
        "\n",
        "4 - https://www.youtube.com/watch?v=FCC2GbStmfc\n",
        "\n",
        "\n",
        "5 - https://www.youtube.com/watch?v=f9sD1DpnhuI"
      ]
    },
    {
      "cell_type": "markdown",
      "metadata": {
        "id": "A_9qoesXZSqi"
      },
      "source": [
        "# REFERÊNCIAS BIBLIOGRÁFICAS:\n",
        "- [1] Microsoft Visual Studio. Disponível em: <https://pt.wikipedia.org/wiki/Visual_Studio_Code>. Acesso em 20 de outubro de 2021."
      ]
    }
  ],
  "metadata": {
    "colab": {
      "collapsed_sections": [],
      "name": "h01_utilizando_VisualStudio.ipynb",
      "provenance": []
    },
    "kernelspec": {
      "display_name": "Python 3",
      "name": "python3"
    },
    "language_info": {
      "codemirror_mode": {
        "name": "ipython",
        "version": 3
      },
      "file_extension": ".py",
      "mimetype": "text/x-python",
      "name": "python",
      "nbconvert_exporter": "python",
      "pygments_lexer": "ipython3",
      "version": "3.9.0"
    }
  },
  "nbformat": 4,
  "nbformat_minor": 0
}
