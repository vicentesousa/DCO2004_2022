{
  "cells": [
    {
      "cell_type": "markdown",
      "metadata": {
        "id": "x7DnMMbrNSWy"
      },
      "source": [
        "# APRENDENDO PYTHON - Parte 03 de 04: QUARTA PARTE - do aprofundamento e aplicações para o avançado.\n",
        "\n",
        "## O que veremos nessa parte:\n",
        "\n",
        "1. Bibilotecas padrão do python (inclusas no instalação)\n",
        "2. Biblioteca Numpy\n",
        "3. Biblioteca Matplotlib\n",
        "4. biblioteca Pandas"
      ]
    },
    {
      "cell_type": "markdown",
      "metadata": {
        "id": "ADycBoKMN-RA"
      },
      "source": [
        "## 1. As Bibliotecas padrões do Python\n",
        "As bibliotecas padrões do Python são muito extensas, oferecendo uma ampla gama de recursos. A biblioteca contém módulos embutidos (escritos em C) que fornecem acesso à funcionalidade do sistema, como I/O de arquivos que de outra forma seriam inacessíveis para programadores Python. Existem também módulos escritos em Python que fornecem soluções padronizadas para muitos problemas que ocorrem em programação cotidiana. Alguns desses módulos são explicitamente projetados para incentivar e aprimorar a portabilidade de programas em Python, abstraindo os detalhes da plataforma em APIs neutras, independente de plataforma.\n",
        "\n",
        "\n",
        "Fonte [Python Org](https://docs.python.org/pt-br/3/library/)\n",
        "\n",
        "Dentre as bibliotecas padrões, citamos as seguintes:\n",
        "\n",
        "- math (funções matemáticas)\n",
        "- cmath (numéros complexos)\n",
        "- random (funções relacionadas a números aleatórios)\n",
        "- statistics (estatísticas em geral)\n",
        "- pickle (trabalha com serialização de dados)\n",
        "- csv (para dados em csv)\n",
        "- os (importante biblioteca para acessar funções do sistema operacional)\n",
        "- socket (comunicação em rede)\n",
        "- urllib (para acessar e manipular URLs)\n",
        "\n",
        "Como falar de todas as bibliotecas seria complicado, iremos utilizar somente algumas.\n",
        "\n",
        "Vejamos alguns exemplos.\n",
        "\n",
        "*Exemplo 1.1:*\n"
      ]
    },
    {
      "cell_type": "code",
      "execution_count": null,
      "metadata": {
        "colab": {
          "base_uri": "https://localhost:8080/"
        },
        "id": "uwMpjIKdKRDX",
        "outputId": "32d42afe-1ec6-47cb-de37-04bdc579040e"
      },
      "outputs": [
        {
          "name": "stdout",
          "output_type": "stream",
          "text": [
            "0.0 / 1.0 / 1.2246467991473532e-16\n"
          ]
        }
      ],
      "source": [
        "# Bilioteca de matemática\n",
        "import math\n",
        "\n",
        "seno_0 = math.sin(0)             # calcula o seno de zero\n",
        "seno_90 = math.sin(math.pi/2)    # calcula o seno de 90 graus\n",
        "seno_180 = math.sin(math.pi)     # calcula o seno de 180\n",
        "\n",
        "print(seno_0,'/',seno_90,'/', seno_180)\n",
        "# Note que o seno de 180 está dando um valor extremamente baixo (10^-16), i.e., aproximadamanete 0"
      ]
    },
    {
      "cell_type": "markdown",
      "metadata": {},
      "source": [
        "*Exemplo 1.2:*"
      ]
    },
    {
      "cell_type": "code",
      "execution_count": null,
      "metadata": {
        "colab": {
          "base_uri": "https://localhost:8080/"
        },
        "id": "Szz_XrHhTctd",
        "outputId": "a25c287f-cc6c-4c91-f92d-1e6b48d3b193"
      },
      "outputs": [
        {
          "name": "stdout",
          "output_type": "stream",
          "text": [
            "0.7442234721891892\n",
            "96\n",
            "4.886122037403065\n",
            "azul\n"
          ]
        }
      ],
      "source": [
        "#Biblioteca Aleatória\n",
        "import random\n",
        "\n",
        "numero_aleatorio = random.random()  # gera um numéro entre 0 e 1.\n",
        "print(numero_aleatorio)\n",
        "\n",
        "numero_inteiro = random.randint(10, 100)  # Gera um número inteiro entre 10 e 100.\n",
        "print(numero_inteiro)\n",
        "\n",
        "media = 5\n",
        "desv_padrao = 0.5\n",
        "numero_gausiano = random.gauss(media, desv_padrao)  # gera um número aleatório com distribuição gaussina com média e desvio padrão especificados.\n",
        "print(numero_gausiano)\n",
        "\n",
        "escolha = random.choice(['verde', 'vermelho', 'azul', 'roxo', 'violeta']) # Escolhe uma opção com igual probabilidade\n",
        "print(escolha)"
      ]
    },
    {
      "cell_type": "markdown",
      "metadata": {
        "id": "4BkPAw9r12Wl"
      },
      "source": [
        "## 2. Biblioteca Numpy\n",
        "\n",
        "Criado em 2005 por Travis Oliphant, o projeto NumPy foi baseado nos projetos Numeric e Numarray com o objetivo de reunir a comunidade em torno de um único framework de processamento de arrays. Portanto, o pacote NumPy, denominado dessa forma devido a abreviação de Numerical Python (Python Numérico), é uma biblioteca de código aberto destinada a realizar operações em arrays multidimensionais, amigavelmente denominada como ndarray nesta biblioteca.\n",
        "\n",
        "Devido sua construção e funcionalidades serem baseadas na estrutura de dados ndarray, a biblioteca oferece operações rápidas para tratamento e limpeza de dados, geração de subconjuntos e filtragens, estatísticas descritivas, manipulação de dados relacionais, manipulações de dados em grupos, entre outros tipos de processamento.\n",
        "\n",
        "Além dos recursos mais voltados a aplicações de análise de dados, no NumPy Python você também encontrará funções matemáticas para operações rápidas em arrays, sem a necessidade de escrever laços, recursos de álgebra linear, geração de números aleatórios, transformadas de Fourier, ferramentas para trabalhar com dados mapeados em memória, como também uma API para conectar o NumPy Python a bibliotecas escritas em C, C++ e FORTRAN.\n",
        "\n",
        "Essa poderosa biblioteca do Python é usada extensivamente por outras bibliotecas super populares, como o Pandas, scikit-learn, matplotlib e em grande parte de bibliotecas voltadas para a área de ciência de dados.\n",
        "\n",
        "Tudo que você tiver uma grande quantidade de dados você vai ver que essa biblioteca vai estar presente.\n",
        "\n",
        "Bom, até aqui você já pode perceber que o pacote NumPy Python se baseia em uma estrutura central muito importante. Mas afinal, o que são esses tais arrays?\n",
        "\n",
        "#### O que são arrays?\n",
        "\n",
        "Um array é uma estrutura multidimensional que nos permite armazenar dados na memória do nosso computador, de modo que cada item localizado nessa estrutura pode ser encontrado por meio de um esquema de indexação. O NumPy Python denomina essa estrutura como ndarray, como forma de abreviação a array N-dimensional.\n",
        "\n",
        "\n",
        "Nessa sessão você vai aprender:\n",
        "\n",
        "2.1. Importação da bilbioteca \n",
        "2.2 Tipos de Array;\n",
        "2.3. Como criar um Array;\n",
        "2.4. Concatenar Arrays;\n",
        "2.5. Consultar itens de um Arrays;\n",
        "2.6. Operações com Arrays;\n",
        "2.7. Gerando amostras aleatórias;\n",
        "2.8. Diferença entre Arrays e Listas.\n",
        "\n",
        "### 2.1. Importação\n",
        "\n",
        "Para importar a biblioteca NumPy é só incluir a seguinte linha no seu código:\n",
        "\n",
        "`import numpy as np`\n",
        "\n",
        "Após a importação, podemos usar as funções da biblioteca ao acessá-las por meio da variável **np**. \n",
        "\n",
        "### 2.2. Tipos de Array\n",
        "\n",
        "O ndarray armazena os elementos sempre com o mesmo formato, por isso é conhecido como uma estrutura homogênea de dados, nas dimensões definidas pela aplicação ou pelo desenvolvedor. As dimensões na biblioteca do NumPy são conhecidas como eixos (do inglês axis).\n",
        "\n",
        "Um ndarray unidimensional, ou seja, que apresenta um eixo (uma dimensão), é muito parecido com a estrutura de listas do próprio Python. Também podemos relacionar esse ndarray a uma coluna ou linha de uma planilha. Já a estrutura ndarray bidimensional, que apresenta dois eixos, é uma matriz na qual podemos relacionar a uma planilha de dados, com colunas e linhas.\n",
        "\n",
        "Portanto, um Array é um conjunto de dados que pode estar disposto em diferentes dimensões. Assim, podemos definir:\n",
        "\n",
        "1D array – Possui apenas uma dimensão. Será comumente chamado de vetor ou vector;\n",
        "\n",
        "2D array – Possui 2 dimensões. Será comumente chamado de matriz ou matrix;\n",
        "\n",
        "3D ou Mais array – Possui 3 ou mais dimensões. Será comumente chamado de tensor.\n",
        "\n",
        "Veja uma ilustração:\n",
        "\n",
        "![](https://harve.com.br/wp-content/uploads/2021/09/array.png.webp)\n",
        "\n",
        "### 2.3 Criando um array\n",
        "\n",
        "*Exemplo 2.3.1:* podemos usar **np.array()** para criar arrays. Vejamos alguns exemplos:"
      ]
    },
    {
      "cell_type": "code",
      "execution_count": null,
      "metadata": {
        "colab": {
          "base_uri": "https://localhost:8080/"
        },
        "id": "8PcktK2tBxBB",
        "outputId": "c0642881-46a9-462f-b6f4-8533b65eb023"
      },
      "outputs": [
        {
          "name": "stdout",
          "output_type": "stream",
          "text": [
            "[1 2 3 4 5 6]\n",
            "<class 'numpy.ndarray'>\n",
            "[[1. 2. 3.]\n",
            " [4. 5. 6.]]\n",
            "A vairável b é <class 'tuple'>\n",
            "A vairável ba é <class 'numpy.ndarray'>\n"
          ]
        }
      ],
      "source": [
        "import numpy as np\n",
        "\n",
        "a = np.array([1,2,3,4,5,6])\n",
        "print (a)\n",
        "print (type(a))\n",
        "\n",
        "b = [1,2,3],[4,5,6]\n",
        "ba = np.array(b, dtype=float)\n",
        "print (ba)\n",
        "print (\"A vairável b é {}\".format(type(b)))\n",
        "print (\"A vairável ba é {}\".format(type(ba)))"
      ]
    },
    {
      "cell_type": "markdown",
      "metadata": {
        "id": "4JWjuj3dDAQY"
      },
      "source": [
        "Inicialmente, utilizamos o np.array para criar um conjunto de dados de uma dimensão e atribuir esse conjunto a uma variável. O **print (type(a))** apenas retorna o tipo de variável que foi criada.\n",
        "\n",
        "Posteriormente, utilizamos o np.array para criar um array bi-dimensional.\n",
        "\n",
        "*Exemplo 2.3.2:* podemos usar **np.zeros()** para criar arrays. Vejamos alguns exemplos:\n"
      ]
    },
    {
      "cell_type": "code",
      "execution_count": null,
      "metadata": {
        "colab": {
          "base_uri": "https://localhost:8080/"
        },
        "id": "LPRcsJdJESR3",
        "outputId": "dd2cea06-7617-4a14-e0f2-1c998aad0de4"
      },
      "outputs": [
        {
          "name": "stdout",
          "output_type": "stream",
          "text": [
            "[[[0. 0. 0. 0. 0. 0.]\n",
            "  [0. 0. 0. 0. 0. 0.]\n",
            "  [0. 0. 0. 0. 0. 0.]]\n",
            "\n",
            " [[0. 0. 0. 0. 0. 0.]\n",
            "  [0. 0. 0. 0. 0. 0.]\n",
            "  [0. 0. 0. 0. 0. 0.]]\n",
            "\n",
            " [[0. 0. 0. 0. 0. 0.]\n",
            "  [0. 0. 0. 0. 0. 0.]\n",
            "  [0. 0. 0. 0. 0. 0.]]\n",
            "\n",
            " [[0. 0. 0. 0. 0. 0.]\n",
            "  [0. 0. 0. 0. 0. 0.]\n",
            "  [0. 0. 0. 0. 0. 0.]]\n",
            "\n",
            " [[0. 0. 0. 0. 0. 0.]\n",
            "  [0. 0. 0. 0. 0. 0.]\n",
            "  [0. 0. 0. 0. 0. 0.]]]\n"
          ]
        }
      ],
      "source": [
        "import numpy as np\n",
        "\n",
        "zero_array = np.zeros(shape = (5,3,6))\n",
        "print (zero_array)"
      ]
    },
    {
      "cell_type": "markdown",
      "metadata": {
        "id": "TWBqWkYyE3E_"
      },
      "source": [
        "Nesse caso, utilizamos o **np.zeros** para criar um array tri-dimensional com zeros (pode-se utilizar o **np.ones** para criar um conjunto com 1).\n",
        "\n",
        "O parâmetro **shape** é uma forma de informar ao Python as dimensões do nosso array. Então, é como se fossem 5 matrizes de 3 linhas e 6 colunas.\n",
        "\n",
        "*Exemplo 2.3.3:* podemos usar **np.arange()** para criar arrays. Vejamos alguns exemplos:"
      ]
    },
    {
      "cell_type": "code",
      "execution_count": null,
      "metadata": {
        "colab": {
          "base_uri": "https://localhost:8080/"
        },
        "id": "4j6UweDXfEIm",
        "outputId": "b1edbdf4-4043-49dc-db75-62d7b4fa0fe6"
      },
      "outputs": [
        {
          "name": "stdout",
          "output_type": "stream",
          "text": [
            "[0 1 2 3 4 5 6 7 8 9]\n",
            "[ 3  5  7  9 11 13]\n"
          ]
        }
      ],
      "source": [
        "import numpy as np\n",
        "# Primeiro exemplo\n",
        "zero_dez = np.arange(10) # Cria um array de 10 elementos\n",
        "print (zero_dez)\n",
        "\n",
        "# Segundo exemplo\n",
        "pula_dois = np.arange(3,15,2) #(início, fim, salto)\n",
        "print (pula_dois)"
      ]
    },
    {
      "cell_type": "markdown",
      "metadata": {
        "id": "zNEd_Sy71J0Y"
      },
      "source": [
        "Como o **np.arrange**, nós conseguimos criar conjunto de dados em sequência sem que você perca tempo tendo que escrever esse conjunto. Então, podemos tanto informar a quantidade de dados que vamos ter e será feita uma sequência de 0 até aquele valor (como no primeiro exemplo de 0 a 9, totalizando 10 elementos).\n",
        "\n",
        "E no segundo exemplo temos a informação que queremos do número 3 ao 15 aumentando de 2 em 2.\n",
        "\n",
        "Então, são formas mais rápidas para construir um array sem que você tenha que escrever tudo de forma manual, o que seria horrível para conjuntos de dados muito grandes.\n",
        "\n",
        "*Exemplo 2.3.4:* podemos usar **np.linspace()** para criar arrays. Vejamos alguns exemplos:"
      ]
    },
    {
      "cell_type": "code",
      "execution_count": null,
      "metadata": {
        "colab": {
          "base_uri": "https://localhost:8080/"
        },
        "id": "qp_n4fDa2fAt",
        "outputId": "66405d74-7f0f-4343-859f-a44e8f10596f"
      },
      "outputs": [
        {
          "name": "stdout",
          "output_type": "stream",
          "text": [
            "(array([ 0.,  5., 10., 15., 20., 25., 30., 35., 40., 45., 50., 55., 60.,\n",
            "       65., 70., 75., 80., 85., 90., 95.]), 5.0)\n"
          ]
        }
      ],
      "source": [
        "import numpy as np\n",
        "\n",
        "array_linear = np.linspace(0, 100, num = 20, endpoint = False, retstep = True) # Cria um array de 10 elementos\n",
        "print (array_linear)"
      ]
    },
    {
      "cell_type": "markdown",
      "metadata": {
        "id": "GoPvk35A3YR9"
      },
      "source": [
        "O **np.linspace** permite com que você crie uma sequência linear de valores espaçados igualmente entre si.\n",
        "\n",
        "Nesse caso, queremos uma sequência de 0 a 100 com 20 elementos. Então, o próprio código já vai fazer esse espaçamento igual e já vai te dar todos os elementos desse conjunto de dados.\n",
        "\n",
        "**Obs.:** Nesse caso, nós temos o parâmetro *endpoint = False*, e isso significa que não vamos considerar o valor 100. Estamos indicando que ele não precisa aparecer dentro do conjunto craido. Isso faz com que o espaçamento linear seja de 5 em 5. Caso contrário, você pode fazer um teste para ver como ficaria esse conjunto se considerar o ponto final!\n",
        "\n",
        "Outro parâmetro interessante é o *retstep = True*. Ele é esse número que é mostrado após o conjunto de dados craido. Ele nada mais é do que o espaçamento que foi dado entre cada um dos números. Nesse caso, é de 5 em 5 e facilmente você percebe isso. Contudo, em alguns casos pode ser necessário checar, e para não ter que fazer conta, basta utilizar esse recurso!\n",
        "\n",
        "\n",
        "*Exemplo 3.3.5:* existem três comando para descobrir o tamanho de um array:\n",
        "\n",
        "`shape`: mostra o formato do conjunto de dados\n",
        "\n",
        "`size`: tamanho do conjunto de dados\n",
        "\n",
        "`ndim`: mostra o número de dimensões\n",
        "\n",
        "Vejamos:"
      ]
    },
    {
      "cell_type": "code",
      "execution_count": null,
      "metadata": {
        "colab": {
          "base_uri": "https://localhost:8080/"
        },
        "id": "Z0kO66LTepC9",
        "outputId": "ecb658bd-978f-4824-dfd1-5d4586e1df99"
      },
      "outputs": [
        {
          "name": "stdout",
          "output_type": "stream",
          "text": [
            "[[[0. 0. 0. 0. 0. 0.]\n",
            "  [0. 0. 0. 0. 0. 0.]\n",
            "  [0. 0. 0. 0. 0. 0.]]\n",
            "\n",
            " [[0. 0. 0. 0. 0. 0.]\n",
            "  [0. 0. 0. 0. 0. 0.]\n",
            "  [0. 0. 0. 0. 0. 0.]]\n",
            "\n",
            " [[0. 0. 0. 0. 0. 0.]\n",
            "  [0. 0. 0. 0. 0. 0.]\n",
            "  [0. 0. 0. 0. 0. 0.]]\n",
            "\n",
            " [[0. 0. 0. 0. 0. 0.]\n",
            "  [0. 0. 0. 0. 0. 0.]\n",
            "  [0. 0. 0. 0. 0. 0.]]\n",
            "\n",
            " [[0. 0. 0. 0. 0. 0.]\n",
            "  [0. 0. 0. 0. 0. 0.]\n",
            "  [0. 0. 0. 0. 0. 0.]]]\n",
            "(5, 3, 6)\n",
            "90\n",
            "3\n"
          ]
        }
      ],
      "source": [
        "import numpy as np\n",
        "\n",
        "zero_array = np.zeros(shape = (5,3,6))\n",
        "print (zero_array)\n",
        "print (zero_array.shape)\n",
        "print (zero_array.size)\n",
        "print (zero_array.ndim)"
      ]
    },
    {
      "cell_type": "markdown",
      "metadata": {
        "id": "ufsmzWskfbvc"
      },
      "source": [
        "### 2.4 Concatenando Arrays\n",
        "\n",
        "As vezes é necessário juntar as informações para construir um outro array dependendo do que está trabalhando. Então, é importante saber não só como construi-los, mas minupula-los dentro do Python.\n",
        "\n",
        "\n",
        "*Exemplo 2.4.1:* a função **np.concatenate** serve para juntar arrays."
      ]
    },
    {
      "cell_type": "code",
      "execution_count": 1,
      "metadata": {
        "colab": {
          "base_uri": "https://localhost:8080/"
        },
        "id": "pzM691nMfq7t",
        "outputId": "cc3553bf-2c20-4ed4-b835-d81c425be28a"
      },
      "outputs": [
        {
          "name": "stdout",
          "output_type": "stream",
          "text": [
            "[1 2 3 4 5 6]\n",
            "[4 5 6 1 2 3]\n"
          ]
        }
      ],
      "source": [
        "import numpy as np\n",
        "\n",
        "a = np.array([1,2,3])\n",
        "b = np.array([4,5,6])\n",
        "\n",
        "c = np.concatenate((a,b))\n",
        "d = np.concatenate((b,a))\n",
        "\n",
        "print(c)\n",
        "print(d)"
      ]
    },
    {
      "cell_type": "markdown",
      "metadata": {
        "id": "a2eSZbJpqcg7"
      },
      "source": [
        "### 2.5. Consultando itens de um Array\n",
        "\n",
        "Algo muito necessário, assim como temos nas listas, é consultar informações dentro de um array. Com arrays, podemos consultar valores que satisfazem algum condição. Vejamos um exemplo.\n",
        "\n",
        "*Exemplo 2.5.1:* "
      ]
    },
    {
      "cell_type": "code",
      "execution_count": 2,
      "metadata": {
        "colab": {
          "base_uri": "https://localhost:8080/"
        },
        "id": "flY8rf-bqi0T",
        "outputId": "00287280-24f4-4ac2-bb8f-520540a3ef33"
      },
      "outputs": [
        {
          "name": "stdout",
          "output_type": "stream",
          "text": [
            "[[ 1  2  3  4]\n",
            " [ 5  6  7  8]\n",
            " [ 9 10 11 12]]\n",
            "------------------------\n",
            "[array([[ True,  True,  True,  True],\n",
            "       [ True,  True,  True, False],\n",
            "       [False, False, False, False]])]\n",
            "------------------------\n",
            "[1 2 3 4 5 6 7]\n"
          ]
        }
      ],
      "source": [
        "import numpy as np\n",
        "\n",
        "a = np.array([[1,2,3,4],[5,6,7,8],[9,10,11,12]])\n",
        "print(a)\n",
        "print('------------------------')\n",
        "print([a<8])\n",
        "print('------------------------')\n",
        "print(a[a<8])\n"
      ]
    },
    {
      "cell_type": "markdown",
      "metadata": {},
      "source": [
        "O código acima cria um array **a** e opera em seus elementos para selecionar número menores que 8. Veja que a operação **[a<8]** resulta em um array de boleanos, composte de valores *True* onde a condição é verdadeira, e *False*, caso contrário. Ao entrar com esse array de boleanos como operador do vetor **a**, fazendo **a[a<8]**, temos a seleção dos valores que atendem a condição de valores menores que 8.\n",
        "\n",
        "\n",
        "*Exemplo 2.5.2:* consulta tradicional a elementos de uma array"
      ]
    },
    {
      "cell_type": "code",
      "execution_count": 25,
      "metadata": {},
      "outputs": [
        {
          "name": "stdout",
          "output_type": "stream",
          "text": [
            "a[0:2,:]: todos os elementos das duas primeiras linhas\n",
            "[[1 2 3 4]\n",
            " [5 6 7 8]]\n",
            "\n",
            "a[0:2]: todos os elementos das duas primeiras linhas (na verdade, não precisa especificar o :)\n",
            "[[1 2 3 4]\n",
            " [5 6 7 8]]\n",
            "\n",
            "a[0:2,2:4]: todos os elementos das duas primeiras linhas e das terceria e quarta colunas\n",
            "[[3 4]\n",
            " [7 8]]\n",
            "\n",
            "a[0:2]: os elementos de todas as linhas e das terceira e quarta colunas\n",
            "[[ 3  4]\n",
            " [ 7  8]\n",
            " [11 12]]\n"
          ]
        }
      ],
      "source": [
        "import numpy as np\n",
        "\n",
        "a = np.array([[1,2,3,4],[5,6,7,8],[9,10,11,12]])\n",
        "\n",
        "print('a[0:2,:]: todos os elementos das duas primeiras linhas')\n",
        "print(a[0:2,:]) \n",
        "\n",
        "print('\\na[0:2]: todos os elementos das duas primeiras linhas (na verdade, não precisa especificar o :)')\n",
        "print(a[0:2]) \n",
        "\n",
        "print('\\na[0:2,2:4]: todos os elementos das duas primeiras linhas e das terceria e quarta colunas')\n",
        "print(a[0:2,2:4]) # Duas primeiras linhas\n",
        "\n",
        "print('\\na[0:2]: os elementos de todas as linhas e das terceira e quarta colunas')\n",
        "print(a[:,2:4])\n"
      ]
    },
    {
      "cell_type": "markdown",
      "metadata": {},
      "source": [
        "**Atenção:** é sempre bom testar os índices, pois a numeração começa em 0 e o índice final, depois de **:**, não é incluído."
      ]
    },
    {
      "cell_type": "markdown",
      "metadata": {
        "id": "TIO5FRkdHhGQ"
      },
      "source": [
        "### 2.6. Operações com Arrays\n",
        "\n",
        "Como qualquer tratamento ou análise de dados, é necessário fazer algumas operações matemáticas. Com arrays não seria diferente, mas com a facilidade de realizarmos a operação no conjunto de dados de uma vez só. Então, vamos exemplificar algumas das principais operações que podemos fazer com os arrays:\n",
        "\n",
        "**Soma:** `.sum()` soma os elementos do array;\n",
        "\n",
        "**Valor mínimo:** `.min()` retorna o elemento de menor valor do array;\n",
        "\n",
        "**Valor máximo:** `.max()` retorna o elemento de maior valor do array;\n",
        "\n",
        "**Média:** `.mean()` retorna a media dos valores do array.\n",
        "\n",
        "*Exemplo 2.6.1:*"
      ]
    },
    {
      "cell_type": "code",
      "execution_count": 27,
      "metadata": {
        "colab": {
          "base_uri": "https://localhost:8080/"
        },
        "id": "1lyE1TNLJ8Ap",
        "outputId": "7719d7db-5b03-4a52-f2ee-18cf637c817d"
      },
      "outputs": [
        {
          "name": "stdout",
          "output_type": "stream",
          "text": [
            "6\n",
            "1\n",
            "3\n",
            "2.0\n"
          ]
        }
      ],
      "source": [
        "import numpy as np\n",
        "\n",
        "a = np.array([1,2,3])\n",
        "\n",
        "print (a.sum())\n",
        "print (a.min())\n",
        "print (a.max())\n",
        "print (a.mean())"
      ]
    },
    {
      "cell_type": "markdown",
      "metadata": {
        "id": "jc1RBZ_cL-JJ"
      },
      "source": [
        "### 2.7. Gerando amostras aleatórias com o NumPy\n",
        "\n",
        "Podemos gerar arrays de número aletórios usando a NumPy. Vejamos um exemplo.\n",
        "\n",
        "*Exemplo 2.7.1:*\n"
      ]
    },
    {
      "cell_type": "code",
      "execution_count": null,
      "metadata": {
        "colab": {
          "base_uri": "https://localhost:8080/"
        },
        "id": "kdyZ6pnxNMll",
        "outputId": "ab6e809b-ede1-4502-f416-bbc90243c2c0"
      },
      "outputs": [
        {
          "name": "stdout",
          "output_type": "stream",
          "text": [
            "[[6 6 1 1]\n",
            " [3 7 7 4]]\n"
          ]
        }
      ],
      "source": [
        "import numpy as np\n",
        "from numpy.random import default_rng\n",
        "\n",
        "rng=default_rng()\n",
        "aleatorio = rng.integers(10, size=(2,4))\n",
        "print(aleatorio)"
      ]
    },
    {
      "cell_type": "markdown",
      "metadata": {},
      "source": [
        "Aqui, importamos a biblioteca `default_rng` e utilizamos o `rng.integers` para gerar números inteiros aleatórios."
      ]
    },
    {
      "cell_type": "markdown",
      "metadata": {
        "id": "dpPv9Dw9PvcN"
      },
      "source": [
        "### 2.8. Outros pontos importantes sobre arrays\n",
        "\n",
        "Outro ponto muito importante é que o array não permite tipos de dados diferentes. Então, se colocarmos um texto dentro desse conjunto de dados, o Python passa a classificar os dados dentro do conjunto como string, mesmo que um inteiro seja inserido posteriormente.\n",
        "\n",
        "Lembre que isso não acontece no tipo **list**, em que cada elemento vai ser classificado de acordo com o seu tipo original."
      ]
    },
    {
      "cell_type": "markdown",
      "metadata": {
        "id": "E1BqpqufQl5P"
      },
      "source": [
        "*Exemplo 2.8.1:*"
      ]
    },
    {
      "cell_type": "code",
      "execution_count": 29,
      "metadata": {
        "colab": {
          "base_uri": "https://localhost:8080/"
        },
        "id": "eXCYoIMuUA6u",
        "outputId": "ba81f45b-929c-42d2-bfbb-ed67bdc7a381"
      },
      "outputs": [
        {
          "name": "stdout",
          "output_type": "stream",
          "text": [
            "['1' 'Daniel' '2' '3' '4' '5' '6' '7' '8']\n",
            "<class 'numpy.str_'>\n",
            "<class 'numpy.str_'>\n",
            "-----------------------------------\n",
            "[1, 'Daniel', 2, 3, 4, 5, 6, 7, 8]\n",
            "<class 'int'>\n",
            "<class 'str'>\n"
          ]
        }
      ],
      "source": [
        "import numpy as np\n",
        "\n",
        "# Arrays não permitem tipos de dados distintos\n",
        "a = np.array([1,'Daniel',2,3,4,5,6,7,8])\n",
        "print (a)\n",
        "print (type(a[0]))\n",
        "print (type(a[1]))\n",
        "print('-----------------------------------')\n",
        "\n",
        "# As listas permitem\n",
        "lista_a = [1,'Daniel',2,3,4,5,6,7,8]\n",
        "print (lista_a)\n",
        "print (type(lista_a[0]))\n",
        "print (type(lista_a[1]))\n"
      ]
    },
    {
      "cell_type": "markdown",
      "metadata": {
        "id": "edkDT05Hum5u"
      },
      "source": [
        "Como esse exemplo, é possível verificar que os dados da lista são de tipos diferentes. O que não acontece com o array."
      ]
    },
    {
      "cell_type": "markdown",
      "metadata": {
        "id": "_vhaWTo6skHA"
      },
      "source": [
        "## 3. Biblioteca Matplotlib\n",
        "\n",
        "A matplotlib é uma das bibliotecas python mais utilizadas, graças a facilidade com que ela trabalha com manipulação de gráficos.\n",
        "\n",
        "### 3.1 Importação\n",
        "\n",
        "Vamos utilizar o sub módulo pyplot dessa biblioteca. Usaremos a variável *plt* para facilitar o uso do pyplot. Nesse caso é para sempre que for utilizar algum comando não tenha que escrever matplotlib.pyplot e escrever somente plt.\n"
      ]
    },
    {
      "cell_type": "code",
      "execution_count": null,
      "metadata": {
        "id": "AXO6BmLbunru"
      },
      "outputs": [],
      "source": [
        "import matplotlib.pyplot as plt"
      ]
    },
    {
      "cell_type": "markdown",
      "metadata": {
        "id": "qQjk2oqCuuAX"
      },
      "source": [
        "*Exemplo 3.1.1: crie seu primeiro gráfico em Python"
      ]
    },
    {
      "cell_type": "code",
      "execution_count": 31,
      "metadata": {
        "colab": {
          "base_uri": "https://localhost:8080/",
          "height": 265
        },
        "id": "yoOaD-pyuTqg",
        "outputId": "57620747-9f8a-41e4-91d5-cdeffd18c320"
      },
      "outputs": [
        {
          "data": {
            "image/png": "[encoded data removed]",
            "text/plain": [
              "<Figure size 432x288 with 1 Axes>"
            ]
          },
          "metadata": {
            "needs_background": "light"
          },
          "output_type": "display_data"
        }
      ],
      "source": [
        "import matplotlib.pyplot as plt\n",
        "x = [1, 2, 3, 4]\n",
        "y = [2, 3, 4, 3]\n",
        "\n",
        "plt.plot(x, y)\n",
        "plt.show()"
      ]
    },
    {
      "cell_type": "markdown",
      "metadata": {
        "id": "5Au0aRTnwVQ_"
      },
      "source": [
        "Esse exemlo usou a função `plot()` para gerar a gráfico e a função `show()` para o visualizarmos.\n",
        "\n",
        "Podemos editar algumas propriedades do gráfico gerado usando os seguinte comandos."
      ]
    },
    {
      "cell_type": "code",
      "execution_count": 33,
      "metadata": {
        "colab": {
          "base_uri": "https://localhost:8080/",
          "height": 295
        },
        "id": "fOknIfWiwu5O",
        "outputId": "d23d5fe8-a125-450b-85e0-c96420876bc6"
      },
      "outputs": [
        {
          "data": {
            "image/png": "[encoded data removed]",
            "text/plain": [
              "<Figure size 432x288 with 1 Axes>"
            ]
          },
          "metadata": {
            "needs_background": "light"
          },
          "output_type": "display_data"
        }
      ],
      "source": [
        "plt.plot(x, y, label='dados')\n",
        "plt.ylabel('Eixo Y')\n",
        "plt.xlabel('Eixo X')\n",
        "plt.title('Meu primeiro gráfico')\n",
        "plt.xticks([0,1,2,3,4,5,6])\n",
        "plt.yticks([0,2,4,6])\n",
        "plt.legend()\n",
        "plt.show()"
      ]
    },
    {
      "cell_type": "markdown",
      "metadata": {
        "id": "E5bdfgBKybYO"
      },
      "source": [
        "Além de plotar o gráfico podemos alterar o estilo da linha (linestyle), assim como a própria cor (color) da linha para facilitar a visualização."
      ]
    },
    {
      "cell_type": "code",
      "execution_count": 34,
      "metadata": {
        "colab": {
          "base_uri": "https://localhost:8080/",
          "height": 265
        },
        "id": "JMqRhKA5y4oW",
        "outputId": "d1b0c661-b7d5-4442-f417-a8833cfdb227"
      },
      "outputs": [
        {
          "data": {
            "image/png": "[encoded data removed]",
            "text/plain": [
              "<Figure size 432x288 with 1 Axes>"
            ]
          },
          "metadata": {
            "needs_background": "light"
          },
          "output_type": "display_data"
        }
      ],
      "source": [
        "plt.plot(x, y, linestyle='--',color = 'y', lw=10.0)\n",
        "plt.show()"
      ]
    },
    {
      "cell_type": "markdown",
      "metadata": {
        "id": "PAnBNtfpz1jF"
      },
      "source": [
        "*Exemplo 3.1.2:*\n",
        "\n",
        "Podemos também utilizar diferentes tipos de gráfico, como o gráfico de pontos (scatter) ou até mesmo gráfico de barras (bar).\n",
        "\n",
        "**.Scatter()**"
      ]
    },
    {
      "cell_type": "code",
      "execution_count": 35,
      "metadata": {
        "colab": {
          "base_uri": "https://localhost:8080/",
          "height": 265
        },
        "id": "FP9W43qdz5w1",
        "outputId": "9e8069b6-b78a-4623-aaae-823d83dbe011"
      },
      "outputs": [
        {
          "data": {
            "image/png": "[encoded data removed]",
            "text/plain": [
              "<Figure size 432x288 with 1 Axes>"
            ]
          },
          "metadata": {
            "needs_background": "light"
          },
          "output_type": "display_data"
        }
      ],
      "source": [
        "plt.scatter(x, y)\n",
        "plt.show()"
      ]
    },
    {
      "cell_type": "markdown",
      "metadata": {
        "id": "CzJ6UYdD0BZG"
      },
      "source": [
        "**.Bar()**"
      ]
    },
    {
      "cell_type": "code",
      "execution_count": 36,
      "metadata": {
        "colab": {
          "base_uri": "https://localhost:8080/",
          "height": 265
        },
        "id": "auEBbO3T0EcG",
        "outputId": "66bd7cb4-b5ca-4006-dfc5-c294aa9c7497"
      },
      "outputs": [
        {
          "data": {
            "image/png": "[encoded data removed]",
            "text/plain": [
              "<Figure size 432x288 with 1 Axes>"
            ]
          },
          "metadata": {
            "needs_background": "light"
          },
          "output_type": "display_data"
        }
      ],
      "source": [
        "plt.bar(x, y)\n",
        "plt.show()"
      ]
    },
    {
      "cell_type": "markdown",
      "metadata": {
        "id": "XKBOFN3P1SVl"
      },
      "source": [
        "**Alterando os marcadores do gráfico**\n",
        "\n",
        "Nesse caso estamos colocando em vermelho (r) e estamos representando os dados com círculos (o) por isso o “ro” dentro do plot."
      ]
    },
    {
      "cell_type": "code",
      "execution_count": null,
      "metadata": {
        "colab": {
          "base_uri": "https://localhost:8080/",
          "height": 265
        },
        "id": "vqkM0FjS1Yul",
        "outputId": "456aac8f-f412-40f9-8f66-9705a2f8cb35"
      },
      "outputs": [
        {
          "data": {
            "image/png": "[encoded data removed]",
            "text/plain": [
              "<Figure size 432x288 with 1 Axes>"
            ]
          },
          "metadata": {
            "needs_background": "light"
          },
          "output_type": "display_data"
        }
      ],
      "source": [
        "plt.plot(x, y, 'ro')\n",
        "plt.show()"
      ]
    },
    {
      "cell_type": "markdown",
      "metadata": {
        "id": "8WlkdDFH2U58"
      },
      "source": [
        "*Exemplo 3.1.3:*\n",
        "\n",
        "Podemos alterar também os limites do gráfico, para ajustar o tamanho de acordo com a sua necessidade. Dentro de axis podemos colocar os limites mínimos e máximos dos eixos x e y. Assim, teremos um tamanho de acordo com sua necessidade e não um tamanho variável de acordo com cada informação de entrada."
      ]
    },
    {
      "cell_type": "code",
      "execution_count": 37,
      "metadata": {
        "colab": {
          "base_uri": "https://localhost:8080/",
          "height": 265
        },
        "id": "sTsjkFf32but",
        "outputId": "fd659e1a-6329-4caf-e03d-2269987957a4"
      },
      "outputs": [
        {
          "data": {
            "image/png": "[encoded data removed]",
            "text/plain": [
              "<Figure size 432x288 with 1 Axes>"
            ]
          },
          "metadata": {
            "needs_background": "light"
          },
          "output_type": "display_data"
        }
      ],
      "source": [
        "plt.plot(x, y)\n",
        "plt.axis(xmin=-1, xmax=20, ymin=-5, ymax=15)\n",
        "plt.axis('auto')\n",
        "plt.axis('square')\n",
        "plt.show()"
      ]
    },
    {
      "cell_type": "markdown",
      "metadata": {
        "id": "jODymWcj4GEO"
      },
      "source": [
        "Com esses conhecimentos, você já deve ter um conhecimento mínimo para trabalhar com gráficos, inclusive aplicando os conhecimentos da biblioteca NumPy."
      ]
    },
    {
      "cell_type": "markdown",
      "metadata": {
        "id": "zELbWM3gBrua"
      },
      "source": [
        "## 4. Biblioteca Pandas\n",
        "\n",
        "Pandas é uma ferramenta rápida, poderosa, flexível e fácil de usar, muito útil na análise e manipulação de dados de código aberto, construída em linguagem Python.  Em particular, oferece estruturas e operações para manipular tabelas numéricas e séries temporais. \n",
        "\n",
        "De acordo com o próprio criador dessa biblioteca, Wes McKinney, o nome Pandas é derivado de panel data (dados em painel), um termo de econometria para conjuntos de dados estruturados. O surgimento da biblioteca, no início de 2008, começou devido a insatisfação de McKinney de obter uma ferramenta de processamento de dados de alto desempenho, com recursos flexíveis de manipulação de planilhas e de banco de dados relacionais.\n",
        "O pandas permite trabalhar com diferentes tipos de dados, por exemplo:\n",
        "\n",
        "- Dados tabulares, como uma planilha Excel ou uma tabela SQL;\n",
        "- Dados ordenados de modo temporal ou não;\n",
        "- Matrizes;\n",
        "- Qualquer outro conjunto de dados, que não necessariamente precisem estar rotulados;\n",
        " \n",
        "\n",
        "A mágica de ler, manipular, agregar e exibir os dados com poucos comandos explica porque a biblioteca tem se tornado tão popular. Aliás, tudo isso é possível devido às estruturas primárias do Pandas, as famosas Series e DataFrames.\n",
        "\n",
        "Os dois principais objetos da biblioteca Pandas são as **Series** e os **DataFrames**. Uma Serie é uma matriz unidimensional que contém uma sequência de valores que apresentam uma indexação (que podem ser numéricos inteiros ou rótulos), muito parecida com uma única coluna no Excel.\n",
        "\n",
        "Já o DataFrame é uma estrutura de dados tabular, semelhante a planilha de dados do Excel, em que tanto as linhas quanto as colunas apresentam rótulos. Veja a ilustração:\n",
        "\n",
        "![](https://harve.com.br/wp-content/uploads/2021/05/Series-e-dataframe-pandas-python-768x959.png)\n",
        "\n",
        "A partir dos objetos principais, a biblioteca Pandas disponibiliza um conjunto de funcionalidades sofisticadas de indexação, que permite reformatar, manipular, agregar ou selecionar subconjuntos específicos dos dados que estamos trabalhando.\n",
        "\n",
        "A biblioteca Pandas apresenta alguns vantagens, entre elas:\n",
        "\n",
        "- A facilidade de aprender e de utilizar a biblioteca\n",
        "- Comunidade crescente e muito ativa\n",
        "- Suporte para alinhamento automático ou explícito dos dados\n",
        "- Tratamento flexível e simplificado de dados ausentes\n",
        "- Uso de operações\n",
        "- Combinações e operações relacionais\n",
        "- Informações estatísticas\n",
        "- Séries temporais\n",
        "- Visualização de dados\n",
        "- Documentação\n",
        "\n",
        "Praticaremos alguns dessas vantagens no exemplos a seguir.\n",
        "\n",
        "*Exemplo 4.1:* criação de um dataset"
      ]
    },
    {
      "cell_type": "code",
      "execution_count": 45,
      "metadata": {
        "colab": {
          "base_uri": "https://localhost:8080/",
          "height": 206
        },
        "id": "e5hzir4KCZ5x",
        "outputId": "c4a8bf15-ca57-4f83-db05-7e96b1462ba4"
      },
      "outputs": [
        {
          "data": {
            "text/html": [
              "<div>\n",
              "<style scoped>\n",
              "    .dataframe tbody tr th:only-of-type {\n",
              "        vertical-align: middle;\n",
              "    }\n",
              "\n",
              "    .dataframe tbody tr th {\n",
              "        vertical-align: top;\n",
              "    }\n",
              "\n",
              "    .dataframe thead th {\n",
              "        text-align: right;\n",
              "    }\n",
              "</style>\n",
              "<table border=\"1\" class=\"dataframe\">\n",
              "  <thead>\n",
              "    <tr style=\"text-align: right;\">\n",
              "      <th></th>\n",
              "      <th>Year</th>\n",
              "      <th>GDP</th>\n",
              "      <th>Population</th>\n",
              "      <th>Variation</th>\n",
              "    </tr>\n",
              "  </thead>\n",
              "  <tbody>\n",
              "    <tr>\n",
              "      <th>0</th>\n",
              "      <td>1998</td>\n",
              "      <td>1.22</td>\n",
              "      <td>7.3</td>\n",
              "      <td>12</td>\n",
              "    </tr>\n",
              "    <tr>\n",
              "      <th>1</th>\n",
              "      <td>1999</td>\n",
              "      <td>1.32</td>\n",
              "      <td>7.3</td>\n",
              "      <td>80</td>\n",
              "    </tr>\n",
              "    <tr>\n",
              "      <th>2</th>\n",
              "      <td>2000</td>\n",
              "      <td>1.56</td>\n",
              "      <td>7.4</td>\n",
              "      <td>-30</td>\n",
              "    </tr>\n",
              "    <tr>\n",
              "      <th>3</th>\n",
              "      <td>2001</td>\n",
              "      <td>1.61</td>\n",
              "      <td>7.5</td>\n",
              "      <td>10</td>\n",
              "    </tr>\n",
              "    <tr>\n",
              "      <th>4</th>\n",
              "      <td>2002</td>\n",
              "      <td>1.69</td>\n",
              "      <td>7.5</td>\n",
              "      <td>-89</td>\n",
              "    </tr>\n",
              "  </tbody>\n",
              "</table>\n",
              "</div>"
            ],
            "text/plain": [
              "   Year   GDP  Population  Variation\n",
              "0  1998  1.22         7.3         12\n",
              "1  1999  1.32         7.3         80\n",
              "2  2000  1.56         7.4        -30\n",
              "3  2001  1.61         7.5         10\n",
              "4  2002  1.69         7.5        -89"
            ]
          },
          "execution_count": 45,
          "metadata": {},
          "output_type": "execute_result"
        }
      ],
      "source": [
        "import pandas as pd\n",
        "\n",
        "# Criando um dataset - País imaginário\n",
        "\n",
        "# Obs.: Utilizaremos a formatação JSON - que é basicamente um dicionário em python.\n",
        "dataset = {'Year': [1998, 1999, 2000, 2001, 2002, 2003, 2004, 2005, 2006, 2007, 2008, 2009, 2010, 2011, 2012],\n",
        "           'GDP': [1.22, 1.32, 1.56, 1.61, 1.69, 1.80, 1.88, 1.93, 2.11, 2.42, 2.81, 3.14, 3.57, 4.01, 4.6],\n",
        "           'Population': [7.3, 7.3, 7.4, 7.5, 7.5, 7.5, 7.6, 7.6, 7.7, 7.7, 7.8, 7.9, 8, 8.4, 8.9],\n",
        "           'Variation': [12, 80, -30, 10, -89, 34, 73, -13, -38, 10, 183, 1321, -123, -1231, -183]\n",
        "           }\n",
        "\n",
        "# Realizando a leitura dos dados\n",
        "data = pd.DataFrame(dataset)\n",
        "\n",
        "# Mostra os 5 primeiros dados do dataframe por padrão.\n",
        "data.head()"
      ]
    },
    {
      "cell_type": "markdown",
      "metadata": {},
      "source": [
        "*Exemplo 4.2:* o pandas realiza uma leitura estatística dos dados de usando o comando describe"
      ]
    },
    {
      "cell_type": "code",
      "execution_count": 44,
      "metadata": {
        "colab": {
          "base_uri": "https://localhost:8080/",
          "height": 300
        },
        "id": "L9hXyBzGHmkS",
        "outputId": "572d4a52-eedb-4b5e-91f5-5096c565340d"
      },
      "outputs": [
        {
          "data": {
            "text/html": [
              "<div>\n",
              "<style scoped>\n",
              "    .dataframe tbody tr th:only-of-type {\n",
              "        vertical-align: middle;\n",
              "    }\n",
              "\n",
              "    .dataframe tbody tr th {\n",
              "        vertical-align: top;\n",
              "    }\n",
              "\n",
              "    .dataframe thead th {\n",
              "        text-align: right;\n",
              "    }\n",
              "</style>\n",
              "<table border=\"1\" class=\"dataframe\">\n",
              "  <thead>\n",
              "    <tr style=\"text-align: right;\">\n",
              "      <th></th>\n",
              "      <th>Year</th>\n",
              "      <th>GDP</th>\n",
              "      <th>Population</th>\n",
              "      <th>Variation</th>\n",
              "    </tr>\n",
              "  </thead>\n",
              "  <tbody>\n",
              "    <tr>\n",
              "      <th>count</th>\n",
              "      <td>15.000000</td>\n",
              "      <td>15.000000</td>\n",
              "      <td>15.000000</td>\n",
              "      <td>15.000000</td>\n",
              "    </tr>\n",
              "    <tr>\n",
              "      <th>mean</th>\n",
              "      <td>2005.000000</td>\n",
              "      <td>2.378000</td>\n",
              "      <td>7.740000</td>\n",
              "      <td>1.066667</td>\n",
              "    </tr>\n",
              "    <tr>\n",
              "      <th>std</th>\n",
              "      <td>4.472136</td>\n",
              "      <td>1.029488</td>\n",
              "      <td>0.430614</td>\n",
              "      <td>490.346447</td>\n",
              "    </tr>\n",
              "    <tr>\n",
              "      <th>min</th>\n",
              "      <td>1998.000000</td>\n",
              "      <td>1.220000</td>\n",
              "      <td>7.300000</td>\n",
              "      <td>-1231.000000</td>\n",
              "    </tr>\n",
              "    <tr>\n",
              "      <th>25%</th>\n",
              "      <td>2001.500000</td>\n",
              "      <td>1.650000</td>\n",
              "      <td>7.500000</td>\n",
              "      <td>-63.500000</td>\n",
              "    </tr>\n",
              "    <tr>\n",
              "      <th>50%</th>\n",
              "      <td>2005.000000</td>\n",
              "      <td>1.930000</td>\n",
              "      <td>7.600000</td>\n",
              "      <td>10.000000</td>\n",
              "    </tr>\n",
              "    <tr>\n",
              "      <th>75%</th>\n",
              "      <td>2008.500000</td>\n",
              "      <td>2.975000</td>\n",
              "      <td>7.850000</td>\n",
              "      <td>53.500000</td>\n",
              "    </tr>\n",
              "    <tr>\n",
              "      <th>max</th>\n",
              "      <td>2012.000000</td>\n",
              "      <td>4.600000</td>\n",
              "      <td>8.900000</td>\n",
              "      <td>1321.000000</td>\n",
              "    </tr>\n",
              "  </tbody>\n",
              "</table>\n",
              "</div>"
            ],
            "text/plain": [
              "              Year        GDP  Population    Variation\n",
              "count    15.000000  15.000000   15.000000    15.000000\n",
              "mean   2005.000000   2.378000    7.740000     1.066667\n",
              "std       4.472136   1.029488    0.430614   490.346447\n",
              "min    1998.000000   1.220000    7.300000 -1231.000000\n",
              "25%    2001.500000   1.650000    7.500000   -63.500000\n",
              "50%    2005.000000   1.930000    7.600000    10.000000\n",
              "75%    2008.500000   2.975000    7.850000    53.500000\n",
              "max    2012.000000   4.600000    8.900000  1321.000000"
            ]
          },
          "execution_count": 44,
          "metadata": {},
          "output_type": "execute_result"
        }
      ],
      "source": [
        "# uso do comando describe para mostrar estatísticas básicas dos dados\n",
        "data.describe()"
      ]
    },
    {
      "cell_type": "markdown",
      "metadata": {
        "id": "Tz7BNF7s1l-l"
      },
      "source": [
        "*Exemplo 4.3:* utilizando o Pandas com datasets da Internet\n",
        "\n",
        "Com o Pandas podemos facilmente importar datasets online e os manipula-los. Vamos utilizar o dataset do Titanic, no exemplo a seguir.\n",
        "\n",
        "Abaixo estão as descrições das colunas do Dataset:\n",
        "\n",
        "- passengerid = ID do passageiro do navio (código primário).\n",
        "- survived = Se sobreviveu ao naufrágio estará como 1 e caso esteja com 0 (zero) não sobreviveu.\n",
        "- pclass = Tipo de classe de passagem (Do 1 ao 3), sendo 1 a melhor classe e 3 a pior classe.\n",
        "- name = Nome do passageiro\n",
        "- sex = Gênero do passageiro, sendo masculino e feminino.\n",
        "- age = Idade do passageiro na data da ocorrência do naufrágio.\n",
        "- sibsp = Número de irmãos / cônjuges a bordo.\n",
        "- parch = Número de pais / filhos a bordo.\n",
        "- ticket = Código do ticket.\n",
        "- fare = Valor da passagem.\n",
        "- cabin = Código de identificação da Cabine.\n",
        "- embarked = Local ondem o passageiro embarcou no navio.\n",
        "\n",
        "Lendo e exibindo o dataset:"
      ]
    },
    {
      "cell_type": "code",
      "execution_count": 43,
      "metadata": {
        "colab": {
          "base_uri": "https://localhost:8080/",
          "height": 363
        },
        "id": "Zma7u6lm2AQ8",
        "outputId": "75b3897d-ffc0-4898-ce63-7fc43f5fa10c"
      },
      "outputs": [
        {
          "data": {
            "text/html": [
              "<div>\n",
              "<style scoped>\n",
              "    .dataframe tbody tr th:only-of-type {\n",
              "        vertical-align: middle;\n",
              "    }\n",
              "\n",
              "    .dataframe tbody tr th {\n",
              "        vertical-align: top;\n",
              "    }\n",
              "\n",
              "    .dataframe thead th {\n",
              "        text-align: right;\n",
              "    }\n",
              "</style>\n",
              "<table border=\"1\" class=\"dataframe\">\n",
              "  <thead>\n",
              "    <tr style=\"text-align: right;\">\n",
              "      <th></th>\n",
              "      <th>PassengerId</th>\n",
              "      <th>Survived</th>\n",
              "      <th>Pclass</th>\n",
              "      <th>Name</th>\n",
              "      <th>Sex</th>\n",
              "      <th>Age</th>\n",
              "      <th>SibSp</th>\n",
              "      <th>Parch</th>\n",
              "      <th>Ticket</th>\n",
              "      <th>Fare</th>\n",
              "      <th>Cabin</th>\n",
              "      <th>Embarked</th>\n",
              "    </tr>\n",
              "  </thead>\n",
              "  <tbody>\n",
              "    <tr>\n",
              "      <th>0</th>\n",
              "      <td>1</td>\n",
              "      <td>0</td>\n",
              "      <td>3</td>\n",
              "      <td>Braund, Mr. Owen Harris</td>\n",
              "      <td>male</td>\n",
              "      <td>22.0</td>\n",
              "      <td>1</td>\n",
              "      <td>0</td>\n",
              "      <td>A/5 21171</td>\n",
              "      <td>7.2500</td>\n",
              "      <td>NaN</td>\n",
              "      <td>S</td>\n",
              "    </tr>\n",
              "    <tr>\n",
              "      <th>1</th>\n",
              "      <td>2</td>\n",
              "      <td>1</td>\n",
              "      <td>1</td>\n",
              "      <td>Cumings, Mrs. John Bradley (Florence Briggs Th...</td>\n",
              "      <td>female</td>\n",
              "      <td>38.0</td>\n",
              "      <td>1</td>\n",
              "      <td>0</td>\n",
              "      <td>PC 17599</td>\n",
              "      <td>71.2833</td>\n",
              "      <td>C85</td>\n",
              "      <td>C</td>\n",
              "    </tr>\n",
              "    <tr>\n",
              "      <th>2</th>\n",
              "      <td>3</td>\n",
              "      <td>1</td>\n",
              "      <td>3</td>\n",
              "      <td>Heikkinen, Miss. Laina</td>\n",
              "      <td>female</td>\n",
              "      <td>26.0</td>\n",
              "      <td>0</td>\n",
              "      <td>0</td>\n",
              "      <td>STON/O2. 3101282</td>\n",
              "      <td>7.9250</td>\n",
              "      <td>NaN</td>\n",
              "      <td>S</td>\n",
              "    </tr>\n",
              "    <tr>\n",
              "      <th>3</th>\n",
              "      <td>4</td>\n",
              "      <td>1</td>\n",
              "      <td>1</td>\n",
              "      <td>Futrelle, Mrs. Jacques Heath (Lily May Peel)</td>\n",
              "      <td>female</td>\n",
              "      <td>35.0</td>\n",
              "      <td>1</td>\n",
              "      <td>0</td>\n",
              "      <td>113803</td>\n",
              "      <td>53.1000</td>\n",
              "      <td>C123</td>\n",
              "      <td>S</td>\n",
              "    </tr>\n",
              "    <tr>\n",
              "      <th>4</th>\n",
              "      <td>5</td>\n",
              "      <td>0</td>\n",
              "      <td>3</td>\n",
              "      <td>Allen, Mr. William Henry</td>\n",
              "      <td>male</td>\n",
              "      <td>35.0</td>\n",
              "      <td>0</td>\n",
              "      <td>0</td>\n",
              "      <td>373450</td>\n",
              "      <td>8.0500</td>\n",
              "      <td>NaN</td>\n",
              "      <td>S</td>\n",
              "    </tr>\n",
              "    <tr>\n",
              "      <th>5</th>\n",
              "      <td>6</td>\n",
              "      <td>0</td>\n",
              "      <td>3</td>\n",
              "      <td>Moran, Mr. James</td>\n",
              "      <td>male</td>\n",
              "      <td>NaN</td>\n",
              "      <td>0</td>\n",
              "      <td>0</td>\n",
              "      <td>330877</td>\n",
              "      <td>8.4583</td>\n",
              "      <td>NaN</td>\n",
              "      <td>Q</td>\n",
              "    </tr>\n",
              "    <tr>\n",
              "      <th>6</th>\n",
              "      <td>7</td>\n",
              "      <td>0</td>\n",
              "      <td>1</td>\n",
              "      <td>McCarthy, Mr. Timothy J</td>\n",
              "      <td>male</td>\n",
              "      <td>54.0</td>\n",
              "      <td>0</td>\n",
              "      <td>0</td>\n",
              "      <td>17463</td>\n",
              "      <td>51.8625</td>\n",
              "      <td>E46</td>\n",
              "      <td>S</td>\n",
              "    </tr>\n",
              "    <tr>\n",
              "      <th>7</th>\n",
              "      <td>8</td>\n",
              "      <td>0</td>\n",
              "      <td>3</td>\n",
              "      <td>Palsson, Master. Gosta Leonard</td>\n",
              "      <td>male</td>\n",
              "      <td>2.0</td>\n",
              "      <td>3</td>\n",
              "      <td>1</td>\n",
              "      <td>349909</td>\n",
              "      <td>21.0750</td>\n",
              "      <td>NaN</td>\n",
              "      <td>S</td>\n",
              "    </tr>\n",
              "    <tr>\n",
              "      <th>8</th>\n",
              "      <td>9</td>\n",
              "      <td>1</td>\n",
              "      <td>3</td>\n",
              "      <td>Johnson, Mrs. Oscar W (Elisabeth Vilhelmina Berg)</td>\n",
              "      <td>female</td>\n",
              "      <td>27.0</td>\n",
              "      <td>0</td>\n",
              "      <td>2</td>\n",
              "      <td>347742</td>\n",
              "      <td>11.1333</td>\n",
              "      <td>NaN</td>\n",
              "      <td>S</td>\n",
              "    </tr>\n",
              "    <tr>\n",
              "      <th>9</th>\n",
              "      <td>10</td>\n",
              "      <td>1</td>\n",
              "      <td>2</td>\n",
              "      <td>Nasser, Mrs. Nicholas (Adele Achem)</td>\n",
              "      <td>female</td>\n",
              "      <td>14.0</td>\n",
              "      <td>1</td>\n",
              "      <td>0</td>\n",
              "      <td>237736</td>\n",
              "      <td>30.0708</td>\n",
              "      <td>NaN</td>\n",
              "      <td>C</td>\n",
              "    </tr>\n",
              "  </tbody>\n",
              "</table>\n",
              "</div>"
            ],
            "text/plain": [
              "   PassengerId  Survived  Pclass  \\\n",
              "0            1         0       3   \n",
              "1            2         1       1   \n",
              "2            3         1       3   \n",
              "3            4         1       1   \n",
              "4            5         0       3   \n",
              "5            6         0       3   \n",
              "6            7         0       1   \n",
              "7            8         0       3   \n",
              "8            9         1       3   \n",
              "9           10         1       2   \n",
              "\n",
              "                                                Name     Sex   Age  SibSp  \\\n",
              "0                            Braund, Mr. Owen Harris    male  22.0      1   \n",
              "1  Cumings, Mrs. John Bradley (Florence Briggs Th...  female  38.0      1   \n",
              "2                             Heikkinen, Miss. Laina  female  26.0      0   \n",
              "3       Futrelle, Mrs. Jacques Heath (Lily May Peel)  female  35.0      1   \n",
              "4                           Allen, Mr. William Henry    male  35.0      0   \n",
              "5                                   Moran, Mr. James    male   NaN      0   \n",
              "6                            McCarthy, Mr. Timothy J    male  54.0      0   \n",
              "7                     Palsson, Master. Gosta Leonard    male   2.0      3   \n",
              "8  Johnson, Mrs. Oscar W (Elisabeth Vilhelmina Berg)  female  27.0      0   \n",
              "9                Nasser, Mrs. Nicholas (Adele Achem)  female  14.0      1   \n",
              "\n",
              "   Parch            Ticket     Fare Cabin Embarked  \n",
              "0      0         A/5 21171   7.2500   NaN        S  \n",
              "1      0          PC 17599  71.2833   C85        C  \n",
              "2      0  STON/O2. 3101282   7.9250   NaN        S  \n",
              "3      0            113803  53.1000  C123        S  \n",
              "4      0            373450   8.0500   NaN        S  \n",
              "5      0            330877   8.4583   NaN        Q  \n",
              "6      0             17463  51.8625   E46        S  \n",
              "7      1            349909  21.0750   NaN        S  \n",
              "8      2            347742  11.1333   NaN        S  \n",
              "9      0            237736  30.0708   NaN        C  "
            ]
          },
          "execution_count": 43,
          "metadata": {},
          "output_type": "execute_result"
        }
      ],
      "source": [
        "# dataset do Titanic disponível no endereço url a seguir\n",
        "url = \"https://raw.githubusercontent.com/datasciencedojo/datasets/master/titanic.csv\"\n",
        "\n",
        "# Fazendo a leitura dos dados.\n",
        "titanic_data = pd.read_csv(url)\n",
        "\n",
        "# Visualizando os 10 primeiros dados.\n",
        "titanic_data.head(10)"
      ]
    },
    {
      "cell_type": "markdown",
      "metadata": {},
      "source": [
        "*Exemplo 4.4:* vendo estatística do dataset"
      ]
    },
    {
      "cell_type": "code",
      "execution_count": 42,
      "metadata": {
        "colab": {
          "base_uri": "https://localhost:8080/",
          "height": 300
        },
        "id": "92fMrxqR4-9i",
        "outputId": "b9a62404-1e16-434d-e023-73bdac2ed084"
      },
      "outputs": [
        {
          "data": {
            "text/html": [
              "<div>\n",
              "<style scoped>\n",
              "    .dataframe tbody tr th:only-of-type {\n",
              "        vertical-align: middle;\n",
              "    }\n",
              "\n",
              "    .dataframe tbody tr th {\n",
              "        vertical-align: top;\n",
              "    }\n",
              "\n",
              "    .dataframe thead th {\n",
              "        text-align: right;\n",
              "    }\n",
              "</style>\n",
              "<table border=\"1\" class=\"dataframe\">\n",
              "  <thead>\n",
              "    <tr style=\"text-align: right;\">\n",
              "      <th></th>\n",
              "      <th>PassengerId</th>\n",
              "      <th>Survived</th>\n",
              "      <th>Pclass</th>\n",
              "      <th>Age</th>\n",
              "      <th>SibSp</th>\n",
              "      <th>Parch</th>\n",
              "      <th>Fare</th>\n",
              "    </tr>\n",
              "  </thead>\n",
              "  <tbody>\n",
              "    <tr>\n",
              "      <th>count</th>\n",
              "      <td>891.000000</td>\n",
              "      <td>891.000000</td>\n",
              "      <td>891.000000</td>\n",
              "      <td>714.000000</td>\n",
              "      <td>891.000000</td>\n",
              "      <td>891.000000</td>\n",
              "      <td>891.000000</td>\n",
              "    </tr>\n",
              "    <tr>\n",
              "      <th>mean</th>\n",
              "      <td>446.000000</td>\n",
              "      <td>0.383838</td>\n",
              "      <td>2.308642</td>\n",
              "      <td>29.699118</td>\n",
              "      <td>0.523008</td>\n",
              "      <td>0.381594</td>\n",
              "      <td>32.204208</td>\n",
              "    </tr>\n",
              "    <tr>\n",
              "      <th>std</th>\n",
              "      <td>257.353842</td>\n",
              "      <td>0.486592</td>\n",
              "      <td>0.836071</td>\n",
              "      <td>14.526497</td>\n",
              "      <td>1.102743</td>\n",
              "      <td>0.806057</td>\n",
              "      <td>49.693429</td>\n",
              "    </tr>\n",
              "    <tr>\n",
              "      <th>min</th>\n",
              "      <td>1.000000</td>\n",
              "      <td>0.000000</td>\n",
              "      <td>1.000000</td>\n",
              "      <td>0.420000</td>\n",
              "      <td>0.000000</td>\n",
              "      <td>0.000000</td>\n",
              "      <td>0.000000</td>\n",
              "    </tr>\n",
              "    <tr>\n",
              "      <th>25%</th>\n",
              "      <td>223.500000</td>\n",
              "      <td>0.000000</td>\n",
              "      <td>2.000000</td>\n",
              "      <td>20.125000</td>\n",
              "      <td>0.000000</td>\n",
              "      <td>0.000000</td>\n",
              "      <td>7.910400</td>\n",
              "    </tr>\n",
              "    <tr>\n",
              "      <th>50%</th>\n",
              "      <td>446.000000</td>\n",
              "      <td>0.000000</td>\n",
              "      <td>3.000000</td>\n",
              "      <td>28.000000</td>\n",
              "      <td>0.000000</td>\n",
              "      <td>0.000000</td>\n",
              "      <td>14.454200</td>\n",
              "    </tr>\n",
              "    <tr>\n",
              "      <th>75%</th>\n",
              "      <td>668.500000</td>\n",
              "      <td>1.000000</td>\n",
              "      <td>3.000000</td>\n",
              "      <td>38.000000</td>\n",
              "      <td>1.000000</td>\n",
              "      <td>0.000000</td>\n",
              "      <td>31.000000</td>\n",
              "    </tr>\n",
              "    <tr>\n",
              "      <th>max</th>\n",
              "      <td>891.000000</td>\n",
              "      <td>1.000000</td>\n",
              "      <td>3.000000</td>\n",
              "      <td>80.000000</td>\n",
              "      <td>8.000000</td>\n",
              "      <td>6.000000</td>\n",
              "      <td>512.329200</td>\n",
              "    </tr>\n",
              "  </tbody>\n",
              "</table>\n",
              "</div>"
            ],
            "text/plain": [
              "       PassengerId    Survived      Pclass         Age       SibSp  \\\n",
              "count   891.000000  891.000000  891.000000  714.000000  891.000000   \n",
              "mean    446.000000    0.383838    2.308642   29.699118    0.523008   \n",
              "std     257.353842    0.486592    0.836071   14.526497    1.102743   \n",
              "min       1.000000    0.000000    1.000000    0.420000    0.000000   \n",
              "25%     223.500000    0.000000    2.000000   20.125000    0.000000   \n",
              "50%     446.000000    0.000000    3.000000   28.000000    0.000000   \n",
              "75%     668.500000    1.000000    3.000000   38.000000    1.000000   \n",
              "max     891.000000    1.000000    3.000000   80.000000    8.000000   \n",
              "\n",
              "            Parch        Fare  \n",
              "count  891.000000  891.000000  \n",
              "mean     0.381594   32.204208  \n",
              "std      0.806057   49.693429  \n",
              "min      0.000000    0.000000  \n",
              "25%      0.000000    7.910400  \n",
              "50%      0.000000   14.454200  \n",
              "75%      0.000000   31.000000  \n",
              "max      6.000000  512.329200  "
            ]
          },
          "execution_count": 42,
          "metadata": {},
          "output_type": "execute_result"
        }
      ],
      "source": [
        "# Vendo algumas estatísticas\n",
        "titanic_data.describe()"
      ]
    },
    {
      "cell_type": "markdown",
      "metadata": {},
      "source": [
        "*Exemplo 4.5:* manipulando o dataset"
      ]
    },
    {
      "cell_type": "code",
      "execution_count": 46,
      "metadata": {
        "colab": {
          "base_uri": "https://localhost:8080/",
          "height": 493
        },
        "id": "pITvZH2Y33zN",
        "outputId": "7358a811-2ff0-4321-fee1-408e34615968"
      },
      "outputs": [
        {
          "data": {
            "text/html": [
              "<div>\n",
              "<style scoped>\n",
              "    .dataframe tbody tr th:only-of-type {\n",
              "        vertical-align: middle;\n",
              "    }\n",
              "\n",
              "    .dataframe tbody tr th {\n",
              "        vertical-align: top;\n",
              "    }\n",
              "\n",
              "    .dataframe thead th {\n",
              "        text-align: right;\n",
              "    }\n",
              "</style>\n",
              "<table border=\"1\" class=\"dataframe\">\n",
              "  <thead>\n",
              "    <tr style=\"text-align: right;\">\n",
              "      <th></th>\n",
              "      <th>PassengerId</th>\n",
              "      <th>Survived</th>\n",
              "      <th>Pclass</th>\n",
              "      <th>Name</th>\n",
              "      <th>Sex</th>\n",
              "      <th>Age</th>\n",
              "      <th>SibSp</th>\n",
              "      <th>Parch</th>\n",
              "      <th>Ticket</th>\n",
              "      <th>Fare</th>\n",
              "      <th>Cabin</th>\n",
              "      <th>Embarked</th>\n",
              "      <th>Nova Coluna</th>\n",
              "    </tr>\n",
              "  </thead>\n",
              "  <tbody>\n",
              "    <tr>\n",
              "      <th>0</th>\n",
              "      <td>1</td>\n",
              "      <td>0</td>\n",
              "      <td>3</td>\n",
              "      <td>Braund, Mr. Owen Harris</td>\n",
              "      <td>male</td>\n",
              "      <td>22.0</td>\n",
              "      <td>1</td>\n",
              "      <td>0</td>\n",
              "      <td>A/5 21171</td>\n",
              "      <td>7.2500</td>\n",
              "      <td>NaN</td>\n",
              "      <td>S</td>\n",
              "      <td>NaN</td>\n",
              "    </tr>\n",
              "    <tr>\n",
              "      <th>1</th>\n",
              "      <td>2</td>\n",
              "      <td>1</td>\n",
              "      <td>1</td>\n",
              "      <td>Cumings, Mrs. John Bradley (Florence Briggs Th...</td>\n",
              "      <td>female</td>\n",
              "      <td>38.0</td>\n",
              "      <td>1</td>\n",
              "      <td>0</td>\n",
              "      <td>PC 17599</td>\n",
              "      <td>71.2833</td>\n",
              "      <td>C85</td>\n",
              "      <td>C</td>\n",
              "      <td>NaN</td>\n",
              "    </tr>\n",
              "    <tr>\n",
              "      <th>2</th>\n",
              "      <td>3</td>\n",
              "      <td>1</td>\n",
              "      <td>3</td>\n",
              "      <td>Heikkinen, Miss. Laina</td>\n",
              "      <td>female</td>\n",
              "      <td>26.0</td>\n",
              "      <td>0</td>\n",
              "      <td>0</td>\n",
              "      <td>STON/O2. 3101282</td>\n",
              "      <td>7.9250</td>\n",
              "      <td>NaN</td>\n",
              "      <td>S</td>\n",
              "      <td>NaN</td>\n",
              "    </tr>\n",
              "    <tr>\n",
              "      <th>3</th>\n",
              "      <td>4</td>\n",
              "      <td>1</td>\n",
              "      <td>1</td>\n",
              "      <td>Futrelle, Mrs. Jacques Heath (Lily May Peel)</td>\n",
              "      <td>female</td>\n",
              "      <td>35.0</td>\n",
              "      <td>1</td>\n",
              "      <td>0</td>\n",
              "      <td>113803</td>\n",
              "      <td>53.1000</td>\n",
              "      <td>C123</td>\n",
              "      <td>S</td>\n",
              "      <td>NaN</td>\n",
              "    </tr>\n",
              "    <tr>\n",
              "      <th>4</th>\n",
              "      <td>5</td>\n",
              "      <td>0</td>\n",
              "      <td>3</td>\n",
              "      <td>Allen, Mr. William Henry</td>\n",
              "      <td>male</td>\n",
              "      <td>35.0</td>\n",
              "      <td>0</td>\n",
              "      <td>0</td>\n",
              "      <td>373450</td>\n",
              "      <td>8.0500</td>\n",
              "      <td>NaN</td>\n",
              "      <td>S</td>\n",
              "      <td>NaN</td>\n",
              "    </tr>\n",
              "    <tr>\n",
              "      <th>...</th>\n",
              "      <td>...</td>\n",
              "      <td>...</td>\n",
              "      <td>...</td>\n",
              "      <td>...</td>\n",
              "      <td>...</td>\n",
              "      <td>...</td>\n",
              "      <td>...</td>\n",
              "      <td>...</td>\n",
              "      <td>...</td>\n",
              "      <td>...</td>\n",
              "      <td>...</td>\n",
              "      <td>...</td>\n",
              "      <td>...</td>\n",
              "    </tr>\n",
              "    <tr>\n",
              "      <th>886</th>\n",
              "      <td>887</td>\n",
              "      <td>0</td>\n",
              "      <td>2</td>\n",
              "      <td>Montvila, Rev. Juozas</td>\n",
              "      <td>male</td>\n",
              "      <td>27.0</td>\n",
              "      <td>0</td>\n",
              "      <td>0</td>\n",
              "      <td>211536</td>\n",
              "      <td>13.0000</td>\n",
              "      <td>NaN</td>\n",
              "      <td>S</td>\n",
              "      <td>NaN</td>\n",
              "    </tr>\n",
              "    <tr>\n",
              "      <th>887</th>\n",
              "      <td>888</td>\n",
              "      <td>1</td>\n",
              "      <td>1</td>\n",
              "      <td>Graham, Miss. Margaret Edith</td>\n",
              "      <td>female</td>\n",
              "      <td>19.0</td>\n",
              "      <td>0</td>\n",
              "      <td>0</td>\n",
              "      <td>112053</td>\n",
              "      <td>30.0000</td>\n",
              "      <td>B42</td>\n",
              "      <td>S</td>\n",
              "      <td>NaN</td>\n",
              "    </tr>\n",
              "    <tr>\n",
              "      <th>888</th>\n",
              "      <td>889</td>\n",
              "      <td>0</td>\n",
              "      <td>3</td>\n",
              "      <td>Johnston, Miss. Catherine Helen \"Carrie\"</td>\n",
              "      <td>female</td>\n",
              "      <td>NaN</td>\n",
              "      <td>1</td>\n",
              "      <td>2</td>\n",
              "      <td>W./C. 6607</td>\n",
              "      <td>23.4500</td>\n",
              "      <td>NaN</td>\n",
              "      <td>S</td>\n",
              "      <td>NaN</td>\n",
              "    </tr>\n",
              "    <tr>\n",
              "      <th>889</th>\n",
              "      <td>890</td>\n",
              "      <td>1</td>\n",
              "      <td>1</td>\n",
              "      <td>Behr, Mr. Karl Howell</td>\n",
              "      <td>male</td>\n",
              "      <td>26.0</td>\n",
              "      <td>0</td>\n",
              "      <td>0</td>\n",
              "      <td>111369</td>\n",
              "      <td>30.0000</td>\n",
              "      <td>C148</td>\n",
              "      <td>C</td>\n",
              "      <td>NaN</td>\n",
              "    </tr>\n",
              "    <tr>\n",
              "      <th>890</th>\n",
              "      <td>891</td>\n",
              "      <td>0</td>\n",
              "      <td>3</td>\n",
              "      <td>Dooley, Mr. Patrick</td>\n",
              "      <td>male</td>\n",
              "      <td>32.0</td>\n",
              "      <td>0</td>\n",
              "      <td>0</td>\n",
              "      <td>370376</td>\n",
              "      <td>7.7500</td>\n",
              "      <td>NaN</td>\n",
              "      <td>Q</td>\n",
              "      <td>NaN</td>\n",
              "    </tr>\n",
              "  </tbody>\n",
              "</table>\n",
              "<p>891 rows × 13 columns</p>\n",
              "</div>"
            ],
            "text/plain": [
              "     PassengerId  Survived  Pclass  \\\n",
              "0              1         0       3   \n",
              "1              2         1       1   \n",
              "2              3         1       3   \n",
              "3              4         1       1   \n",
              "4              5         0       3   \n",
              "..           ...       ...     ...   \n",
              "886          887         0       2   \n",
              "887          888         1       1   \n",
              "888          889         0       3   \n",
              "889          890         1       1   \n",
              "890          891         0       3   \n",
              "\n",
              "                                                  Name     Sex   Age  SibSp  \\\n",
              "0                              Braund, Mr. Owen Harris    male  22.0      1   \n",
              "1    Cumings, Mrs. John Bradley (Florence Briggs Th...  female  38.0      1   \n",
              "2                               Heikkinen, Miss. Laina  female  26.0      0   \n",
              "3         Futrelle, Mrs. Jacques Heath (Lily May Peel)  female  35.0      1   \n",
              "4                             Allen, Mr. William Henry    male  35.0      0   \n",
              "..                                                 ...     ...   ...    ...   \n",
              "886                              Montvila, Rev. Juozas    male  27.0      0   \n",
              "887                       Graham, Miss. Margaret Edith  female  19.0      0   \n",
              "888           Johnston, Miss. Catherine Helen \"Carrie\"  female   NaN      1   \n",
              "889                              Behr, Mr. Karl Howell    male  26.0      0   \n",
              "890                                Dooley, Mr. Patrick    male  32.0      0   \n",
              "\n",
              "     Parch            Ticket     Fare Cabin Embarked Nova Coluna  \n",
              "0        0         A/5 21171   7.2500   NaN        S         NaN  \n",
              "1        0          PC 17599  71.2833   C85        C         NaN  \n",
              "2        0  STON/O2. 3101282   7.9250   NaN        S         NaN  \n",
              "3        0            113803  53.1000  C123        S         NaN  \n",
              "4        0            373450   8.0500   NaN        S         NaN  \n",
              "..     ...               ...      ...   ...      ...         ...  \n",
              "886      0            211536  13.0000   NaN        S         NaN  \n",
              "887      0            112053  30.0000   B42        S         NaN  \n",
              "888      2        W./C. 6607  23.4500   NaN        S         NaN  \n",
              "889      0            111369  30.0000  C148        C         NaN  \n",
              "890      0            370376   7.7500   NaN        Q         NaN  \n",
              "\n",
              "[891 rows x 13 columns]"
            ]
          },
          "metadata": {},
          "output_type": "display_data"
        }
      ],
      "source": [
        "# Criando uma nova coluna\n",
        "titanic_data['Nova Coluna'] = 'NaN'\n",
        "\n",
        "# Vendo os dados novamente - utilizando o comando Display.\n",
        "display(titanic_data)"
      ]
    },
    {
      "cell_type": "markdown",
      "metadata": {},
      "source": [
        "*Exemplo 4.6:* vendo dados específicos"
      ]
    },
    {
      "cell_type": "code",
      "execution_count": 47,
      "metadata": {
        "colab": {
          "base_uri": "https://localhost:8080/",
          "height": 787
        },
        "id": "d11ReG2z5TeR",
        "outputId": "0e4d5e07-6670-4ec3-dadb-cbfbe5ea9c06"
      },
      "outputs": [
        {
          "name": "stdout",
          "output_type": "stream",
          "text": [
            "Sexo dos passageiros: \n",
            "\n"
          ]
        },
        {
          "data": {
            "text/plain": [
              "0        male\n",
              "1      female\n",
              "2      female\n",
              "3      female\n",
              "4        male\n",
              "        ...  \n",
              "886      male\n",
              "887    female\n",
              "888    female\n",
              "889      male\n",
              "890      male\n",
              "Name: Sex, Length: 891, dtype: object"
            ]
          },
          "metadata": {},
          "output_type": "display_data"
        }
      ],
      "source": [
        "# Vendo algum dado específico\n",
        "sexo_passageiros = titanic_data['Sex']\n",
        "\n",
        "# Visualizando os dados\n",
        "print('Sexo dos passageiros: \\n')\n",
        "display(sexo_passageiros)\n"
      ]
    },
    {
      "cell_type": "markdown",
      "metadata": {},
      "source": [
        "*Exemplo 4.7:* alterando dados específicos"
      ]
    },
    {
      "cell_type": "code",
      "execution_count": 48,
      "metadata": {},
      "outputs": [
        {
          "name": "stdout",
          "output_type": "stream",
          "text": [
            "\n",
            "Novo conjunto de dados: \n",
            "\n"
          ]
        },
        {
          "data": {
            "text/html": [
              "<div>\n",
              "<style scoped>\n",
              "    .dataframe tbody tr th:only-of-type {\n",
              "        vertical-align: middle;\n",
              "    }\n",
              "\n",
              "    .dataframe tbody tr th {\n",
              "        vertical-align: top;\n",
              "    }\n",
              "\n",
              "    .dataframe thead th {\n",
              "        text-align: right;\n",
              "    }\n",
              "</style>\n",
              "<table border=\"1\" class=\"dataframe\">\n",
              "  <thead>\n",
              "    <tr style=\"text-align: right;\">\n",
              "      <th></th>\n",
              "      <th>PassengerId</th>\n",
              "      <th>Survived</th>\n",
              "      <th>Pclass</th>\n",
              "      <th>Name</th>\n",
              "      <th>Sex</th>\n",
              "      <th>Age</th>\n",
              "      <th>SibSp</th>\n",
              "      <th>Parch</th>\n",
              "      <th>Ticket</th>\n",
              "      <th>Fare</th>\n",
              "      <th>Cabin</th>\n",
              "      <th>Embarked</th>\n",
              "      <th>Nova Coluna</th>\n",
              "    </tr>\n",
              "  </thead>\n",
              "  <tbody>\n",
              "    <tr>\n",
              "      <th>0</th>\n",
              "      <td>1</td>\n",
              "      <td>0</td>\n",
              "      <td>3</td>\n",
              "      <td>Braund, Mr. Owen Harris</td>\n",
              "      <td>1</td>\n",
              "      <td>22.0</td>\n",
              "      <td>1</td>\n",
              "      <td>0</td>\n",
              "      <td>A/5 21171</td>\n",
              "      <td>7.2500</td>\n",
              "      <td>NaN</td>\n",
              "      <td>S</td>\n",
              "      <td>NaN</td>\n",
              "    </tr>\n",
              "    <tr>\n",
              "      <th>1</th>\n",
              "      <td>2</td>\n",
              "      <td>1</td>\n",
              "      <td>1</td>\n",
              "      <td>Cumings, Mrs. John Bradley (Florence Briggs Th...</td>\n",
              "      <td>0</td>\n",
              "      <td>38.0</td>\n",
              "      <td>1</td>\n",
              "      <td>0</td>\n",
              "      <td>PC 17599</td>\n",
              "      <td>71.2833</td>\n",
              "      <td>C85</td>\n",
              "      <td>C</td>\n",
              "      <td>NaN</td>\n",
              "    </tr>\n",
              "    <tr>\n",
              "      <th>2</th>\n",
              "      <td>3</td>\n",
              "      <td>1</td>\n",
              "      <td>3</td>\n",
              "      <td>Heikkinen, Miss. Laina</td>\n",
              "      <td>0</td>\n",
              "      <td>26.0</td>\n",
              "      <td>0</td>\n",
              "      <td>0</td>\n",
              "      <td>STON/O2. 3101282</td>\n",
              "      <td>7.9250</td>\n",
              "      <td>NaN</td>\n",
              "      <td>S</td>\n",
              "      <td>NaN</td>\n",
              "    </tr>\n",
              "    <tr>\n",
              "      <th>3</th>\n",
              "      <td>4</td>\n",
              "      <td>1</td>\n",
              "      <td>1</td>\n",
              "      <td>Futrelle, Mrs. Jacques Heath (Lily May Peel)</td>\n",
              "      <td>0</td>\n",
              "      <td>35.0</td>\n",
              "      <td>1</td>\n",
              "      <td>0</td>\n",
              "      <td>113803</td>\n",
              "      <td>53.1000</td>\n",
              "      <td>C123</td>\n",
              "      <td>S</td>\n",
              "      <td>NaN</td>\n",
              "    </tr>\n",
              "    <tr>\n",
              "      <th>4</th>\n",
              "      <td>5</td>\n",
              "      <td>0</td>\n",
              "      <td>3</td>\n",
              "      <td>Allen, Mr. William Henry</td>\n",
              "      <td>1</td>\n",
              "      <td>35.0</td>\n",
              "      <td>0</td>\n",
              "      <td>0</td>\n",
              "      <td>373450</td>\n",
              "      <td>8.0500</td>\n",
              "      <td>NaN</td>\n",
              "      <td>S</td>\n",
              "      <td>NaN</td>\n",
              "    </tr>\n",
              "    <tr>\n",
              "      <th>...</th>\n",
              "      <td>...</td>\n",
              "      <td>...</td>\n",
              "      <td>...</td>\n",
              "      <td>...</td>\n",
              "      <td>...</td>\n",
              "      <td>...</td>\n",
              "      <td>...</td>\n",
              "      <td>...</td>\n",
              "      <td>...</td>\n",
              "      <td>...</td>\n",
              "      <td>...</td>\n",
              "      <td>...</td>\n",
              "      <td>...</td>\n",
              "    </tr>\n",
              "    <tr>\n",
              "      <th>886</th>\n",
              "      <td>887</td>\n",
              "      <td>0</td>\n",
              "      <td>2</td>\n",
              "      <td>Montvila, Rev. Juozas</td>\n",
              "      <td>1</td>\n",
              "      <td>27.0</td>\n",
              "      <td>0</td>\n",
              "      <td>0</td>\n",
              "      <td>211536</td>\n",
              "      <td>13.0000</td>\n",
              "      <td>NaN</td>\n",
              "      <td>S</td>\n",
              "      <td>NaN</td>\n",
              "    </tr>\n",
              "    <tr>\n",
              "      <th>887</th>\n",
              "      <td>888</td>\n",
              "      <td>1</td>\n",
              "      <td>1</td>\n",
              "      <td>Graham, Miss. Margaret Edith</td>\n",
              "      <td>0</td>\n",
              "      <td>19.0</td>\n",
              "      <td>0</td>\n",
              "      <td>0</td>\n",
              "      <td>112053</td>\n",
              "      <td>30.0000</td>\n",
              "      <td>B42</td>\n",
              "      <td>S</td>\n",
              "      <td>NaN</td>\n",
              "    </tr>\n",
              "    <tr>\n",
              "      <th>888</th>\n",
              "      <td>889</td>\n",
              "      <td>0</td>\n",
              "      <td>3</td>\n",
              "      <td>Johnston, Miss. Catherine Helen \"Carrie\"</td>\n",
              "      <td>0</td>\n",
              "      <td>NaN</td>\n",
              "      <td>1</td>\n",
              "      <td>2</td>\n",
              "      <td>W./C. 6607</td>\n",
              "      <td>23.4500</td>\n",
              "      <td>NaN</td>\n",
              "      <td>S</td>\n",
              "      <td>NaN</td>\n",
              "    </tr>\n",
              "    <tr>\n",
              "      <th>889</th>\n",
              "      <td>890</td>\n",
              "      <td>1</td>\n",
              "      <td>1</td>\n",
              "      <td>Behr, Mr. Karl Howell</td>\n",
              "      <td>1</td>\n",
              "      <td>26.0</td>\n",
              "      <td>0</td>\n",
              "      <td>0</td>\n",
              "      <td>111369</td>\n",
              "      <td>30.0000</td>\n",
              "      <td>C148</td>\n",
              "      <td>C</td>\n",
              "      <td>NaN</td>\n",
              "    </tr>\n",
              "    <tr>\n",
              "      <th>890</th>\n",
              "      <td>891</td>\n",
              "      <td>0</td>\n",
              "      <td>3</td>\n",
              "      <td>Dooley, Mr. Patrick</td>\n",
              "      <td>1</td>\n",
              "      <td>32.0</td>\n",
              "      <td>0</td>\n",
              "      <td>0</td>\n",
              "      <td>370376</td>\n",
              "      <td>7.7500</td>\n",
              "      <td>NaN</td>\n",
              "      <td>Q</td>\n",
              "      <td>NaN</td>\n",
              "    </tr>\n",
              "  </tbody>\n",
              "</table>\n",
              "<p>891 rows × 13 columns</p>\n",
              "</div>"
            ],
            "text/plain": [
              "     PassengerId  Survived  Pclass  \\\n",
              "0              1         0       3   \n",
              "1              2         1       1   \n",
              "2              3         1       3   \n",
              "3              4         1       1   \n",
              "4              5         0       3   \n",
              "..           ...       ...     ...   \n",
              "886          887         0       2   \n",
              "887          888         1       1   \n",
              "888          889         0       3   \n",
              "889          890         1       1   \n",
              "890          891         0       3   \n",
              "\n",
              "                                                  Name  Sex   Age  SibSp  \\\n",
              "0                              Braund, Mr. Owen Harris    1  22.0      1   \n",
              "1    Cumings, Mrs. John Bradley (Florence Briggs Th...    0  38.0      1   \n",
              "2                               Heikkinen, Miss. Laina    0  26.0      0   \n",
              "3         Futrelle, Mrs. Jacques Heath (Lily May Peel)    0  35.0      1   \n",
              "4                             Allen, Mr. William Henry    1  35.0      0   \n",
              "..                                                 ...  ...   ...    ...   \n",
              "886                              Montvila, Rev. Juozas    1  27.0      0   \n",
              "887                       Graham, Miss. Margaret Edith    0  19.0      0   \n",
              "888           Johnston, Miss. Catherine Helen \"Carrie\"    0   NaN      1   \n",
              "889                              Behr, Mr. Karl Howell    1  26.0      0   \n",
              "890                                Dooley, Mr. Patrick    1  32.0      0   \n",
              "\n",
              "     Parch            Ticket     Fare Cabin Embarked Nova Coluna  \n",
              "0        0         A/5 21171   7.2500   NaN        S         NaN  \n",
              "1        0          PC 17599  71.2833   C85        C         NaN  \n",
              "2        0  STON/O2. 3101282   7.9250   NaN        S         NaN  \n",
              "3        0            113803  53.1000  C123        S         NaN  \n",
              "4        0            373450   8.0500   NaN        S         NaN  \n",
              "..     ...               ...      ...   ...      ...         ...  \n",
              "886      0            211536  13.0000   NaN        S         NaN  \n",
              "887      0            112053  30.0000   B42        S         NaN  \n",
              "888      2        W./C. 6607  23.4500   NaN        S         NaN  \n",
              "889      0            111369  30.0000  C148        C         NaN  \n",
              "890      0            370376   7.7500   NaN        Q         NaN  \n",
              "\n",
              "[891 rows x 13 columns]"
            ]
          },
          "metadata": {},
          "output_type": "display_data"
        }
      ],
      "source": [
        "# Alterando o tipo de dado: Caso seja homem, terá índice 1 e se for mulher, terá índice 0.\n",
        "# Obs.: Utilização de List Comprehentions\n",
        "alterando_sexo = [1 if nome == 'male' else 0 for nome in sexo_passageiros]\n",
        "\n",
        "# Trocando a coluna.\n",
        "titanic_data['Sex'] = alterando_sexo\n",
        "\n",
        "# Visualizando o novo conjunto de dados.\n",
        "print('\\nNovo conjunto de dados: \\n')\n",
        "display(titanic_data)"
      ]
    },
    {
      "cell_type": "markdown",
      "metadata": {
        "id": "91OwKOKr9jVx"
      },
      "source": [
        "*Exemplo 4.8:* vendo dados específicos \n",
        "\n",
        "Utilizaremos o método `.loc` para visualizar linhas do dataset"
      ]
    },
    {
      "cell_type": "code",
      "execution_count": 49,
      "metadata": {
        "colab": {
          "base_uri": "https://localhost:8080/"
        },
        "id": "1-qK7vBH-DsQ",
        "outputId": "7a4361e8-b2cd-4d8d-ea4b-2ba715300dff"
      },
      "outputs": [
        {
          "data": {
            "text/plain": [
              "PassengerId                         3\n",
              "Survived                            1\n",
              "Pclass                              3\n",
              "Name           Heikkinen, Miss. Laina\n",
              "Sex                                 0\n",
              "Age                              26.0\n",
              "SibSp                               0\n",
              "Parch                               0\n",
              "Ticket               STON/O2. 3101282\n",
              "Fare                            7.925\n",
              "Cabin                             NaN\n",
              "Embarked                            S\n",
              "Nova Coluna                       NaN\n",
              "Name: 2, dtype: object"
            ]
          },
          "execution_count": 49,
          "metadata": {},
          "output_type": "execute_result"
        }
      ],
      "source": [
        "# Irá mostrar as informações da passageira que está situada o índice 1 do dataset.\n",
        "titanic_data.loc[2]"
      ]
    },
    {
      "cell_type": "code",
      "execution_count": 50,
      "metadata": {
        "colab": {
          "base_uri": "https://localhost:8080/",
          "height": 258
        },
        "id": "-UaDMTra-18_",
        "outputId": "b362b5a2-c388-4921-8d04-72b4f4e81f2d"
      },
      "outputs": [
        {
          "data": {
            "text/html": [
              "<div>\n",
              "<style scoped>\n",
              "    .dataframe tbody tr th:only-of-type {\n",
              "        vertical-align: middle;\n",
              "    }\n",
              "\n",
              "    .dataframe tbody tr th {\n",
              "        vertical-align: top;\n",
              "    }\n",
              "\n",
              "    .dataframe thead th {\n",
              "        text-align: right;\n",
              "    }\n",
              "</style>\n",
              "<table border=\"1\" class=\"dataframe\">\n",
              "  <thead>\n",
              "    <tr style=\"text-align: right;\">\n",
              "      <th></th>\n",
              "      <th>PassengerId</th>\n",
              "      <th>Survived</th>\n",
              "      <th>Pclass</th>\n",
              "      <th>Name</th>\n",
              "      <th>Sex</th>\n",
              "      <th>Age</th>\n",
              "      <th>SibSp</th>\n",
              "      <th>Parch</th>\n",
              "      <th>Ticket</th>\n",
              "      <th>Fare</th>\n",
              "      <th>Cabin</th>\n",
              "      <th>Embarked</th>\n",
              "      <th>Nova Coluna</th>\n",
              "    </tr>\n",
              "  </thead>\n",
              "  <tbody>\n",
              "    <tr>\n",
              "      <th>1</th>\n",
              "      <td>2</td>\n",
              "      <td>1</td>\n",
              "      <td>1</td>\n",
              "      <td>Cumings, Mrs. John Bradley (Florence Briggs Th...</td>\n",
              "      <td>0</td>\n",
              "      <td>38.0</td>\n",
              "      <td>1</td>\n",
              "      <td>0</td>\n",
              "      <td>PC 17599</td>\n",
              "      <td>71.2833</td>\n",
              "      <td>C85</td>\n",
              "      <td>C</td>\n",
              "      <td>NaN</td>\n",
              "    </tr>\n",
              "    <tr>\n",
              "      <th>2</th>\n",
              "      <td>3</td>\n",
              "      <td>1</td>\n",
              "      <td>3</td>\n",
              "      <td>Heikkinen, Miss. Laina</td>\n",
              "      <td>0</td>\n",
              "      <td>26.0</td>\n",
              "      <td>0</td>\n",
              "      <td>0</td>\n",
              "      <td>STON/O2. 3101282</td>\n",
              "      <td>7.9250</td>\n",
              "      <td>NaN</td>\n",
              "      <td>S</td>\n",
              "      <td>NaN</td>\n",
              "    </tr>\n",
              "    <tr>\n",
              "      <th>3</th>\n",
              "      <td>4</td>\n",
              "      <td>1</td>\n",
              "      <td>1</td>\n",
              "      <td>Futrelle, Mrs. Jacques Heath (Lily May Peel)</td>\n",
              "      <td>0</td>\n",
              "      <td>35.0</td>\n",
              "      <td>1</td>\n",
              "      <td>0</td>\n",
              "      <td>113803</td>\n",
              "      <td>53.1000</td>\n",
              "      <td>C123</td>\n",
              "      <td>S</td>\n",
              "      <td>NaN</td>\n",
              "    </tr>\n",
              "    <tr>\n",
              "      <th>4</th>\n",
              "      <td>5</td>\n",
              "      <td>0</td>\n",
              "      <td>3</td>\n",
              "      <td>Allen, Mr. William Henry</td>\n",
              "      <td>1</td>\n",
              "      <td>35.0</td>\n",
              "      <td>0</td>\n",
              "      <td>0</td>\n",
              "      <td>373450</td>\n",
              "      <td>8.0500</td>\n",
              "      <td>NaN</td>\n",
              "      <td>S</td>\n",
              "      <td>NaN</td>\n",
              "    </tr>\n",
              "    <tr>\n",
              "      <th>5</th>\n",
              "      <td>6</td>\n",
              "      <td>0</td>\n",
              "      <td>3</td>\n",
              "      <td>Moran, Mr. James</td>\n",
              "      <td>1</td>\n",
              "      <td>NaN</td>\n",
              "      <td>0</td>\n",
              "      <td>0</td>\n",
              "      <td>330877</td>\n",
              "      <td>8.4583</td>\n",
              "      <td>NaN</td>\n",
              "      <td>Q</td>\n",
              "      <td>NaN</td>\n",
              "    </tr>\n",
              "  </tbody>\n",
              "</table>\n",
              "</div>"
            ],
            "text/plain": [
              "   PassengerId  Survived  Pclass  \\\n",
              "1            2         1       1   \n",
              "2            3         1       3   \n",
              "3            4         1       1   \n",
              "4            5         0       3   \n",
              "5            6         0       3   \n",
              "\n",
              "                                                Name  Sex   Age  SibSp  Parch  \\\n",
              "1  Cumings, Mrs. John Bradley (Florence Briggs Th...    0  38.0      1      0   \n",
              "2                             Heikkinen, Miss. Laina    0  26.0      0      0   \n",
              "3       Futrelle, Mrs. Jacques Heath (Lily May Peel)    0  35.0      1      0   \n",
              "4                           Allen, Mr. William Henry    1  35.0      0      0   \n",
              "5                                   Moran, Mr. James    1   NaN      0      0   \n",
              "\n",
              "             Ticket     Fare Cabin Embarked Nova Coluna  \n",
              "1          PC 17599  71.2833   C85        C         NaN  \n",
              "2  STON/O2. 3101282   7.9250   NaN        S         NaN  \n",
              "3            113803  53.1000  C123        S         NaN  \n",
              "4            373450   8.0500   NaN        S         NaN  \n",
              "5            330877   8.4583   NaN        Q         NaN  "
            ]
          },
          "execution_count": 50,
          "metadata": {},
          "output_type": "execute_result"
        }
      ],
      "source": [
        "# Pegando várias linhas para análise - Linha 1 até a linha 7\n",
        "titanic_data.loc[1:5]"
      ]
    },
    {
      "cell_type": "code",
      "execution_count": 52,
      "metadata": {
        "colab": {
          "base_uri": "https://localhost:8080/",
          "height": 423
        },
        "id": "Xm3sXghu-5Ey",
        "outputId": "5517c2d4-bdfe-49d1-d971-f953f133cf71"
      },
      "outputs": [
        {
          "data": {
            "text/html": [
              "<div>\n",
              "<style scoped>\n",
              "    .dataframe tbody tr th:only-of-type {\n",
              "        vertical-align: middle;\n",
              "    }\n",
              "\n",
              "    .dataframe tbody tr th {\n",
              "        vertical-align: top;\n",
              "    }\n",
              "\n",
              "    .dataframe thead th {\n",
              "        text-align: right;\n",
              "    }\n",
              "</style>\n",
              "<table border=\"1\" class=\"dataframe\">\n",
              "  <thead>\n",
              "    <tr style=\"text-align: right;\">\n",
              "      <th></th>\n",
              "      <th>PassengerId</th>\n",
              "      <th>Survived</th>\n",
              "      <th>Pclass</th>\n",
              "      <th>Name</th>\n",
              "      <th>Sex</th>\n",
              "      <th>Age</th>\n",
              "      <th>SibSp</th>\n",
              "      <th>Parch</th>\n",
              "      <th>Ticket</th>\n",
              "      <th>Fare</th>\n",
              "      <th>Cabin</th>\n",
              "      <th>Embarked</th>\n",
              "      <th>Nova Coluna</th>\n",
              "    </tr>\n",
              "  </thead>\n",
              "  <tbody>\n",
              "    <tr>\n",
              "      <th>5</th>\n",
              "      <td>6</td>\n",
              "      <td>0</td>\n",
              "      <td>3</td>\n",
              "      <td>Moran, Mr. James</td>\n",
              "      <td>1</td>\n",
              "      <td>NaN</td>\n",
              "      <td>0</td>\n",
              "      <td>0</td>\n",
              "      <td>330877</td>\n",
              "      <td>8.4583</td>\n",
              "      <td>NaN</td>\n",
              "      <td>Q</td>\n",
              "      <td>NaN</td>\n",
              "    </tr>\n",
              "    <tr>\n",
              "      <th>16</th>\n",
              "      <td>17</td>\n",
              "      <td>0</td>\n",
              "      <td>3</td>\n",
              "      <td>Rice, Master. Eugene</td>\n",
              "      <td>1</td>\n",
              "      <td>2.0</td>\n",
              "      <td>4</td>\n",
              "      <td>1</td>\n",
              "      <td>382652</td>\n",
              "      <td>29.1250</td>\n",
              "      <td>NaN</td>\n",
              "      <td>Q</td>\n",
              "      <td>NaN</td>\n",
              "    </tr>\n",
              "    <tr>\n",
              "      <th>22</th>\n",
              "      <td>23</td>\n",
              "      <td>1</td>\n",
              "      <td>3</td>\n",
              "      <td>McGowan, Miss. Anna \"Annie\"</td>\n",
              "      <td>0</td>\n",
              "      <td>15.0</td>\n",
              "      <td>0</td>\n",
              "      <td>0</td>\n",
              "      <td>330923</td>\n",
              "      <td>8.0292</td>\n",
              "      <td>NaN</td>\n",
              "      <td>Q</td>\n",
              "      <td>NaN</td>\n",
              "    </tr>\n",
              "    <tr>\n",
              "      <th>28</th>\n",
              "      <td>29</td>\n",
              "      <td>1</td>\n",
              "      <td>3</td>\n",
              "      <td>O'Dwyer, Miss. Ellen \"Nellie\"</td>\n",
              "      <td>0</td>\n",
              "      <td>NaN</td>\n",
              "      <td>0</td>\n",
              "      <td>0</td>\n",
              "      <td>330959</td>\n",
              "      <td>7.8792</td>\n",
              "      <td>NaN</td>\n",
              "      <td>Q</td>\n",
              "      <td>NaN</td>\n",
              "    </tr>\n",
              "    <tr>\n",
              "      <th>32</th>\n",
              "      <td>33</td>\n",
              "      <td>1</td>\n",
              "      <td>3</td>\n",
              "      <td>Glynn, Miss. Mary Agatha</td>\n",
              "      <td>0</td>\n",
              "      <td>NaN</td>\n",
              "      <td>0</td>\n",
              "      <td>0</td>\n",
              "      <td>335677</td>\n",
              "      <td>7.7500</td>\n",
              "      <td>NaN</td>\n",
              "      <td>Q</td>\n",
              "      <td>NaN</td>\n",
              "    </tr>\n",
              "    <tr>\n",
              "      <th>...</th>\n",
              "      <td>...</td>\n",
              "      <td>...</td>\n",
              "      <td>...</td>\n",
              "      <td>...</td>\n",
              "      <td>...</td>\n",
              "      <td>...</td>\n",
              "      <td>...</td>\n",
              "      <td>...</td>\n",
              "      <td>...</td>\n",
              "      <td>...</td>\n",
              "      <td>...</td>\n",
              "      <td>...</td>\n",
              "      <td>...</td>\n",
              "    </tr>\n",
              "    <tr>\n",
              "      <th>790</th>\n",
              "      <td>791</td>\n",
              "      <td>0</td>\n",
              "      <td>3</td>\n",
              "      <td>Keane, Mr. Andrew \"Andy\"</td>\n",
              "      <td>1</td>\n",
              "      <td>NaN</td>\n",
              "      <td>0</td>\n",
              "      <td>0</td>\n",
              "      <td>12460</td>\n",
              "      <td>7.7500</td>\n",
              "      <td>NaN</td>\n",
              "      <td>Q</td>\n",
              "      <td>NaN</td>\n",
              "    </tr>\n",
              "    <tr>\n",
              "      <th>825</th>\n",
              "      <td>826</td>\n",
              "      <td>0</td>\n",
              "      <td>3</td>\n",
              "      <td>Flynn, Mr. John</td>\n",
              "      <td>1</td>\n",
              "      <td>NaN</td>\n",
              "      <td>0</td>\n",
              "      <td>0</td>\n",
              "      <td>368323</td>\n",
              "      <td>6.9500</td>\n",
              "      <td>NaN</td>\n",
              "      <td>Q</td>\n",
              "      <td>NaN</td>\n",
              "    </tr>\n",
              "    <tr>\n",
              "      <th>828</th>\n",
              "      <td>829</td>\n",
              "      <td>1</td>\n",
              "      <td>3</td>\n",
              "      <td>McCormack, Mr. Thomas Joseph</td>\n",
              "      <td>1</td>\n",
              "      <td>NaN</td>\n",
              "      <td>0</td>\n",
              "      <td>0</td>\n",
              "      <td>367228</td>\n",
              "      <td>7.7500</td>\n",
              "      <td>NaN</td>\n",
              "      <td>Q</td>\n",
              "      <td>NaN</td>\n",
              "    </tr>\n",
              "    <tr>\n",
              "      <th>885</th>\n",
              "      <td>886</td>\n",
              "      <td>0</td>\n",
              "      <td>3</td>\n",
              "      <td>Rice, Mrs. William (Margaret Norton)</td>\n",
              "      <td>0</td>\n",
              "      <td>39.0</td>\n",
              "      <td>0</td>\n",
              "      <td>5</td>\n",
              "      <td>382652</td>\n",
              "      <td>29.1250</td>\n",
              "      <td>NaN</td>\n",
              "      <td>Q</td>\n",
              "      <td>NaN</td>\n",
              "    </tr>\n",
              "    <tr>\n",
              "      <th>890</th>\n",
              "      <td>891</td>\n",
              "      <td>0</td>\n",
              "      <td>3</td>\n",
              "      <td>Dooley, Mr. Patrick</td>\n",
              "      <td>1</td>\n",
              "      <td>32.0</td>\n",
              "      <td>0</td>\n",
              "      <td>0</td>\n",
              "      <td>370376</td>\n",
              "      <td>7.7500</td>\n",
              "      <td>NaN</td>\n",
              "      <td>Q</td>\n",
              "      <td>NaN</td>\n",
              "    </tr>\n",
              "  </tbody>\n",
              "</table>\n",
              "<p>77 rows × 13 columns</p>\n",
              "</div>"
            ],
            "text/plain": [
              "     PassengerId  Survived  Pclass                                  Name  Sex  \\\n",
              "5              6         0       3                      Moran, Mr. James    1   \n",
              "16            17         0       3                  Rice, Master. Eugene    1   \n",
              "22            23         1       3           McGowan, Miss. Anna \"Annie\"    0   \n",
              "28            29         1       3         O'Dwyer, Miss. Ellen \"Nellie\"    0   \n",
              "32            33         1       3              Glynn, Miss. Mary Agatha    0   \n",
              "..           ...       ...     ...                                   ...  ...   \n",
              "790          791         0       3              Keane, Mr. Andrew \"Andy\"    1   \n",
              "825          826         0       3                       Flynn, Mr. John    1   \n",
              "828          829         1       3          McCormack, Mr. Thomas Joseph    1   \n",
              "885          886         0       3  Rice, Mrs. William (Margaret Norton)    0   \n",
              "890          891         0       3                   Dooley, Mr. Patrick    1   \n",
              "\n",
              "      Age  SibSp  Parch  Ticket     Fare Cabin Embarked Nova Coluna  \n",
              "5     NaN      0      0  330877   8.4583   NaN        Q         NaN  \n",
              "16    2.0      4      1  382652  29.1250   NaN        Q         NaN  \n",
              "22   15.0      0      0  330923   8.0292   NaN        Q         NaN  \n",
              "28    NaN      0      0  330959   7.8792   NaN        Q         NaN  \n",
              "32    NaN      0      0  335677   7.7500   NaN        Q         NaN  \n",
              "..    ...    ...    ...     ...      ...   ...      ...         ...  \n",
              "790   NaN      0      0   12460   7.7500   NaN        Q         NaN  \n",
              "825   NaN      0      0  368323   6.9500   NaN        Q         NaN  \n",
              "828   NaN      0      0  367228   7.7500   NaN        Q         NaN  \n",
              "885  39.0      0      5  382652  29.1250   NaN        Q         NaN  \n",
              "890  32.0      0      0  370376   7.7500   NaN        Q         NaN  \n",
              "\n",
              "[77 rows x 13 columns]"
            ]
          },
          "execution_count": 52,
          "metadata": {},
          "output_type": "execute_result"
        }
      ],
      "source": [
        "# Pegando linhas com uma determinada condição.\n",
        "# Iremos analisar os passageiros que embarcaram na classe executiva 'Q'.\n",
        "\n",
        "embarker_class = 'Q'\n",
        "\n",
        "# Criando a condição:\n",
        "# Somente os dados da coluna cuja a classe 'Embarked' são iguais a embarker_class serão mostrados.\n",
        "titanic_data.loc[titanic_data['Embarked'] == embarker_class]"
      ]
    },
    {
      "cell_type": "markdown",
      "metadata": {},
      "source": [
        "Neste caso, temos 77 passageiros pertencentes a essa classe.\n",
        "\n",
        "*Exemplo 4.9:* vendo dados específicos por coluna"
      ]
    },
    {
      "cell_type": "code",
      "execution_count": 53,
      "metadata": {
        "colab": {
          "base_uri": "https://localhost:8080/",
          "height": 423
        },
        "id": "rjdY_tnPBY7-",
        "outputId": "0d2247f5-383a-406a-de3e-52684237a8e3"
      },
      "outputs": [
        {
          "data": {
            "text/html": [
              "<div>\n",
              "<style scoped>\n",
              "    .dataframe tbody tr th:only-of-type {\n",
              "        vertical-align: middle;\n",
              "    }\n",
              "\n",
              "    .dataframe tbody tr th {\n",
              "        vertical-align: top;\n",
              "    }\n",
              "\n",
              "    .dataframe thead th {\n",
              "        text-align: right;\n",
              "    }\n",
              "</style>\n",
              "<table border=\"1\" class=\"dataframe\">\n",
              "  <thead>\n",
              "    <tr style=\"text-align: right;\">\n",
              "      <th></th>\n",
              "      <th>PassengerId</th>\n",
              "      <th>Survived</th>\n",
              "      <th>Age</th>\n",
              "      <th>Sex</th>\n",
              "    </tr>\n",
              "  </thead>\n",
              "  <tbody>\n",
              "    <tr>\n",
              "      <th>1</th>\n",
              "      <td>2</td>\n",
              "      <td>1</td>\n",
              "      <td>38.0</td>\n",
              "      <td>0</td>\n",
              "    </tr>\n",
              "    <tr>\n",
              "      <th>3</th>\n",
              "      <td>4</td>\n",
              "      <td>1</td>\n",
              "      <td>35.0</td>\n",
              "      <td>0</td>\n",
              "    </tr>\n",
              "    <tr>\n",
              "      <th>6</th>\n",
              "      <td>7</td>\n",
              "      <td>0</td>\n",
              "      <td>54.0</td>\n",
              "      <td>1</td>\n",
              "    </tr>\n",
              "    <tr>\n",
              "      <th>11</th>\n",
              "      <td>12</td>\n",
              "      <td>1</td>\n",
              "      <td>58.0</td>\n",
              "      <td>0</td>\n",
              "    </tr>\n",
              "    <tr>\n",
              "      <th>23</th>\n",
              "      <td>24</td>\n",
              "      <td>1</td>\n",
              "      <td>28.0</td>\n",
              "      <td>1</td>\n",
              "    </tr>\n",
              "    <tr>\n",
              "      <th>...</th>\n",
              "      <td>...</td>\n",
              "      <td>...</td>\n",
              "      <td>...</td>\n",
              "      <td>...</td>\n",
              "    </tr>\n",
              "    <tr>\n",
              "      <th>871</th>\n",
              "      <td>872</td>\n",
              "      <td>1</td>\n",
              "      <td>47.0</td>\n",
              "      <td>0</td>\n",
              "    </tr>\n",
              "    <tr>\n",
              "      <th>872</th>\n",
              "      <td>873</td>\n",
              "      <td>0</td>\n",
              "      <td>33.0</td>\n",
              "      <td>1</td>\n",
              "    </tr>\n",
              "    <tr>\n",
              "      <th>879</th>\n",
              "      <td>880</td>\n",
              "      <td>1</td>\n",
              "      <td>56.0</td>\n",
              "      <td>0</td>\n",
              "    </tr>\n",
              "    <tr>\n",
              "      <th>887</th>\n",
              "      <td>888</td>\n",
              "      <td>1</td>\n",
              "      <td>19.0</td>\n",
              "      <td>0</td>\n",
              "    </tr>\n",
              "    <tr>\n",
              "      <th>889</th>\n",
              "      <td>890</td>\n",
              "      <td>1</td>\n",
              "      <td>26.0</td>\n",
              "      <td>1</td>\n",
              "    </tr>\n",
              "  </tbody>\n",
              "</table>\n",
              "<p>216 rows × 4 columns</p>\n",
              "</div>"
            ],
            "text/plain": [
              "     PassengerId  Survived   Age  Sex\n",
              "1              2         1  38.0    0\n",
              "3              4         1  35.0    0\n",
              "6              7         0  54.0    1\n",
              "11            12         1  58.0    0\n",
              "23            24         1  28.0    1\n",
              "..           ...       ...   ...  ...\n",
              "871          872         1  47.0    0\n",
              "872          873         0  33.0    1\n",
              "879          880         1  56.0    0\n",
              "887          888         1  19.0    0\n",
              "889          890         1  26.0    1\n",
              "\n",
              "[216 rows x 4 columns]"
            ]
          },
          "execution_count": 53,
          "metadata": {},
          "output_type": "execute_result"
        }
      ],
      "source": [
        "# Podemos pegar colunas e linhas específicas.\n",
        "# Iremos pegar [PassengerId, Survived, Age, Sex] de todos os passajeiros cuja a class seja igual a 1.\n",
        "classe = 1\n",
        "titanic_data.loc[titanic_data['Pclass'] == classe, ['PassengerId', 'Survived', 'Age', 'Sex']]"
      ]
    },
    {
      "cell_type": "markdown",
      "metadata": {
        "id": "rTjSF8vACvLD"
      },
      "source": [
        "## 4.1 Visualizando os dados do Pandas com matplotlib"
      ]
    },
    {
      "cell_type": "markdown",
      "metadata": {},
      "source": [
        "*Exemplo 4.1.1:* selecionando um conjunto de dados e mostrando gráficos de densidade"
      ]
    },
    {
      "cell_type": "code",
      "execution_count": 54,
      "metadata": {
        "colab": {
          "base_uri": "https://localhost:8080/",
          "height": 283
        },
        "id": "miSOfj4NC0hJ",
        "outputId": "03f2e578-6292-43af-88c9-662a5f8a86a0"
      },
      "outputs": [
        {
          "data": {
            "text/plain": [
              "<AxesSubplot:ylabel='Density'>"
            ]
          },
          "execution_count": 54,
          "metadata": {},
          "output_type": "execute_result"
        },
        {
          "data": {
            "image/png": "[encoded data removed]",
            "text/plain": [
              "<Figure size 432x288 with 1 Axes>"
            ]
          },
          "metadata": {
            "needs_background": "light"
          },
          "output_type": "display_data"
        }
      ],
      "source": [
        "titanic_data['Sex'].plot.density()  # Vendo a densidade de passageiros homens e mulheres."
      ]
    },
    {
      "cell_type": "markdown",
      "metadata": {},
      "source": [
        "*Exemplo 4.1.2:* selecionando um conjunto de dados e mostrando gráficos de histograma"
      ]
    },
    {
      "cell_type": "code",
      "execution_count": 55,
      "metadata": {
        "colab": {
          "base_uri": "https://localhost:8080/",
          "height": 283
        },
        "id": "sNG6oIqLENFe",
        "outputId": "b363d48a-b56b-4a9e-cd59-f48e4e4c17aa"
      },
      "outputs": [
        {
          "data": {
            "text/plain": [
              "<AxesSubplot:ylabel='Frequency'>"
            ]
          },
          "execution_count": 55,
          "metadata": {},
          "output_type": "execute_result"
        },
        {
          "data": {
            "image/png": "[encoded data removed]",
            "text/plain": [
              "<Figure size 432x288 with 1 Axes>"
            ]
          },
          "metadata": {
            "needs_background": "light"
          },
          "output_type": "display_data"
        }
      ],
      "source": [
        "titanic_data['Age'].plot.hist(bins=40)  # Fazendo o histograma das idades dos passageiros (partição = 40)"
      ]
    },
    {
      "cell_type": "markdown",
      "metadata": {},
      "source": [
        "*Exemplo 4.1.3:* selecionando um conjunto de dados e mostrando gráficos de barra"
      ]
    },
    {
      "cell_type": "code",
      "execution_count": 56,
      "metadata": {
        "colab": {
          "base_uri": "https://localhost:8080/",
          "height": 279
        },
        "id": "sO1SIo7SFBu3",
        "outputId": "9eda9fbc-425f-4952-b7bf-a0804af8665d"
      },
      "outputs": [
        {
          "data": {
            "text/plain": [
              "<AxesSubplot:>"
            ]
          },
          "execution_count": 56,
          "metadata": {},
          "output_type": "execute_result"
        },
        {
          "data": {
            "image/png": "[encoded data removed]",
            "text/plain": [
              "<Figure size 432x288 with 1 Axes>"
            ]
          },
          "metadata": {
            "needs_background": "light"
          },
          "output_type": "display_data"
        }
      ],
      "source": [
        "titanic_data['Survived'].value_counts().plot.bar()  # Vendo a relação entre falecimentos e sobreviventes."
      ]
    },
    {
      "cell_type": "markdown",
      "metadata": {},
      "source": [
        "**Exercício 01 (para o relatório):** explore um dataset da área de telecom usando o Pandas. Abre e mostre o dataset. Faça alguma análise simples utilizando o Pandas. A análise é de livre escolha sua.\n",
        "\n",
        "Sugestão da datasets (não limitados a esses):\n",
        "\n",
        "- Amazon Prime:\n",
        "- Netflix: \n",
        "- O-RAN dataset: https://github.com/o-ran-sc/sim-e2-interface-data/blob/master/VIAVI%20RIC%20Tester%20Demo%20dataset.md"
      ]
    },
    {
      "cell_type": "markdown",
      "metadata": {
        "id": "XqaDZ2w-GjsA"
      },
      "source": [
        "### Para mais informações sobre o pandas:\n",
        "\n",
        "- Recomendação 01:\n",
        "https://towardsdatascience.com/getting-started-to-data-analysis-with-python-pandas-with-titanic-dataset-a195ab043c77\n",
        "\n",
        "- Recomendação 02: https://www.youtube.com/watch?v=C0aj3FjN5e0&t=2321s\n",
        "\n",
        "\n",
        "\n",
        "\n",
        "## Referências bibliográficas\n",
        "\n",
        "Numpy Python: O que é, vantagens e tutorial inicial [(https://harve.com.br/blog/programacao-python-blog/numpy-python-o-que-e-vantagens-e-tutorial-inicial/)](https://harve.com.br/blog/programacao-python-blog/numpy-python-o-que-e-vantagens-e-tutorial-inicial/)\n",
        "\n",
        "Pandas Python: vantagens e como começar [https://harve.com.br/blog/programacao-python-blog/pandas-python-vantagens-e-como-comecar/](https://harve.com.br/blog/programacao-python-blog/pandas-python-vantagens-e-como-comecar/)\n",
        "\n",
        "Análise exploratória e preditiva do Dataset- Titanic em Python [https://medium.com/@alegeorgelustosa/an%C3%A1lise-explorat%C3%B3ria-e-preditiva-do-dataset-titanic-em-python-fbd5e5bb7328](https://medium.com/@alegeorgelustosa/an%C3%A1lise-explorat%C3%B3ria-e-preditiva-do-dataset-titanic-em-python-fbd5e5bb7328)"
      ]
    }
  ],
  "metadata": {
    "colab": {
      "collapsed_sections": [],
      "name": "Aprendendo_python_4.ipynb",
      "provenance": []
    },
    "kernelspec": {
      "display_name": "Python 3",
      "name": "python3"
    },
    "language_info": {
      "codemirror_mode": {
        "name": "ipython",
        "version": 3
      },
      "file_extension": ".py",
      "mimetype": "text/x-python",
      "name": "python",
      "nbconvert_exporter": "python",
      "pygments_lexer": "ipython3",
      "version": "3.9.7"
    }
  },
  "nbformat": 4,
  "nbformat_minor": 0
}
