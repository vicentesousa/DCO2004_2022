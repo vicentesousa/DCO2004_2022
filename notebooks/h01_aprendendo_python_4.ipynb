{
  "nbformat": 4,
  "nbformat_minor": 0,
  "metadata": {
    "colab": {
      "name": "Aprendendo_python_4.ipynb",
      "provenance": [],
      "collapsed_sections": []
    },
    "kernelspec": {
      "name": "python3",
      "display_name": "Python 3"
    },
    "language_info": {
      "name": "python"
    }
  },
  "cells": [
    {
      "cell_type": "markdown",
      "metadata": {
        "id": "x7DnMMbrNSWy"
      },
      "source": [
        "# APRENDENDO PYTHON - GppCom - Parte 04 de 04\n",
        "## TERCEIRA PARTE - Do aprofundamento e aplicações para o avançado.\n",
        "\n",
        "\n",
        "Python é uma linguagem de programação de propósito geral, que está cada vez mais popular no âmbito da Estatística e Aprendizado de Máquina, sendo muito utilizado na Ciência de Dados, principalmente pela facilidade na sintaxe e na manipulação de grandes conjuntos de dados.\n",
        "\n",
        "## O que veremos nessa parte:\n",
        "\n",
        "\n",
        "* Bibilotecas padrão do python (inclusas no instalação)\n",
        "* Biblioteca Numpy\n",
        "* Biblioteca Matplotlib\n",
        "* biblioteca Pandas"
      ]
    },
    {
      "cell_type": "markdown",
      "metadata": {
        "id": "ADycBoKMN-RA"
      },
      "source": [
        "## As Bibliotecas padrões do Python\n",
        "As bibliotecas padrões do Python são muito extensas, oferecendo uma ampla gama de recursos, conforme indicado pelo longo índice listado abaixo. A biblioteca contém módulos embutidos (escritos em C) que fornecem acesso à funcionalidade do sistema, como E/S de arquivos que de outra forma seriam inacessíveis para programadores Python, bem como módulos escritos em Python que fornecem soluções padronizadas para muitos problemas que ocorrem em programação cotidiana. Alguns desses módulos são explicitamente projetados para incentivar e aprimorar a portabilidade de programas em Python, abstraindo os detalhes da plataforma em APIs neutras em plataforma.\n",
        "\n",
        "\n",
        "Fonte [Python Org](https://docs.python.org/pt-br/3/library/)\n",
        "\n",
        "Dentre as bibliotecas padrões, podemos citas as seguintes:\n",
        "\n",
        "- math (funções matemáticas)\n",
        "- cmath (numéros complexos)\n",
        "- random (funções randômicas)\n",
        "- statistics (estatísticas em geral)\n",
        "- pickle (trabalha com serialização de dados)\n",
        "- csv (para dados em csv)\n",
        "- os (importante biblioteca para o sistema operacional)\n",
        "- socket (comunicação em rede)\n",
        "- urllib (para Acessar e manipular URLs)\n",
        "\n",
        "Como falar de todas as bibliotecas seria complicado, iremos utilizar somente algumas."
      ]
    },
    {
      "cell_type": "code",
      "metadata": {
        "id": "uwMpjIKdKRDX",
        "colab": {
          "base_uri": "https://localhost:8080/"
        },
        "outputId": "32d42afe-1ec6-47cb-de37-04bdc579040e"
      },
      "source": [
        "# Bilioteca de matemática\n",
        "import math\n",
        "\n",
        "seno_0 = math.sin(0)             # Calcula o seno de zero\n",
        "seno_90 = math.sin(math.pi/2)    # calcula o seno de 90 graus\n",
        "seno_180 = math.sin(math.pi)     # calcula o seno de 180\n",
        "\n",
        "print(seno_0,'/',seno_90,'/', seno_180)\n",
        "# Note que o seno de 180 está dando um valor extremamente baixo (10^-16)"
      ],
      "execution_count": null,
      "outputs": [
        {
          "output_type": "stream",
          "name": "stdout",
          "text": [
            "0.0 / 1.0 / 1.2246467991473532e-16\n"
          ]
        }
      ]
    },
    {
      "cell_type": "code",
      "metadata": {
        "colab": {
          "base_uri": "https://localhost:8080/"
        },
        "id": "Szz_XrHhTctd",
        "outputId": "a25c287f-cc6c-4c91-f92d-1e6b48d3b193"
      },
      "source": [
        "#Biblioteca Aleatória\n",
        "import random\n",
        "\n",
        "numero_aleatorio = random.random()  # gera um numéro entre 0 e 1.\n",
        "print(numero_aleatorio)\n",
        "\n",
        "numero_inteiro = random.randint(10, 100)  # Gera um número inteiro entre 10 e 100.\n",
        "print(numero_inteiro)\n",
        "\n",
        "media = 5\n",
        "desv_padrao = 0.5\n",
        "numero_gausiano = random.gauss(media, desv_padrao)  # gera um número aleatório de padrão gausiano.\n",
        "print(numero_gausiano)\n",
        "\n",
        "escolha = random.choice(['verde', 'vermelho', 'azul', 'roxo', 'violeta']) # Escolhe uma opção.\n",
        "print(escolha)"
      ],
      "execution_count": null,
      "outputs": [
        {
          "output_type": "stream",
          "name": "stdout",
          "text": [
            "0.9449638501485098\n",
            "92\n",
            "5.074184567699472\n",
            "violeta\n"
          ]
        }
      ]
    },
    {
      "cell_type": "markdown",
      "metadata": {
        "id": "4BkPAw9r12Wl"
      },
      "source": [
        "## Biblioteca Numpy\n",
        "\n",
        "Essa biblioteca é muito utilizada quando estamos falando de muitos dados, então você certamente já ouviu ou vai ouvir falar bastante dessa biblioteca.\n",
        "\n",
        "Por esse motivo ela é muito útil, pois ela possui um tempo processamento de dados maior, ou seja, quando temos mais dados o que queremos é exatamente uma quantidade maior de processamento!\n",
        "\n",
        "Tudo que você tiver uma grande quantidade de dados você vai ver que essa biblioteca vai estar presente.\n",
        "\n",
        "Nessa sessão você vai aprender:\n",
        "\n",
        "\n",
        "*   Tipos de Array;\n",
        "*   Como criar um Array;\n",
        "*   Concatenar Arrays;\n",
        "*   Consultar itens de um Arrays;\n",
        "*   Operações com Arrays;\n",
        "*   Gerando amostras aleatórias;\n",
        "*   Diferença entre Arrays e Listas.\n",
        "\n",
        "\n",
        "## Importação\n",
        "\n",
        "`import numpy as np`\n",
        "\n",
        "Após a importação, podemos usar as funções da biblioteca,\n",
        "\n",
        "## Tipos de Array\n",
        "\n",
        "Um Array é um conjunto de dados que pode estar disposto em diferentes dimensões.\n",
        "\n",
        "Temos alguns tipos de array nessas diferentes dimensões e você já deve ter ouvido falar de pelo menos um deles.\n",
        "\n",
        "1D array – Possui apenas uma dimensão. Será comumente chamado de vetor ou vector;\n",
        "\n",
        "2D array – Possui 2 dimensões. Será comumente chamado de matriz ou matrix;\n",
        "\n",
        "3D ou Mais array – Possui 3 ou mais dimensões. Será comumente chamado de tensor.\n",
        "\n",
        "## Criando um array\n",
        "\n",
        "**np.array()**\n"
      ]
    },
    {
      "cell_type": "code",
      "metadata": {
        "colab": {
          "base_uri": "https://localhost:8080/"
        },
        "id": "8PcktK2tBxBB",
        "outputId": "c0642881-46a9-462f-b6f4-8533b65eb023"
      },
      "source": [
        "import numpy as np\n",
        "\n",
        "a = np.array([1,2,3,4,5,6])\n",
        "print (a)\n",
        "print (type(a))"
      ],
      "execution_count": null,
      "outputs": [
        {
          "output_type": "stream",
          "name": "stdout",
          "text": [
            "[1 2 3 4 5 6]\n",
            "<class 'numpy.ndarray'>\n"
          ]
        }
      ]
    },
    {
      "cell_type": "markdown",
      "metadata": {
        "id": "4JWjuj3dDAQY"
      },
      "source": [
        "Aqui utilizamos o np.array para criar um conjunto de dados de uma dimensão e atribuir esse conjunto a uma variável.\n",
        "\n",
        "O print (type(a)) apenas retorna o tipo de variável que foi criada\n",
        "\n",
        "**np.zeros()**\n",
        "\n"
      ]
    },
    {
      "cell_type": "code",
      "metadata": {
        "colab": {
          "base_uri": "https://localhost:8080/"
        },
        "id": "LPRcsJdJESR3",
        "outputId": "dd2cea06-7617-4a14-e0f2-1c998aad0de4"
      },
      "source": [
        "import numpy as np\n",
        "\n",
        "zero_array = np.zeros(shape = (5,3,6))\n",
        "print (zero_array)"
      ],
      "execution_count": null,
      "outputs": [
        {
          "output_type": "stream",
          "name": "stdout",
          "text": [
            "[[[0. 0. 0. 0. 0. 0.]\n",
            "  [0. 0. 0. 0. 0. 0.]\n",
            "  [0. 0. 0. 0. 0. 0.]]\n",
            "\n",
            " [[0. 0. 0. 0. 0. 0.]\n",
            "  [0. 0. 0. 0. 0. 0.]\n",
            "  [0. 0. 0. 0. 0. 0.]]\n",
            "\n",
            " [[0. 0. 0. 0. 0. 0.]\n",
            "  [0. 0. 0. 0. 0. 0.]\n",
            "  [0. 0. 0. 0. 0. 0.]]\n",
            "\n",
            " [[0. 0. 0. 0. 0. 0.]\n",
            "  [0. 0. 0. 0. 0. 0.]\n",
            "  [0. 0. 0. 0. 0. 0.]]\n",
            "\n",
            " [[0. 0. 0. 0. 0. 0.]\n",
            "  [0. 0. 0. 0. 0. 0.]\n",
            "  [0. 0. 0. 0. 0. 0.]]]\n"
          ]
        }
      ]
    },
    {
      "cell_type": "markdown",
      "metadata": {
        "id": "TWBqWkYyE3E_"
      },
      "source": [
        "Nesse caso por exemplo estamos utilizando o np.zeros para criar um conjunto com zeros (pode-se utilizar o np.ones para criar um conjunto com 1).\n",
        "\n",
        "O shape é uma forma de informar ao Python as dimensões do nosso array. Então é como se fossem 5 matrizes de 3 linhas e 6 colunas.\n",
        "\n",
        "**np.arange()**\n"
      ]
    },
    {
      "cell_type": "code",
      "metadata": {
        "colab": {
          "base_uri": "https://localhost:8080/"
        },
        "id": "4j6UweDXfEIm",
        "outputId": "b1edbdf4-4043-49dc-db75-62d7b4fa0fe6"
      },
      "source": [
        "import numpy as np\n",
        "\n",
        "zero_dez = np.arange(10) # Cria um array de 10 elementos\n",
        "print (zero_dez)\n",
        "pula_dois = np.arange(3,15,2) #(início, fim, salto)\n",
        "print (pula_dois)"
      ],
      "execution_count": null,
      "outputs": [
        {
          "output_type": "stream",
          "name": "stdout",
          "text": [
            "[0 1 2 3 4 5 6 7 8 9]\n",
            "[ 3  5  7  9 11 13]\n"
          ]
        }
      ]
    },
    {
      "cell_type": "markdown",
      "metadata": {
        "id": "zNEd_Sy71J0Y"
      },
      "source": [
        "Para o np.arrange nós conseguimos criar conjunto de dados em sequência sem que você perca tempo tendo que escrever esse conjunto.\n",
        "\n",
        "Então podemos tanto informar a quantidade de dados que vamos ter e será feita uma sequência de 0 até aquele valor (como no primeiro exemplo de 0 a 9, totalizando 10 elementos).\n",
        "\n",
        "E no segundo exemplo temos a informação que queremos do número 3 ao 15 aumentando de 2 em 2.\n",
        "\n",
        "Então são formas mais rápidas para construir um array sem que você tenha que escrever tudo de forma manual, o que seria horrível para conjuntos de dados muito grandes.\n",
        "\n",
        "**np.linspace()**\n"
      ]
    },
    {
      "cell_type": "code",
      "metadata": {
        "colab": {
          "base_uri": "https://localhost:8080/"
        },
        "id": "qp_n4fDa2fAt",
        "outputId": "66405d74-7f0f-4343-859f-a44e8f10596f"
      },
      "source": [
        "import numpy as np\n",
        "\n",
        "array_linear = np.linspace(0, 100, num = 20, endpoint = False, retstep = True) # Cria um array de 10 elementos\n",
        "print (array_linear)"
      ],
      "execution_count": null,
      "outputs": [
        {
          "output_type": "stream",
          "name": "stdout",
          "text": [
            "(array([ 0.,  5., 10., 15., 20., 25., 30., 35., 40., 45., 50., 55., 60.,\n",
            "       65., 70., 75., 80., 85., 90., 95.]), 5.0)\n"
          ]
        }
      ]
    },
    {
      "cell_type": "markdown",
      "metadata": {
        "id": "GoPvk35A3YR9"
      },
      "source": [
        "O np.linspace permite com que você crie uma sequência linear de valores espaçados igualmente entre si.\n",
        "\n",
        "Nesse caso queremos uma sequência de 0 a 100 com 2 elementos. Então o próprio código já vai fazer esse espaçamento igual e já vai te dar todos os elementos desse conjunto de dados.\n",
        "\n",
        "OBS: Nesse caso nós temos o endpoint = False, e isso significa que não vamos considerar o valor 100, ele não precisar aparecer dentro do nosso conjunto, então o espaçamento linear seria de 5 em 5, caso contrário você pode fazer um teste para ver como ficaria esse conjunto se considerar o ponto final!\n",
        "\n",
        "Outro ponto bem importante é o retstep = True, que é esse número que é mostrado após o nosso conjunto de dados. Ele nada mais é do que o espaçamento que foi dado entre cada um dos números.\n",
        "\n",
        "Nesse caso é de 5 em 5 e facilmente você percebe isso, mas em alguns casos para não ter que fazer conta, basta utilizar esse recurso!\n",
        "\n",
        "**Descobrindo o tamanho de um array**\n",
        "\n",
        "Para isso temos três comandos:\n",
        "\n",
        "`shape`: mostra o formato do conjunto de dados\n",
        "\n",
        "`size`: tamanho do conjunto de dados\n",
        "\n",
        "`ndim`: mostra o número de dimensões"
      ]
    },
    {
      "cell_type": "code",
      "metadata": {
        "colab": {
          "base_uri": "https://localhost:8080/"
        },
        "id": "Z0kO66LTepC9",
        "outputId": "ecb658bd-978f-4824-dfd1-5d4586e1df99"
      },
      "source": [
        "import numpy as np\n",
        "\n",
        "zero_array = np.zeros(shape = (5,3,6))\n",
        "print (zero_array)\n",
        "print (zero_array.shape)\n",
        "print (zero_array.size)\n",
        "print (zero_array.ndim)"
      ],
      "execution_count": null,
      "outputs": [
        {
          "output_type": "stream",
          "name": "stdout",
          "text": [
            "[[[0. 0. 0. 0. 0. 0.]\n",
            "  [0. 0. 0. 0. 0. 0.]\n",
            "  [0. 0. 0. 0. 0. 0.]]\n",
            "\n",
            " [[0. 0. 0. 0. 0. 0.]\n",
            "  [0. 0. 0. 0. 0. 0.]\n",
            "  [0. 0. 0. 0. 0. 0.]]\n",
            "\n",
            " [[0. 0. 0. 0. 0. 0.]\n",
            "  [0. 0. 0. 0. 0. 0.]\n",
            "  [0. 0. 0. 0. 0. 0.]]\n",
            "\n",
            " [[0. 0. 0. 0. 0. 0.]\n",
            "  [0. 0. 0. 0. 0. 0.]\n",
            "  [0. 0. 0. 0. 0. 0.]]\n",
            "\n",
            " [[0. 0. 0. 0. 0. 0.]\n",
            "  [0. 0. 0. 0. 0. 0.]\n",
            "  [0. 0. 0. 0. 0. 0.]]]\n",
            "(5, 3, 6)\n",
            "90\n",
            "3\n"
          ]
        }
      ]
    },
    {
      "cell_type": "markdown",
      "metadata": {
        "id": "ufsmzWskfbvc"
      },
      "source": [
        "**Concatenando Arrays**\n",
        "\n",
        "As vezes é necessário juntar as informações para construir um outro array dependendo do que está trabalhando, então é importante saber não só como construir eles, mas como trabalhar com eles dentro do Python."
      ]
    },
    {
      "cell_type": "code",
      "metadata": {
        "colab": {
          "base_uri": "https://localhost:8080/"
        },
        "id": "pzM691nMfq7t",
        "outputId": "cc3553bf-2c20-4ed4-b835-d81c425be28a"
      },
      "source": [
        "import numpy as np\n",
        "\n",
        "a = np.array([1,2,3])\n",
        "b = np.array([4,5,6])\n",
        "\n",
        "c = np.concatenate((a,b))\n",
        "d = np.concatenate((b,a))\n",
        "\n",
        "print(c)\n",
        "print(d)"
      ],
      "execution_count": null,
      "outputs": [
        {
          "output_type": "stream",
          "name": "stdout",
          "text": [
            "[1 2 3 4 5 6]\n",
            "[4 5 6 1 2 3]\n"
          ]
        }
      ]
    },
    {
      "cell_type": "markdown",
      "metadata": {
        "id": "a2eSZbJpqcg7"
      },
      "source": [
        "**Consultando itens de um Array**\n",
        "\n",
        "Então é claro que vamos abordar mais algumas ferramentas úteis para que você consiga trabalhar com esses arrays tranquilamente.\n",
        "\n",
        "Um ponto que é necessário assim como temos nas listas é para consultar informações dentro de um conjunto de dados.\n",
        "\n",
        "Nesse caso estamos verificando quais os valores dentro do nosso conjunto de dados que são menores do que 8.\n",
        "\n"
      ]
    },
    {
      "cell_type": "code",
      "metadata": {
        "colab": {
          "base_uri": "https://localhost:8080/"
        },
        "id": "flY8rf-bqi0T",
        "outputId": "00287280-24f4-4ac2-bb8f-520540a3ef33"
      },
      "source": [
        "import numpy as np\n",
        "\n",
        "a = np.array([[1,2,3,4],[5,6,7,8],[9,10,11,12]])\n",
        "print(a)\n",
        "print('------------------------')\n",
        "print(a[a<8])\n"
      ],
      "execution_count": null,
      "outputs": [
        {
          "output_type": "stream",
          "name": "stdout",
          "text": [
            "[[ 1  2  3  4]\n",
            " [ 5  6  7  8]\n",
            " [ 9 10 11 12]]\n",
            "------------------------\n",
            "[1 2 3 4 5 6 7]\n"
          ]
        }
      ]
    },
    {
      "cell_type": "markdown",
      "metadata": {
        "id": "TIO5FRkdHhGQ"
      },
      "source": [
        "**Operações com Arrays**\n",
        "\n",
        "Como qualquer tratamento ou análise de dados é necessário fazer algumas operações e com arrays não seria diferente, então temos algumas das principais operações que podemos fazer com os arrays.\n",
        "\n",
        "Soma: `.sum()` soma os elementos do array\n",
        "\n",
        "Valor minimo: `.min()` retorna o elemento de menor valor do array\n",
        "\n",
        "Valor máximo: `.max()` retorna o elemento de maior valor do array\n",
        "\n",
        "Média: `.mean()` retorna a media dos valores do array"
      ]
    },
    {
      "cell_type": "code",
      "metadata": {
        "colab": {
          "base_uri": "https://localhost:8080/"
        },
        "id": "1lyE1TNLJ8Ap",
        "outputId": "7719d7db-5b03-4a52-f2ee-18cf637c817d"
      },
      "source": [
        "import numpy as np\n",
        "\n",
        "a = np.array([1,2,3])\n",
        "\n",
        "print (a.sum())\n",
        "print (a.min())\n",
        "print (a.max())\n",
        "print (a.mean())"
      ],
      "execution_count": null,
      "outputs": [
        {
          "output_type": "stream",
          "name": "stdout",
          "text": [
            "6\n",
            "1\n",
            "3\n",
            "2.0\n"
          ]
        }
      ]
    },
    {
      "cell_type": "markdown",
      "metadata": {
        "id": "jc1RBZ_cL-JJ"
      },
      "source": [
        "**Gerando amostras aleatórias**\n",
        "\n",
        "Um ponto bem interessante dentro da análise de dados é que algumas vezes precisamos de valores aleatórios, seja para testar algum código ou até mesmo testar uma ferramenta.\n",
        "\n",
        "Então ao invés de criar uma sequência ou algo do tipo que seria muito “trivial” para o código ou ferramenta utilizar, podemos criar arrays com valores aleatórios.\n",
        "\n",
        "Só que para esse caso temos que importar a biblioteca `default_rng` e utilizar o `rng.integers` que vai gerar números inteiros aleatórios.\n",
        "\n",
        "Se você nunca utilizou números aleatórios assim não se preocupe que é algo bastante comum em análise de dados."
      ]
    },
    {
      "cell_type": "code",
      "metadata": {
        "colab": {
          "base_uri": "https://localhost:8080/"
        },
        "id": "kdyZ6pnxNMll",
        "outputId": "ab6e809b-ede1-4502-f416-bbc90243c2c0"
      },
      "source": [
        "import numpy as np\n",
        "from numpy.random import default_rng\n",
        "\n",
        "rng=default_rng()\n",
        "aleatorio = rng.integers(10, size=(2,4))\n",
        "print(aleatorio)"
      ],
      "execution_count": null,
      "outputs": [
        {
          "output_type": "stream",
          "name": "stdout",
          "text": [
            "[[6 6 1 1]\n",
            " [3 7 7 4]]\n"
          ]
        }
      ]
    },
    {
      "cell_type": "markdown",
      "metadata": {
        "id": "dpPv9Dw9PvcN"
      },
      "source": [
        "**Diferença entre Arrays e Listas**\n",
        "\n",
        "Para finalizar vamos te mostrar algumas diferenças entre arrays e listas. Pois são estruturas muito parecidas, mas que possuem algumas diferenças.\n",
        "\n",
        "A primeira delas é a forma como o Python representa, logo abaixo temos o tipo como o Python classifica as duas.\n"
      ]
    },
    {
      "cell_type": "code",
      "metadata": {
        "id": "wU_cv6edQlZm",
        "colab": {
          "base_uri": "https://localhost:8080/"
        },
        "outputId": "25e9dc11-df39-45da-dc4d-d801428f3264"
      },
      "source": [
        "import numpy as np\n",
        "\n",
        "a = np.array([1,3,4,5,6,7,8])\n",
        "print (\"Esse é o array 'a':\",a)\n",
        "print (\"Esse é o tipo de 'a':\",type(a))\n",
        "print('-----------------------------------')\n",
        "lista_a=[1,3,4,5,6,7,8]\n",
        "print (\"Esse é a lista_a':\",a)\n",
        "print (\"Esse é o tipo de 'a':\",type(a))\n",
        "print('-----------------------------------')"
      ],
      "execution_count": null,
      "outputs": [
        {
          "output_type": "stream",
          "name": "stdout",
          "text": [
            "Esse é o array 'a': [1 3 4 5 6 7 8]\n",
            "Esse é o tipo de 'a': <class 'numpy.ndarray'>\n",
            "-----------------------------------\n",
            "Esse é a lista_a': [1 3 4 5 6 7 8]\n",
            "Esse é o tipo de 'a': <class 'numpy.ndarray'>\n",
            "-----------------------------------\n"
          ]
        }
      ]
    },
    {
      "cell_type": "markdown",
      "metadata": {
        "id": "E1BqpqufQl5P"
      },
      "source": [
        "Então dessas duas maneiras você já consegue identificar se é uma lista ou um array (mesmo que não tenha a classificação).\n",
        "\n",
        "Outro ponto muito importante é que o array não permite tipos de dados diferentes, então se colocarmos um texto dentro desse conjunto de dados o Python passa a classificar os dados dentro dele como string ao invés de inteiro.\n",
        "\n",
        "Já nas listas isso não acontece, cada elemento vai ser classificado de acordo com o seu conteúdo, então um elemento pode ser classificado como inteiro enquanto o outro pode ser classificado como string."
      ]
    },
    {
      "cell_type": "code",
      "metadata": {
        "colab": {
          "base_uri": "https://localhost:8080/"
        },
        "id": "eXCYoIMuUA6u",
        "outputId": "ba81f45b-929c-42d2-bfbb-ed67bdc7a381"
      },
      "source": [
        "import numpy as np\n",
        "\n",
        "# Arrays não permitem tipos de dados distintos\n",
        "a = np.array([1,'Daniel',2,3,4,5,6,7,8])\n",
        "print (a)\n",
        "print (type(a[0]))\n",
        "print('-----------------------------------')\n",
        "# As listas permitem\n",
        "lista_a = [1,'Daniel',2,3,4,5,6,7,8]\n",
        "print (lista_a)\n",
        "print (type(lista_a[0]))\n"
      ],
      "execution_count": null,
      "outputs": [
        {
          "output_type": "stream",
          "name": "stdout",
          "text": [
            "['1' 'Daniel' '2' '3' '4' '5' '6' '7' '8']\n",
            "<class 'numpy.str_'>\n",
            "-----------------------------------\n",
            "[1, 'Daniel', 2, 3, 4, 5, 6, 7, 8]\n",
            "<class 'int'>\n"
          ]
        }
      ]
    },
    {
      "cell_type": "code",
      "metadata": {
        "id": "edkDT05Hum5u"
      },
      "source": [
        ""
      ],
      "execution_count": null,
      "outputs": []
    },
    {
      "cell_type": "markdown",
      "metadata": {
        "id": "_vhaWTo6skHA"
      },
      "source": [
        "# Biblioteca Matplotlib\n",
        "\n",
        "A matplotlib é uma das bibliotecas python mais utilizadas, graças a facilidade com que ela trabalha com manipulação de gráficos.\n",
        "\n",
        "**Importação**\n",
        "\n"
      ]
    },
    {
      "cell_type": "code",
      "metadata": {
        "id": "AXO6BmLbunru"
      },
      "source": [
        "import matplotlib.pyplot as plt"
      ],
      "execution_count": null,
      "outputs": []
    },
    {
      "cell_type": "markdown",
      "metadata": {
        "id": "qQjk2oqCuuAX"
      },
      "source": [
        "Vamos utilizar o sub módulo pyplot dessa biblioteca. Outro ponto importante é que sempre que você visualizar uma biblioteca sendo importada e depois o comando as, isso é para facilitar a sua vida!\n",
        "\n",
        "Nesse caso é para sempre que for utilizar algum comando não tenha que escrever matplotlib.pyplot e escrever somente plt.\n",
        "\n",
        "À partir disso podemos utilizar a função `plot()` e a função `show()` para visualizarmos o gráfico"
      ]
    },
    {
      "cell_type": "code",
      "metadata": {
        "colab": {
          "base_uri": "https://localhost:8080/",
          "height": 265
        },
        "id": "yoOaD-pyuTqg",
        "outputId": "57620747-9f8a-41e4-91d5-cdeffd18c320"
      },
      "source": [
        "x = [1, 2, 3, 4]\n",
        "y = [2, 3, 4, 3]\n",
        "\n",
        "plt.plot(x, y)\n",
        "plt.show()"
      ],
      "execution_count": null,
      "outputs": [
        {
          "output_type": "display_data",
          "data": {
            "image/png": "[encoded data removed]",
            "text/plain": [
              "<Figure size 432x288 with 1 Axes>"
            ]
          },
          "metadata": {
            "needs_background": "light"
          }
        }
      ]
    },
    {
      "cell_type": "markdown",
      "metadata": {
        "id": "5Au0aRTnwVQ_"
      },
      "source": [
        "Abaixo temos edições do gráfico anterior para que você tenha uma base do que pode ser alterado."
      ]
    },
    {
      "cell_type": "code",
      "metadata": {
        "colab": {
          "base_uri": "https://localhost:8080/",
          "height": 295
        },
        "id": "fOknIfWiwu5O",
        "outputId": "d23d5fe8-a125-450b-85e0-c96420876bc6"
      },
      "source": [
        "plt.plot(x, y, label='dados')\n",
        "plt.ylabel('Eixo Y')\n",
        "plt.xlabel('Eixo X')\n",
        "plt.title('Novo Gráfico')\n",
        "plt.xticks([0,1,2,3,4,5,6])\n",
        "plt.yticks([0,2,4,6])\n",
        "plt.legend()\n",
        "plt.show()"
      ],
      "execution_count": null,
      "outputs": [
        {
          "output_type": "display_data",
          "data": {
            "image/png": "[encoded data removed]",
            "text/plain": [
              "<Figure size 432x288 with 1 Axes>"
            ]
          },
          "metadata": {
            "needs_background": "light"
          }
        }
      ]
    },
    {
      "cell_type": "markdown",
      "metadata": {
        "id": "E5bdfgBKybYO"
      },
      "source": [
        "**Propriedades line**\n",
        "\n",
        "Além de plotar o gráfico podemos alterar o estilo da linha (linestyle), assim como a própria coloração (color) da linha para facilitar a visualização."
      ]
    },
    {
      "cell_type": "code",
      "metadata": {
        "colab": {
          "base_uri": "https://localhost:8080/",
          "height": 265
        },
        "id": "JMqRhKA5y4oW",
        "outputId": "d1b0c661-b7d5-4442-f417-a8833cfdb227"
      },
      "source": [
        "plt.plot(x, y, linestyle='--',color = 'y', lw=10.0)\n",
        "plt.show()"
      ],
      "execution_count": null,
      "outputs": [
        {
          "output_type": "display_data",
          "data": {
            "image/png": "[encoded data removed]",
            "text/plain": [
              "<Figure size 432x288 with 1 Axes>"
            ]
          },
          "metadata": {
            "needs_background": "light"
          }
        }
      ]
    },
    {
      "cell_type": "markdown",
      "metadata": {
        "id": "PAnBNtfpz1jF"
      },
      "source": [
        "Podemos também utilizar diferentes tipos de gráfico, como o gráfico de pontos (scatter) ou até mesmo gráfico de barras (bar).\n",
        "\n",
        "**.Scatter()**"
      ]
    },
    {
      "cell_type": "code",
      "metadata": {
        "colab": {
          "base_uri": "https://localhost:8080/",
          "height": 265
        },
        "id": "FP9W43qdz5w1",
        "outputId": "9e8069b6-b78a-4623-aaae-823d83dbe011"
      },
      "source": [
        "plt.scatter(x, y)\n",
        "plt.show()"
      ],
      "execution_count": null,
      "outputs": [
        {
          "output_type": "display_data",
          "data": {
            "image/png": "[encoded data removed]",
            "text/plain": [
              "<Figure size 432x288 with 1 Axes>"
            ]
          },
          "metadata": {
            "needs_background": "light"
          }
        }
      ]
    },
    {
      "cell_type": "markdown",
      "metadata": {
        "id": "CzJ6UYdD0BZG"
      },
      "source": [
        "**.Bar()**"
      ]
    },
    {
      "cell_type": "code",
      "metadata": {
        "colab": {
          "base_uri": "https://localhost:8080/",
          "height": 265
        },
        "id": "auEBbO3T0EcG",
        "outputId": "66bd7cb4-b5ca-4006-dfc5-c294aa9c7497"
      },
      "source": [
        "plt.bar(x, y)\n",
        "plt.show()"
      ],
      "execution_count": null,
      "outputs": [
        {
          "output_type": "display_data",
          "data": {
            "image/png": "[encoded data removed]",
            "text/plain": [
              "<Figure size 432x288 with 1 Axes>"
            ]
          },
          "metadata": {
            "needs_background": "light"
          }
        }
      ]
    },
    {
      "cell_type": "markdown",
      "metadata": {
        "id": "XKBOFN3P1SVl"
      },
      "source": [
        "**Alterando os marcadores do gráfico**\n",
        "\n",
        "Nesse caso estamos colocando em vermelho (r) e estamos representando os dados com círculos (o) por isso o “ro” dentro do plot."
      ]
    },
    {
      "cell_type": "code",
      "metadata": {
        "colab": {
          "base_uri": "https://localhost:8080/",
          "height": 265
        },
        "id": "vqkM0FjS1Yul",
        "outputId": "456aac8f-f412-40f9-8f66-9705a2f8cb35"
      },
      "source": [
        "plt.plot(x, y, 'ro')\n",
        "plt.show()"
      ],
      "execution_count": null,
      "outputs": [
        {
          "output_type": "display_data",
          "data": {
            "image/png": "[encoded data removed]",
            "text/plain": [
              "<Figure size 432x288 with 1 Axes>"
            ]
          },
          "metadata": {
            "needs_background": "light"
          }
        }
      ]
    },
    {
      "cell_type": "markdown",
      "metadata": {
        "id": "8WlkdDFH2U58"
      },
      "source": [
        "**Alterando os limites (eixos) do gráfico**\n",
        "\n",
        "Podemos alterar também os limites do gráfico, para ajustar o tamanho de acordo com a sua necessidade.\n",
        "\n",
        "Então dentro de axis podemos colocar os limites mínimos e máximos dos eixos x e y, assim teremos um tamanho de acordo com sua necessidade e não um tamanho variável de acordo com cada informação que for colocar."
      ]
    },
    {
      "cell_type": "code",
      "metadata": {
        "colab": {
          "base_uri": "https://localhost:8080/",
          "height": 265
        },
        "id": "sTsjkFf32but",
        "outputId": "fd659e1a-6329-4caf-e03d-2269987957a4"
      },
      "source": [
        "plt.plot(x, y)\n",
        "plt.axis(xmin=-1, xmax=20, ymin=-5, ymax=15)\n",
        "plt.axis('auto')\n",
        "plt.axis('square')\n",
        "plt.show()"
      ],
      "execution_count": null,
      "outputs": [
        {
          "output_type": "display_data",
          "data": {
            "image/png": "[encoded data removed]",
            "text/plain": [
              "<Figure size 432x288 with 1 Axes>"
            ]
          },
          "metadata": {
            "needs_background": "light"
          }
        }
      ]
    },
    {
      "cell_type": "markdown",
      "metadata": {
        "id": "jODymWcj4GEO"
      },
      "source": [
        "Com esses conhecimentos você já deve ter uma boa base para trabalhar com gráficos, inclusive aplicando os conhecimentos da biblioteca numpy"
      ]
    },
    {
      "cell_type": "markdown",
      "metadata": {
        "id": "zELbWM3gBrua"
      },
      "source": [
        "# Biblioteca Pandas\n",
        "\n",
        "pandas é uma ferramenta rápida, poderosa, flexível e fácil\n",
        "de usar de análise e manipulação de dados de código aberto, construída em cima da linguagem de programação Python."
      ]
    },
    {
      "cell_type": "code",
      "metadata": {
        "colab": {
          "base_uri": "https://localhost:8080/",
          "height": 206
        },
        "id": "e5hzir4KCZ5x",
        "outputId": "c4a8bf15-ca57-4f83-db05-7e96b1462ba4"
      },
      "source": [
        "import pandas as pd\n",
        "\n",
        "# Criando um dataset - País imaginário\n",
        "\n",
        "# OBS: Utilizaremos a formatação JSON - que é basicamente um dicionário em python.\n",
        "dataset = {'Year': [1998, 1999, 2000, 2001, 2002, 2003, 2004, 2005, 2006, 2007, 2008, 2009, 2010, 2011, 2012],\n",
        "           'GDP': [1.22, 1.32, 1.56, 1.61, 1.69, 1.80, 1.88, 1.93, 2.11, 2.42, 2.81, 3.14, 3.57, 4.01, 4.6],\n",
        "           'Population': [7.3, 7.3, 7.4, 7.5, 7.5, 7.5, 7.6, 7.6, 7.7, 7.7, 7.8, 7.9, 8, 8.4, 8.9],\n",
        "           'Variation': [12, 80, -30, 10, -89, 34, 73, -13, -38, 10, 183, 1321, -123, -1231, -183]\n",
        "           }\n",
        "\n",
        "# Realizando a leitura dos dados\n",
        "data = pd.DataFrame(dataset)\n",
        "\n",
        "# Mostra os 5 primeiros dados do dataframe por padrão.\n",
        "data.head()"
      ],
      "execution_count": null,
      "outputs": [
        {
          "output_type": "execute_result",
          "data": {
            "text/html": [
              "<div>\n",
              "<style scoped>\n",
              "    .dataframe tbody tr th:only-of-type {\n",
              "        vertical-align: middle;\n",
              "    }\n",
              "\n",
              "    .dataframe tbody tr th {\n",
              "        vertical-align: top;\n",
              "    }\n",
              "\n",
              "    .dataframe thead th {\n",
              "        text-align: right;\n",
              "    }\n",
              "</style>\n",
              "<table border=\"1\" class=\"dataframe\">\n",
              "  <thead>\n",
              "    <tr style=\"text-align: right;\">\n",
              "      <th></th>\n",
              "      <th>Year</th>\n",
              "      <th>GDP</th>\n",
              "      <th>Population</th>\n",
              "      <th>Variation</th>\n",
              "    </tr>\n",
              "  </thead>\n",
              "  <tbody>\n",
              "    <tr>\n",
              "      <th>0</th>\n",
              "      <td>1998</td>\n",
              "      <td>1.22</td>\n",
              "      <td>7.3</td>\n",
              "      <td>12</td>\n",
              "    </tr>\n",
              "    <tr>\n",
              "      <th>1</th>\n",
              "      <td>1999</td>\n",
              "      <td>1.32</td>\n",
              "      <td>7.3</td>\n",
              "      <td>80</td>\n",
              "    </tr>\n",
              "    <tr>\n",
              "      <th>2</th>\n",
              "      <td>2000</td>\n",
              "      <td>1.56</td>\n",
              "      <td>7.4</td>\n",
              "      <td>-30</td>\n",
              "    </tr>\n",
              "    <tr>\n",
              "      <th>3</th>\n",
              "      <td>2001</td>\n",
              "      <td>1.61</td>\n",
              "      <td>7.5</td>\n",
              "      <td>10</td>\n",
              "    </tr>\n",
              "    <tr>\n",
              "      <th>4</th>\n",
              "      <td>2002</td>\n",
              "      <td>1.69</td>\n",
              "      <td>7.5</td>\n",
              "      <td>-89</td>\n",
              "    </tr>\n",
              "  </tbody>\n",
              "</table>\n",
              "</div>"
            ],
            "text/plain": [
              "   Year   GDP  Population  Variation\n",
              "0  1998  1.22         7.3         12\n",
              "1  1999  1.32         7.3         80\n",
              "2  2000  1.56         7.4        -30\n",
              "3  2001  1.61         7.5         10\n",
              "4  2002  1.69         7.5        -89"
            ]
          },
          "metadata": {},
          "execution_count": 22
        }
      ]
    },
    {
      "cell_type": "code",
      "metadata": {
        "colab": {
          "base_uri": "https://localhost:8080/",
          "height": 300
        },
        "id": "L9hXyBzGHmkS",
        "outputId": "572d4a52-eedb-4b5e-91f5-5096c565340d"
      },
      "source": [
        "# O pandas realiza uma leitura estatística dos dados.\n",
        "data.describe()"
      ],
      "execution_count": null,
      "outputs": [
        {
          "output_type": "execute_result",
          "data": {
            "text/html": [
              "<div>\n",
              "<style scoped>\n",
              "    .dataframe tbody tr th:only-of-type {\n",
              "        vertical-align: middle;\n",
              "    }\n",
              "\n",
              "    .dataframe tbody tr th {\n",
              "        vertical-align: top;\n",
              "    }\n",
              "\n",
              "    .dataframe thead th {\n",
              "        text-align: right;\n",
              "    }\n",
              "</style>\n",
              "<table border=\"1\" class=\"dataframe\">\n",
              "  <thead>\n",
              "    <tr style=\"text-align: right;\">\n",
              "      <th></th>\n",
              "      <th>Year</th>\n",
              "      <th>GDP</th>\n",
              "      <th>Population</th>\n",
              "      <th>Variation</th>\n",
              "    </tr>\n",
              "  </thead>\n",
              "  <tbody>\n",
              "    <tr>\n",
              "      <th>count</th>\n",
              "      <td>15.000000</td>\n",
              "      <td>15.000000</td>\n",
              "      <td>15.000000</td>\n",
              "      <td>15.000000</td>\n",
              "    </tr>\n",
              "    <tr>\n",
              "      <th>mean</th>\n",
              "      <td>2005.000000</td>\n",
              "      <td>2.378000</td>\n",
              "      <td>7.740000</td>\n",
              "      <td>1.066667</td>\n",
              "    </tr>\n",
              "    <tr>\n",
              "      <th>std</th>\n",
              "      <td>4.472136</td>\n",
              "      <td>1.029488</td>\n",
              "      <td>0.430614</td>\n",
              "      <td>490.346447</td>\n",
              "    </tr>\n",
              "    <tr>\n",
              "      <th>min</th>\n",
              "      <td>1998.000000</td>\n",
              "      <td>1.220000</td>\n",
              "      <td>7.300000</td>\n",
              "      <td>-1231.000000</td>\n",
              "    </tr>\n",
              "    <tr>\n",
              "      <th>25%</th>\n",
              "      <td>2001.500000</td>\n",
              "      <td>1.650000</td>\n",
              "      <td>7.500000</td>\n",
              "      <td>-63.500000</td>\n",
              "    </tr>\n",
              "    <tr>\n",
              "      <th>50%</th>\n",
              "      <td>2005.000000</td>\n",
              "      <td>1.930000</td>\n",
              "      <td>7.600000</td>\n",
              "      <td>10.000000</td>\n",
              "    </tr>\n",
              "    <tr>\n",
              "      <th>75%</th>\n",
              "      <td>2008.500000</td>\n",
              "      <td>2.975000</td>\n",
              "      <td>7.850000</td>\n",
              "      <td>53.500000</td>\n",
              "    </tr>\n",
              "    <tr>\n",
              "      <th>max</th>\n",
              "      <td>2012.000000</td>\n",
              "      <td>4.600000</td>\n",
              "      <td>8.900000</td>\n",
              "      <td>1321.000000</td>\n",
              "    </tr>\n",
              "  </tbody>\n",
              "</table>\n",
              "</div>"
            ],
            "text/plain": [
              "              Year        GDP  Population    Variation\n",
              "count    15.000000  15.000000   15.000000    15.000000\n",
              "mean   2005.000000   2.378000    7.740000     1.066667\n",
              "std       4.472136   1.029488    0.430614   490.346447\n",
              "min    1998.000000   1.220000    7.300000 -1231.000000\n",
              "25%    2001.500000   1.650000    7.500000   -63.500000\n",
              "50%    2005.000000   1.930000    7.600000    10.000000\n",
              "75%    2008.500000   2.975000    7.850000    53.500000\n",
              "max    2012.000000   4.600000    8.900000  1321.000000"
            ]
          },
          "metadata": {},
          "execution_count": 23
        }
      ]
    },
    {
      "cell_type": "markdown",
      "metadata": {
        "id": "Tz7BNF7s1l-l"
      },
      "source": [
        "### Datasets da internet - como utilizar?\n",
        "Também podemos importar datasets online e trabalharmos com o pandas. Utilizaremos o dataset do Titanic, como exemplo."
      ]
    },
    {
      "cell_type": "code",
      "metadata": {
        "colab": {
          "base_uri": "https://localhost:8080/",
          "height": 363
        },
        "id": "Zma7u6lm2AQ8",
        "outputId": "75b3897d-ffc0-4898-ce63-7fc43f5fa10c"
      },
      "source": [
        "# dataset do Titanic disponível no endereço url abaixo:\n",
        "url = \"https://raw.githubusercontent.com/datasciencedojo/datasets/master/titanic.csv\"\n",
        "\n",
        "# Fazendo a leitura dos dados.\n",
        "titanic_data = pd.read_csv(url)\n",
        "\n",
        "# Visualizando os 10 primeiros dados.\n",
        "titanic_data.head(10)"
      ],
      "execution_count": null,
      "outputs": [
        {
          "output_type": "execute_result",
          "data": {
            "text/html": [
              "<div>\n",
              "<style scoped>\n",
              "    .dataframe tbody tr th:only-of-type {\n",
              "        vertical-align: middle;\n",
              "    }\n",
              "\n",
              "    .dataframe tbody tr th {\n",
              "        vertical-align: top;\n",
              "    }\n",
              "\n",
              "    .dataframe thead th {\n",
              "        text-align: right;\n",
              "    }\n",
              "</style>\n",
              "<table border=\"1\" class=\"dataframe\">\n",
              "  <thead>\n",
              "    <tr style=\"text-align: right;\">\n",
              "      <th></th>\n",
              "      <th>PassengerId</th>\n",
              "      <th>Survived</th>\n",
              "      <th>Pclass</th>\n",
              "      <th>Name</th>\n",
              "      <th>Sex</th>\n",
              "      <th>Age</th>\n",
              "      <th>SibSp</th>\n",
              "      <th>Parch</th>\n",
              "      <th>Ticket</th>\n",
              "      <th>Fare</th>\n",
              "      <th>Cabin</th>\n",
              "      <th>Embarked</th>\n",
              "    </tr>\n",
              "  </thead>\n",
              "  <tbody>\n",
              "    <tr>\n",
              "      <th>0</th>\n",
              "      <td>1</td>\n",
              "      <td>0</td>\n",
              "      <td>3</td>\n",
              "      <td>Braund, Mr. Owen Harris</td>\n",
              "      <td>male</td>\n",
              "      <td>22.0</td>\n",
              "      <td>1</td>\n",
              "      <td>0</td>\n",
              "      <td>A/5 21171</td>\n",
              "      <td>7.2500</td>\n",
              "      <td>NaN</td>\n",
              "      <td>S</td>\n",
              "    </tr>\n",
              "    <tr>\n",
              "      <th>1</th>\n",
              "      <td>2</td>\n",
              "      <td>1</td>\n",
              "      <td>1</td>\n",
              "      <td>Cumings, Mrs. John Bradley (Florence Briggs Th...</td>\n",
              "      <td>female</td>\n",
              "      <td>38.0</td>\n",
              "      <td>1</td>\n",
              "      <td>0</td>\n",
              "      <td>PC 17599</td>\n",
              "      <td>71.2833</td>\n",
              "      <td>C85</td>\n",
              "      <td>C</td>\n",
              "    </tr>\n",
              "    <tr>\n",
              "      <th>2</th>\n",
              "      <td>3</td>\n",
              "      <td>1</td>\n",
              "      <td>3</td>\n",
              "      <td>Heikkinen, Miss. Laina</td>\n",
              "      <td>female</td>\n",
              "      <td>26.0</td>\n",
              "      <td>0</td>\n",
              "      <td>0</td>\n",
              "      <td>STON/O2. 3101282</td>\n",
              "      <td>7.9250</td>\n",
              "      <td>NaN</td>\n",
              "      <td>S</td>\n",
              "    </tr>\n",
              "    <tr>\n",
              "      <th>3</th>\n",
              "      <td>4</td>\n",
              "      <td>1</td>\n",
              "      <td>1</td>\n",
              "      <td>Futrelle, Mrs. Jacques Heath (Lily May Peel)</td>\n",
              "      <td>female</td>\n",
              "      <td>35.0</td>\n",
              "      <td>1</td>\n",
              "      <td>0</td>\n",
              "      <td>113803</td>\n",
              "      <td>53.1000</td>\n",
              "      <td>C123</td>\n",
              "      <td>S</td>\n",
              "    </tr>\n",
              "    <tr>\n",
              "      <th>4</th>\n",
              "      <td>5</td>\n",
              "      <td>0</td>\n",
              "      <td>3</td>\n",
              "      <td>Allen, Mr. William Henry</td>\n",
              "      <td>male</td>\n",
              "      <td>35.0</td>\n",
              "      <td>0</td>\n",
              "      <td>0</td>\n",
              "      <td>373450</td>\n",
              "      <td>8.0500</td>\n",
              "      <td>NaN</td>\n",
              "      <td>S</td>\n",
              "    </tr>\n",
              "    <tr>\n",
              "      <th>5</th>\n",
              "      <td>6</td>\n",
              "      <td>0</td>\n",
              "      <td>3</td>\n",
              "      <td>Moran, Mr. James</td>\n",
              "      <td>male</td>\n",
              "      <td>NaN</td>\n",
              "      <td>0</td>\n",
              "      <td>0</td>\n",
              "      <td>330877</td>\n",
              "      <td>8.4583</td>\n",
              "      <td>NaN</td>\n",
              "      <td>Q</td>\n",
              "    </tr>\n",
              "    <tr>\n",
              "      <th>6</th>\n",
              "      <td>7</td>\n",
              "      <td>0</td>\n",
              "      <td>1</td>\n",
              "      <td>McCarthy, Mr. Timothy J</td>\n",
              "      <td>male</td>\n",
              "      <td>54.0</td>\n",
              "      <td>0</td>\n",
              "      <td>0</td>\n",
              "      <td>17463</td>\n",
              "      <td>51.8625</td>\n",
              "      <td>E46</td>\n",
              "      <td>S</td>\n",
              "    </tr>\n",
              "    <tr>\n",
              "      <th>7</th>\n",
              "      <td>8</td>\n",
              "      <td>0</td>\n",
              "      <td>3</td>\n",
              "      <td>Palsson, Master. Gosta Leonard</td>\n",
              "      <td>male</td>\n",
              "      <td>2.0</td>\n",
              "      <td>3</td>\n",
              "      <td>1</td>\n",
              "      <td>349909</td>\n",
              "      <td>21.0750</td>\n",
              "      <td>NaN</td>\n",
              "      <td>S</td>\n",
              "    </tr>\n",
              "    <tr>\n",
              "      <th>8</th>\n",
              "      <td>9</td>\n",
              "      <td>1</td>\n",
              "      <td>3</td>\n",
              "      <td>Johnson, Mrs. Oscar W (Elisabeth Vilhelmina Berg)</td>\n",
              "      <td>female</td>\n",
              "      <td>27.0</td>\n",
              "      <td>0</td>\n",
              "      <td>2</td>\n",
              "      <td>347742</td>\n",
              "      <td>11.1333</td>\n",
              "      <td>NaN</td>\n",
              "      <td>S</td>\n",
              "    </tr>\n",
              "    <tr>\n",
              "      <th>9</th>\n",
              "      <td>10</td>\n",
              "      <td>1</td>\n",
              "      <td>2</td>\n",
              "      <td>Nasser, Mrs. Nicholas (Adele Achem)</td>\n",
              "      <td>female</td>\n",
              "      <td>14.0</td>\n",
              "      <td>1</td>\n",
              "      <td>0</td>\n",
              "      <td>237736</td>\n",
              "      <td>30.0708</td>\n",
              "      <td>NaN</td>\n",
              "      <td>C</td>\n",
              "    </tr>\n",
              "  </tbody>\n",
              "</table>\n",
              "</div>"
            ],
            "text/plain": [
              "   PassengerId  Survived  Pclass  ...     Fare Cabin  Embarked\n",
              "0            1         0       3  ...   7.2500   NaN         S\n",
              "1            2         1       1  ...  71.2833   C85         C\n",
              "2            3         1       3  ...   7.9250   NaN         S\n",
              "3            4         1       1  ...  53.1000  C123         S\n",
              "4            5         0       3  ...   8.0500   NaN         S\n",
              "5            6         0       3  ...   8.4583   NaN         Q\n",
              "6            7         0       1  ...  51.8625   E46         S\n",
              "7            8         0       3  ...  21.0750   NaN         S\n",
              "8            9         1       3  ...  11.1333   NaN         S\n",
              "9           10         1       2  ...  30.0708   NaN         C\n",
              "\n",
              "[10 rows x 12 columns]"
            ]
          },
          "metadata": {},
          "execution_count": 24
        }
      ]
    },
    {
      "cell_type": "code",
      "metadata": {
        "colab": {
          "base_uri": "https://localhost:8080/",
          "height": 300
        },
        "id": "92fMrxqR4-9i",
        "outputId": "b9a62404-1e16-434d-e023-73bdac2ed084"
      },
      "source": [
        "# Vendo algumas estatísticas\n",
        "titanic_data.describe()"
      ],
      "execution_count": null,
      "outputs": [
        {
          "output_type": "execute_result",
          "data": {
            "text/html": [
              "<div>\n",
              "<style scoped>\n",
              "    .dataframe tbody tr th:only-of-type {\n",
              "        vertical-align: middle;\n",
              "    }\n",
              "\n",
              "    .dataframe tbody tr th {\n",
              "        vertical-align: top;\n",
              "    }\n",
              "\n",
              "    .dataframe thead th {\n",
              "        text-align: right;\n",
              "    }\n",
              "</style>\n",
              "<table border=\"1\" class=\"dataframe\">\n",
              "  <thead>\n",
              "    <tr style=\"text-align: right;\">\n",
              "      <th></th>\n",
              "      <th>PassengerId</th>\n",
              "      <th>Survived</th>\n",
              "      <th>Pclass</th>\n",
              "      <th>Age</th>\n",
              "      <th>SibSp</th>\n",
              "      <th>Parch</th>\n",
              "      <th>Fare</th>\n",
              "    </tr>\n",
              "  </thead>\n",
              "  <tbody>\n",
              "    <tr>\n",
              "      <th>count</th>\n",
              "      <td>891.000000</td>\n",
              "      <td>891.000000</td>\n",
              "      <td>891.000000</td>\n",
              "      <td>714.000000</td>\n",
              "      <td>891.000000</td>\n",
              "      <td>891.000000</td>\n",
              "      <td>891.000000</td>\n",
              "    </tr>\n",
              "    <tr>\n",
              "      <th>mean</th>\n",
              "      <td>446.000000</td>\n",
              "      <td>0.383838</td>\n",
              "      <td>2.308642</td>\n",
              "      <td>29.699118</td>\n",
              "      <td>0.523008</td>\n",
              "      <td>0.381594</td>\n",
              "      <td>32.204208</td>\n",
              "    </tr>\n",
              "    <tr>\n",
              "      <th>std</th>\n",
              "      <td>257.353842</td>\n",
              "      <td>0.486592</td>\n",
              "      <td>0.836071</td>\n",
              "      <td>14.526497</td>\n",
              "      <td>1.102743</td>\n",
              "      <td>0.806057</td>\n",
              "      <td>49.693429</td>\n",
              "    </tr>\n",
              "    <tr>\n",
              "      <th>min</th>\n",
              "      <td>1.000000</td>\n",
              "      <td>0.000000</td>\n",
              "      <td>1.000000</td>\n",
              "      <td>0.420000</td>\n",
              "      <td>0.000000</td>\n",
              "      <td>0.000000</td>\n",
              "      <td>0.000000</td>\n",
              "    </tr>\n",
              "    <tr>\n",
              "      <th>25%</th>\n",
              "      <td>223.500000</td>\n",
              "      <td>0.000000</td>\n",
              "      <td>2.000000</td>\n",
              "      <td>20.125000</td>\n",
              "      <td>0.000000</td>\n",
              "      <td>0.000000</td>\n",
              "      <td>7.910400</td>\n",
              "    </tr>\n",
              "    <tr>\n",
              "      <th>50%</th>\n",
              "      <td>446.000000</td>\n",
              "      <td>0.000000</td>\n",
              "      <td>3.000000</td>\n",
              "      <td>28.000000</td>\n",
              "      <td>0.000000</td>\n",
              "      <td>0.000000</td>\n",
              "      <td>14.454200</td>\n",
              "    </tr>\n",
              "    <tr>\n",
              "      <th>75%</th>\n",
              "      <td>668.500000</td>\n",
              "      <td>1.000000</td>\n",
              "      <td>3.000000</td>\n",
              "      <td>38.000000</td>\n",
              "      <td>1.000000</td>\n",
              "      <td>0.000000</td>\n",
              "      <td>31.000000</td>\n",
              "    </tr>\n",
              "    <tr>\n",
              "      <th>max</th>\n",
              "      <td>891.000000</td>\n",
              "      <td>1.000000</td>\n",
              "      <td>3.000000</td>\n",
              "      <td>80.000000</td>\n",
              "      <td>8.000000</td>\n",
              "      <td>6.000000</td>\n",
              "      <td>512.329200</td>\n",
              "    </tr>\n",
              "  </tbody>\n",
              "</table>\n",
              "</div>"
            ],
            "text/plain": [
              "       PassengerId    Survived      Pclass  ...       SibSp       Parch        Fare\n",
              "count   891.000000  891.000000  891.000000  ...  891.000000  891.000000  891.000000\n",
              "mean    446.000000    0.383838    2.308642  ...    0.523008    0.381594   32.204208\n",
              "std     257.353842    0.486592    0.836071  ...    1.102743    0.806057   49.693429\n",
              "min       1.000000    0.000000    1.000000  ...    0.000000    0.000000    0.000000\n",
              "25%     223.500000    0.000000    2.000000  ...    0.000000    0.000000    7.910400\n",
              "50%     446.000000    0.000000    3.000000  ...    0.000000    0.000000   14.454200\n",
              "75%     668.500000    1.000000    3.000000  ...    1.000000    0.000000   31.000000\n",
              "max     891.000000    1.000000    3.000000  ...    8.000000    6.000000  512.329200\n",
              "\n",
              "[8 rows x 7 columns]"
            ]
          },
          "metadata": {},
          "execution_count": 25
        }
      ]
    },
    {
      "cell_type": "code",
      "metadata": {
        "colab": {
          "base_uri": "https://localhost:8080/",
          "height": 493
        },
        "id": "pITvZH2Y33zN",
        "outputId": "7358a811-2ff0-4321-fee1-408e34615968"
      },
      "source": [
        "# Criando uma nova coluna\n",
        "titanic_data['Nova Coluna'] = 'NaN'\n",
        "\n",
        "# Vendo os dados novamente - utilizando o comando Display.\n",
        "display(titanic_data)"
      ],
      "execution_count": null,
      "outputs": [
        {
          "output_type": "display_data",
          "data": {
            "text/html": [
              "<div>\n",
              "<style scoped>\n",
              "    .dataframe tbody tr th:only-of-type {\n",
              "        vertical-align: middle;\n",
              "    }\n",
              "\n",
              "    .dataframe tbody tr th {\n",
              "        vertical-align: top;\n",
              "    }\n",
              "\n",
              "    .dataframe thead th {\n",
              "        text-align: right;\n",
              "    }\n",
              "</style>\n",
              "<table border=\"1\" class=\"dataframe\">\n",
              "  <thead>\n",
              "    <tr style=\"text-align: right;\">\n",
              "      <th></th>\n",
              "      <th>PassengerId</th>\n",
              "      <th>Survived</th>\n",
              "      <th>Pclass</th>\n",
              "      <th>Name</th>\n",
              "      <th>Sex</th>\n",
              "      <th>Age</th>\n",
              "      <th>SibSp</th>\n",
              "      <th>Parch</th>\n",
              "      <th>Ticket</th>\n",
              "      <th>Fare</th>\n",
              "      <th>Cabin</th>\n",
              "      <th>Embarked</th>\n",
              "      <th>Nova Coluna</th>\n",
              "    </tr>\n",
              "  </thead>\n",
              "  <tbody>\n",
              "    <tr>\n",
              "      <th>0</th>\n",
              "      <td>1</td>\n",
              "      <td>0</td>\n",
              "      <td>3</td>\n",
              "      <td>Braund, Mr. Owen Harris</td>\n",
              "      <td>male</td>\n",
              "      <td>22.0</td>\n",
              "      <td>1</td>\n",
              "      <td>0</td>\n",
              "      <td>A/5 21171</td>\n",
              "      <td>7.2500</td>\n",
              "      <td>NaN</td>\n",
              "      <td>S</td>\n",
              "      <td>NaN</td>\n",
              "    </tr>\n",
              "    <tr>\n",
              "      <th>1</th>\n",
              "      <td>2</td>\n",
              "      <td>1</td>\n",
              "      <td>1</td>\n",
              "      <td>Cumings, Mrs. John Bradley (Florence Briggs Th...</td>\n",
              "      <td>female</td>\n",
              "      <td>38.0</td>\n",
              "      <td>1</td>\n",
              "      <td>0</td>\n",
              "      <td>PC 17599</td>\n",
              "      <td>71.2833</td>\n",
              "      <td>C85</td>\n",
              "      <td>C</td>\n",
              "      <td>NaN</td>\n",
              "    </tr>\n",
              "    <tr>\n",
              "      <th>2</th>\n",
              "      <td>3</td>\n",
              "      <td>1</td>\n",
              "      <td>3</td>\n",
              "      <td>Heikkinen, Miss. Laina</td>\n",
              "      <td>female</td>\n",
              "      <td>26.0</td>\n",
              "      <td>0</td>\n",
              "      <td>0</td>\n",
              "      <td>STON/O2. 3101282</td>\n",
              "      <td>7.9250</td>\n",
              "      <td>NaN</td>\n",
              "      <td>S</td>\n",
              "      <td>NaN</td>\n",
              "    </tr>\n",
              "    <tr>\n",
              "      <th>3</th>\n",
              "      <td>4</td>\n",
              "      <td>1</td>\n",
              "      <td>1</td>\n",
              "      <td>Futrelle, Mrs. Jacques Heath (Lily May Peel)</td>\n",
              "      <td>female</td>\n",
              "      <td>35.0</td>\n",
              "      <td>1</td>\n",
              "      <td>0</td>\n",
              "      <td>113803</td>\n",
              "      <td>53.1000</td>\n",
              "      <td>C123</td>\n",
              "      <td>S</td>\n",
              "      <td>NaN</td>\n",
              "    </tr>\n",
              "    <tr>\n",
              "      <th>4</th>\n",
              "      <td>5</td>\n",
              "      <td>0</td>\n",
              "      <td>3</td>\n",
              "      <td>Allen, Mr. William Henry</td>\n",
              "      <td>male</td>\n",
              "      <td>35.0</td>\n",
              "      <td>0</td>\n",
              "      <td>0</td>\n",
              "      <td>373450</td>\n",
              "      <td>8.0500</td>\n",
              "      <td>NaN</td>\n",
              "      <td>S</td>\n",
              "      <td>NaN</td>\n",
              "    </tr>\n",
              "    <tr>\n",
              "      <th>...</th>\n",
              "      <td>...</td>\n",
              "      <td>...</td>\n",
              "      <td>...</td>\n",
              "      <td>...</td>\n",
              "      <td>...</td>\n",
              "      <td>...</td>\n",
              "      <td>...</td>\n",
              "      <td>...</td>\n",
              "      <td>...</td>\n",
              "      <td>...</td>\n",
              "      <td>...</td>\n",
              "      <td>...</td>\n",
              "      <td>...</td>\n",
              "    </tr>\n",
              "    <tr>\n",
              "      <th>886</th>\n",
              "      <td>887</td>\n",
              "      <td>0</td>\n",
              "      <td>2</td>\n",
              "      <td>Montvila, Rev. Juozas</td>\n",
              "      <td>male</td>\n",
              "      <td>27.0</td>\n",
              "      <td>0</td>\n",
              "      <td>0</td>\n",
              "      <td>211536</td>\n",
              "      <td>13.0000</td>\n",
              "      <td>NaN</td>\n",
              "      <td>S</td>\n",
              "      <td>NaN</td>\n",
              "    </tr>\n",
              "    <tr>\n",
              "      <th>887</th>\n",
              "      <td>888</td>\n",
              "      <td>1</td>\n",
              "      <td>1</td>\n",
              "      <td>Graham, Miss. Margaret Edith</td>\n",
              "      <td>female</td>\n",
              "      <td>19.0</td>\n",
              "      <td>0</td>\n",
              "      <td>0</td>\n",
              "      <td>112053</td>\n",
              "      <td>30.0000</td>\n",
              "      <td>B42</td>\n",
              "      <td>S</td>\n",
              "      <td>NaN</td>\n",
              "    </tr>\n",
              "    <tr>\n",
              "      <th>888</th>\n",
              "      <td>889</td>\n",
              "      <td>0</td>\n",
              "      <td>3</td>\n",
              "      <td>Johnston, Miss. Catherine Helen \"Carrie\"</td>\n",
              "      <td>female</td>\n",
              "      <td>NaN</td>\n",
              "      <td>1</td>\n",
              "      <td>2</td>\n",
              "      <td>W./C. 6607</td>\n",
              "      <td>23.4500</td>\n",
              "      <td>NaN</td>\n",
              "      <td>S</td>\n",
              "      <td>NaN</td>\n",
              "    </tr>\n",
              "    <tr>\n",
              "      <th>889</th>\n",
              "      <td>890</td>\n",
              "      <td>1</td>\n",
              "      <td>1</td>\n",
              "      <td>Behr, Mr. Karl Howell</td>\n",
              "      <td>male</td>\n",
              "      <td>26.0</td>\n",
              "      <td>0</td>\n",
              "      <td>0</td>\n",
              "      <td>111369</td>\n",
              "      <td>30.0000</td>\n",
              "      <td>C148</td>\n",
              "      <td>C</td>\n",
              "      <td>NaN</td>\n",
              "    </tr>\n",
              "    <tr>\n",
              "      <th>890</th>\n",
              "      <td>891</td>\n",
              "      <td>0</td>\n",
              "      <td>3</td>\n",
              "      <td>Dooley, Mr. Patrick</td>\n",
              "      <td>male</td>\n",
              "      <td>32.0</td>\n",
              "      <td>0</td>\n",
              "      <td>0</td>\n",
              "      <td>370376</td>\n",
              "      <td>7.7500</td>\n",
              "      <td>NaN</td>\n",
              "      <td>Q</td>\n",
              "      <td>NaN</td>\n",
              "    </tr>\n",
              "  </tbody>\n",
              "</table>\n",
              "<p>891 rows × 13 columns</p>\n",
              "</div>"
            ],
            "text/plain": [
              "     PassengerId  Survived  Pclass  ... Cabin Embarked  Nova Coluna\n",
              "0              1         0       3  ...   NaN        S          NaN\n",
              "1              2         1       1  ...   C85        C          NaN\n",
              "2              3         1       3  ...   NaN        S          NaN\n",
              "3              4         1       1  ...  C123        S          NaN\n",
              "4              5         0       3  ...   NaN        S          NaN\n",
              "..           ...       ...     ...  ...   ...      ...          ...\n",
              "886          887         0       2  ...   NaN        S          NaN\n",
              "887          888         1       1  ...   B42        S          NaN\n",
              "888          889         0       3  ...   NaN        S          NaN\n",
              "889          890         1       1  ...  C148        C          NaN\n",
              "890          891         0       3  ...   NaN        Q          NaN\n",
              "\n",
              "[891 rows x 13 columns]"
            ]
          },
          "metadata": {}
        }
      ]
    },
    {
      "cell_type": "code",
      "metadata": {
        "colab": {
          "base_uri": "https://localhost:8080/",
          "height": 787
        },
        "id": "d11ReG2z5TeR",
        "outputId": "0e4d5e07-6670-4ec3-dadb-cbfbe5ea9c06"
      },
      "source": [
        "# Vendo algum dado específico\n",
        "sexo_passageiros = titanic_data['Sex']\n",
        "\n",
        "# Visualizando os dados\n",
        "print('Nome dos passageiros: \\n')\n",
        "display(sexo_passageiros)\n",
        "\n",
        "# Alterando o tipo de dado: Caso seja homem, terá índice 1 e se for mulher, terá índice 0.\n",
        "# OBS: Utilização de List Comprehentions\n",
        "alterando_sexo = [1 if nome == 'male' else 0 for nome in sexo_passageiros]\n",
        "\n",
        "# Trocando a coluna.\n",
        "titanic_data['Sex'] = alterando_sexo\n",
        "\n",
        "# Visualizando o novo conjunto de dados.\n",
        "print('\\nNovo conjunto de dados: \\n')\n",
        "display(titanic_data)\n",
        "\n",
        "# Note que os dados foram alterados."
      ],
      "execution_count": null,
      "outputs": [
        {
          "output_type": "stream",
          "name": "stdout",
          "text": [
            "Nome dos passageiros: \n",
            "\n"
          ]
        },
        {
          "output_type": "display_data",
          "data": {
            "text/plain": [
              "0        male\n",
              "1      female\n",
              "2      female\n",
              "3      female\n",
              "4        male\n",
              "        ...  \n",
              "886      male\n",
              "887    female\n",
              "888    female\n",
              "889      male\n",
              "890      male\n",
              "Name: Sex, Length: 891, dtype: object"
            ]
          },
          "metadata": {}
        },
        {
          "output_type": "stream",
          "name": "stdout",
          "text": [
            "\n",
            "Novo conjunto de dados: \n",
            "\n"
          ]
        },
        {
          "output_type": "display_data",
          "data": {
            "text/html": [
              "<div>\n",
              "<style scoped>\n",
              "    .dataframe tbody tr th:only-of-type {\n",
              "        vertical-align: middle;\n",
              "    }\n",
              "\n",
              "    .dataframe tbody tr th {\n",
              "        vertical-align: top;\n",
              "    }\n",
              "\n",
              "    .dataframe thead th {\n",
              "        text-align: right;\n",
              "    }\n",
              "</style>\n",
              "<table border=\"1\" class=\"dataframe\">\n",
              "  <thead>\n",
              "    <tr style=\"text-align: right;\">\n",
              "      <th></th>\n",
              "      <th>PassengerId</th>\n",
              "      <th>Survived</th>\n",
              "      <th>Pclass</th>\n",
              "      <th>Name</th>\n",
              "      <th>Sex</th>\n",
              "      <th>Age</th>\n",
              "      <th>SibSp</th>\n",
              "      <th>Parch</th>\n",
              "      <th>Ticket</th>\n",
              "      <th>Fare</th>\n",
              "      <th>Cabin</th>\n",
              "      <th>Embarked</th>\n",
              "      <th>Nova Coluna</th>\n",
              "    </tr>\n",
              "  </thead>\n",
              "  <tbody>\n",
              "    <tr>\n",
              "      <th>0</th>\n",
              "      <td>1</td>\n",
              "      <td>0</td>\n",
              "      <td>3</td>\n",
              "      <td>Braund, Mr. Owen Harris</td>\n",
              "      <td>1</td>\n",
              "      <td>22.0</td>\n",
              "      <td>1</td>\n",
              "      <td>0</td>\n",
              "      <td>A/5 21171</td>\n",
              "      <td>7.2500</td>\n",
              "      <td>NaN</td>\n",
              "      <td>S</td>\n",
              "      <td>NaN</td>\n",
              "    </tr>\n",
              "    <tr>\n",
              "      <th>1</th>\n",
              "      <td>2</td>\n",
              "      <td>1</td>\n",
              "      <td>1</td>\n",
              "      <td>Cumings, Mrs. John Bradley (Florence Briggs Th...</td>\n",
              "      <td>0</td>\n",
              "      <td>38.0</td>\n",
              "      <td>1</td>\n",
              "      <td>0</td>\n",
              "      <td>PC 17599</td>\n",
              "      <td>71.2833</td>\n",
              "      <td>C85</td>\n",
              "      <td>C</td>\n",
              "      <td>NaN</td>\n",
              "    </tr>\n",
              "    <tr>\n",
              "      <th>2</th>\n",
              "      <td>3</td>\n",
              "      <td>1</td>\n",
              "      <td>3</td>\n",
              "      <td>Heikkinen, Miss. Laina</td>\n",
              "      <td>0</td>\n",
              "      <td>26.0</td>\n",
              "      <td>0</td>\n",
              "      <td>0</td>\n",
              "      <td>STON/O2. 3101282</td>\n",
              "      <td>7.9250</td>\n",
              "      <td>NaN</td>\n",
              "      <td>S</td>\n",
              "      <td>NaN</td>\n",
              "    </tr>\n",
              "    <tr>\n",
              "      <th>3</th>\n",
              "      <td>4</td>\n",
              "      <td>1</td>\n",
              "      <td>1</td>\n",
              "      <td>Futrelle, Mrs. Jacques Heath (Lily May Peel)</td>\n",
              "      <td>0</td>\n",
              "      <td>35.0</td>\n",
              "      <td>1</td>\n",
              "      <td>0</td>\n",
              "      <td>113803</td>\n",
              "      <td>53.1000</td>\n",
              "      <td>C123</td>\n",
              "      <td>S</td>\n",
              "      <td>NaN</td>\n",
              "    </tr>\n",
              "    <tr>\n",
              "      <th>4</th>\n",
              "      <td>5</td>\n",
              "      <td>0</td>\n",
              "      <td>3</td>\n",
              "      <td>Allen, Mr. William Henry</td>\n",
              "      <td>1</td>\n",
              "      <td>35.0</td>\n",
              "      <td>0</td>\n",
              "      <td>0</td>\n",
              "      <td>373450</td>\n",
              "      <td>8.0500</td>\n",
              "      <td>NaN</td>\n",
              "      <td>S</td>\n",
              "      <td>NaN</td>\n",
              "    </tr>\n",
              "    <tr>\n",
              "      <th>...</th>\n",
              "      <td>...</td>\n",
              "      <td>...</td>\n",
              "      <td>...</td>\n",
              "      <td>...</td>\n",
              "      <td>...</td>\n",
              "      <td>...</td>\n",
              "      <td>...</td>\n",
              "      <td>...</td>\n",
              "      <td>...</td>\n",
              "      <td>...</td>\n",
              "      <td>...</td>\n",
              "      <td>...</td>\n",
              "      <td>...</td>\n",
              "    </tr>\n",
              "    <tr>\n",
              "      <th>886</th>\n",
              "      <td>887</td>\n",
              "      <td>0</td>\n",
              "      <td>2</td>\n",
              "      <td>Montvila, Rev. Juozas</td>\n",
              "      <td>1</td>\n",
              "      <td>27.0</td>\n",
              "      <td>0</td>\n",
              "      <td>0</td>\n",
              "      <td>211536</td>\n",
              "      <td>13.0000</td>\n",
              "      <td>NaN</td>\n",
              "      <td>S</td>\n",
              "      <td>NaN</td>\n",
              "    </tr>\n",
              "    <tr>\n",
              "      <th>887</th>\n",
              "      <td>888</td>\n",
              "      <td>1</td>\n",
              "      <td>1</td>\n",
              "      <td>Graham, Miss. Margaret Edith</td>\n",
              "      <td>0</td>\n",
              "      <td>19.0</td>\n",
              "      <td>0</td>\n",
              "      <td>0</td>\n",
              "      <td>112053</td>\n",
              "      <td>30.0000</td>\n",
              "      <td>B42</td>\n",
              "      <td>S</td>\n",
              "      <td>NaN</td>\n",
              "    </tr>\n",
              "    <tr>\n",
              "      <th>888</th>\n",
              "      <td>889</td>\n",
              "      <td>0</td>\n",
              "      <td>3</td>\n",
              "      <td>Johnston, Miss. Catherine Helen \"Carrie\"</td>\n",
              "      <td>0</td>\n",
              "      <td>NaN</td>\n",
              "      <td>1</td>\n",
              "      <td>2</td>\n",
              "      <td>W./C. 6607</td>\n",
              "      <td>23.4500</td>\n",
              "      <td>NaN</td>\n",
              "      <td>S</td>\n",
              "      <td>NaN</td>\n",
              "    </tr>\n",
              "    <tr>\n",
              "      <th>889</th>\n",
              "      <td>890</td>\n",
              "      <td>1</td>\n",
              "      <td>1</td>\n",
              "      <td>Behr, Mr. Karl Howell</td>\n",
              "      <td>1</td>\n",
              "      <td>26.0</td>\n",
              "      <td>0</td>\n",
              "      <td>0</td>\n",
              "      <td>111369</td>\n",
              "      <td>30.0000</td>\n",
              "      <td>C148</td>\n",
              "      <td>C</td>\n",
              "      <td>NaN</td>\n",
              "    </tr>\n",
              "    <tr>\n",
              "      <th>890</th>\n",
              "      <td>891</td>\n",
              "      <td>0</td>\n",
              "      <td>3</td>\n",
              "      <td>Dooley, Mr. Patrick</td>\n",
              "      <td>1</td>\n",
              "      <td>32.0</td>\n",
              "      <td>0</td>\n",
              "      <td>0</td>\n",
              "      <td>370376</td>\n",
              "      <td>7.7500</td>\n",
              "      <td>NaN</td>\n",
              "      <td>Q</td>\n",
              "      <td>NaN</td>\n",
              "    </tr>\n",
              "  </tbody>\n",
              "</table>\n",
              "<p>891 rows × 13 columns</p>\n",
              "</div>"
            ],
            "text/plain": [
              "     PassengerId  Survived  Pclass  ... Cabin  Embarked  Nova Coluna\n",
              "0              1         0       3  ...   NaN         S          NaN\n",
              "1              2         1       1  ...   C85         C          NaN\n",
              "2              3         1       3  ...   NaN         S          NaN\n",
              "3              4         1       1  ...  C123         S          NaN\n",
              "4              5         0       3  ...   NaN         S          NaN\n",
              "..           ...       ...     ...  ...   ...       ...          ...\n",
              "886          887         0       2  ...   NaN         S          NaN\n",
              "887          888         1       1  ...   B42         S          NaN\n",
              "888          889         0       3  ...   NaN         S          NaN\n",
              "889          890         1       1  ...  C148         C          NaN\n",
              "890          891         0       3  ...   NaN         Q          NaN\n",
              "\n",
              "[891 rows x 13 columns]"
            ]
          },
          "metadata": {}
        }
      ]
    },
    {
      "cell_type": "markdown",
      "metadata": {
        "id": "91OwKOKr9jVx"
      },
      "source": [
        "Utilizaremos o método `.loc` para trabalhar com linhas."
      ]
    },
    {
      "cell_type": "code",
      "metadata": {
        "colab": {
          "base_uri": "https://localhost:8080/"
        },
        "id": "1-qK7vBH-DsQ",
        "outputId": "7a4361e8-b2cd-4d8d-ea4b-2ba715300dff"
      },
      "source": [
        "# Irá mostrar as informações da passageira que está situada o índice 1 do dataset.\n",
        "titanic_data.loc[2]"
      ],
      "execution_count": null,
      "outputs": [
        {
          "output_type": "execute_result",
          "data": {
            "text/plain": [
              "PassengerId                         3\n",
              "Survived                            1\n",
              "Pclass                              3\n",
              "Name           Heikkinen, Miss. Laina\n",
              "Sex                                 0\n",
              "Age                                26\n",
              "SibSp                               0\n",
              "Parch                               0\n",
              "Ticket               STON/O2. 3101282\n",
              "Fare                            7.925\n",
              "Cabin                             NaN\n",
              "Embarked                            S\n",
              "Nova Coluna                       NaN\n",
              "Name: 2, dtype: object"
            ]
          },
          "metadata": {},
          "execution_count": 28
        }
      ]
    },
    {
      "cell_type": "code",
      "metadata": {
        "colab": {
          "base_uri": "https://localhost:8080/",
          "height": 258
        },
        "id": "-UaDMTra-18_",
        "outputId": "b362b5a2-c388-4921-8d04-72b4f4e81f2d"
      },
      "source": [
        "# Pegando várias linhas para análise - Linha 1 até a linha 7\n",
        "titanic_data.loc[1:5]"
      ],
      "execution_count": null,
      "outputs": [
        {
          "output_type": "execute_result",
          "data": {
            "text/html": [
              "<div>\n",
              "<style scoped>\n",
              "    .dataframe tbody tr th:only-of-type {\n",
              "        vertical-align: middle;\n",
              "    }\n",
              "\n",
              "    .dataframe tbody tr th {\n",
              "        vertical-align: top;\n",
              "    }\n",
              "\n",
              "    .dataframe thead th {\n",
              "        text-align: right;\n",
              "    }\n",
              "</style>\n",
              "<table border=\"1\" class=\"dataframe\">\n",
              "  <thead>\n",
              "    <tr style=\"text-align: right;\">\n",
              "      <th></th>\n",
              "      <th>PassengerId</th>\n",
              "      <th>Survived</th>\n",
              "      <th>Pclass</th>\n",
              "      <th>Name</th>\n",
              "      <th>Sex</th>\n",
              "      <th>Age</th>\n",
              "      <th>SibSp</th>\n",
              "      <th>Parch</th>\n",
              "      <th>Ticket</th>\n",
              "      <th>Fare</th>\n",
              "      <th>Cabin</th>\n",
              "      <th>Embarked</th>\n",
              "      <th>Nova Coluna</th>\n",
              "    </tr>\n",
              "  </thead>\n",
              "  <tbody>\n",
              "    <tr>\n",
              "      <th>1</th>\n",
              "      <td>2</td>\n",
              "      <td>1</td>\n",
              "      <td>1</td>\n",
              "      <td>Cumings, Mrs. John Bradley (Florence Briggs Th...</td>\n",
              "      <td>0</td>\n",
              "      <td>38.0</td>\n",
              "      <td>1</td>\n",
              "      <td>0</td>\n",
              "      <td>PC 17599</td>\n",
              "      <td>71.2833</td>\n",
              "      <td>C85</td>\n",
              "      <td>C</td>\n",
              "      <td>NaN</td>\n",
              "    </tr>\n",
              "    <tr>\n",
              "      <th>2</th>\n",
              "      <td>3</td>\n",
              "      <td>1</td>\n",
              "      <td>3</td>\n",
              "      <td>Heikkinen, Miss. Laina</td>\n",
              "      <td>0</td>\n",
              "      <td>26.0</td>\n",
              "      <td>0</td>\n",
              "      <td>0</td>\n",
              "      <td>STON/O2. 3101282</td>\n",
              "      <td>7.9250</td>\n",
              "      <td>NaN</td>\n",
              "      <td>S</td>\n",
              "      <td>NaN</td>\n",
              "    </tr>\n",
              "    <tr>\n",
              "      <th>3</th>\n",
              "      <td>4</td>\n",
              "      <td>1</td>\n",
              "      <td>1</td>\n",
              "      <td>Futrelle, Mrs. Jacques Heath (Lily May Peel)</td>\n",
              "      <td>0</td>\n",
              "      <td>35.0</td>\n",
              "      <td>1</td>\n",
              "      <td>0</td>\n",
              "      <td>113803</td>\n",
              "      <td>53.1000</td>\n",
              "      <td>C123</td>\n",
              "      <td>S</td>\n",
              "      <td>NaN</td>\n",
              "    </tr>\n",
              "    <tr>\n",
              "      <th>4</th>\n",
              "      <td>5</td>\n",
              "      <td>0</td>\n",
              "      <td>3</td>\n",
              "      <td>Allen, Mr. William Henry</td>\n",
              "      <td>1</td>\n",
              "      <td>35.0</td>\n",
              "      <td>0</td>\n",
              "      <td>0</td>\n",
              "      <td>373450</td>\n",
              "      <td>8.0500</td>\n",
              "      <td>NaN</td>\n",
              "      <td>S</td>\n",
              "      <td>NaN</td>\n",
              "    </tr>\n",
              "    <tr>\n",
              "      <th>5</th>\n",
              "      <td>6</td>\n",
              "      <td>0</td>\n",
              "      <td>3</td>\n",
              "      <td>Moran, Mr. James</td>\n",
              "      <td>1</td>\n",
              "      <td>NaN</td>\n",
              "      <td>0</td>\n",
              "      <td>0</td>\n",
              "      <td>330877</td>\n",
              "      <td>8.4583</td>\n",
              "      <td>NaN</td>\n",
              "      <td>Q</td>\n",
              "      <td>NaN</td>\n",
              "    </tr>\n",
              "  </tbody>\n",
              "</table>\n",
              "</div>"
            ],
            "text/plain": [
              "   PassengerId  Survived  Pclass  ... Cabin  Embarked  Nova Coluna\n",
              "1            2         1       1  ...   C85         C          NaN\n",
              "2            3         1       3  ...   NaN         S          NaN\n",
              "3            4         1       1  ...  C123         S          NaN\n",
              "4            5         0       3  ...   NaN         S          NaN\n",
              "5            6         0       3  ...   NaN         Q          NaN\n",
              "\n",
              "[5 rows x 13 columns]"
            ]
          },
          "metadata": {},
          "execution_count": 29
        }
      ]
    },
    {
      "cell_type": "code",
      "metadata": {
        "colab": {
          "base_uri": "https://localhost:8080/",
          "height": 423
        },
        "id": "Xm3sXghu-5Ey",
        "outputId": "5517c2d4-bdfe-49d1-d971-f953f133cf71"
      },
      "source": [
        "# Pegando linhas com uma determinada condição.\n",
        "# Iremos analisar os passageiros que embarcaram na classe executiva 'Q'.\n",
        "\n",
        "embarker_class = 'Q'\n",
        "\n",
        "# Criando a condição:\n",
        "# Somente os dados da coluna cuja a classe 'Embarked' são iguais a embarker_class serão mostrados.\n",
        "titanic_data.loc[titanic_data['Embarked'] == embarker_class]\n",
        "\n",
        "# Neste caso, temos 77 passageiros pertencentes a essa classe."
      ],
      "execution_count": null,
      "outputs": [
        {
          "output_type": "execute_result",
          "data": {
            "text/html": [
              "<div>\n",
              "<style scoped>\n",
              "    .dataframe tbody tr th:only-of-type {\n",
              "        vertical-align: middle;\n",
              "    }\n",
              "\n",
              "    .dataframe tbody tr th {\n",
              "        vertical-align: top;\n",
              "    }\n",
              "\n",
              "    .dataframe thead th {\n",
              "        text-align: right;\n",
              "    }\n",
              "</style>\n",
              "<table border=\"1\" class=\"dataframe\">\n",
              "  <thead>\n",
              "    <tr style=\"text-align: right;\">\n",
              "      <th></th>\n",
              "      <th>PassengerId</th>\n",
              "      <th>Survived</th>\n",
              "      <th>Pclass</th>\n",
              "      <th>Name</th>\n",
              "      <th>Sex</th>\n",
              "      <th>Age</th>\n",
              "      <th>SibSp</th>\n",
              "      <th>Parch</th>\n",
              "      <th>Ticket</th>\n",
              "      <th>Fare</th>\n",
              "      <th>Cabin</th>\n",
              "      <th>Embarked</th>\n",
              "      <th>Nova Coluna</th>\n",
              "    </tr>\n",
              "  </thead>\n",
              "  <tbody>\n",
              "    <tr>\n",
              "      <th>5</th>\n",
              "      <td>6</td>\n",
              "      <td>0</td>\n",
              "      <td>3</td>\n",
              "      <td>Moran, Mr. James</td>\n",
              "      <td>1</td>\n",
              "      <td>NaN</td>\n",
              "      <td>0</td>\n",
              "      <td>0</td>\n",
              "      <td>330877</td>\n",
              "      <td>8.4583</td>\n",
              "      <td>NaN</td>\n",
              "      <td>Q</td>\n",
              "      <td>NaN</td>\n",
              "    </tr>\n",
              "    <tr>\n",
              "      <th>16</th>\n",
              "      <td>17</td>\n",
              "      <td>0</td>\n",
              "      <td>3</td>\n",
              "      <td>Rice, Master. Eugene</td>\n",
              "      <td>1</td>\n",
              "      <td>2.0</td>\n",
              "      <td>4</td>\n",
              "      <td>1</td>\n",
              "      <td>382652</td>\n",
              "      <td>29.1250</td>\n",
              "      <td>NaN</td>\n",
              "      <td>Q</td>\n",
              "      <td>NaN</td>\n",
              "    </tr>\n",
              "    <tr>\n",
              "      <th>22</th>\n",
              "      <td>23</td>\n",
              "      <td>1</td>\n",
              "      <td>3</td>\n",
              "      <td>McGowan, Miss. Anna \"Annie\"</td>\n",
              "      <td>0</td>\n",
              "      <td>15.0</td>\n",
              "      <td>0</td>\n",
              "      <td>0</td>\n",
              "      <td>330923</td>\n",
              "      <td>8.0292</td>\n",
              "      <td>NaN</td>\n",
              "      <td>Q</td>\n",
              "      <td>NaN</td>\n",
              "    </tr>\n",
              "    <tr>\n",
              "      <th>28</th>\n",
              "      <td>29</td>\n",
              "      <td>1</td>\n",
              "      <td>3</td>\n",
              "      <td>O'Dwyer, Miss. Ellen \"Nellie\"</td>\n",
              "      <td>0</td>\n",
              "      <td>NaN</td>\n",
              "      <td>0</td>\n",
              "      <td>0</td>\n",
              "      <td>330959</td>\n",
              "      <td>7.8792</td>\n",
              "      <td>NaN</td>\n",
              "      <td>Q</td>\n",
              "      <td>NaN</td>\n",
              "    </tr>\n",
              "    <tr>\n",
              "      <th>32</th>\n",
              "      <td>33</td>\n",
              "      <td>1</td>\n",
              "      <td>3</td>\n",
              "      <td>Glynn, Miss. Mary Agatha</td>\n",
              "      <td>0</td>\n",
              "      <td>NaN</td>\n",
              "      <td>0</td>\n",
              "      <td>0</td>\n",
              "      <td>335677</td>\n",
              "      <td>7.7500</td>\n",
              "      <td>NaN</td>\n",
              "      <td>Q</td>\n",
              "      <td>NaN</td>\n",
              "    </tr>\n",
              "    <tr>\n",
              "      <th>...</th>\n",
              "      <td>...</td>\n",
              "      <td>...</td>\n",
              "      <td>...</td>\n",
              "      <td>...</td>\n",
              "      <td>...</td>\n",
              "      <td>...</td>\n",
              "      <td>...</td>\n",
              "      <td>...</td>\n",
              "      <td>...</td>\n",
              "      <td>...</td>\n",
              "      <td>...</td>\n",
              "      <td>...</td>\n",
              "      <td>...</td>\n",
              "    </tr>\n",
              "    <tr>\n",
              "      <th>790</th>\n",
              "      <td>791</td>\n",
              "      <td>0</td>\n",
              "      <td>3</td>\n",
              "      <td>Keane, Mr. Andrew \"Andy\"</td>\n",
              "      <td>1</td>\n",
              "      <td>NaN</td>\n",
              "      <td>0</td>\n",
              "      <td>0</td>\n",
              "      <td>12460</td>\n",
              "      <td>7.7500</td>\n",
              "      <td>NaN</td>\n",
              "      <td>Q</td>\n",
              "      <td>NaN</td>\n",
              "    </tr>\n",
              "    <tr>\n",
              "      <th>825</th>\n",
              "      <td>826</td>\n",
              "      <td>0</td>\n",
              "      <td>3</td>\n",
              "      <td>Flynn, Mr. John</td>\n",
              "      <td>1</td>\n",
              "      <td>NaN</td>\n",
              "      <td>0</td>\n",
              "      <td>0</td>\n",
              "      <td>368323</td>\n",
              "      <td>6.9500</td>\n",
              "      <td>NaN</td>\n",
              "      <td>Q</td>\n",
              "      <td>NaN</td>\n",
              "    </tr>\n",
              "    <tr>\n",
              "      <th>828</th>\n",
              "      <td>829</td>\n",
              "      <td>1</td>\n",
              "      <td>3</td>\n",
              "      <td>McCormack, Mr. Thomas Joseph</td>\n",
              "      <td>1</td>\n",
              "      <td>NaN</td>\n",
              "      <td>0</td>\n",
              "      <td>0</td>\n",
              "      <td>367228</td>\n",
              "      <td>7.7500</td>\n",
              "      <td>NaN</td>\n",
              "      <td>Q</td>\n",
              "      <td>NaN</td>\n",
              "    </tr>\n",
              "    <tr>\n",
              "      <th>885</th>\n",
              "      <td>886</td>\n",
              "      <td>0</td>\n",
              "      <td>3</td>\n",
              "      <td>Rice, Mrs. William (Margaret Norton)</td>\n",
              "      <td>0</td>\n",
              "      <td>39.0</td>\n",
              "      <td>0</td>\n",
              "      <td>5</td>\n",
              "      <td>382652</td>\n",
              "      <td>29.1250</td>\n",
              "      <td>NaN</td>\n",
              "      <td>Q</td>\n",
              "      <td>NaN</td>\n",
              "    </tr>\n",
              "    <tr>\n",
              "      <th>890</th>\n",
              "      <td>891</td>\n",
              "      <td>0</td>\n",
              "      <td>3</td>\n",
              "      <td>Dooley, Mr. Patrick</td>\n",
              "      <td>1</td>\n",
              "      <td>32.0</td>\n",
              "      <td>0</td>\n",
              "      <td>0</td>\n",
              "      <td>370376</td>\n",
              "      <td>7.7500</td>\n",
              "      <td>NaN</td>\n",
              "      <td>Q</td>\n",
              "      <td>NaN</td>\n",
              "    </tr>\n",
              "  </tbody>\n",
              "</table>\n",
              "<p>77 rows × 13 columns</p>\n",
              "</div>"
            ],
            "text/plain": [
              "     PassengerId  Survived  Pclass  ... Cabin  Embarked  Nova Coluna\n",
              "5              6         0       3  ...   NaN         Q          NaN\n",
              "16            17         0       3  ...   NaN         Q          NaN\n",
              "22            23         1       3  ...   NaN         Q          NaN\n",
              "28            29         1       3  ...   NaN         Q          NaN\n",
              "32            33         1       3  ...   NaN         Q          NaN\n",
              "..           ...       ...     ...  ...   ...       ...          ...\n",
              "790          791         0       3  ...   NaN         Q          NaN\n",
              "825          826         0       3  ...   NaN         Q          NaN\n",
              "828          829         1       3  ...   NaN         Q          NaN\n",
              "885          886         0       3  ...   NaN         Q          NaN\n",
              "890          891         0       3  ...   NaN         Q          NaN\n",
              "\n",
              "[77 rows x 13 columns]"
            ]
          },
          "metadata": {},
          "execution_count": 30
        }
      ]
    },
    {
      "cell_type": "code",
      "metadata": {
        "colab": {
          "base_uri": "https://localhost:8080/",
          "height": 423
        },
        "id": "rjdY_tnPBY7-",
        "outputId": "0d2247f5-383a-406a-de3e-52684237a8e3"
      },
      "source": [
        "# Podemos pegar colunas e linhas específicas.\n",
        "# Iremos pegar [PassengerId, Survived, Age, Sex] de todos os passajeiros cuja a class seja igual a 1.\n",
        "classe = 1\n",
        "titanic_data.loc[titanic_data['Pclass'] == classe, ['PassengerId', 'Survived', 'Age', 'Sex']]"
      ],
      "execution_count": null,
      "outputs": [
        {
          "output_type": "execute_result",
          "data": {
            "text/html": [
              "<div>\n",
              "<style scoped>\n",
              "    .dataframe tbody tr th:only-of-type {\n",
              "        vertical-align: middle;\n",
              "    }\n",
              "\n",
              "    .dataframe tbody tr th {\n",
              "        vertical-align: top;\n",
              "    }\n",
              "\n",
              "    .dataframe thead th {\n",
              "        text-align: right;\n",
              "    }\n",
              "</style>\n",
              "<table border=\"1\" class=\"dataframe\">\n",
              "  <thead>\n",
              "    <tr style=\"text-align: right;\">\n",
              "      <th></th>\n",
              "      <th>PassengerId</th>\n",
              "      <th>Survived</th>\n",
              "      <th>Age</th>\n",
              "      <th>Sex</th>\n",
              "    </tr>\n",
              "  </thead>\n",
              "  <tbody>\n",
              "    <tr>\n",
              "      <th>1</th>\n",
              "      <td>2</td>\n",
              "      <td>1</td>\n",
              "      <td>38.0</td>\n",
              "      <td>0</td>\n",
              "    </tr>\n",
              "    <tr>\n",
              "      <th>3</th>\n",
              "      <td>4</td>\n",
              "      <td>1</td>\n",
              "      <td>35.0</td>\n",
              "      <td>0</td>\n",
              "    </tr>\n",
              "    <tr>\n",
              "      <th>6</th>\n",
              "      <td>7</td>\n",
              "      <td>0</td>\n",
              "      <td>54.0</td>\n",
              "      <td>1</td>\n",
              "    </tr>\n",
              "    <tr>\n",
              "      <th>11</th>\n",
              "      <td>12</td>\n",
              "      <td>1</td>\n",
              "      <td>58.0</td>\n",
              "      <td>0</td>\n",
              "    </tr>\n",
              "    <tr>\n",
              "      <th>23</th>\n",
              "      <td>24</td>\n",
              "      <td>1</td>\n",
              "      <td>28.0</td>\n",
              "      <td>1</td>\n",
              "    </tr>\n",
              "    <tr>\n",
              "      <th>...</th>\n",
              "      <td>...</td>\n",
              "      <td>...</td>\n",
              "      <td>...</td>\n",
              "      <td>...</td>\n",
              "    </tr>\n",
              "    <tr>\n",
              "      <th>871</th>\n",
              "      <td>872</td>\n",
              "      <td>1</td>\n",
              "      <td>47.0</td>\n",
              "      <td>0</td>\n",
              "    </tr>\n",
              "    <tr>\n",
              "      <th>872</th>\n",
              "      <td>873</td>\n",
              "      <td>0</td>\n",
              "      <td>33.0</td>\n",
              "      <td>1</td>\n",
              "    </tr>\n",
              "    <tr>\n",
              "      <th>879</th>\n",
              "      <td>880</td>\n",
              "      <td>1</td>\n",
              "      <td>56.0</td>\n",
              "      <td>0</td>\n",
              "    </tr>\n",
              "    <tr>\n",
              "      <th>887</th>\n",
              "      <td>888</td>\n",
              "      <td>1</td>\n",
              "      <td>19.0</td>\n",
              "      <td>0</td>\n",
              "    </tr>\n",
              "    <tr>\n",
              "      <th>889</th>\n",
              "      <td>890</td>\n",
              "      <td>1</td>\n",
              "      <td>26.0</td>\n",
              "      <td>1</td>\n",
              "    </tr>\n",
              "  </tbody>\n",
              "</table>\n",
              "<p>216 rows × 4 columns</p>\n",
              "</div>"
            ],
            "text/plain": [
              "     PassengerId  Survived   Age  Sex\n",
              "1              2         1  38.0    0\n",
              "3              4         1  35.0    0\n",
              "6              7         0  54.0    1\n",
              "11            12         1  58.0    0\n",
              "23            24         1  28.0    1\n",
              "..           ...       ...   ...  ...\n",
              "871          872         1  47.0    0\n",
              "872          873         0  33.0    1\n",
              "879          880         1  56.0    0\n",
              "887          888         1  19.0    0\n",
              "889          890         1  26.0    1\n",
              "\n",
              "[216 rows x 4 columns]"
            ]
          },
          "metadata": {},
          "execution_count": 31
        }
      ]
    },
    {
      "cell_type": "markdown",
      "metadata": {
        "id": "rTjSF8vACvLD"
      },
      "source": [
        "### Visualizando os dados do Pandas com matplotlib"
      ]
    },
    {
      "cell_type": "code",
      "metadata": {
        "colab": {
          "base_uri": "https://localhost:8080/",
          "height": 283
        },
        "id": "miSOfj4NC0hJ",
        "outputId": "03f2e578-6292-43af-88c9-662a5f8a86a0"
      },
      "source": [
        "titanic_data['Sex'].plot.density()  # Vendo a densidade de passageiros homens e mulheres."
      ],
      "execution_count": null,
      "outputs": [
        {
          "output_type": "execute_result",
          "data": {
            "text/plain": [
              "<matplotlib.axes._subplots.AxesSubplot at 0x7f4f9ace31d0>"
            ]
          },
          "metadata": {},
          "execution_count": 32
        },
        {
          "output_type": "display_data",
          "data": {
            "image/png": "[encoded data removed]",
            "text/plain": [
              "<Figure size 432x288 with 1 Axes>"
            ]
          },
          "metadata": {
            "needs_background": "light"
          }
        }
      ]
    },
    {
      "cell_type": "code",
      "metadata": {
        "colab": {
          "base_uri": "https://localhost:8080/",
          "height": 283
        },
        "id": "sNG6oIqLENFe",
        "outputId": "b363d48a-b56b-4a9e-cd59-f48e4e4c17aa"
      },
      "source": [
        "titanic_data['Age'].plot.hist(bins=40)  # Fazendo o histograma das idades dos passageiros (partição = 40)"
      ],
      "execution_count": null,
      "outputs": [
        {
          "output_type": "execute_result",
          "data": {
            "text/plain": [
              "<matplotlib.axes._subplots.AxesSubplot at 0x7f4f9c37cb90>"
            ]
          },
          "metadata": {},
          "execution_count": 33
        },
        {
          "output_type": "display_data",
          "data": {
            "image/png": "[encoded data removed]",
            "text/plain": [
              "<Figure size 432x288 with 1 Axes>"
            ]
          },
          "metadata": {
            "needs_background": "light"
          }
        }
      ]
    },
    {
      "cell_type": "code",
      "metadata": {
        "colab": {
          "base_uri": "https://localhost:8080/",
          "height": 279
        },
        "id": "sO1SIo7SFBu3",
        "outputId": "9eda9fbc-425f-4952-b7bf-a0804af8665d"
      },
      "source": [
        "titanic_data['Survived'].value_counts().plot.bar()  # Vendo a relação entre falecimentos e sobreviventes."
      ],
      "execution_count": null,
      "outputs": [
        {
          "output_type": "execute_result",
          "data": {
            "text/plain": [
              "<matplotlib.axes._subplots.AxesSubplot at 0x7f4f8ac2ee10>"
            ]
          },
          "metadata": {},
          "execution_count": 34
        },
        {
          "output_type": "display_data",
          "data": {
            "image/png": "[encoded data removed]",
            "text/plain": [
              "<Figure size 432x288 with 1 Axes>"
            ]
          },
          "metadata": {
            "needs_background": "light"
          }
        }
      ]
    },
    {
      "cell_type": "markdown",
      "metadata": {
        "id": "XqaDZ2w-GjsA"
      },
      "source": [
        "### Para mais informações sobre o pandas:\n",
        "recomendação 01:\n",
        "https://towardsdatascience.com/getting-started-to-data-analysis-with-python-pandas-with-titanic-dataset-a195ab043c77\n",
        "\n",
        "recomendação 02: https://www.youtube.com/watch?v=C0aj3FjN5e0&t=2321s"
      ]
    }
  ]
}