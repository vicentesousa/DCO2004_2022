{
  "nbformat": 4,
  "nbformat_minor": 0,
  "metadata": {
    "colab": {
      "name": "h00_VM_20.04.ipynb",
      "provenance": [],
      "collapsed_sections": []
    },
    "kernelspec": {
      "name": "python3",
      "display_name": "Python 3"
    },
    "language_info": {
      "name": "python"
    }
  },
  "cells": [
    {
      "cell_type": "markdown",
      "metadata": {
        "id": "aGSbB7whr3uX"
      },
      "source": [
        "# Tutorial de Instalação e configuração da máquina virtual UBUNTU 20.04\n",
        "## Objetivos\n",
        "As metas desse tutorial são ajudar o usuário a:\n",
        "\n",
        "\n",
        "\n",
        "\n",
        "*   Instalar VMWare no Windows\n",
        "*   Baixar e criar máquina virtual Ubuntu 20.04 no Windows\n",
        "\n",
        "## Criação de máquina virtual Ubuntu 20.04 no Windows\n",
        "**Passo 1**: Baixe e instale o VMware em seu computador (para acessar a página de Download [acesse aqui](https://www.vmware.com/products/workstation-player/workstation-player-evaluation.html)).\n",
        "\n",
        "![VMWare1](../FIGS/HD_00_VM/imagem_1_vm.jpg) \n",
        "\n",
        "**Passo 2:** Baixe o Ubuntu 20.04-2\n",
        "Versão 64 Bits https://ubuntu.com/download/desktop/thank-you?version=20.04.3&architecture=amd64\n",
        "\n",
        "**Passo 3:** Vá sempre utilizando as configurações recomendadas e ao final da instalação do VMware marque a opção Use VMware Workstation 16 Player for free for non-commercial use:\n",
        "\n",
        "**Passo 4:** Após instalar o VMWare e baixar o Ubuntu, abra o VMware e clique em Create a New Virtual Machine:\n",
        "\n",
        "![VMWare2](../FIGS/HD_00_VM/imagem_2_vm.jpg) \n",
        "\n",
        "**Passo 5:** Na tela seguinte clique no browser e indique o caminho do Ubuntu 20.04-3:\n",
        "\n",
        "![VMWare3](../FIGS/HD_00_VM/imagem_3_vm.jpg) \n",
        "\n",
        "**Passo 6:** Inclua as credenciais da máquina Linux:\n",
        "\n",
        "![VMWare4](../FIGS/HD_00_VM/imagem_4_vm.jpg) \n",
        "\n",
        "**Passo 7:** Inclua um nome e a pasta que será armazenada:\n",
        "\n",
        "![VMWare5](../FIGS/HD_00_VM/imagem_5_vm.jpg) \n",
        "\n",
        "**Passo 8:** Especifique 60 GB de espaço em HD (se tiver pouco espaço em HD, pode criar uma máquina de 40 GB):\n",
        "\n",
        "![VMWare6](../FIGS/HD_00_VM/imagem_6_vm.jpg) \n",
        "\n",
        "**Passo 9:** Customize sua máquina virtual para 2 GB de memória RAM:\n",
        "\n",
        "![VMWare7](../FIGS/HD_00_VM/imagem_7_vm.jpg) \n",
        "\n",
        "![VMWare8](../FIGS/HD_00_VM/imagem_8_vm.jpg) \n",
        "\n",
        "**Passo 10:** Clique em processadores e coloque 2 núcleos:\n",
        "\n",
        "![VMWare9](../FIGS/HD_00_VM/imagem_9_vm.jpg) \n",
        "\n",
        "**Passo 11:** Finalize sua máquina e prossiga com a instalação:\n",
        "\n",
        "## Iniciando a máquina virtual\n",
        "\n",
        "**Passo 12:** Abra o VMware no iniciar:\n",
        "\n",
        "![VMWare10](../FIGS/HD_00_VM/imagem_10_vm.jpg) \n",
        "\n",
        "**Passo 13:** Abra a máquina virtual que você criou, clique em Open a Virtual Machine:\n",
        "\n",
        "![VMWare11](../FIGS/HD_00_VM/imagem_11_vm.jpg) \n",
        "\n",
        "**Passo 14:** Abra a máquina virtual que você criou:\n",
        "\n",
        "Podem aparecer algumas janelas de alerta, como indicando a falta de memória reservada para swap ou acerca de dispositívos removíveis conectados ao computador.\n",
        "\n",
        "**Passo 15:** Entre com sua senha como uma máquina normal.\n",
        "\n",
        "![VMWare12](../FIGS/HD_00_VM/imagem_12_vm.jpg) \n"
      ]
    }
  ]
}
