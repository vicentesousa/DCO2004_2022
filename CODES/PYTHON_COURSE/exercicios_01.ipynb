{
 "cells": [
  {
   "cell_type": "code",
   "execution_count": null,
   "metadata": {},
   "outputs": [],
   "source": [
    "# Respostas dos Exercícios\n",
    "\n",
    "## Primeira Parte - O essencial em python.\n",
    "\n",
    "**Exercício 01 & 02:**"
   ]
  },
  {
   "cell_type": "code",
   "execution_count": null,
   "metadata": {
    "colab": {
     "base_uri": "https://localhost:8080/",
     "height": 102
    },
    "id": "O8jRgcQun504",
    "outputId": "a73b24a5-6766-4381-f565-7c4fd23549a1"
   },
   "outputs": [
    {
     "data": {
      "application/vnd.google.colaboratory.intrinsic+json": {
       "type": "string"
      },
      "text/plain": [
       "\"\\nBeautiful is better than ugly.\\nExplicit is better than implicit.\\nSimple is better than complex.\\nComplex is better than complicated.\\nFlat is better than nested.\\nSparse is better than dense.\\nReadability counts.\\nSpecial cases aren't special enough to break the rules.\\nAlthough practicality beats purity.\\nErrors should never pass silently.\\nUnless explicitly silenced.\\nIn the face of ambiguity, refuse the temptation to guess.\\nThere should be one-- and preferably only one --obvious way to do it.\\nAlthough that way may not be obvious at first unless you're Dutch.\\nNow is better than never.\\nAlthough never is often better than *right* now.\\nIf the implementation is hard to explain, it's a bad idea.\\nIf the implementation is easy to explain, it may be a good idea.\\nNamespaces are one honking great idea -- let's do more of those!\\n\""
      ]
     },
     "metadata": {},
     "output_type": "display_data"
    }
   ],
   "source": [
    "# Exercício 01:\n",
    "\"\"\"\n",
    "Está sendo muito legal aprender python.\n",
    "Uma nova experiência abre novas portas.\n",
    "\"\"\"\n",
    "\n",
    "# Exercício 02:\n",
    "\"\"\"\n",
    "Beautiful is better than ugly.\n",
    "Explicit is better than implicit.\n",
    "Simple is better than complex.\n",
    "Complex is better than complicated.\n",
    "Flat is better than nested.\n",
    "Sparse is better than dense.\n",
    "Readability counts.\n",
    "Special cases aren't special enough to break the rules.\n",
    "Although practicality beats purity.\n",
    "Errors should never pass silently.\n",
    "Unless explicitly silenced.\n",
    "In the face of ambiguity, refuse the temptation to guess.\n",
    "There should be one-- and preferably only one --obvious way to do it.\n",
    "Although that way may not be obvious at first unless you're Dutch.\n",
    "Now is better than never.\n",
    "Although never is often better than *right* now.\n",
    "If the implementation is hard to explain, it's a bad idea.\n",
    "If the implementation is easy to explain, it may be a good idea.\n",
    "Namespaces are one honking great idea -- let's do more of those!\n",
    "\"\"\""
   ]
  },
  {
   "cell_type": "markdown",
   "metadata": {
    "id": "MHXH-lfJwb8A"
   },
   "source": [
    "**Exercícos 03 & 04:**"
   ]
  },
  {
   "cell_type": "code",
   "execution_count": null,
   "metadata": {
    "colab": {
     "base_uri": "https://localhost:8080/"
    },
    "id": "loy_cJATwjlv",
    "outputId": "63c4196f-3eea-43b6-8dad-0b84f9c89d50"
   },
   "outputs": [
    {
     "name": "stdout",
     "output_type": "stream",
     "text": [
      "Determine o modelo de um carro: HB20\n",
      "Determine a data de fabricação do carro: 10/08/2016\n",
      "O modelo do carro é:  HB20  e a sua data de fabricação é:  10/08/2016\n",
      "Coloque o seu endereço: rua Francinco - Número não existe\n",
      "O Seu endereço é:  rua Francinco - Número não existe\n"
     ]
    }
   ],
   "source": [
    "# Exercícios 03\n",
    "carro = input(\"Determine o modelo de um carro: \")\n",
    "data = input(\"Determine a data de fabricação do carro: \")\n",
    "print(\"O modelo do carro é: \", carro, \" e a sua data de fabricação é: \", data)\n",
    "\n",
    "# Exercício 04\n",
    "endereco = input(\"Coloque o seu endereço: \")\n",
    "print(\"O Seu endereço é: \", endereco)"
   ]
  },
  {
   "cell_type": "markdown",
   "metadata": {
    "id": "JQzHJ8Dk4z_p"
   },
   "source": [
    "**Exercício 05:**\n"
   ]
  },
  {
   "cell_type": "code",
   "execution_count": null,
   "metadata": {
    "colab": {
     "base_uri": "https://localhost:8080/"
    },
    "id": "4qo2yQpT45zY",
    "outputId": "16b97bea-a484-4c36-e724-3027ff39c1f4"
   },
   "outputs": [
    {
     "name": "stdout",
     "output_type": "stream",
     "text": [
      "Nome do livro: O senhor dos aneis\n",
      "data de lançamento: 10/1980\n",
      "Possui mais de 100 páginas: True\n",
      "<class 'str'>\n",
      "<class 'str'>\n",
      "<class 'bool'>\n",
      "O nome do livro é:  O senhor dos aneis\n",
      "Sua data de lançamento é:  10/1980\n",
      "Ele possui mais de 100 páginas:  True\n"
     ]
    }
   ],
   "source": [
    "# Exercício 5:\n",
    "nome = str(input(\"Nome do livro: \"))\n",
    "data = str(input(\"data de lançamento: \"))\n",
    "paginas = bool(input(\"Possui mais de 100 páginas: \"))\n",
    "\n",
    "print(type(nome))\n",
    "print(type(data))\n",
    "print(type(paginas))\n",
    "\n",
    "print(\"O nome do livro é: \", nome)\n",
    "print(\"Sua data de lançamento é: \", data)\n",
    "print(\"Ele possui mais de 100 páginas: \", paginas)"
   ]
  },
  {
   "cell_type": "markdown",
   "metadata": {
    "id": "PSaF2hw9P0cM"
   },
   "source": [
    "**Exercício 6:**"
   ]
  },
  {
   "cell_type": "code",
   "execution_count": null,
   "metadata": {
    "colab": {
     "base_uri": "https://localhost:8080/"
    },
    "id": "1gi9fma1P49B",
    "outputId": "ce38ba7b-943c-48c1-c1d0-103322b517ef"
   },
   "outputs": [
    {
     "name": "stdout",
     "output_type": "stream",
     "text": [
      "Determine um número inteiro: 8\n",
      "Determine outro número inteiro: 9\n",
      "134217728\n",
      "43046721\n",
      "1.125\n"
     ]
    }
   ],
   "source": [
    "# Exercício 6\n",
    "x = int(input(\"Determine um número inteiro: \"))\n",
    "y = int(input(\"Determine outro número inteiro: \"))\n",
    "\n",
    "print(x**y)\n",
    "print(y**x)\n",
    "print(y/x)"
   ]
  },
  {
   "cell_type": "markdown",
   "metadata": {
    "id": "Blp2TiLPslhx"
   },
   "source": [
    "**Exercício 7 & 8:**"
   ]
  },
  {
   "cell_type": "code",
   "execution_count": null,
   "metadata": {
    "colab": {
     "base_uri": "https://localhost:8080/",
     "height": 185
    },
    "id": "mO34sRbasn54",
    "outputId": "5b29e82a-63aa-40e9-dfea-ca6154271e7a"
   },
   "outputs": [
    {
     "name": "stdout",
     "output_type": "stream",
     "text": [
      "O Carro está em movimento?\n",
      "True\n",
      "O Carro está com a luz ligada?\n",
      "False\n",
      "O Carro está ligado?\n",
      "True\n",
      "Ligado e em movimento?:  True\n",
      "Ligado e com a luz acessa?:  True\n",
      "Desligado e em movimento?:  False\n"
     ]
    },
    {
     "data": {
      "application/vnd.google.colaboratory.intrinsic+json": {
       "type": "string"
      },
      "text/plain": [
       "'\\nConsultar a tabela\\n'"
      ]
     },
     "metadata": {},
     "output_type": "display_data"
    }
   ],
   "source": [
    "# Exercício 7\n",
    "movimento = bool(input(\"O Carro está em movimento?\\n\"))\n",
    "# Movimentando = True, Parado = False\n",
    "luz = bool(input(\"O Carro está com a luz ligada?\\n\"))\n",
    "# Luz acesa = True, luz apagada = False\n",
    "ligado = bool(input(\"O Carro está ligado?\\n\"))\n",
    "# Ligado = True, Desligado = False\n",
    "\n",
    "print(\"Ligado e em movimento?: \", ligado and movimento)\n",
    "print(\"Ligado e com a luz acessa?: \",ligado and luz)\n",
    "print(\"Desligado e em movimento?: \", not ligado and movimento)\n",
    "\n",
    "\n",
    "# Exercício 8\n",
    "\n",
    "\"\"\"\n",
    "Consultar a tabela\n",
    "\"\"\""
   ]
  },
  {
   "cell_type": "code",
   "execution_count": 1,
   "metadata": {},
   "outputs": [
    {
     "name": "stdout",
     "output_type": "stream",
     "text": [
      "a é uma vogal.\n"
     ]
    }
   ],
   "source": [
    "letra = input(\"Digite uma letra do Alfabeto: \")\n",
    "if letra in ('a', 'e', 'i', 'o', 'u') :\n",
    "   print(\"%s é uma vogal.\" % letra)\n",
    "else:\n",
    "   print(\"%s é uma consoante.\" % letra)"
   ]
  }
 ],
 "metadata": {
  "interpreter": {
   "hash": "73e03da126b73bfff3642ec5261d56fa25c444ea595de51041687efaa60dda41"
  },
  "kernelspec": {
   "display_name": "Python 3.9.7 ('base')",
   "language": "python",
   "name": "python3"
  },
  "language_info": {
   "codemirror_mode": {
    "name": "ipython",
    "version": 3
   },
   "file_extension": ".py",
   "mimetype": "text/x-python",
   "name": "python",
   "nbconvert_exporter": "python",
   "pygments_lexer": "ipython3",
   "version": "3.9.7"
  },
  "orig_nbformat": 4
 },
 "nbformat": 4,
 "nbformat_minor": 2
}
