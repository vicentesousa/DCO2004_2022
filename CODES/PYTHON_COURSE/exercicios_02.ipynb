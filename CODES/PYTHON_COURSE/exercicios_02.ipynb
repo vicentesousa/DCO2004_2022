{
 "cells": [
  {
   "cell_type": "markdown",
   "metadata": {
    "id": "CL4y6kDiIO3Y"
   },
   "source": [
    "# Resolução de exercícios\n",
    "\n",
    "**Exerícios 1, 2 & 3**\n"
   ]
  },
  {
   "cell_type": "code",
   "execution_count": null,
   "metadata": {
    "colab": {
     "base_uri": "https://localhost:8080/"
    },
    "id": "oNtNLRBlIdMI",
    "outputId": "e5fca726-9dea-4924-ade8-855287bb8d28"
   },
   "outputs": [
    {
     "name": "stdout",
     "output_type": "stream",
     "text": [
      "Tabuada do 1\n",
      "1  x  1  =  1\n",
      "1  x  2  =  2\n",
      "1  x  3  =  3\n",
      "1  x  4  =  4\n",
      "1  x  5  =  5\n",
      "1  x  6  =  6\n",
      "1  x  7  =  7\n",
      "1  x  8  =  8\n",
      "1  x  9  =  9\n",
      "1  x  10  =  10\n",
      "\n",
      "\n",
      "Tabuada do 2\n",
      "2  x  1  =  2\n",
      "2  x  2  =  4\n",
      "2  x  3  =  6\n",
      "2  x  4  =  8\n",
      "2  x  5  =  10\n",
      "2  x  6  =  12\n",
      "2  x  7  =  14\n",
      "2  x  8  =  16\n",
      "2  x  9  =  18\n",
      "2  x  10  =  20\n",
      "\n",
      "\n",
      "Tabuada do 3\n",
      "3  x  1  =  3\n",
      "3  x  2  =  6\n",
      "3  x  3  =  9\n",
      "3  x  4  =  12\n",
      "3  x  5  =  15\n",
      "3  x  6  =  18\n",
      "3  x  7  =  21\n",
      "3  x  8  =  24\n",
      "3  x  9  =  27\n",
      "3  x  10  =  30\n",
      "\n",
      "\n",
      "Tabuada do 4\n",
      "4  x  1  =  4\n",
      "4  x  2  =  8\n",
      "4  x  3  =  12\n",
      "4  x  4  =  16\n",
      "4  x  5  =  20\n",
      "4  x  6  =  24\n",
      "4  x  7  =  28\n",
      "4  x  8  =  32\n",
      "4  x  9  =  36\n",
      "4  x  10  =  40\n",
      "\n",
      "\n",
      "Tabuada do 5\n",
      "5  x  1  =  5\n",
      "5  x  2  =  10\n",
      "5  x  3  =  15\n",
      "5  x  4  =  20\n",
      "5  x  5  =  25\n",
      "5  x  6  =  30\n",
      "5  x  7  =  35\n",
      "5  x  8  =  40\n",
      "5  x  9  =  45\n",
      "5  x  10  =  50\n",
      "\n",
      "\n",
      "Tabuada do 6\n",
      "6  x  1  =  6\n",
      "6  x  2  =  12\n",
      "6  x  3  =  18\n",
      "6  x  4  =  24\n",
      "6  x  5  =  30\n",
      "6  x  6  =  36\n",
      "6  x  7  =  42\n",
      "6  x  8  =  48\n",
      "6  x  9  =  54\n",
      "6  x  10  =  60\n",
      "\n",
      "\n",
      "Tabuada do 7\n",
      "7  x  1  =  7\n",
      "7  x  2  =  14\n",
      "7  x  3  =  21\n",
      "7  x  4  =  28\n",
      "7  x  5  =  35\n",
      "7  x  6  =  42\n",
      "7  x  7  =  49\n",
      "7  x  8  =  56\n",
      "7  x  9  =  63\n",
      "7  x  10  =  70\n",
      "\n",
      "\n",
      "Tabuada do 8\n",
      "8  x  1  =  8\n",
      "8  x  2  =  16\n",
      "8  x  3  =  24\n",
      "8  x  4  =  32\n",
      "8  x  5  =  40\n",
      "8  x  6  =  48\n",
      "8  x  7  =  56\n",
      "8  x  8  =  64\n",
      "8  x  9  =  72\n",
      "8  x  10  =  80\n",
      "\n",
      "\n",
      "Tabuada do 9\n",
      "9  x  1  =  9\n",
      "9  x  2  =  18\n",
      "9  x  3  =  27\n",
      "9  x  4  =  36\n",
      "9  x  5  =  45\n",
      "9  x  6  =  54\n",
      "9  x  7  =  63\n",
      "9  x  8  =  72\n",
      "9  x  9  =  81\n",
      "9  x  10  =  90\n",
      "\n",
      "\n",
      "Tabuada do 10\n",
      "10  x  1  =  10\n",
      "10  x  2  =  20\n",
      "10  x  3  =  30\n",
      "10  x  4  =  40\n",
      "10  x  5  =  50\n",
      "10  x  6  =  60\n",
      "10  x  7  =  70\n",
      "10  x  8  =  80\n",
      "10  x  9  =  90\n",
      "10  x  10  =  100\n",
      "\n",
      "\n",
      "O menor número do array é: -1\n",
      "Digite um número inteiro: 12\n",
      "O fatorial do número é:  479001600\n"
     ]
    }
   ],
   "source": [
    "# Exercício 1:\n",
    "\n",
    "for i in range(1, 11):\n",
    "    print(\"Tabuada do\", i)\n",
    "    for j in range(1, 11):\n",
    "        print(i, \" x \", j, \" = \", i*j)\n",
    "    print('\\n')\n",
    "\n",
    "# Exercícios 2\n",
    "array = [79, 70, 44, 54, 28, 8,\t99, 73,\t3, 67, 66, 90, 89,\t7, 77, 92,\t43, 21, 27, 35, 81,\t30, 54, 13, 35, 89, 49, 53, 69,  2, -1, 48, 74, 44, 1, 1, 53, 0, 76, 58, 68,\t41, 48,\t 57, 50, 24, 49, 94,\t46,\t77]\n",
    "menor = array[0]  # pegando o menor número como se fosse o primeiro do array\n",
    "for numero in array:\n",
    "    if numero < menor:\n",
    "        menor = numero\n",
    "print(\"O menor número do array é:\", menor)\n",
    "\n",
    "\n",
    "# Exercício 3\n",
    "dado_int = int(input(\"Digite um número inteiro: \"))\n",
    "fatorial = 1\n",
    "for i in range(1, dado_int + 1):\n",
    "    fatorial = fatorial * i\n",
    "\n",
    "print(\"O fatorial do número é: \", fatorial)\n",
    "\n"
   ]
  },
  {
   "cell_type": "markdown",
   "metadata": {
    "id": "ic-GS65XZ79b"
   },
   "source": [
    "**Resolução dos Exercícios 4 & 5**\n"
   ]
  },
  {
   "cell_type": "code",
   "execution_count": null,
   "metadata": {
    "colab": {
     "base_uri": "https://localhost:8080/"
    },
    "id": "KFiDjKfwaB-5",
    "outputId": "256f1e93-8bac-42b1-eae5-67d8d13627aa"
   },
   "outputs": [
    {
     "name": "stdout",
     "output_type": "stream",
     "text": [
      "Determine até onde você deseja saber os números primos: 20\n",
      "[2, 3, 5, 7, 11, 13, 17, 19]\n"
     ]
    }
   ],
   "source": [
    "# Exercício 4\n",
    "numero = int(input(\"Determine até onde você deseja saber os números primos: \"))\n",
    "lista = []\n",
    "for j in range(2, numero):\n",
    "    divisores = 0\n",
    "    for i in range(2, j):\n",
    "        if j % i == 0:\n",
    "            divisores = 1\n",
    "    if divisores == 0:\n",
    "        lista.append(j)\n",
    "\n",
    "print(lista)\n",
    "\n",
    "# Exercício 5\n",
    "\n",
    "lista = [37, 27, 32, 98, 38, 32, 91, 58, 95, 99, 80, 37, 23, 53, 80, 94, 99, 74, 54, 1, 7, 39, 55, 18, 98, 33, 43, 82, 76, 98, 31, 21, 99, 13, 53, 63, 38, 50, 77, 63, 18, 71, 40, 22, 43, 92, 10, 38, 92, 55, 25, 41, 13, 13, 11, 9, 55, 36, 69, 52, 68, 99, 94, 16, 63, 67, 62, 12, 100, 49, 79, 75, 66, 15, 67, 9, 73, 92, 100, 45, 60, 49, 40, 100, 13, 77, 2, 37, 68, 66, 67, 39, 76, 58, 26, 86, 5, 72, 63, 63]\n",
    "\n",
    "# Método rápido:\n",
    "# lista.sort() "
   ]
  }
 ],
 "metadata": {
  "interpreter": {
   "hash": "73e03da126b73bfff3642ec5261d56fa25c444ea595de51041687efaa60dda41"
  },
  "kernelspec": {
   "display_name": "Python 3.9.7 ('base')",
   "language": "python",
   "name": "python3"
  },
  "language_info": {
   "codemirror_mode": {
    "name": "ipython",
    "version": 3
   },
   "file_extension": ".py",
   "mimetype": "text/x-python",
   "name": "python",
   "nbconvert_exporter": "python",
   "pygments_lexer": "ipython3",
   "version": "3.9.7"
  },
  "orig_nbformat": 4
 },
 "nbformat": 4,
 "nbformat_minor": 2
}
