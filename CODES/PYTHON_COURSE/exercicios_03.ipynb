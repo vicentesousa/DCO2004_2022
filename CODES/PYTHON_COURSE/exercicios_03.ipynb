{
 "cells": [
  {
   "cell_type": "markdown",
   "metadata": {
    "id": "a8KBE8kz-CJf"
   },
   "source": [
    "# Resolução dos exercícios\n",
    "\n",
    "**Exercícios 1, 2, 3 & 4**"
   ]
  },
  {
   "cell_type": "code",
   "execution_count": null,
   "metadata": {
    "colab": {
     "base_uri": "https://localhost:8080/"
    },
    "id": "4uGZStAx-ITt",
    "outputId": "c710e611-a72c-4524-f784-a07afc10bd88"
   },
   "outputs": [],
   "source": [
    "# Exercício 1\n",
    "def passar_na_escola(nota1, nota2, nota3):\n",
    "    soma = nota1 + nota2 + nota3\n",
    "    if soma >= 21:\n",
    "        print(\" O aluno passou.\")\n",
    "    elif soma >=12 and soma < 21:\n",
    "        print(\"O aluno está de recuperação.\")\n",
    "    else:\n",
    "        print(\"O aluno está reprovado :_(\")\n",
    "\n",
    "# Exercício 2\n",
    "def f(x):\n",
    "    if x < 0:\n",
    "        return 0\n",
    "    elif x == 0:\n",
    "        return 1/2\n",
    "    else:\n",
    "        return 1\n",
    "\n",
    "# Exerício 3\n",
    "def derivada(a:float, b:float, h:float, f):\n",
    "    # Determinado o número de partições:\n",
    "    # OBS: Estamos adotando que b > a para todos os casos.\n",
    "    numero_de_particoes = int((b-a)/h)\n",
    "    # Construindo a partição entre os pontos a e b usando list Comprehetions:\n",
    "    particao = [a + h*i for i in range(numero_de_particoes)]\n",
    "    # Criando o vetor derivada\n",
    "    vetor_derivada = []\n",
    "    # Realiza a derivada para cada parte infinitesimal do vetor.\n",
    "    for valor in particao:\n",
    "        vetor_derivada.append((f(valor+h) - f(valor))/h)\n",
    "    return vetor_derivada\n",
    "\n",
    "\n",
    "# Exercício 4\n",
    "print(derivada(-1, 1, 0.1, f))\n",
    "# Isso ocorre pois uma hora iremos fazer a diferença entre (1 - 0)/0.1 = 1/0.1 = 10\n",
    "# Rigorosamente falando, a função \"f\" que definimos é igual a função (sign(x)/2 + 1/2)\n",
    "# E quando diferenciamos ela, achamos a \"função\"(na verdade é uma distribuição temperada) delta. \n",
    "# Por causa disso que quando fazemos a sua diferenciação, achamos um valor mais alto para valores próximos de 0."
   ]
  },
  {
   "cell_type": "markdown",
   "metadata": {
    "id": "HO2hhmMuhbuo"
   },
   "source": [
    "**Exercícios 5 & 6**"
   ]
  },
  {
   "cell_type": "code",
   "execution_count": null,
   "metadata": {
    "colab": {
     "base_uri": "https://localhost:8080/"
    },
    "id": "Pw2oGSnQhbXv",
    "outputId": "489a99a9-c51c-470b-e447-1df22e04e23a"
   },
   "outputs": [],
   "source": [
    "# Exercício 5\n",
    "import numpy as np\n",
    "\n",
    "class NumerosComplexos:\n",
    "\n",
    "  # Um número complexo possui uma parte real e uma parte imaginário.\n",
    "  # Criando o construtor.\n",
    "    def __init__(self, parte_real, parte_imaginaria):\n",
    "        self.real = parte_real\n",
    "        self.imagem = parte_imaginaria\n",
    "    \n",
    "    def modulo(self):\n",
    "        return (self.real **2 + self.imagem **2) ** (1/2)\n",
    "    \n",
    "    def angulo(self):\n",
    "        # Ângulo em Radianos.\n",
    "        return np.arctan(self.imagem / self.real)\n",
    "        \n",
    "\n",
    "numero_complexo_1 = NumerosComplexos(1, 2)  # Como se fosse 1 + 2j\n",
    "print(numero_complexo_1.modulo())  # modulo desse número.\n",
    "print(numero_complexo_1.angulo())  # ângulo desse número.\n",
    "\n",
    "# Exerício 6\n",
    "class Bikes:\n",
    "    def __init__(self, nome, preco, ano):\n",
    "        self.nome = nome\n",
    "        self.preco = preco\n",
    "        self.ano = ano\n",
    "\n",
    "class LojaDeBikes:\n",
    "    def __init__(self, nome_proprietario, localizacao):\n",
    "        self.proprietario = nome_proprietario\n",
    "        self.localizacao = localizacao\n",
    "    \n",
    "    bike_da_loja = Bikes(\"Hockhopper Expert\", 9800, 2018)"
   ]
  }
 ],
 "metadata": {
  "interpreter": {
   "hash": "73e03da126b73bfff3642ec5261d56fa25c444ea595de51041687efaa60dda41"
  },
  "kernelspec": {
   "display_name": "Python 3.9.7 ('base')",
   "language": "python",
   "name": "python3"
  },
  "language_info": {
   "name": "python",
   "version": "3.9.7"
  },
  "orig_nbformat": 4
 },
 "nbformat": 4,
 "nbformat_minor": 2
}
